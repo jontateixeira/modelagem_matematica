{
 "cells": [
  {
   "cell_type": "markdown",
   "metadata": {},
   "source": [
    "# Cria ou atualiza a estrutura de livro\n",
    "\n",
    "Usamos o módulo `jupyterbookmaker` que assumimos que está instalado no ambiente ou se encontro no subdiretório relativo `../tools`."
   ]
  },
  {
   "cell_type": "code",
   "execution_count": 1,
   "metadata": {},
   "outputs": [],
   "source": [
    "try:\n",
    "    import jupyterbookmaker as jbm\n",
    "    \n",
    "except:\n",
    "    import os\n",
    "    import sys\n",
    "    \n",
    "    sys.path.insert(0, os.path.abspath(os.path.join(os.getcwd(), '../tools')))\n",
    "    \n",
    "    import jupyterbookmaker as jbm"
   ]
  },
  {
   "cell_type": "markdown",
   "metadata": {},
   "source": [
    "Em seguida, criamos a estrutura a partir do arquivo de configuração neste mesmo diretório."
   ]
  },
  {
   "cell_type": "code",
   "execution_count": 2,
   "metadata": {},
   "outputs": [
    {
     "name": "stderr",
     "output_type": "stream",
     "text": [
      "/Users/rrosa/Documents/github_repositories/modelagem_matematica/tools/jupyterbookmaker.py:381: YAMLLoadWarning: calling yaml.load() without Loader=... is deprecated, as the default Loader is unsafe. Please read https://msg.pyyaml.org/load for full details.\n",
      "  config = yaml.load(f)\n"
     ]
    },
    {
     "name": "stdout",
     "output_type": "stream",
     "text": [
      "- Table of contents updated in 00.00-Pagina_Inicial.ipynb\n",
      "- updating header for 00.00-Pagina_inicial.ipynb\n",
      "- updating header for 00.01-Prefacio.ipynb\n",
      "- updating header for 00.90-Introducao.ipynb\n",
      "- updating header for 01.-Parte1.ipynb\n",
      "- updating header for 01.00-Destino_Jupyter.ipynb\n",
      "- updating header for 01.01-Ambiente_computacional.ipynb\n",
      "- updating header for 01.02-Reconhecimento_de_Jupyter.ipynb\n",
      "- updating header for 01.03-Graficos_de_funcoes.ipynb\n",
      "- updating header for 01.04-Arquivos_dados_e_mais_graficos.ipynb\n",
      "- updating header for 01.05-Computacao_simbolica.ipynb\n",
      "- updating header for 01.06-Boas_praticas_em_python.ipynb\n",
      "- updating header for 02.00-Principios_de_modelagem_matematica.ipynb\n",
      "- updating header for 02.01-Modelos_como_aproximacao_da_realidade.ipynb\n",
      "- updating header for 02.02-Uma_modesta_classificacao_dos_fenomenos.ipynb\n",
      "- updating header for 02.03-Formas_de_modelagens.ipynb\n",
      "- updating header for 03.00-Primeiros_passos_na_modelagem.ipynb\n",
      "- updating header for 03.01-Ajuste_de_dados.ipynb\n",
      "- updating header for 03.02-Criterios_de_informacao_e_a_escolha_do_modelo.ipynb\n",
      "- updating header for 03.03-Exemplos_simples.ipynb\n",
      "- updating header for 04.00-O_pendulo.ipynb\n",
      "- updating header for 04.01-Um_pendulo_caseiro.ipynb\n",
      "- updating header for 04.02-Mini_projetos.ipynb\n",
      "- updating header for 05.-Parte2.ipynb\n",
      "- updating header for 06.-Parte3.ipynb\n",
      "- updating header for BA.00-Bibliografia.ipynb\n",
      "- updating navbar for 00.00-Pagina_inicial.ipynb\n",
      "- updating navbar for 00.01-Prefacio.ipynb\n",
      "- updating navbar for 00.90-Introducao.ipynb\n",
      "- updating navbar for 01.-Parte1.ipynb\n",
      "- updating navbar for 01.00-Destino_Jupyter.ipynb\n",
      "- updating navbar for 01.01-Ambiente_computacional.ipynb\n",
      "- updating navbar for 01.02-Reconhecimento_de_Jupyter.ipynb\n",
      "- updating navbar for 01.03-Graficos_de_funcoes.ipynb\n",
      "- updating navbar for 01.04-Arquivos_dados_e_mais_graficos.ipynb\n",
      "- updating navbar for 01.05-Computacao_simbolica.ipynb\n",
      "- updating navbar for 01.06-Boas_praticas_em_python.ipynb\n",
      "- updating navbar for 02.00-Principios_de_modelagem_matematica.ipynb\n",
      "- updating navbar for 02.01-Modelos_como_aproximacao_da_realidade.ipynb\n",
      "- updating navbar for 02.02-Uma_modesta_classificacao_dos_fenomenos.ipynb\n",
      "- updating navbar for 02.03-Formas_de_modelagens.ipynb\n",
      "- updating navbar for 03.00-Primeiros_passos_na_modelagem.ipynb\n",
      "- updating navbar for 03.01-Ajuste_de_dados.ipynb\n",
      "- updating navbar for 03.02-Criterios_de_informacao_e_a_escolha_do_modelo.ipynb\n",
      "- updating navbar for 03.03-Exemplos_simples.ipynb\n",
      "- updating navbar for 04.00-O_pendulo.ipynb\n",
      "- updating navbar for 04.01-Um_pendulo_caseiro.ipynb\n",
      "- updating navbar for 04.02-Mini_projetos.ipynb\n",
      "- updating navbar for 05.-Parte2.ipynb\n",
      "- updating navbar for 06.-Parte3.ipynb\n",
      "- updating navbar for BA.00-Bibliografia.ipynb\n"
     ]
    }
   ],
   "source": [
    "jbm.make_book_from_configfile('config.yml')"
   ]
  }
 ],
 "metadata": {
  "kernelspec": {
   "display_name": "Python 3",
   "language": "python",
   "name": "python3"
  },
  "language_info": {
   "codemirror_mode": {
    "name": "ipython",
    "version": 3
   },
   "file_extension": ".py",
   "mimetype": "text/x-python",
   "name": "python",
   "nbconvert_exporter": "python",
   "pygments_lexer": "ipython3",
   "version": "3.7.3"
  }
 },
 "nbformat": 4,
 "nbformat_minor": 4
}
