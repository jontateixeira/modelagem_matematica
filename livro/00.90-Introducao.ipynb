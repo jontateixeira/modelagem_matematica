{
 "cells": [
  {
   "cell_type": "markdown",
   "metadata": {},
   "source": [
    "<!--HEADER-->\n",
    "[*Notas de aula da disciplina de Modelagem Matemática*](https://github.com/rmsrosa/modelagem_matematica) *do* [*IM-UFRJ*](https://www.im.ufrj.br)."
   ]
  },
  {
   "cell_type": "markdown",
   "metadata": {},
   "source": [
    "<!--NAVIGATOR-->\n",
    "\n",
    "<a href=\"https://colab.research.google.com/github//rmsrosa/modelagem_matematica/blob/livro/livro/00.90-Introducao.ipynb\"><img align=\"left\" src=\"https://colab.research.google.com/assets/colab-badge.svg\" alt=\"Open in Colab\" title=\"Open and Execute in Google Colaboratory\"></a>\n",
    "&nbsp;\n",
    "<a href=\"https://mybinder.org/v2/gh//rmsrosa/modelagem_matematica/livro?filepath=livro/00.90-Introducao.ipynb\"><img align=\"left\" src=\"https://mybinder.org/badge.svg\" alt=\"Open in binder\" title=\"Open and Execute in Binder\"></a>\n",
    "&nbsp;\n",
    "\n",
    "[<- Prefácio](00.01-Prefacio.ipynb) | [Página Inicial](00.00-Pagina_inicial.ipynb) | [Bibliografia](BA.00-Bibliografia.ipynb) | [PARTE I - Aspectos Iniciais ->](01.-Parte1.ipynb)\n",
    "\n",
    "---\n"
   ]
  },
  {
   "cell_type": "markdown",
   "metadata": {},
   "source": [
    "# Introdução\n",
    "\n",
    "Desde o início da sua história, com a origem dos sistemas de numeração, ou a mera imaginação do processo de contagem, a matemática tem enriquecido com fatos concretos e florescido na abstração. Por sua vez, a abstração, muitas vezes, leva a técnicas de efetivo caráter prático.\n",
    "\n",
    "De qualquer forma, é notório que a \"matemática pura\" e a \"prática\" têm andado lado a lado. Fazendo essa ponte, o processo de \"modelagem matemática\" de algum fenômeno real é primordial. \n",
    "\n",
    "Busca-se sair de um problema real para uma formulação matemática e em seguida analisar essa formulação, verificar as suas \"soluções\", validar os resultados à luz de dados reais, entender melhor os fenômenos envolvidos e, finalmente, fazer previsões sobre o fenômeno ou, até mesmo, controlar o seu destino.\n",
    "\n",
    "A \"modelagem matemática\" se apresenta mais claramente em física e em diversas engenharias, com modelos consagrados para a física newtoniana, eletromagnetismo, relativades restrita e geral, mecânica quântica e as suas diversas aplicações em construção naval, construção civil, engenharia de materiais, exploração de recursos minerais, etc.\n",
    "\n",
    "Reações químicas e bioquímicas também podem ser modeladas na forma de sistemas de equações diferenciais, sejam ordinárias ou parciais, deterministas ou estocásticas. De maneira semelhante, mas partindo de uma formulação mais heurística, dinâmicas populacionais e propagação de doenças possuem modelos análogos.\n",
    "\n",
    "Diversos outros modelos aparecem em diferentes áreas, desde economia e finanças a relações sociais, co modelos de diversas áreas da matemática.\n",
    "\n",
    "Seja qual for o fenômeno em questão e o modelo escolhido, é fundamental termos um grau de confiabilidade no modelo, além de ser possível testar, adaptar e melhorar o modelo e que ele seja razoavelmente simples a ponto de nos dar informações úteis em tempo hábil.\n",
    "\n",
    "O objetivo neste curso não é apenas passar de um fenômeno para um suposto modelo, ou simplesmente analisar as propriedades matemáticas de algum modelo, mas também buscar analisá-lo à luz do fenômeno, ou problema, original."
   ]
  },
  {
   "cell_type": "markdown",
   "metadata": {},
   "source": [
    "<!--NAVIGATOR-->\n",
    "\n",
    "---\n",
    "[<- Prefácio](00.01-Prefacio.ipynb) | [Página Inicial](00.00-Pagina_inicial.ipynb) | [Bibliografia](BA.00-Bibliografia.ipynb) | [PARTE I - Aspectos Iniciais ->](01.-Parte1.ipynb)\n",
    "\n",
    "<a href=\"https://colab.research.google.com/github//rmsrosa/modelagem_matematica/blob/livro/livro/00.90-Introducao.ipynb\"><img align=\"left\" src=\"https://colab.research.google.com/assets/colab-badge.svg\" alt=\"Open in Colab\" title=\"Open and Execute in Google Colaboratory\"></a>\n",
    "\n",
    "<a href=\"https://mybinder.org/v2/gh//rmsrosa/modelagem_matematica/livro?filepath=livro/00.90-Introducao.ipynb\"><img align=\"left\" src=\"https://mybinder.org/badge.svg\" alt=\"Open in binder\" title=\"Open and Execute in Binder\"></a>\n",
    "&nbsp;"
   ]
  }
 ],
 "metadata": {
  "kernelspec": {
   "display_name": "Python 3",
   "language": "python",
   "name": "python3"
  },
  "language_info": {
   "codemirror_mode": {
    "name": "ipython",
    "version": 3
   },
   "file_extension": ".py",
   "mimetype": "text/x-python",
   "name": "python",
   "nbconvert_exporter": "python",
   "pygments_lexer": "ipython3",
   "version": "3.7.1"
  }
 },
 "nbformat": 4,
 "nbformat_minor": 2
}
