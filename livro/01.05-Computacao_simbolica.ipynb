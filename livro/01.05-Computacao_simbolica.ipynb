{
 "cells": [
  {
   "cell_type": "markdown",
   "metadata": {},
   "source": [
    "<!--HEADER-->\n",
    "[*Notas de aula da disciplina de Modelagem Matemática*](https://github.com/rmsrosa/modelagem_matematica) *do* [*IM-UFRJ*](https://www.im.ufrj.br)."
   ]
  },
  {
   "cell_type": "markdown",
   "metadata": {},
   "source": [
    "<!--NAVIGATOR-->\n",
    "\n",
    "<a href=\"https://colab.research.google.com/github//rmsrosa/modelagem_matematica/blob/livro/livro/01.05-Computacao_simbolica.ipynb\"><img align=\"left\" src=\"https://colab.research.google.com/assets/colab-badge.svg\" alt=\"Open in Colab\" title=\"Open and Execute in Google Colaboratory\"></a>\n",
    "&nbsp;\n",
    "<a href=\"https://mybinder.org/v2/gh//rmsrosa/modelagem_matematica/livro?filepath=livro/01.05-Computacao_simbolica.ipynb\"><img align=\"left\" src=\"https://mybinder.org/badge.svg\" alt=\"Open in binder\" title=\"Open and Execute in Binder\"></a>\n",
    "&nbsp;\n",
    "\n",
    "[<- 1.4. Arquivos, dados e mais gráficos](01.04-Arquivos_dados_e_mais_graficos.ipynb) | [Página Inicial](00.00-Pagina_inicial.ipynb) | [Bibliografia](BA.00-Bibliografia.ipynb) | [1.6. Boas práticas em python ->](01.06-Boas_praticas_em_python.ipynb)\n",
    "\n",
    "---\n"
   ]
  },
  {
   "cell_type": "markdown",
   "metadata": {},
   "source": [
    "# Computação simbólica\n",
    "\n",
    "Podemos resolver simbolicamente alguns problemas usando o módulo `sympy`. Vejamos alguns exemplos.\n",
    "\n",
    "Primeiro, importamos o pacote `sympy`, chamando-o de `sym`, como de costume na comunidade, para simplificar."
   ]
  },
  {
   "cell_type": "code",
   "execution_count": 1,
   "metadata": {},
   "outputs": [],
   "source": [
    "import sympy as sym"
   ]
  },
  {
   "cell_type": "markdown",
   "metadata": {},
   "source": [
    "## Definindo variáveis e funções\n",
    "\n",
    "Definimos variáveis com a função `sympy.Symbol()` e as funções são definidas de maneira simples \n",
    "a partir disso:"
   ]
  },
  {
   "cell_type": "code",
   "execution_count": 2,
   "metadata": {
    "collapsed": true
   },
   "outputs": [],
   "source": [
    "# Define um símbolo para ser uma variável simbólica\n",
    "x = sym.Symbol('x')\n",
    "\n",
    "# Podemos considerar outra variável simbólica como parâmetro\n",
    "a = sym.Symbol('a')\n",
    "\n",
    "# Define funções simbólicas\n",
    "f = sym.sin(a*x)\n",
    "g = 1/x\n",
    "h = f*g"
   ]
  },
  {
   "cell_type": "markdown",
   "metadata": {},
   "source": [
    "Podemos calcular o valor das funções em determinados pontos e parâmetros usando o método `evalf()`. Por exemplo,"
   ]
  },
  {
   "cell_type": "code",
   "execution_count": 3,
   "metadata": {},
   "outputs": [
    {
     "name": "stdout",
     "output_type": "stream",
     "text": [
      "O valor da função h_a(x) = sin(a*x)/x no ponto x = 3 e com parâmetro a = 2 é -0.09313849939964196\n"
     ]
    }
   ],
   "source": [
    "# Calcula o valor de uma função em um determinado ponto e parâmetro\n",
    "x0, a0 = 3, 2\n",
    "print(f'O valor da função h_a(x) = {h.evalf()} no ponto x = {x0} e com parâmetro a = {a0} é {sym.lambdify((x,a),h)(x0,a0)}')"
   ]
  },
  {
   "cell_type": "markdown",
   "metadata": {},
   "source": [
    "## Limites\n",
    "\n",
    "Limites de funções simbólicas podem ser obtidos através da função `sympy.limit()`:"
   ]
  },
  {
   "cell_type": "code",
   "execution_count": 4,
   "metadata": {},
   "outputs": [
    {
     "name": "stdout",
     "output_type": "stream",
     "text": [
      "\n",
      "Limite: sin(a*x) --> 0  quando x --> 0\n",
      "Limite: 1/x --> oo  quando x --> 0\n",
      "Limite: sin(a*x)/x --> a  quando x --> 0\n"
     ]
    }
   ],
   "source": [
    "# Acha o limite de uma função quando a variável converge para algum ponto\n",
    "x0 = 0\n",
    "print()\n",
    "print('Limite:', f.evalf(), '-->', sym.limit(f, x, x0), ' quando x -->', x0)\n",
    "print('Limite:', g.evalf(), '-->', sym.limit(g, x, x0), ' quando x -->', x0)\n",
    "print('Limite:', h.evalf(), '-->', sym.limit(h, x, x0), ' quando x -->', x0)"
   ]
  },
  {
   "cell_type": "markdown",
   "metadata": {},
   "source": [
    "## Derivadas e integrais\n",
    "\n",
    "Podemos encontrar as derivadas e integrais indefinidas de funções simbólicas através das funções `sympy.diff()` e `sympy.integrate()`. Junto com isso, podemos encontrar integrais definidas usando o método `evalf()`:"
   ]
  },
  {
   "cell_type": "code",
   "execution_count": 5,
   "metadata": {},
   "outputs": [
    {
     "name": "stdout",
     "output_type": "stream",
     "text": [
      "\n",
      "Derivada: d/dx ( sin(a*x)/x ) = a*cos(a*x)/x - sin(a*x)/x**2\n",
      "\n",
      "Integral indefinida: primitiva de a/x = a*log(x)\n",
      "\n",
      "Integral definida: integral de sin(a*x) entre x = 2 e x = 4 : Piecewise((-cos(a)/a + 1/a, (a > -oo) & (a < oo) & Ne(a, 0)), (0, True))\n"
     ]
    }
   ],
   "source": [
    "# Calcula a derivada de uma função\n",
    "print()\n",
    "print('Derivada: d/dx (', h.evalf(), ') =', sym.diff(h,x))\n",
    "\n",
    "# Calcula uma primitiva de uma função\n",
    "print()\n",
    "print('Integral indefinida: primitiva de', (a*g).evalf(), '=', sym.integrate(a*g,x))\n",
    "\n",
    "# Calcula a integral definida\n",
    "print()\n",
    "print('Integral definida: integral de', f.evalf(), 'entre x = 2 e x = 4 :', sym.integrate(f,(x,0,1)))"
   ]
  },
  {
   "cell_type": "markdown",
   "metadata": {},
   "source": [
    "Expansão em série de Taylor:"
   ]
  },
  {
   "cell_type": "code",
   "execution_count": 6,
   "metadata": {},
   "outputs": [
    {
     "name": "stdout",
     "output_type": "stream",
     "text": [
      "\n",
      "Aproximação de Taylor de ordem 3 : sin(a*x)/x  =  a - a**3*x**2/6 + O(x**4)\n"
     ]
    }
   ],
   "source": [
    "# Expansão em série de Taylor \n",
    "n = 3\n",
    "print()\n",
    "print('Aproximação de Taylor de ordem', n, ':', h.evalf(), ' = ', h.series(x,0,n+1))"
   ]
  },
  {
   "cell_type": "markdown",
   "metadata": {},
   "source": [
    "Algumas equações diferenciais ordinárias podem ser resolvidas simbolicamente:"
   ]
  },
  {
   "cell_type": "code",
   "execution_count": 7,
   "metadata": {},
   "outputs": [
    {
     "name": "stdout",
     "output_type": "stream",
     "text": [
      "\n",
      "Operador diferencial (linear): Lu = 9.0*u(x) + Derivative(u(x), (x, 2))\n",
      "\n",
      "Solução geral da equação Lu = 0 : Eq(u(x), C1*sin(3*x) + C2*cos(3*x))\n",
      "\n",
      "Operador diferencial (não-linear): Nu = -3.0*u(x)**1.33333333333333 + Derivative(u(x), x)\n",
      "\n",
      "Solução geral da equação Nu = 0 : Eq(u(x), 1.0*(-1/(C1 + 1.0*x))**3.0)\n"
     ]
    }
   ],
   "source": [
    "# Para um operador diferencial, definimos uma função simbólica, além da variável simbólica, antes de definir o operador\n",
    "u = sym.Function('u')\n",
    "Lu = sym.Derivative(u(x),x,x)+9*u(x)\n",
    "print()\n",
    "print('Operador diferencial (linear): Lu =', Lu.evalf())\n",
    "print()\n",
    "print('Solução geral da equação Lu = 0 :', sym.dsolve(Lu,u(x)))\n",
    "      \n",
    "Nu = sym.Derivative(u(x),x) - 3*u(x)**(4/3)\n",
    "print()\n",
    "print('Operador diferencial (não-linear): Nu =', Nu.evalf())\n",
    "print()\n",
    "print('Solução geral da equação Nu = 0 :', sym.dsolve(Nu,u(x)))"
   ]
  },
  {
   "cell_type": "markdown",
   "metadata": {},
   "source": [
    "E matrizes também podem ser facilmente tratadas simbolicamente:"
   ]
  },
  {
   "cell_type": "code",
   "execution_count": 25,
   "metadata": {},
   "outputs": [
    {
     "name": "stdout",
     "output_type": "stream",
     "text": [
      "\n",
      "Matriz : Matrix([[1.00000000000000, a], [a, 1.00000000000000]])\n",
      "\n",
      "Determinante da matriz : -a**2 + 1.0\n",
      "\n",
      "O Quadrado da matriz : Matrix([[a**2 + 1.0, 2.0*a], [2.0*a, a**2 + 1.0]])\n",
      "\n",
      "Autovalores da matriz (e suas respectivas multiplicidades): {a + 1: 1, -a + 1: 1}\n",
      "\n",
      "Autovetores com os seus respectivas autovalores e multiplicidades:\n",
      " [(-a + 1, 1, [Matrix([\n",
      "[-1],\n",
      "[ 1]])]), (a + 1, 1, [Matrix([\n",
      "[1],\n",
      "[1]])])]\n",
      "\n",
      "Ou, mais claramente:\n",
      "\n",
      "Autovalor \"-a + 1\" tem multiplicidade \"1\" e autovetor \n",
      " [Matrix([\n",
      "[-1],\n",
      "[ 1]])]\n",
      "\n",
      "Autovalor \"-a + 1\" tem multiplicidade \"1\" e autovetor \n",
      " [Matrix([\n",
      "[-1],\n",
      "[ 1]])]\n",
      "\n"
     ]
    }
   ],
   "source": [
    "# Matriz simbólica\n",
    "A = sym.Matrix([[1,a],[a,1]])\n",
    "print()\n",
    "print('Matriz :', A.evalf())\n",
    "\n",
    "# Operações com matrizes\n",
    "print()\n",
    "print('Determinante da matriz :', A.det().evalf())\n",
    "\n",
    "print()\n",
    "print('O Quadrado da matriz :', (A**2).evalf())\n",
    "\n",
    "print()\n",
    "print('Autovalores da matriz (e suas respectivas multiplicidades):', A.eigenvals())\n",
    "\n",
    "print()\n",
    "print('Autovetores com os seus respectivas autovalores e multiplicidades:\\n', A.eigenvects())\n",
    "\n",
    "print()\n",
    "print('Ou, mais claramente:\\n')\n",
    "aeig = A.eigenvects()\n",
    "for i in range(A.rank()):\n",
    "  print(f'Autovalor \"{aeig[0][0]}\" tem multiplicidade \"{aeig[0][1]}\" e autovetor \\n {aeig[0][2]}\\n')"
   ]
  },
  {
   "cell_type": "markdown",
   "metadata": {},
   "source": [
    "Mais informações: [Sympy](http://www.sympy.org/), [Tutorial](http://docs.sympy.org/latest/tutorial/index.html) e uma [comparação Sympy vs Maxima](https://github.com/sympy/sympy/wiki/SymPy-vs.-Maxima)."
   ]
  },
  {
   "cell_type": "markdown",
   "metadata": {},
   "source": [
    "## Exercícios\n",
    "\n",
    "1. Ache uma primitiva da função $y(x) = x^3\\cos(x^2 + x)$.\n",
    "\n",
    "1. Ache a derivada da função $f(x) = x\\sin(e^{x}\\sin(\\ln(x^2 + x))$.\n",
    "\n",
    "1. Ache o limite da função $\\displaystyle g(x) = \\left( a^{1/x} + \\frac{b}{x}\\right)^x$, quando $x\\rightarrow \\infty$."
   ]
  },
  {
   "cell_type": "markdown",
   "metadata": {},
   "source": [
    "<!--NAVIGATOR-->\n",
    "\n",
    "---\n",
    "[<- 1.4. Arquivos, dados e mais gráficos](01.04-Arquivos_dados_e_mais_graficos.ipynb) | [Página Inicial](00.00-Pagina_inicial.ipynb) | [Bibliografia](BA.00-Bibliografia.ipynb) | [1.6. Boas práticas em python ->](01.06-Boas_praticas_em_python.ipynb)\n",
    "\n",
    "<a href=\"https://colab.research.google.com/github//rmsrosa/modelagem_matematica/blob/livro/livro/01.05-Computacao_simbolica.ipynb\"><img align=\"left\" src=\"https://colab.research.google.com/assets/colab-badge.svg\" alt=\"Open in Colab\" title=\"Open and Execute in Google Colaboratory\"></a>\n",
    "\n",
    "<a href=\"https://mybinder.org/v2/gh//rmsrosa/modelagem_matematica/livro?filepath=livro/01.05-Computacao_simbolica.ipynb\"><img align=\"left\" src=\"https://mybinder.org/badge.svg\" alt=\"Open in binder\" title=\"Open and Execute in Binder\"></a>\n",
    "&nbsp;"
   ]
  }
 ],
 "metadata": {
  "kernelspec": {
   "display_name": "Python 3",
   "language": "python",
   "name": "python3"
  },
  "language_info": {
   "codemirror_mode": {
    "name": "ipython",
    "version": 3
   },
   "file_extension": ".py",
   "mimetype": "text/x-python",
   "name": "python",
   "nbconvert_exporter": "python",
   "pygments_lexer": "ipython3",
   "version": "3.7.1"
  }
 },
 "nbformat": 4,
 "nbformat_minor": 2
}
