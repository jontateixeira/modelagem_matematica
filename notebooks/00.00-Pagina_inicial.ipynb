{
 "cells": [
  {
   "cell_type": "markdown",
   "metadata": {},
   "source": [
    "<!--HEADER-->\n",
    "*[Notas de aula da disciplina de Modelagem Matemática](https://github.com/rmsrosa/modelagem_matematica) do [IM-UFRJ](https://www.im.ufrj.br).*"
   ]
  },
  {
   "cell_type": "markdown",
   "metadata": {},
   "source": [
    "<!--NAVIGATOR-->\n",
    "\n",
    "<a href=\"https://colab.research.google.com/github/rmsrosa/modelagem_matematica/blob/master/notebooks/00.00-Pagina_inicial.ipynb\"><img align=\"left\" src=\"https://colab.research.google.com/assets/colab-badge.svg\" alt=\"Open in Colab\" title=\"Open and Execute in Google Colaboratory\"></a>\n",
    "&nbsp;\n",
    "<a href=\"https://mybinder.org/v2/gh/rmsrosa/modelagem_matematica/master?filepath=notebooks/00.00-Pagina_inicial.ipynb\"><img align=\"left\" src=\"https://mybinder.org/badge.svg\" alt=\"Open in binder\" title=\"Open and Execute in Binder\"></a>\n",
    "&nbsp;\n",
    "\n",
    "| [Página Inicial](00.00-Pagina_inicial.ipynb) | [Bibliografia](BA.00-Bibliografia.ipynb) | [Prefácio ->](00.01-Prefacio.ipynb)\n",
    "\n",
    "---\n"
   ]
  },
  {
   "cell_type": "markdown",
   "metadata": {},
   "source": [
    "# Página Inicial\n",
    "\n",
    "Estas notas fazem parte da disciplina de Modelagem Matemática do [Instituto de Matemática da UFRJ](http://www.im.ufrj.br). Estão sendo escritas no ambiente [Jupyter](http://jupyter.org), com os códigos usando a linguagem de programação [Python](https://www.python.org) (versões 3.6 ou 3.7).\n",
    "\n",
    "As notas ainda estão em versão preliminar e serão desenvolvidas ao longo desta que é a primeira edição da disciplina neste formato. \n",
    "\n",
    "As notas estão sendo distribuídas através do repositório [rmsrosa/modelagem_matematica](https://github.com/rmsrosa/modelagem_matematica) no [Github](https://github.com) e podem ser visualizadas e executas diretamente na nuvem em [notas pelo Binder](https://mybinder.org/v2/gh/rmsrosa/modelagem_matematica/master?filepath=notebooks%2FIndice.ipynb) ou em [notas pelo Google Colab](https://colab.research.google.com/github/rmsrosa/modelagem_matematica/blob/master/notebooks/Indice.ipynb). \n",
    "\n",
    "As notas também podem ser copiadas para uma máquina local ou para o Google Drive do aluno, de modo que o seu conteúdo pode ser acessado e trabalhado via [Jupyter Lab](http://jupyterlab.io), [Jupyter Notebook](http://jupyter.org) ou [Google Colab](http://colab.research.google.com) do aluno.\n",
    "\n",
    "O texto está disponível sob a [licença CC-BY-NC-ND](https://creativecommons.org/licenses/by-nc-nd/3.0/us/legalcode) e os códigos estão disponíveis sob a [licença GNU GPL Versão 3](https://www.gnu.org/licenses/gpl.html)."
   ]
  },
  {
   "cell_type": "markdown",
   "metadata": {},
   "source": [
    "## Sumário"
   ]
  },
  {
   "cell_type": "markdown",
   "metadata": {},
   "source": [
    "<!--TABLE_OF_CONTENTS-->\n",
    "\n",
    "### [Página Inicial](00.00-Pagina_inicial.ipynb)\n",
    "\n",
    "### [Prefácio](00.01-Prefacio.ipynb)\n",
    "\n",
    "### [Introdução](00.90-Introducao.ipynb)\n",
    "\n",
    "### [PARTE I - Aspectos Iniciais](01.-Parte1.ipynb)\n",
    "\n",
    "### [1. Destino, Jupyter!](01.00-Destino_Jupyter.ipynb)\n",
    "\n",
    "&nbsp;&nbsp;&nbsp;&nbsp; [1.1. O Ambiente computacional](01.01-Ambiente_computacional.ipynb)\n",
    "\n",
    "&nbsp;&nbsp;&nbsp;&nbsp; [1.2. Reconhecimento de Jupyter](01.02-Reconhecimento_de_Jupyter.ipynb)\n",
    "\n",
    "&nbsp;&nbsp;&nbsp;&nbsp; [1.3. Gráficos de funções](01.03-Graficos_de_funcoes.ipynb)\n",
    "\n",
    "&nbsp;&nbsp;&nbsp;&nbsp; [1.4. Arquivos, dados e mais gráficos](01.04-Arquivos_dados_e_mais_graficos.ipynb)\n",
    "\n",
    "&nbsp;&nbsp;&nbsp;&nbsp; [1.5. Computação simbólica](01.05-Computacao_simbolica.ipynb)\n",
    "\n",
    "&nbsp;&nbsp;&nbsp;&nbsp; [1.6. Boas práticas em python](01.06-Boas_praticas_em_python.ipynb)\n",
    "\n",
    "### [2. Princípios de modelagem matemática](02.00-Principios_de_modelagem_matematica.ipynb)\n",
    "\n",
    "&nbsp;&nbsp;&nbsp;&nbsp; [2.1. Modelos como aproximação da realidade](02.01-Modelos_como_aproximacao_da_realidade.ipynb)\n",
    "\n",
    "&nbsp;&nbsp;&nbsp;&nbsp; [2.2. Uma modesta classificação dos fenômenos](02.02-Uma_modesta_classificacao_dos_fenomenos.ipynb)\n",
    "\n",
    "&nbsp;&nbsp;&nbsp;&nbsp; [2.3. Formas de modelagens](02.03-Formas_de_modelagens.ipynb)\n",
    "\n",
    "### [3. Primeiros passos na modelagem](03.00-Primeiros_passos_na_modelagem.ipynb)\n",
    "\n",
    "&nbsp;&nbsp;&nbsp;&nbsp; [3.1. Ajuste de dados](03.01-Ajuste_de_dados.ipynb)\n",
    "\n",
    "&nbsp;&nbsp;&nbsp;&nbsp; [3.2. Critérios de informação e a escolha do modelo](03.02-Criterios_de_informacao_e_a_escolha_do_modelo.ipynb)\n",
    "\n",
    "&nbsp;&nbsp;&nbsp;&nbsp; [3.3. Exemplos simples](03.03-Exemplos_simples.ipynb)\n",
    "\n",
    "### [4. O Pêndulo](04.00-O_pendulo.ipynb)\n",
    "\n",
    "&nbsp;&nbsp;&nbsp;&nbsp; [4.1. O pêndulo](04.01-Um_pendulo_caseiro.ipynb)\n",
    "\n",
    "&nbsp;&nbsp;&nbsp;&nbsp; [4.2. Mini-projetos](04.02-Mini_projetos.ipynb)\n",
    "\n",
    "### [PARTE II - Modelos Diversos](05.-Parte2.ipynb)\n",
    "\n",
    "### [PARTE III - Projetos](06.-Parte3.ipynb)\n",
    "\n",
    "### [Bibliografia](BA.00-Bibliografia.ipynb)\n",
    "\n"
   ]
  },
  {
   "cell_type": "markdown",
   "metadata": {},
   "source": [
    "<!--NAVIGATOR-->\n",
    "\n",
    "---\n",
    "| [Página Inicial](00.00-Pagina_inicial.ipynb) | [Bibliografia](BA.00-Bibliografia.ipynb) | [Prefácio ->](00.01-Prefacio.ipynb)\n",
    "\n",
    "<a href=\"https://colab.research.google.com/github/rmsrosa/modelagem_matematica/blob/master/notebooks/00.00-Pagina_inicial.ipynb\"><img align=\"left\" src=\"https://colab.research.google.com/assets/colab-badge.svg\" alt=\"Open in Colab\" title=\"Open and Execute in Google Colaboratory\"></a>\n",
    "\n",
    "<a href=\"https://mybinder.org/v2/gh/rmsrosa/modelagem_matematica/master?filepath=notebooks/00.00-Pagina_inicial.ipynb\"><img align=\"left\" src=\"https://mybinder.org/badge.svg\" alt=\"Open in binder\" title=\"Open and Execute in Binder\"></a>\n",
    "&nbsp;"
   ]
  }
 ],
 "metadata": {
  "kernelspec": {
   "display_name": "Python 3",
   "language": "python",
   "name": "python3"
  },
  "language_info": {
   "codemirror_mode": {
    "name": "ipython",
    "version": 3
   },
   "file_extension": ".py",
   "mimetype": "text/x-python",
   "name": "python",
   "nbconvert_exporter": "python",
   "pygments_lexer": "ipython3",
   "version": "3.7.1"
  }
 },
 "nbformat": 4,
 "nbformat_minor": 2
}
