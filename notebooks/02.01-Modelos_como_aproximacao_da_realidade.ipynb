{
 "cells": [
  {
   "cell_type": "markdown",
   "metadata": {},
   "source": [
    "<!--BOOK_INFORMATION-->\n",
    "<!--<img align=\"left\" style=\"padding-right:10px;\" src=\"figures/PDSH-cover-small.png\">-->\n",
    "\n",
    "*[Notas de aula da disciplina de \n",
    "Modelagem Matemática](https://github.com/rmsrosa/modelagem_matematica)\n",
    "do [IM-UFRJ](https://www.im.ufrj.br).*"
   ]
  },
  {
   "cell_type": "markdown",
   "metadata": {},
   "source": [
    "<!--NAVIGATION-->\n",
    "\n",
    "<a href=\"https://colab.research.google.com/github/rmsrosa/modelagem_matematica/blob/master/notebooks/02.01-Modelos_como_aproximacao_da_realidade.ipynb\"><img align=\"left\" src=\"https://colab.research.google.com/assets/colab-badge.svg\" alt=\"Open in Colab\" title=\"Open and Execute in Google Colaboratory\"></a>\n",
    "&nbsp;\n",
    "<a href=\"https://mybinder.org/v2/gh/rmsrosa/modelagem_matematica/master?filepath=notebooks/02.01-Modelos_como_aproximacao_da_realidade.ipynb\"><img align=\"left\" src=\"https://mybinder.org/badge.svg\" alt=\"Open in binder\" title=\"Open and Execute in Binder\"></a>\n",
    "&nbsp;\n",
    "\n",
    "[<- Princípios de modelagem matemática](02.00-Principios_de_modelagem_matematica.ipynb) | [Índice](Indice.ipynb) | [Referências](99.00-Referencias.ipynb) | [Uma modesta classificação dos fenômenos ->](02.02-Uma_modesta_classificacao_dos_fenomenos.ipynb)\n",
    "\n",
    "---\n"
   ]
  },
  {
   "cell_type": "markdown",
   "metadata": {},
   "source": [
    "# Modelos como aproximação da realidade"
   ]
  },
  {
   "cell_type": "markdown",
   "metadata": {},
   "source": [
    "## Motivações\n",
    "\n",
    "- Clareza/Iluminismo\n",
    "- Aferição\n",
    "    - Datação via decaimento radioativo\n",
    "    - Tomografia computadorizada para análises clínicas\n",
    "- Predição\n",
    "    - Previsão de tempo\n",
    "    - Previsão climática\n",
    "- Otimização\n",
    "    - Caminho mais rápido ou mais econômico\n",
    "    - Formato mais aerodinâmico"
   ]
  },
  {
   "cell_type": "markdown",
   "metadata": {},
   "source": [
    "## Processos envolvidos\n",
    "\n",
    "Há vários processos ocorrendo em uma modelagem:\n",
    "\n",
    "- Um fenômeno a ser modelado\n",
    "- Parâmetros e variáveis caracterizando o estado do fenômeno\n",
    "- Um modelo relacionando esses parâmetros e variáveis\n",
    "- Validações do modelos\n",
    "- Previsões\n",
    "\n",
    "Uma teoria, ou uma estrutura matemática, não é, necessariamente, um modelo. Há uma polêmica, por exemplo, se a teoria de cordas é de fato um modelo do universo, pois, dizem alguns entendidos, não é possível validá-lo e fazer previsões sobre a realidade."
   ]
  },
  {
   "cell_type": "markdown",
   "metadata": {},
   "source": [
    "## Interpretação dos resultados"
   ]
  },
  {
   "cell_type": "markdown",
   "metadata": {},
   "source": [
    "<!--NAVIGATION-->\n",
    "\n",
    "---\n",
    "[<- Princípios de modelagem matemática](02.00-Principios_de_modelagem_matematica.ipynb) | [Índice](Indice.ipynb) | [Referências](99.00-Referencias.ipynb) | [Uma modesta classificação dos fenômenos ->](02.02-Uma_modesta_classificacao_dos_fenomenos.ipynb)\n",
    "\n",
    "<a href=\"https://colab.research.google.com/github/rmsrosa/modelagem_matematica/blob/master/notebooks/02.01-Modelos_como_aproximacao_da_realidade.ipynb\"><img align=\"left\" src=\"https://colab.research.google.com/assets/colab-badge.svg\" alt=\"Open in Colab\" title=\"Open and Execute in Google Colaboratory\"></a>\n",
    "\n",
    "<a href=\"https://mybinder.org/v2/gh/rmsrosa/modelagem_matematica/master?filepath=notebooks/02.01-Modelos_como_aproximacao_da_realidade.ipynb\"><img align=\"left\" src=\"https://mybinder.org/badge.svg\" alt=\"Open in binder\" title=\"Open and Execute in Binder\"></a>\n",
    "&nbsp;"
   ]
  }
 ],
 "metadata": {
  "kernelspec": {
   "display_name": "Py36 SfePy env",
   "language": "python",
   "name": "py36sfepy"
  },
  "language_info": {
   "codemirror_mode": {
    "name": "ipython",
    "version": 3
   },
   "file_extension": ".py",
   "mimetype": "text/x-python",
   "name": "python",
   "nbconvert_exporter": "python",
   "pygments_lexer": "ipython3",
   "version": "3.6.7"
  }
 },
 "nbformat": 4,
 "nbformat_minor": 2
}
