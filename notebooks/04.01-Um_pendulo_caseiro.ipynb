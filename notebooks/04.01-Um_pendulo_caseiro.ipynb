{
 "cells": [
  {
   "cell_type": "markdown",
   "metadata": {},
   "source": [
    "<!--BOOK_INFORMATION-->\n",
    "<!--<img align=\"left\" style=\"padding-right:10px;\" src=\"figures/PDSH-cover-small.png\">-->\n",
    "\n",
    "*[Notas de aula da disciplina de \n",
    "Modelagem Matemática](https://github.com/rmsrosa/modelagem_matematica)\n",
    "do [IM-UFRJ](https://www.im.ufrj.br).*"
   ]
  },
  {
   "cell_type": "markdown",
   "metadata": {},
   "source": [
    "<!--NAVIGATION-->\n",
    "\n",
    "<a href=\"https://colab.research.google.com/github/rmsrosa/modelagem_matematica/blob/master/notebooks/04.01-Um_pendulo_caseiro.ipynb\"><img align=\"left\" src=\"https://colab.research.google.com/assets/colab-badge.svg\" alt=\"Open in Colab\" title=\"Open and Execute in Google Colaboratory\"></a>\n",
    "&nbsp;\n",
    "<a href=\"https://mybinder.org/v2/gh/rmsrosa/modelagem_matematica/master?filepath=notebooks/04.01-Um_pendulo_caseiro.ipynb\"><img align=\"left\" src=\"https://mybinder.org/badge.svg\" alt=\"Open in binder\" title=\"Open and Execute in Binder\"></a>\n",
    "&nbsp;\n",
    "\n",
    "[<- O Pêndulo](04.00-O_pendulo.ipynb) | [Índice](Indice.ipynb) | [Referências](99.00-Referencias.ipynb) | [Mini-projetos ->](04.02-Mini_projetos.ipynb)\n",
    "\n",
    "---\n"
   ]
  },
  {
   "cell_type": "markdown",
   "metadata": {},
   "source": [
    "# Um pêndulo caseiro\n",
    "\n",
    "Nesse capítulo, vamos considerar o movimento de um pêndulo, que consiste em uma objeto preso a uma extremidade de uma haste, ou de um fio, com o outro extremo desta haste, ou fio, preso a um determinado ponto fixo. É considerado o caso de um objeto com massa bem maior que a da haste, ou do fio. Permite-se, então, ao objeto, balançar, sob a ação da gravidade e de um movimento inicial. No caso de um fio, o movimento é feito de tal forma que ele se mantenha tensionado, para que o movimento se dê em uma esfera de centro no ponto fixo e de raio igual ao comprimento da haste ou do fio esticado.\n",
    "\n",
    "Na situação de interesse, tratamos do caso em que o movimento inicial é tal que o movimento do pêndulo se dê de quase de forma planar, ou seja, quase restrito à uma circunferência."
   ]
  },
  {
   "cell_type": "markdown",
   "metadata": {},
   "source": [
    "<!--NAVIGATION-->\n",
    "\n",
    "---\n",
    "[<- O Pêndulo](04.00-O_pendulo.ipynb) | [Índice](Indice.ipynb) | [Referências](99.00-Referencias.ipynb) | [Mini-projetos ->](04.02-Mini_projetos.ipynb)\n",
    "\n",
    "<a href=\"https://colab.research.google.com/github/rmsrosa/modelagem_matematica/blob/master/notebooks/04.01-Um_pendulo_caseiro.ipynb\"><img align=\"left\" src=\"https://colab.research.google.com/assets/colab-badge.svg\" alt=\"Open in Colab\" title=\"Open and Execute in Google Colaboratory\"></a>\n",
    "\n",
    "<a href=\"https://mybinder.org/v2/gh/rmsrosa/modelagem_matematica/master?filepath=notebooks/04.01-Um_pendulo_caseiro.ipynb\"><img align=\"left\" src=\"https://mybinder.org/badge.svg\" alt=\"Open in binder\" title=\"Open and Execute in Binder\"></a>\n",
    "&nbsp;"
   ]
  }
 ],
 "metadata": {
  "kernelspec": {
   "display_name": "Python 3",
   "language": "python",
   "name": "python3"
  },
  "language_info": {
   "codemirror_mode": {
    "name": "ipython",
    "version": 3
   },
   "file_extension": ".py",
   "mimetype": "text/x-python",
   "name": "python",
   "nbconvert_exporter": "python",
   "pygments_lexer": "ipython3",
   "version": "3.7.1"
  }
 },
 "nbformat": 4,
 "nbformat_minor": 2
}
