{
 "cells": [
  {
   "cell_type": "markdown",
   "metadata": {},
   "source": [
    "# Modelagem Matemática\n",
    "\n",
    "Estas notas fazem parte da disciplina de Modelagem Matemática do [Instituto de Matemática da UFRJ](http://www.im.ufrj.br). Estão sendo escritas no ambiente [Jupyter](http://jupyter.org), com os códigos usando a linguagem de programação [Python](https://www.python.org) (versões 3.6 ou 3.7).\n",
    "\n",
    "As notas ainda estão em versão preliminar e serão desenvolvidas ao longo desta que é a primeira edição da disciplina neste formato. \n",
    "\n",
    "\n",
    "\n",
    "As notas estão sendo distribuídas através do repositório [rmsrosa/modelagem_matematica](https://github.com/rmsrosa/modelagem_matematica) no [Github](https://github.com) e podem ser visualizadas e executas diretamente na nuvem em [notas pelo Binder](https://mybinder.org/v2/gh/rmsrosa/modelagem_matematica/master?filepath=notebooks%2FIndice.ipynb) ou em [notas pelo Google Colab](https://colab.research.google.com/github/rmsrosa/modelagem_matematica/blob/master/notebooks/Indice.ipynb). \n",
    "\n",
    "As notas também podem ser copiadas para uma máquina local ou para o Google Drive do aluno, de modo que o seu conteúdo pode ser acessado e trabalhado via [Jupyter Lab](http://jupyterlab.io), [Jupyter Notebook](http://jupyter.org) ou [Google Colab](http://colab.research.google.com).\n",
    "\n",
    "O texto está disponível sob a [licença CC-BY-NC-ND](https://creativecommons.org/licenses/by-nc-nd/3.0/us/legalcode) e os códigos estão disponíveis sob a  [MIT license](https://opensource.org/licenses/MIT)."
   ]
  },
  {
   "cell_type": "markdown",
   "metadata": {},
   "source": [
    "\n",
    "## Conteúdo\n",
    "\n",
    "### [Prefácio](00.00-Prefacio.ipynb)\n",
    "\n",
    "### PARTE I - Aspectos Iniciais\n",
    "\n",
    "### [1. Destino, Jupyter!](01.00-Destino_Jupyter.ipynb)\n",
    "- [1.1. O Ambiente computacional](01.01-Ambiente_computacional.ipynb)\n",
    "- [1.2. Reconhecimento de Jupyter](01.02-Reconhecimento_de_Jupyter.ipynb)\n",
    "- [1.3. Gráficos de funções](01.03-Graficos_de_funcoes.ipynb)\n",
    "- [1.4. Arquivos, dados e mais gráficos](01.04-Arquivos_dados_e_mais_graficos.ipynb)\n",
    "- [1.5. Computação simbólica](01.05-Computacao_simbolica.ipynb)\n",
    "- [1.6. Boas práticas em python](01.06-Boas_praticas_em_python.ipynb)\n",
    "\n",
    "### [2. Princípios de modelagem matemática](02.00-Principios_de_modelagem_matematica.ipynb)\n",
    "- [2.1. Modelos como aproximação da realidade](02.01-Modelos_como_aproximacao_da_realidade.ipynb)\n",
    "- [2.2. Uma modesta classificação dos fenômenos](02.02-Uma_modesta_classificacao_dos_fenomenos.ipynb)\n",
    "- [2.3. Formas de modelagens](02.03-Formas_de_modelagens.ipynb)\n",
    "\n",
    "### [3. Primeiros passos na modelagem](03.00-Primeiros_passos_na_modelagem.ipynb)\n",
    "- [3.1. Ajuste de dados](03.01-Ajuste_de_dados.ipynb)\n",
    "- [3.2. Critérios de informação e a escolha do modelo](03.02-Criterios_de_informaçao_e_a_escolha_do_modelo.ipynb)\n",
    "- [3.3. Exemplos simples](03.03-Exemplos_simples.ipynb)\n",
    "\n",
    "### [4. O Pêndulo](04.00-O_pendulo.ipynb)\n",
    "- [4.1. Um pêndulo caseiro](04.01-Um_pendulo_caseiro.ipynb)\n",
    "- [4.2. Mini-projetos](04.02-Mini_projetos.ipynb)\n",
    "\n",
    "### PARTE II - Modelos Diversos\n",
    "\n",
    "### PARTE III - Projetos\n",
    "\n",
    "### [Referências](98.00-Referencias.ipynb)\n"
   ]
  }
 ],
 "metadata": {
  "kernelspec": {
   "display_name": "Python 3",
   "language": "python",
   "name": "python3"
  },
  "language_info": {
   "codemirror_mode": {
    "name": "ipython",
    "version": 3
   },
   "file_extension": ".py",
   "mimetype": "text/x-python",
   "name": "python",
   "nbconvert_exporter": "python",
   "pygments_lexer": "ipython3",
   "version": "3.7.1"
  }
 },
 "nbformat": 4,
 "nbformat_minor": 2
}
