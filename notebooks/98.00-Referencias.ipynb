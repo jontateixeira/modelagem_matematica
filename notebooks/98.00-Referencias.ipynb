{
 "cells": [
  {
   "cell_type": "markdown",
   "metadata": {},
   "source": [
    "<!--BOOK_INFORMATION-->\n",
    "<!--<img align=\"left\" style=\"padding-right:10px;\" src=\"figures/PDSH-cover-small.png\">-->\n",
    "\n",
    "*[Notas de aula da disciplina de \n",
    "Modelagem Matemática](https://github.com/rmsrosa/modelagem_matematica)\n",
    "do [IM-UFRJ](https://www.im.ufrj.br).*"
   ]
  },
  {
   "cell_type": "markdown",
   "metadata": {},
   "source": [
    "<!--NAVIGATION-->\n",
    "\n",
    "<a href=\"https://colab.research.google.com/github/rmsrosa/modelagem_matematica/blob/master/notebooks/98.00-Referencias.ipynb\"><img align=\"left\" src=\"https://colab.research.google.com/assets/colab-badge.svg\" alt=\"Open in Colab\" title=\"Open and Execute in Google Colaboratory\"></a>\n",
    "&nbsp;\n",
    "<a href=\"https://mybinder.org/v2/gh/rmsrosa/modelagem_matematica/master?filepath=notebooks/98.00-Referencias.ipynb\"><img align=\"left\" src=\"https://mybinder.org/badge.svg\" alt=\"Open in binder\" title=\"Open and Execute in Binder\"></a>\n",
    "&nbsp;\n",
    "\n",
    "[<- PARTE III - Projetos](06.-Parte3.ipynb) | [Índice](Indice.ipynb) | [Referências](99.00-Referencias.ipynb) |\n",
    "\n",
    "---\n"
   ]
  },
  {
   "cell_type": "markdown",
   "metadata": {},
   "source": [
    "# Referências\n",
    "\n",
    "- N. Bellomo, E. De Angelis, & M. Delitala (2007), Lecture Notes on Mathematical Modelling in Applied Sciences.\n",
    "- E. A. Bender (1978), An Introduction to Mathematical Modeling. John Wiley & Sons. \n",
    "- J. Caldwell & D. K. S. Ng (2004), Mathematical Modelling. Case Studies and Projects, Kluwer Academic Publishers.\n",
    "- C. L. Dym (2004), An Introduction to Mathematical Modeling. 2nd Edition. Academic Press. \n",
    "- S. Howison (2005), Practical Applied Mathematics: Modelling, Analysis, Approximation. Cambridge Texts in Applied Mathematics (Book 38), Cambridge University Press.\n",
    "- G. Ledder (2013), Mathematics for the Life Sciences: Calculus, Modeling, Probability, and Dynamical Systems, Springer.\n",
    "- G. Marion (2008), An Introduction to Mathematical Modelling, [notas de aula](https://people.maths.bris.ac.uk/~madjl/course_text.pdf).\n",
    "- M. Mesterton-Gibbons (2007), A Concrete Approach to Mathematical Modelling. John Wiley & Sons, Inc."
   ]
  },
  {
   "cell_type": "markdown",
   "metadata": {},
   "source": [
    "<!--NAVIGATION-->\n",
    "\n",
    "---\n",
    "[<- PARTE III - Projetos](06.-Parte3.ipynb) | [Índice](Indice.ipynb) | [Referências](99.00-Referencias.ipynb) |\n",
    "\n",
    "<a href=\"https://colab.research.google.com/github/rmsrosa/modelagem_matematica/blob/master/notebooks/98.00-Referencias.ipynb\"><img align=\"left\" src=\"https://colab.research.google.com/assets/colab-badge.svg\" alt=\"Open in Colab\" title=\"Open and Execute in Google Colaboratory\"></a>\n",
    "\n",
    "<a href=\"https://mybinder.org/v2/gh/rmsrosa/modelagem_matematica/master?filepath=notebooks/98.00-Referencias.ipynb\"><img align=\"left\" src=\"https://mybinder.org/badge.svg\" alt=\"Open in binder\" title=\"Open and Execute in Binder\"></a>\n",
    "&nbsp;"
   ]
  }
 ],
 "metadata": {
  "kernelspec": {
   "display_name": "Python 3",
   "language": "python",
   "name": "python3"
  },
  "language_info": {
   "codemirror_mode": {
    "name": "ipython",
    "version": 3
   },
   "file_extension": ".py",
   "mimetype": "text/x-python",
   "name": "python",
   "nbconvert_exporter": "python",
   "pygments_lexer": "ipython3",
   "version": "3.7.1"
  }
 },
 "nbformat": 4,
 "nbformat_minor": 2
}
