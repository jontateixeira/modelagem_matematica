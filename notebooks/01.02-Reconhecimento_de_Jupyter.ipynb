{
 "cells": [
  {
   "cell_type": "markdown",
   "metadata": {},
   "source": [
    "<!--BOOK_INFORMATION-->\n",
    "<!--<img align=\"left\" style=\"padding-right:10px;\" src=\"figures/PDSH-cover-small.png\">-->\n",
    "\n",
    "*[Notas de aula da disciplina de \n",
    "Modelagem Matemática](https://github.com/rmsrosa/modelagem_matematica)\n",
    "do [IM-UFRJ](https://www.im.ufrj.br).*"
   ]
  },
  {
   "cell_type": "markdown",
   "metadata": {},
   "source": [
    "<!--NAVIGATION-->\n",
    "\n",
    "<a href=\"https://colab.research.google.com/github/rmsrosa/modelagem_matematica/blob/master/notebooks/01.02-Reconhecimento_de_Jupyter.ipynb\"><img align=\"left\" src=\"https://colab.research.google.com/assets/colab-badge.svg\" alt=\"Open in Colab\" title=\"Open and Execute in Google Colaboratory\"></a>\n",
    "&nbsp;\n",
    "<a href=\"https://mybinder.org/v2/gh/rmsrosa/modelagem_matematica/master?filepath=notebooks/01.02-Reconhecimento_de_Jupyter.ipynb\"><img align=\"left\" src=\"https://mybinder.org/badge.svg\" alt=\"Open in binder\" title=\"Open and Execute in Binder\"></a>\n",
    "&nbsp;\n",
    "\n",
    "[<- O Ambiente computacional](01.01-Ambiente_computacional.ipynb) | [Índice](Indice.ipynb) | [Referências](99.00-Referencias.ipynb) | [Gráficos de funções ->](01.03-Graficos_de_funcoes.ipynb)\n",
    "\n",
    "---\n"
   ]
  },
  {
   "cell_type": "markdown",
   "metadata": {},
   "source": [
    "# Reconhecimento de Jupyter\n",
    "\n",
    "Vamos começar trabalhando aritmética e álgebra linear, para ilustrar o ambiente Jupyter."
   ]
  },
  {
   "cell_type": "markdown",
   "metadata": {},
   "source": [
    "## Aritmética\n",
    "\n",
    "Na versão 3 do Python, trabalhamos essencialmente com três tipos numéricos: **inteiros**, **pontos flutuantes** e **complexos** (veja em [Built-in Types](https://docs.python.org/3/library/stdtypes.html?highlight=numerics)). Há outros tipos também, como [fractions](https://docs.python.org/3/library/fractions.html#module-fractions) e [decimal](https://docs.python.org/3/library/decimal.html#module-decimal), que evitam, ou reduzem, arredondamentos estranhos, mas a custo de velocidade de processamento. Além disso, pacotes numéricos como `numpy` e `scipy` trabalham seus cálculos numéricos essencialmente em ponto flutuante.\n",
    "\n",
    "Informações mais detalhadas sobre a implementação dos números de ponto flutuante em sua configuração podem ser obtidas através do comando `float_info` do módulo `sys`:"
   ]
  },
  {
   "cell_type": "code",
   "execution_count": 160,
   "metadata": {},
   "outputs": [
    {
     "data": {
      "text/plain": [
       "sys.float_info(max=1.7976931348623157e+308, max_exp=1024, max_10_exp=308, min=2.2250738585072014e-308, min_exp=-1021, min_10_exp=-307, dig=15, mant_dig=53, epsilon=2.220446049250313e-16, radix=2, rounds=1)"
      ]
     },
     "execution_count": 160,
     "metadata": {},
     "output_type": "execute_result"
    }
   ],
   "source": [
    "import sys\n",
    "sys.float_info"
   ]
  },
  {
   "cell_type": "markdown",
   "metadata": {},
   "source": [
    "Para visualizar o resultado dos cálculos aritméticos, podemos usar a função `print()`:"
   ]
  },
  {
   "cell_type": "code",
   "execution_count": 161,
   "metadata": {},
   "outputs": [
    {
     "name": "stdout",
     "output_type": "stream",
     "text": [
      "5\n",
      "5.0\n",
      "(1+2j)\n",
      "(-1+0j)\n"
     ]
    }
   ],
   "source": [
    "print(2 + 3)\n",
    "print(2.0 + 3.0)\n",
    "print(1.0 + 2.0j)\n",
    "print(1j**2)"
   ]
  },
  {
   "cell_type": "markdown",
   "metadata": {},
   "source": [
    "Observe que, no caso de número complexo, a letra `j` representa $\\sqrt{-1}$, com o número complexo sendo identificado automaticamente ao concatenarmos um número com a letra `j`. Observe, de fato, que acima fizemos `2.0j` e `1j`. Se fizermos `1.0 + 2.0*j` e `j**2`, teremos, inicialmente, um erro, pois nesse caso o programa espera que `j` seja uma variável a ser multiplicada por `2.0` ou elevada ao quadrado:"
   ]
  },
  {
   "cell_type": "code",
   "execution_count": 3,
   "metadata": {},
   "outputs": [
    {
     "ename": "NameError",
     "evalue": "name 'j' is not defined",
     "output_type": "error",
     "traceback": [
      "\u001b[0;31m---------------------------------------------------------------------------\u001b[0m",
      "\u001b[0;31mNameError\u001b[0m                                 Traceback (most recent call last)",
      "\u001b[0;32m<ipython-input-3-db20fc434b9e>\u001b[0m in \u001b[0;36m<module>\u001b[0;34m\u001b[0m\n\u001b[0;32m----> 1\u001b[0;31m \u001b[0mprint\u001b[0m\u001b[0;34m(\u001b[0m\u001b[0;36m1.0\u001b[0m \u001b[0;34m+\u001b[0m \u001b[0;36m2.0\u001b[0m\u001b[0;34m**\u001b[0m\u001b[0mj\u001b[0m\u001b[0;34m)\u001b[0m\u001b[0;34m\u001b[0m\u001b[0;34m\u001b[0m\u001b[0m\n\u001b[0m\u001b[1;32m      2\u001b[0m \u001b[0mprint\u001b[0m\u001b[0;34m(\u001b[0m\u001b[0mj\u001b[0m\u001b[0;34m**\u001b[0m\u001b[0;36m2\u001b[0m\u001b[0;34m)\u001b[0m\u001b[0;34m\u001b[0m\u001b[0;34m\u001b[0m\u001b[0m\n",
      "\u001b[0;31mNameError\u001b[0m: name 'j' is not defined"
     ]
    }
   ],
   "source": [
    "print(1.0 + 2.0**j)\n",
    "print(j**2)"
   ]
  },
  {
   "cell_type": "markdown",
   "metadata": {},
   "source": [
    "E caso definamos `j` como um número, não obteremos erro, mesmo trabalhando com complexos, apenas uma certa confusão, pois `j` ora pode ser a variável, ora pode ser $\\sqrt{-1}$, dependende de como ela aparecer:"
   ]
  },
  {
   "cell_type": "code",
   "execution_count": 6,
   "metadata": {},
   "outputs": [
    {
     "name": "stdout",
     "output_type": "stream",
     "text": [
      "(1+2j)\n",
      "(1+2j)\n",
      "\n",
      "2j\n",
      "(2+4j)\n",
      "\n",
      "(-3+4j)\n",
      "(-1+0j)\n",
      "(-2+1j)\n"
     ]
    }
   ],
   "source": [
    "j = 1 + 2j\n",
    "print(1*j)\n",
    "print(j)\n",
    "print()\n",
    "print(2j)\n",
    "print(2*j)\n",
    "print()\n",
    "print(j*j)\n",
    "print(1j*1j)\n",
    "print(1j*j)"
   ]
  },
  {
   "cell_type": "markdown",
   "metadata": {},
   "source": [
    "Em python, tudo o que é definido é considerado um **objeto** e tem um **tipo** específico associado. O **tipo** de cada objeto em python pode ser conferido através da função `type()`. Vejamos:"
   ]
  },
  {
   "cell_type": "code",
   "execution_count": 162,
   "metadata": {},
   "outputs": [
    {
     "name": "stdout",
     "output_type": "stream",
     "text": [
      "<class 'int'>\n",
      "<class 'float'>\n",
      "<class 'complex'>\n"
     ]
    }
   ],
   "source": [
    "print(type(2 + 3))\n",
    "print(type(2.0 + 3.0))\n",
    "print(type(1.0 + 2.0j))"
   ]
  },
  {
   "cell_type": "markdown",
   "metadata": {},
   "source": [
    "O conjunto dos números de ponto flutuante do Python inclui infinito"
   ]
  },
  {
   "cell_type": "code",
   "execution_count": 1,
   "metadata": {},
   "outputs": [
    {
     "name": "stdout",
     "output_type": "stream",
     "text": [
      "inf\n",
      "<class 'float'>\n"
     ]
    }
   ],
   "source": [
    "print(float(\"inf\"))\n",
    "print(type(float(\"inf\")))"
   ]
  },
  {
   "cell_type": "markdown",
   "metadata": {},
   "source": [
    "`inf` é útil em cálculos simbólicos, na designação dos limites do intervalo de definição de uma função ou de intervalos de otimização para variáveis, por exemplo. Também podemos fazer *aritmética estendida*, com infinito:"
   ]
  },
  {
   "cell_type": "code",
   "execution_count": 19,
   "metadata": {},
   "outputs": [
    {
     "name": "stdout",
     "output_type": "stream",
     "text": [
      "inf\n",
      "0.0\n",
      "-inf\n",
      "inf\n"
     ]
    }
   ],
   "source": [
    "inf = float(\"inf\")\n",
    "print(inf + 1)\n",
    "print(1/inf)\n",
    "print(-inf + 10)\n",
    "print(inf + inf)"
   ]
  },
  {
   "cell_type": "markdown",
   "metadata": {},
   "source": [
    "Mas, obviamente, não podemos somar $-\\infty$ com $\\infty$:"
   ]
  },
  {
   "cell_type": "code",
   "execution_count": 20,
   "metadata": {},
   "outputs": [
    {
     "name": "stdout",
     "output_type": "stream",
     "text": [
      "nan\n"
     ]
    }
   ],
   "source": [
    "print(inf - inf)"
   ]
  },
  {
   "cell_type": "markdown",
   "metadata": {},
   "source": [
    "`nan` significa *not a number*. Curiosamente, em python, `nan` é um `float`. Verifique."
   ]
  },
  {
   "cell_type": "markdown",
   "metadata": {},
   "source": [
    "Mas qualquer operação aritmética que fizermos com `nan` nos retornará `nan`. Tente!"
   ]
  },
  {
   "cell_type": "markdown",
   "metadata": {},
   "source": [
    "## Imprimindo textos e números\n",
    "\n",
    "Como visto acima, números podem ser visualizado pela função `print()`. Textos, também, obviamente. Tecnicamente, isso é possível pois ambos são **objetos** contendo o método `__print__()`, que informa como o seu conteúdo deve ser \"impresso\". \n",
    "\n",
    "Textos e números podem ser combinados de diversas maneiras. E podem ser devidamente formatados, também. Vejamos alguns exemplos:"
   ]
  },
  {
   "cell_type": "code",
   "execution_count": 163,
   "metadata": {},
   "outputs": [
    {
     "name": "stdout",
     "output_type": "stream",
     "text": [
      "O valor da soma é 5.0\n",
      "O valor da soma é 5.0\n",
      "O valor da soma entre 2.0 e 3 é 5.0\n",
      "2.0 + 3 = 5.0\n",
      "\n",
      "Um terço é 0.3333333333333333\n",
      "0.33\n",
      "0.33\n",
      "0.33\n"
     ]
    }
   ],
   "source": [
    "print('O valor da soma é', 2.0 + 3)\n",
    "print(f'O valor da soma é {2.0 + 3}')\n",
    "a1, a2 = 2.0, 3\n",
    "print(f'O valor da soma entre {a1} e {a2} é {a1+a2}')\n",
    "print(f'{a1} + {a2} = {a1 + a2}')\n",
    "print()\n",
    "print('Um terço é', 1/3)\n",
    "print(round(100/3)/100)\n",
    "print('{:.2f}'.format(1/3))\n",
    "print(f'{1/3:.2f}')"
   ]
  },
  {
   "cell_type": "code",
   "execution_count": 3,
   "metadata": {},
   "outputs": [
    {
     "name": "stdout",
     "output_type": "stream",
     "text": [
      "0² = 0\n",
      "1² = 1\n",
      "2² = 4\n",
      "3² = 9\n",
      "4² = 16\n",
      "5² = 25\n",
      "6² = 36\n",
      "7² = 49\n",
      "8² = 64\n",
      "9² = 81\n"
     ]
    }
   ],
   "source": [
    "# Este código exibe o quadrado dos inteiros entre 0 e 9\n",
    "for i in range(10):\n",
    "    print(f'{i}\\N{SUPERSCRIPT TWO} = {i*i}')"
   ]
  },
  {
   "cell_type": "markdown",
   "metadata": {},
   "source": [
    "As formatações acima que começam com `f{` geram *strings* chamadas de *f-strings*. Elas foram introduzidas na versão 3.6 do python, pela [PEP-0498](https://www.python.org/dev/peps/pep-0498/). São bastante flexíveis e práticas e são as nossas favoritas aqui. Veja mais sobre *f-strings* em [Python 3: An Intro to f-strings](https://www.blog.pythonlibrary.org/2018/03/13/python-3-an-intro-to-f-strings/) e [Python 3's f-Strings: An Improved String Formatting Syntax (Guide)](https://realpython.com/python-f-strings/)."
   ]
  },
  {
   "cell_type": "markdown",
   "metadata": {},
   "source": [
    "## Álgebra Linear\n",
    "\n",
    "O pacote [NumPy](http://www.numpy.org/) é fundamental para computação científica em python. É o pacote natural para Álgebra Linear Computacional. Vários outros pacotes são baseados nele."
   ]
  },
  {
   "cell_type": "markdown",
   "metadata": {},
   "source": [
    "Com o `numpy`, podemos definir vetores, matrizes e fazer operações com esses objetos. Vejamos alguns exemplos. Para começar, é preciso importar o `numpy`. É comum abreviar o `numpy` como `np`, no momento da importação. Isso é feito da seguinte forma:"
   ]
  },
  {
   "cell_type": "code",
   "execution_count": 50,
   "metadata": {},
   "outputs": [],
   "source": [
    "import numpy as np"
   ]
  },
  {
   "cell_type": "markdown",
   "metadata": {},
   "source": [
    "### Vetores\n",
    "\n",
    "Agora, definimos alguns vetores e fazemos algumas operações com eles. Vetores (assim como matrizes) são exemplos de *arrays*. No `numpy`, *arrays* são do tipo **ndarray**. O construtor básico de *arrays* no `numpy` é a função `numpy.array()`."
   ]
  },
  {
   "cell_type": "code",
   "execution_count": 165,
   "metadata": {},
   "outputs": [
    {
     "name": "stdout",
     "output_type": "stream",
     "text": [
      "u1 = [1 2]; u2 = [2 1].\n",
      "\n",
      "e1 = [1 0 0]; e2 = [0 1 0]; e3 = [0 0 1].\n",
      "\n",
      "v = [2 1 3].\n",
      "\n",
      "O tipo do vetor [2 1 3] é <class 'numpy.ndarray'>\n"
     ]
    }
   ],
   "source": [
    "# Vetores em duas e três dimensões:\n",
    "u1 = np.array([1,2])\n",
    "u2 = np.array([2,1])\n",
    "e1 = np.array([1,0,0])\n",
    "e2 = np.array([0,1,0])\n",
    "e3 = np.array([0,0,1])\n",
    "v = np.array([2,1,3])\n",
    "print(f'u1 = {u1}; u2 = {u2}.\\n')\n",
    "print(f'e1 = {e1}; e2 = {e2}; e3 = {e3}.\\n')\n",
    "print(f'v = {v}.\\n')\n",
    "print(f'O tipo do vetor {v} é {type(v)}')"
   ]
  },
  {
   "cell_type": "markdown",
   "metadata": {},
   "source": [
    "O produto escalar entre vetores usa o operador `numpy.dot()` (ou `numpy.vdot()` no caso de vetores complexos):"
   ]
  },
  {
   "cell_type": "code",
   "execution_count": 166,
   "metadata": {},
   "outputs": [
    {
     "name": "stdout",
     "output_type": "stream",
     "text": [
      "O produto escalar entre os vetores [1 2] e [2 1] é 4.\n",
      "\n",
      "O produto escalar entre os vetores [2 1 3] e [-1,3,2] é 7.\n",
      "\n"
     ]
    }
   ],
   "source": [
    "print(f'O produto escalar entre os vetores {u1} e {u2} é {np.dot(u1, u2)}.\\n')\n",
    "\n",
    "print(f'O produto escalar entre os vetores {v} e [-1,3,2] é {np.dot(v, np.array([-1,3,2]))}.\\n')\n"
   ]
  },
  {
   "cell_type": "markdown",
   "metadata": {},
   "source": [
    "### Operações matriciais"
   ]
  },
  {
   "cell_type": "code",
   "execution_count": 168,
   "metadata": {},
   "outputs": [
    {
     "name": "stdout",
     "output_type": "stream",
     "text": [
      "Matriz inicial:\n",
      " [[1. 2.]\n",
      " [3. 4.]] \n",
      "\n",
      "Transposta da matriz:\n",
      " [[1. 3.]\n",
      " [2. 4.]] \n",
      "\n",
      "Traço: 5.0 \n",
      "\n",
      "Determinante (via decomposição LU): -2.0000000000000004 \n",
      "\n",
      "Inversa:\n",
      " [[-2.   1. ]\n",
      " [ 1.5 -0.5]] \n",
      "\n",
      "Autovalores: [-0.37228132  5.37228132] \n",
      "\n",
      "Multiplicação entre a matriz e sua inversa:\n",
      " [[1.00000000e+00 1.11022302e-16]\n",
      " [0.00000000e+00 1.00000000e+00]] \n",
      "\n",
      "Multiplicação entre a matriz e sua inversa com formatação:\n",
      " [[1. 0.]\n",
      " [0. 1.]] \n",
      "\n",
      "Matriz homotetia:\n",
      " [[3. 0.]\n",
      " [0. 3.]] \n",
      "\n",
      "Matriz rotação:\n",
      " [[ 0. -1.]\n",
      " [ 1.  0.]] \n",
      "\n",
      "Multiplicação da matriz inicial com a de rotação:\n",
      " [[-3. -4.]\n",
      " [ 1.  2.]] \n",
      "\n",
      "Multiplicação da matriz rotação com a matriz inicial:\n",
      " [[ 2. -1.]\n",
      " [ 4. -3.]] \n",
      "\n"
     ]
    }
   ],
   "source": [
    "mat = np.array([[1.0, 2.0], [3.0, 4.0]])\n",
    "print('Matriz inicial:\\n', mat, '\\n')\n",
    "\n",
    "print('Transposta da matriz:\\n',mat.transpose(), '\\n')\n",
    "\n",
    "print('Traço:', np.trace(mat), '\\n')\n",
    "\n",
    "print('Determinante (via decomposição LU):', np.linalg.det(mat), '\\n')\n",
    "\n",
    "print('Inversa:\\n', np.linalg.inv(mat), '\\n')\n",
    "\n",
    "print('Autovalores:', np.linalg.eigvals(mat), '\\n')\n",
    "\n",
    "print('Multiplicação entre a matriz e sua inversa:\\n', mat @ np.linalg.inv(mat), '\\n')\n",
    "\n",
    "# Formatando para melhor exibição e desprezando erros de ponto flutuante\n",
    "with np.printoptions(precision=3, suppress=True):\n",
    "    print('Multiplicação entre a matriz e sua inversa com formatação:\\n', mat @ np.linalg.inv(mat), '\\n')\n",
    "\n",
    "print('Matriz homotetia:\\n', 3 * np.eye(2), '\\n')\n",
    "\n",
    "\n",
    "mat_rot = np.array([[0.0, -1.0], [1.0, 0.0]])\n",
    "print('Matriz rotação:\\n', mat_rot, '\\n')\n",
    "\n",
    "print('Multiplicação da matriz inicial com a de rotação:\\n', mat_rot @ mat, '\\n')\n",
    "\n",
    "print('Multiplicação da matriz rotação com a matriz inicial:\\n', mat @ mat_rot, '\\n')"
   ]
  },
  {
   "cell_type": "markdown",
   "metadata": {},
   "source": [
    "### Resolução de sistemas\n",
    "\n",
    "Resolvendo o sistema\n",
    "$$ \\begin{cases}\n",
    "  x + y = 1, \\\\\n",
    "  x - 2y = 3.\n",
    "\\end{cases}\n",
    "$$"
   ]
  },
  {
   "cell_type": "code",
   "execution_count": 11,
   "metadata": {},
   "outputs": [
    {
     "name": "stdout",
     "output_type": "stream",
     "text": [
      "A solução do sistema é\n",
      " [[ 1.66666667]\n",
      " [-0.66666667]]\n"
     ]
    }
   ],
   "source": [
    "mat = np.array([[1.0, 1.0], [1.0, -2.0]])\n",
    "b = np.array([[1],[3]])\n",
    "x = np.linalg.solve(mat,b)\n",
    "print('A solução do sistema é\\n', x)"
   ]
  },
  {
   "cell_type": "markdown",
   "metadata": {},
   "source": [
    "### Mais informações\n",
    "\n",
    "Veja mais detalhes em\n",
    "- [NumPy User Guide](https://docs.scipy.org/doc/numpy/user/index.html#numpy-user-guide)\n",
    "- [Quickstart tutorial (de Numpy)](https://docs.scipy.org/doc/numpy/user/quickstart.html)\n",
    "- [Linear algebra (módulo do numpy)](https://docs.scipy.org/doc/numpy/reference/routines.linalg.html)\n",
    "- [Documentação (Numpy e Scipy)](https://docs.scipy.org/doc/)"
   ]
  },
  {
   "cell_type": "markdown",
   "metadata": {},
   "source": [
    "## Exercícios\n",
    "\n",
    "1. Ache a projeção ortogonal do vetor $\\vec{v} = (0.23, 5.41)$ na reta $y=x/2$.\n",
    "\n",
    "1. Ache a distância entre o ponto $P = (0.23, 5.41)$ e a reta $y=x/2$.\n",
    "\n",
    "1. Encontre $A^{21}$, onde $A$ é a matriz \n",
    "$$\n",
    "  A = \\left[\n",
    "      \\begin{matrix}\n",
    "        1 & -1 & 1 & -1 \\\\\n",
    "        0 & -1 & 1 & -1 \\\\\n",
    "        -1 & 1 & 0 & 1 \\\\\n",
    "        1 & 0 & -1 & 1\n",
    "      \\end{matrix}\n",
    "    \\right].\n",
    "$$\n",
    "\n",
    "1. Ache os autovalores e autovetores da matriz $A$ anterior.\n",
    "\n",
    "1. Determine a matriz de rotação, no plano, de $\\pi/5$ graus radianos, no sentido trigonométrico.\n",
    "\n",
    "1. Determine a matriz de projeção, em $xyz$, no subespaço dado por $z = 2x - y$.\n",
    "\n",
    "1. Resolva o sistema linear\n",
    "$$ \\begin{cases}\n",
    "  x + 2y + 5z - 4u + 3v + 2w = 1, \\\\\n",
    "  x - 4z + 2w = 3, \\\\\n",
    "  2x - y + z + 3u - v + w = 0, \\\\\n",
    "  x + u - w = 1, \\\\\n",
    "  z - u + v - w = -1, \\\\\n",
    "  y - z + 3u - 10v - w = 7.\n",
    "\\end{cases}\n",
    "$$\n",
    "\n",
    "1. Resolva o sistema linear\n",
    "$$ \\begin{cases}\n",
    "  x + 2y + 5z - 4u + 3v + 2w = 1, \\\\\n",
    "  x - 4z + 2w = 3, \\\\\n",
    "  2x - y + z + 3u - v + w = 0, \\\\\n",
    "  x + u - w = 1, \\\\\n",
    "  z - u + v - w = -1.\n",
    "\\end{cases}\n",
    "$$"
   ]
  },
  {
   "cell_type": "markdown",
   "metadata": {},
   "source": [
    "<!--NAVIGATION-->\n",
    "\n",
    "---\n",
    "[<- O Ambiente computacional](01.01-Ambiente_computacional.ipynb) | [Índice](Indice.ipynb) | [Referências](99.00-Referencias.ipynb) | [Gráficos de funções ->](01.03-Graficos_de_funcoes.ipynb)\n",
    "\n",
    "<a href=\"https://colab.research.google.com/github/rmsrosa/modelagem_matematica/blob/master/notebooks/01.02-Reconhecimento_de_Jupyter.ipynb\"><img align=\"left\" src=\"https://colab.research.google.com/assets/colab-badge.svg\" alt=\"Open in Colab\" title=\"Open and Execute in Google Colaboratory\"></a>\n",
    "\n",
    "<a href=\"https://mybinder.org/v2/gh/rmsrosa/modelagem_matematica/master?filepath=notebooks/01.02-Reconhecimento_de_Jupyter.ipynb\"><img align=\"left\" src=\"https://mybinder.org/badge.svg\" alt=\"Open in binder\" title=\"Open and Execute in Binder\"></a>\n",
    "&nbsp;"
   ]
  }
 ],
 "metadata": {
  "kernelspec": {
   "display_name": "Python 3",
   "language": "python",
   "name": "python3"
  },
  "language_info": {
   "codemirror_mode": {
    "name": "ipython",
    "version": 3
   },
   "file_extension": ".py",
   "mimetype": "text/x-python",
   "name": "python",
   "nbconvert_exporter": "python",
   "pygments_lexer": "ipython3",
   "version": "3.7.1"
  }
 },
 "nbformat": 4,
 "nbformat_minor": 2
}
