{
 "cells": [
  {
   "cell_type": "markdown",
   "metadata": {},
   "source": [
    "<!--HEADER-->\n",
    "*[Notas de aula da disciplina de Modelagem Matemática](https://github.com/rmsrosa/modelagem_matematica) do [IM-UFRJ](https://www.im.ufrj.br).*"
   ]
  },
  {
   "cell_type": "markdown",
   "metadata": {},
   "source": [
    "<!--NAVIGATOR-->\n",
    "\n",
    "<a href=\"https://colab.research.google.com/github/rmsrosa/modelagem_matematica/blob/master/notebooks/01.04-Arquivos_dados_e_mais_graficos.ipynb\"><img align=\"left\" src=\"https://colab.research.google.com/assets/colab-badge.svg\" alt=\"Open in Colab\" title=\"Open and Execute in Google Colaboratory\"></a>\n",
    "&nbsp;\n",
    "<a href=\"https://mybinder.org/v2/gh/rmsrosa/modelagem_matematica/master?filepath=notebooks/01.04-Arquivos_dados_e_mais_graficos.ipynb\"><img align=\"left\" src=\"https://mybinder.org/badge.svg\" alt=\"Open in binder\" title=\"Open and Execute in Binder\"></a>\n",
    "&nbsp;\n",
    "\n",
    "[<- 1.3. Gráficos de funções](01.03-Graficos_de_funcoes.ipynb) | [Página Inicial](00.00-Pagina_inicial.ipynb) | [Bibliografia](BA.00-Bibliografia.ipynb) | [1.5. Computação simbólica ->](01.05-Computacao_simbolica.ipynb)\n",
    "\n",
    "---\n"
   ]
  },
  {
   "cell_type": "markdown",
   "metadata": {},
   "source": [
    "# Arquivos, dados e mais gráficos"
   ]
  },
  {
   "cell_type": "markdown",
   "metadata": {},
   "source": [
    "Neste capítulo, vamos trabalhar com alguns dados sintéticos (\"artificiais\") e alguns dados reais obtidos de arquivos no formato [Comma-separated values (csv)](https://en.wikipedia.org/wiki/Comma-separated_values). \n",
    "\n",
    "Tanto `numpy` como `pandas` podem trabalhar com *arrays* com elementos de tipos diferentes (veja [Numpy Structured arrays](https://docs.scipy.org/doc/numpy/user/basics.rec.html) e [Pandas](https://pandas.pydata.org/index.html)). No entanto, a criação, busca e modificação de *arrays* complexos estruturados com diferentes tipos de dados é mais flexível em `pandas`, como veremos abaixo no caso de dados mundiais de tuberculose. Mas para *arrays* simples, é mais fácil trabalhar com `numpy`.\n",
    "\n",
    "Vejamos alguns exemplos."
   ]
  },
  {
   "cell_type": "markdown",
   "metadata": {},
   "source": [
    "## Caminho para os arquivos\n",
    "\n",
    "Antes de carregarmos os arquivos locais, precisamos definir o caminho certo para eles, pois isso varia caso eles estejam no *Google Drive* e estivermos usando o *Google Colab* ou caso estivermos usando *jupyter lab* ou *jupyter notebook*. \n",
    "\n",
    "O caminho certo pode ser encontrado da forma a seguir. Vale ressaltar que, caso esteja no *Google Colab*, na primeira vez que o código abaixo for executado, ele irá requisitar que seja aberta uma determinada página para habilitar o *Google Drive File Stream* a acessar a sua conta no Google e, assim, verificar se você tem permissão para acessar aquele diretório do Google Drive que contém as notas. Após a sua permissão, ele irá exibir uma senha que deverá ser preenchida no diálogo aberto logo após a execução da célula de código. Uma vez feito isso, a execução da célula será concluída e os outros blocos poderão ser executados."
   ]
  },
  {
   "cell_type": "code",
   "execution_count": 1,
   "metadata": {},
   "outputs": [],
   "source": [
    "try:\n",
    "    # Executa esse bloco caso esteja no google colab e define a variável nbpath para esse caso\n",
    "    from google.colab import drive\n",
    "    drive.mount('/content/gdrive')\n",
    "    nbpath=\"/content/gdrive/My Drive/Colab Notebooks/modmat/modmatnb\"\n",
    "except:\n",
    "    # caso contrário, nbpath é uma string em branco\n",
    "    nbpath=\"\""
   ]
  },
  {
   "cell_type": "markdown",
   "metadata": {},
   "source": [
    "**Importante:** Caso você copie as notas para o seu *Google Drive* e execute os códigos pelo *Google Colab*, a célula acima irá assumir que as notas estão no subdiretório `My Drive/Colab Notebooks/modmat/modmatnb`. Caso use outro subdiretório, este endereço deverá ser devidamente atualizado. Caso use o *jupyter lab* ou o *jupyter notebook*, não é necessária nenhuma preocupação, apenas que mantenha a estrutura de subdiretórios do próprio `modmatnb`, independente de onde ele esteja na sua máquina e de como este mesmo diretório seja nomeado."
   ]
  },
  {
   "cell_type": "markdown",
   "metadata": {},
   "source": [
    "## Importando dados\n",
    "\n",
    "Vamos usar o arquivo `water_properties_from_Batchelor.csv` como exemplo. Ele descreve os dados de densidade e viscosidade da água pura para certos valores da temperatura, sob pressão ambiente, ao nível do mar. Vamos importá-lo de três maneiras diferentes. Uma usando a biblioteca padrão `csv`, outra usando o `numpy` e a última, o `pandas'."
   ]
  },
  {
   "cell_type": "code",
   "execution_count": 8,
   "metadata": {},
   "outputs": [
    {
     "name": "stdout",
     "output_type": "stream",
     "text": [
      "Atributos da água pura como lista via módulo csv:\n",
      " [['temp', ' density', ' viscosity'], ['Temperature (C)', ' Density (g/cm^3)', ' Viscosity (cm^2/s)'], ['0', '0.9999', '0.01787'], ['5', '1', '1.514'], ['10', '0.9997', '1.304'], ['15', '0.9991', '1.138'], ['20', '0.9982', '1.004'], ['25', '0.9971', '0.894'], ['30', '0.9957', '0.802'], ['35', '0.9941', '0.725'], ['40', '0.9923', '0.659'], ['50', '0.9881', '0.554'], ['60', '0.9832', '0.475'], ['70', '0.9778', '0.414'], ['80', '0.9718', '0.366'], ['90', '0.9653', '0.327'], ['100', '0.9584', '0.295']]\n",
      "\n",
      "Atributos da água pura como ndarray a partir da lista:\n",
      " [[0.000e+00 9.999e-01 1.787e-02]\n",
      " [5.000e+00 1.000e+00 1.514e+00]\n",
      " [1.000e+01 9.997e-01 1.304e+00]\n",
      " [1.500e+01 9.991e-01 1.138e+00]\n",
      " [2.000e+01 9.982e-01 1.004e+00]\n",
      " [2.500e+01 9.971e-01 8.940e-01]\n",
      " [3.000e+01 9.957e-01 8.020e-01]\n",
      " [3.500e+01 9.941e-01 7.250e-01]\n",
      " [4.000e+01 9.923e-01 6.590e-01]\n",
      " [5.000e+01 9.881e-01 5.540e-01]\n",
      " [6.000e+01 9.832e-01 4.750e-01]\n",
      " [7.000e+01 9.778e-01 4.140e-01]\n",
      " [8.000e+01 9.718e-01 3.660e-01]\n",
      " [9.000e+01 9.653e-01 3.270e-01]\n",
      " [1.000e+02 9.584e-01 2.950e-01]]\n",
      "\n",
      "Atributos da água pura como ndarray direto via numpy:\n",
      " [[0.000e+00 9.999e-01 1.787e-02]\n",
      " [5.000e+00 1.000e+00 1.514e+00]\n",
      " [1.000e+01 9.997e-01 1.304e+00]\n",
      " [1.500e+01 9.991e-01 1.138e+00]\n",
      " [2.000e+01 9.982e-01 1.004e+00]\n",
      " [2.500e+01 9.971e-01 8.940e-01]\n",
      " [3.000e+01 9.957e-01 8.020e-01]\n",
      " [3.500e+01 9.941e-01 7.250e-01]\n",
      " [4.000e+01 9.923e-01 6.590e-01]\n",
      " [5.000e+01 9.881e-01 5.540e-01]\n",
      " [6.000e+01 9.832e-01 4.750e-01]\n",
      " [7.000e+01 9.778e-01 4.140e-01]\n",
      " [8.000e+01 9.718e-01 3.660e-01]\n",
      " [9.000e+01 9.653e-01 3.270e-01]\n",
      " [1.000e+02 9.584e-01 2.950e-01]]\n",
      "\n",
      "Atributos da água pura via pandas:\n",
      "               temp           density           viscosity\n",
      "   Temperature (C)  Density (g/cm^3)  Viscosity (cm^2/s)\n",
      "0                0            0.9999             0.01787\n",
      "1                5            1.0000             1.51400\n",
      "2               10            0.9997             1.30400\n",
      "3               15            0.9991             1.13800\n",
      "4               20            0.9982             1.00400\n",
      "5               25            0.9971             0.89400\n",
      "6               30            0.9957             0.80200\n",
      "7               35            0.9941             0.72500\n",
      "8               40            0.9923             0.65900\n",
      "9               50            0.9881             0.55400\n",
      "10              60            0.9832             0.47500\n",
      "11              70            0.9778             0.41400\n",
      "12              80            0.9718             0.36600\n",
      "13              90            0.9653             0.32700\n",
      "14             100            0.9584             0.29500\n"
     ]
    }
   ],
   "source": [
    "from os import path\n",
    "import csv\n",
    "import numpy as np\n",
    "import pandas as pd\n",
    "\n",
    "# Usa path.join para evitar probleams com as diferenças de como os sistemas denotam subdiretórios\n",
    "arquivo = path.join('dados', 'destino_jupyter', 'water_properties_from_Batchelor.csv')\n",
    "\n",
    "# Lê arquivo com o módulo csv\n",
    "agua1 = list(csv.reader(open(arquivo, \"r\"), delimiter=\",\"))\n",
    "\n",
    "# Despreza as primeiras duas linhas que contém texto e converte os dados para numpy float\n",
    "agua2 = np.array(agua1[2:]).astype(\"float\")\n",
    "\n",
    "# Lê direto como ndarray usando funções do numpy \n",
    "# Pula as duas primeiras linhas que contém texto para poder ler os números como float\n",
    "agua3 = np.loadtxt(open(arquivo, \"rb\"), delimiter=\",\", skiprows=2)\n",
    "\n",
    "# Lê usando pandas\n",
    "agua4 = pd.read_csv(arquivo, header=[0,1])\n",
    "\n",
    "print('Atributos da água pura como lista via módulo csv:\\n', agua1)\n",
    "print('\\nAtributos da água pura como ndarray a partir da lista:\\n', agua2)\n",
    "print('\\nAtributos da água pura como ndarray direto via numpy:\\n', agua3)\n",
    "print('\\nAtributos da água pura via pandas:\\n', agua4)"
   ]
  },
  {
   "cell_type": "markdown",
   "metadata": {},
   "source": [
    "Visualizando os dados da densidade em função da temperatura."
   ]
  },
  {
   "cell_type": "code",
   "execution_count": 3,
   "metadata": {},
   "outputs": [
    {
     "data": {
      "image/png": "[encoded data removed]",
      "text/plain": [
       "<Figure size 432x288 with 2 Axes>"
      ]
     },
     "metadata": {
      "needs_background": "light"
     },
     "output_type": "display_data"
    }
   ],
   "source": [
    "%matplotlib inline\n",
    "import matplotlib.pyplot as plt\n",
    "\n",
    "# Cria o objeto onde a figura será gerada\n",
    "fig = plt.figure()\n",
    "\n",
    "# Cria dois espaços para subplots. \n",
    "# O argumento 'nmk' significa uma divisão n x m com o subplot na posição k\n",
    "subplt1 = fig.add_subplot(121)\n",
    "subplt2 = fig.add_subplot(122)\n",
    "\n",
    "# Gera o gráfico do primeiro subplot\n",
    "subplt1.plot(agua3[:,0], agua3[:,1])\n",
    "subplt1.set(xlabel=agua1[1][0], ylabel=agua1[1][1])\n",
    "\n",
    "# Gera o gráfico do segundo subplot\n",
    "subplt2.plot(agua4.iloc[1:,0], agua4.iloc[1:,1])\n",
    "subplt2.set(xlabel=agua1[1][0], ylabel=agua1[1][1])\n",
    "\n",
    "# Título geral da figura\n",
    "plt.title('Densidade da água, ao nível do mar, \\n em função da temperatura\\n')\n",
    "\n",
    "# Exibe a figura\n",
    "plt.show()"
   ]
  },
  {
   "cell_type": "markdown",
   "metadata": {},
   "source": [
    "Ao usarmos o `pandas`, também temos a opção de usar o método `plot` do próprio objeto criado pelo `pandas`:"
   ]
  },
  {
   "cell_type": "code",
   "execution_count": 4,
   "metadata": {},
   "outputs": [
    {
     "data": {
      "text/plain": [
       "<Figure size 432x288 with 0 Axes>"
      ]
     },
     "metadata": {},
     "output_type": "display_data"
    },
    {
     "data": {
      "image/png": "[encoded data removed]",
      "text/plain": [
       "<Figure size 432x288 with 1 Axes>"
      ]
     },
     "metadata": {
      "needs_background": "light"
     },
     "output_type": "display_data"
    }
   ],
   "source": [
    "# Cria o objeto onde a figura será gerada\n",
    "fig = plt.figure()\n",
    "\n",
    "# Gera o gráfico\n",
    "agua4.plot(x=0, y=1)\n",
    "\n",
    "# Altera legenda\n",
    "plt.legend([agua1[1][1]])\n",
    "\n",
    "# Exibe a figura\n",
    "plt.show()"
   ]
  },
  {
   "cell_type": "markdown",
   "metadata": {},
   "source": [
    "A legenda é incluida automaticamente pelo `plot` do pandas, no momento do comando `agua4.plot(x=0, y=1)`. Verifique isso comentando a linha `plt.legend([agua1[1][1]])` que altera a legenda. Observe, nesse momento, que como a tabela está indexada pelas duas primeiras linhas, a legenda que aparece não é muito apropriada. Por isso alteramos a legenda acima. Abaixo, vemos exemplos onde isso não é necessário."
   ]
  },
  {
   "cell_type": "markdown",
   "metadata": {},
   "source": [
    "Mas antes da passarmos para os dados de tuberculose, vamos visualizar, em um mesmo gráfico, as propriedades de densidade e viscosidade da água. Como são atributos de dimensões físicas diferentes (\"massa / volume\" e \"área / tempo\", respectivamente), vamos colocar as unidades em lados diferentes da figura. Vejamos como isso pode ser feito. (Veja também [Plots with different scales](https://matplotlib.org/gallery/api/two_scales.html).)"
   ]
  },
  {
   "cell_type": "code",
   "execution_count": 9,
   "metadata": {},
   "outputs": [
    {
     "data": {
      "image/png": "[encoded data removed]",
      "text/plain": [
       "<Figure size 432x288 with 2 Axes>"
      ]
     },
     "metadata": {
      "needs_background": "light"
     },
     "output_type": "display_data"
    }
   ],
   "source": [
    "# Cria o objeto onde a figura será gerada\n",
    "fig, ax1 = plt.subplots()\n",
    "\n",
    "# Gera o primeira gráfico\n",
    "color = 'tab:red' # define cor para distinguir os dois gráficos\n",
    "ax1.set_xlabel(agua1[1][0]) # Define a legenda do eixo horizontal\n",
    "ax1.set_ylabel( agua1[1][1], color=color) # Define a legenda e a cor do eixo à direita\n",
    "ax1.plot(agua3[:,0], agua3[:,1], 'o', color=color) # Traça o primeiro gráfico, com a cor desejada\n",
    "ax1.tick_params(axis='y', labelcolor=color) # \"ticks\" do eixo com a mesma cor do gráfico\n",
    "\n",
    "# `twinx` inicia um segundo par de eixos com o eixo x comum ao anterior\n",
    "ax2 = ax1.twinx()  \n",
    "\n",
    "# Gera o segundo gráfico\n",
    "color = 'tab:blue'\n",
    "# Label do eixo x é comum ao gráfico de cima\n",
    "ax2.set_ylabel(agua1[1][2], color=color)  # Define a legenda e a cor do eixo à direita\n",
    "ax2.plot(agua3[:,0], agua3[:,2], 'o', color=color) # Traça o segundo gráfico, com a cor desejada\n",
    "ax2.tick_params(axis='y', labelcolor=color) # \"ticks\" do eixo com a mesma cor do gráfico\n",
    "\n",
    "# Caso o label do eixo direito seja cortado, descomente a linha a seguir\n",
    "# fig.tight_layout()\n",
    "\n",
    "# Exibe a figura\n",
    "plt.show()"
   ]
  },
  {
   "cell_type": "markdown",
   "metadata": {},
   "source": [
    "### Dados mundiais de tuberculose\n",
    "\n",
    "Primeiro, importamos dados de tuberculose, entre 2000 e 2015, de diversos países, disponível na página http://www.who.int/tb/country/data/download/en/. Esses dados foram copiados localmente, caso o acesso à internet não esteja disponível, mas primeiramente tentamos acessa na rede. Usamos `try/except` para considerar os dois casos."
   ]
  },
  {
   "cell_type": "code",
   "execution_count": null,
   "metadata": {},
   "outputs": [],
   "source": [
    "import pandas\n",
    "\n",
    "try:\n",
    "    # lê o arquivo .cvs de uma página web\n",
    "    df = pandas.read_csv('https://extranet.who.int/tme/generateCSV.asp?ds=estimates', sep=',')\n",
    "    print('Arquivo lido da internet')\n",
    "except:\n",
    "    try:\n",
    "        # se o arquivo não estiver disponível online, usa o arquivo local\n",
    "        arquivo = path.join(nbpath, 'dados', 'destino_jupyter','TB_burden_countries_2017-03-13.csv')\n",
    "        df = pandas.read_csv(arquivo, sep=',')\n",
    "        print('Arquivo lido localmente')\n",
    "    except:\n",
    "        print('Arquivo não disponível')"
   ]
  },
  {
   "cell_type": "markdown",
   "metadata": {},
   "source": [
    "As primeiras dez linhas da tabela podem ser visualizada a seguir, com o método `head()`."
   ]
  },
  {
   "cell_type": "code",
   "execution_count": null,
   "metadata": {},
   "outputs": [],
   "source": [
    "df.head(10)"
   ]
  },
  {
   "cell_type": "markdown",
   "metadata": {},
   "source": [
    "Enquanto que as últimas cindo linhas são"
   ]
  },
  {
   "cell_type": "code",
   "execution_count": null,
   "metadata": {},
   "outputs": [],
   "source": [
    "df.tail(5)"
   ]
  },
  {
   "cell_type": "markdown",
   "metadata": {},
   "source": [
    "O número de linhas e de colunas é "
   ]
  },
  {
   "cell_type": "code",
   "execution_count": null,
   "metadata": {},
   "outputs": [],
   "source": [
    "df.shape"
   ]
  },
  {
   "cell_type": "markdown",
   "metadata": {},
   "source": [
    "o signifcado de cada coluna pode ser obtido em outro arquivo .csv, importado a seguir"
   ]
  },
  {
   "cell_type": "code",
   "execution_count": null,
   "metadata": {},
   "outputs": [],
   "source": [
    "# carrega o dicionário\n",
    "try:\n",
    "    df_dictionary = pandas.read_csv('https://extranet.who.int/tme/generateCSV.asp?ds=dictionary',',')\n",
    "    print('Arquivo lido da internet')\n",
    "except: \n",
    "    # se o arquivo não estiver disponível online, usa o arquivo local\n",
    "    try:\n",
    "        arquivo = path.join(nbpath,'dados', 'destino_jupyter', 'TB_data_dictionary_2017-03-13.csv')\n",
    "        df_dictionary = pandas.read_csv(arquivo, sep=',')\n",
    "        print('Arquivo lido localmente')\n",
    "    except:\n",
    "        print('Arquivo não encontrado')\n",
    "    "
   ]
  },
  {
   "cell_type": "markdown",
   "metadata": {},
   "source": [
    "Abaixo o conteúdo da primeira linha do dicionário:"
   ]
  },
  {
   "cell_type": "code",
   "execution_count": null,
   "metadata": {},
   "outputs": [],
   "source": [
    "df_dictionary.iloc[0]"
   ]
  },
  {
   "cell_type": "markdown",
   "metadata": {},
   "source": [
    "Agora uma tabela com as primeiras cinco linhas do dicionário."
   ]
  },
  {
   "cell_type": "code",
   "execution_count": null,
   "metadata": {},
   "outputs": [],
   "source": [
    "df_dictionary.head(1)"
   ]
  },
  {
   "cell_type": "markdown",
   "metadata": {},
   "source": [
    "Podemos listar apenas a coluna de definições, através do nome da coluna descrito na linha inicial:"
   ]
  },
  {
   "cell_type": "code",
   "execution_count": null,
   "metadata": {},
   "outputs": [],
   "source": [
    "df_dictionary['definition']"
   ]
  },
  {
   "cell_type": "markdown",
   "metadata": {},
   "source": [
    "Para vermos todo o conteúdo de uma certa definição:"
   ]
  },
  {
   "cell_type": "code",
   "execution_count": null,
   "metadata": {},
   "outputs": [],
   "source": [
    "df_dictionary.iat[6,3]"
   ]
  },
  {
   "cell_type": "markdown",
   "metadata": {},
   "source": [
    "Ou"
   ]
  },
  {
   "cell_type": "code",
   "execution_count": null,
   "metadata": {},
   "outputs": [],
   "source": [
    "df_dictionary[\"definition\"][6]"
   ]
  },
  {
   "cell_type": "code",
   "execution_count": null,
   "metadata": {},
   "outputs": [],
   "source": [
    "df_dictionary[df_dictionary[\"variable_name\"] == 'e_pop_num'][\"definition\"]"
   ]
  },
  {
   "cell_type": "code",
   "execution_count": null,
   "metadata": {},
   "outputs": [],
   "source": [
    "df_dictionary[df_dictionary[\"variable_name\"] == 'e_inc_100k'][\"definition\"]"
   ]
  },
  {
   "cell_type": "markdown",
   "metadata": {},
   "source": [
    "Vamos ver agora só um pedaço da base de dados, de determinados países. \n",
    "\n",
    "Selecionamos as colunas 0, 5, 6 e 7, que se referem ao \"país\", ao \"ano\", à \"população\" e a uma variável denotada `e_inc_100k`, que, pelo nome, deve indicar o número de incidências por 100 mil habitantes. \n",
    "\n",
    "Podemos verificar isso selecionando a linha que contem 'e_pop_num' ou 'e_inc_100k' como `variable_name`. O resultado obtida é um objeto `pandas` do tipo `Series`. Nesse caso, para ter uma leitura limpa do seu conteúdo, obtemos uma lista com os seus valores. Como só há um valor na lista e é o único que nos interessa, selecionamos o valor na posição 0. Vejamos."
   ]
  },
  {
   "cell_type": "code",
   "execution_count": null,
   "metadata": {},
   "outputs": [],
   "source": [
    "print(\"tipo do objeto:\", \n",
    "      type(df_dictionary[df_dictionary.variable_name == 'e_pop_num'][\"definition\"]))\n",
    "print(\"definição de 'e_pop_num':\", \n",
    "      df_dictionary[df_dictionary.variable_name == 'e_pop_num'][\"definition\"].values[0])\n",
    "print(\"definição de 'e_inc_100k':\", \n",
    "      df_dictionary[df_dictionary.variable_name == 'e_inc_100k'][\"definition\"].values[0])"
   ]
  },
  {
   "cell_type": "markdown",
   "metadata": {},
   "source": [
    "Agora, selecionamos esses dados para alguns países:"
   ]
  },
  {
   "cell_type": "code",
   "execution_count": null,
   "metadata": {},
   "outputs": [],
   "source": [
    "df_short = df[df.iso2.isin(['AR','BR','CO','PE','US'])].iloc[:,[0,5,6,7]]\n",
    "print(df_short)"
   ]
  },
  {
   "cell_type": "markdown",
   "metadata": {},
   "source": [
    "Podemos visualizar os dados do Brasil:"
   ]
  },
  {
   "cell_type": "code",
   "execution_count": null,
   "metadata": {},
   "outputs": [],
   "source": [
    "plt.figure()\n",
    "df_brazil_e_inc_100k = df[df.iso2=='BR'].iloc[:,[5,7]]\n",
    "df_brazil_e_inc_100k.plot.bar(x=0, y=1)\n",
    "plt.show()"
   ]
  },
  {
   "cell_type": "markdown",
   "metadata": {},
   "source": [
    "E também podemos visualizar os dados comparativos dos países selecionados. Primeiramente, usamos o método `pivot` para alterar o formato da tabela (veja [Reshaping and Pivot Tables](https://pandas.pydata.org/pandas-docs/stable/user_guide/reshaping.html)):"
   ]
  },
  {
   "cell_type": "code",
   "execution_count": null,
   "metadata": {},
   "outputs": [],
   "source": [
    "df_short_pivoted = df_short.pivot(index='year', columns='country', values='e_inc_100k')\n",
    "df_short_pivoted"
   ]
  },
  {
   "cell_type": "code",
   "execution_count": null,
   "metadata": {},
   "outputs": [],
   "source": [
    "plt.figure()\n",
    "df_short_pivoted.plot()\n",
    "plt.show()"
   ]
  },
  {
   "cell_type": "markdown",
   "metadata": {},
   "source": [
    "### Dados do índice Bovespa\n",
    "\n",
    "Outra série interessante disponível *online* é a do índice bovespa: [BM&F Bovespa: Cotações históricas](http://www.bmfbovespa.com.br/pt_br/servicos/market-data/historico/mercado-a-vista/cotacoes-historicas/). Explore!"
   ]
  },
  {
   "cell_type": "markdown",
   "metadata": {},
   "source": [
    "## Exercícios\n",
    "\n",
    "1. Leia o arquivo `dados/destino_jupyter/water_properties_from_Batchelor.csv` e trace o gráfico da viscosidade em função da densidade.\n",
    "\n",
    "1. Leia o arquivo `dados/destino_jupyter/sensor.cvs` e trace os gráficos, em função do tempo, de cada atributo presenta na tabela.\n",
    "\n",
    "1. Leia a [tabela de ocorrências aeronáuticas](http://dados.gov.br/dataset/ocorrencias-aeronauticas-da-aviacao-civil-brasileira/resource/9d8a7e09-5f75-47b3-891b-b5f1bab26d59?inner_span=True) disponível na página do [Portal Brasileiro de Dados Abertos](http://dados.gov.br). Em seguida,\n",
    "    1. extraia a lista dos tipos de ocorrências; e \n",
    "    1. monte um gráfico ilustrando a incidência por tipo de aeronave de um dos tipos de ocorrência a sua escolha.\n"
   ]
  },
  {
   "cell_type": "markdown",
   "metadata": {},
   "source": [
    "<!--NAVIGATOR-->\n",
    "\n",
    "---\n",
    "[<- 1.3. Gráficos de funções](01.03-Graficos_de_funcoes.ipynb) | [Página Inicial](00.00-Pagina_inicial.ipynb) | [Bibliografia](BA.00-Bibliografia.ipynb) | [1.5. Computação simbólica ->](01.05-Computacao_simbolica.ipynb)\n",
    "\n",
    "<a href=\"https://colab.research.google.com/github/rmsrosa/modelagem_matematica/blob/master/notebooks/01.04-Arquivos_dados_e_mais_graficos.ipynb\"><img align=\"left\" src=\"https://colab.research.google.com/assets/colab-badge.svg\" alt=\"Open in Colab\" title=\"Open and Execute in Google Colaboratory\"></a>\n",
    "\n",
    "<a href=\"https://mybinder.org/v2/gh/rmsrosa/modelagem_matematica/master?filepath=notebooks/01.04-Arquivos_dados_e_mais_graficos.ipynb\"><img align=\"left\" src=\"https://mybinder.org/badge.svg\" alt=\"Open in binder\" title=\"Open and Execute in Binder\"></a>\n",
    "&nbsp;"
   ]
  }
 ],
 "metadata": {
  "kernelspec": {
   "display_name": "Python 3",
   "language": "python",
   "name": "python3"
  },
  "language_info": {
   "codemirror_mode": {
    "name": "ipython",
    "version": 3
   },
   "file_extension": ".py",
   "mimetype": "text/x-python",
   "name": "python",
   "nbconvert_exporter": "python",
   "pygments_lexer": "ipython3",
   "version": "3.7.1"
  }
 },
 "nbformat": 4,
 "nbformat_minor": 2
}
