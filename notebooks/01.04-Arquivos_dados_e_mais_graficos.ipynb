{
 "cells": [
  {
   "cell_type": "markdown",
   "metadata": {},
   "source": [
    "<!--HEADER-->\n",
    "*[Notas de aula da disciplina de Modelagem Matemática](https://github.com/rmsrosa/modelagem_matematica) do [IM-UFRJ](https://www.im.ufrj.br).*"
   ]
  },
  {
   "cell_type": "markdown",
   "metadata": {},
   "source": [
    "<!--NAVIGATOR-->\n",
    "\n",
    "<a href=\"https://colab.research.google.com/github/rmsrosa/modelagem_matematica/blob/master/notebooks/01.04-Arquivos_dados_e_mais_graficos.ipynb\"><img align=\"left\" src=\"https://colab.research.google.com/assets/colab-badge.svg\" alt=\"Open in Colab\" title=\"Open and Execute in Google Colaboratory\"></a>\n",
    "&nbsp;\n",
    "<a href=\"https://mybinder.org/v2/gh/rmsrosa/modelagem_matematica/master?filepath=notebooks/01.04-Arquivos_dados_e_mais_graficos.ipynb\"><img align=\"left\" src=\"https://mybinder.org/badge.svg\" alt=\"Open in binder\" title=\"Open and Execute in Binder\"></a>\n",
    "&nbsp;\n",
    "\n",
    "[<- 1.3. Gráficos de funções](01.03-Graficos_de_funcoes.ipynb) | [Página Inicial](00.00-Pagina_inicial.ipynb) | [Bibliografia](BA.00-Bibliografia.ipynb) | [1.5. Computação simbólica ->](01.05-Computacao_simbolica.ipynb)\n",
    "\n",
    "---\n"
   ]
  },
  {
   "cell_type": "markdown",
   "metadata": {},
   "source": [
    "# Arquivos, dados e mais gráficos"
   ]
  },
  {
   "cell_type": "markdown",
   "metadata": {},
   "source": [
    "Neste capítulo, vamos trabalhar com alguns dados sintéticos (\"artificiais\") e alguns dados reais obtidos de arquivos no formato [Comma-separated values (csv)](https://en.wikipedia.org/wiki/Comma-separated_values). \n",
    "\n",
    "Tanto `numpy` como `pandas` podem trabalhar com *arrays* com elementos de tipos diferentes (veja [Numpy Structured arrays](https://docs.scipy.org/doc/numpy/user/basics.rec.html) e [Pandas](https://pandas.pydata.org/index.html)). No entanto, a criação, busca e modificação de *arrays* complexos estruturados com diferentes tipos de dados é mais flexível em `pandas`, como veremos abaixo no caso de dados mundiais de tuberculose. Mas para *arrays* simples, é mais fácil trabalhar com `numpy`.\n",
    "\n",
    "Vejamos alguns exemplos."
   ]
  },
  {
   "cell_type": "markdown",
   "metadata": {},
   "source": [
    "## Importando dados\n",
    "\n",
    "Vamos usar o arquivo `water_properties_from_Batchelor.csv` como exemplo. Ele descreve os dados de densidade e viscosidade da água pura para certos valores da temperatura, sob pressão ambiente, ao nível do mar. Vamos importá-lo de três maneiras diferentes. Uma usando a biblioteca padrão `csv`, outra usando o `numpy` e a última, o `pandas`.\n",
    "\n",
    "No código abaixo, supomos que o arquivo `water_properties_from_Batchelor.csv` está em um subdiretório `agua` do diretório `dados`, que está na mesma raíz do diretório `notebooks`, onde se encontram essas notas. Dessa forma, o caminho relativo para o arquivo é `../dados/agua/water_properties_from_Batchelor.csv`. Esse caminho está an forma padrão do linux, unix, mac, etc. No windows, no entanto, o separador \"`\\`\". Para criar um código independente da plataforma, o caminho é construído através do pacote `os`, mais especificamente com o método `os.path.join()`.\n",
    "\n",
    "**Observação:** O código abaixo funciona ao rodar o caderno localmente ou na nuvem, a partir do *github*, tanto através do *Google Colab* como do *Binder*. No entanto, se você quiser rodar o código no *Google Colab*, mas a partir do seu *Google Drive*, é preciso um trabalho extra para construir o caminho correto. Faremos isso em seguida. No momento, vamos assumir que estamos em um dos casos anteriores."
   ]
  },
  {
   "cell_type": "code",
   "execution_count": 1,
   "metadata": {},
   "outputs": [
    {
     "name": "stdout",
     "output_type": "stream",
     "text": [
      "Atributos da água pura como lista via módulo csv:\n",
      " [['temp', ' density', ' viscosity'], ['Temperature (C)', ' Density (g/cm^3)', ' Viscosity (cm^2/s)'], ['0', '0.9999', '0.01787'], ['5', '1', '1.514'], ['10', '0.9997', '1.304'], ['15', '0.9991', '1.138'], ['20', '0.9982', '1.004'], ['25', '0.9971', '0.894'], ['30', '0.9957', '0.802'], ['35', '0.9941', '0.725'], ['40', '0.9923', '0.659'], ['50', '0.9881', '0.554'], ['60', '0.9832', '0.475'], ['70', '0.9778', '0.414'], ['80', '0.9718', '0.366'], ['90', '0.9653', '0.327'], ['100', '0.9584', '0.295']]\n",
      "\n",
      "Atributos da água pura como ndarray a partir da lista:\n",
      " [[0.000e+00 9.999e-01 1.787e-02]\n",
      " [5.000e+00 1.000e+00 1.514e+00]\n",
      " [1.000e+01 9.997e-01 1.304e+00]\n",
      " [1.500e+01 9.991e-01 1.138e+00]\n",
      " [2.000e+01 9.982e-01 1.004e+00]\n",
      " [2.500e+01 9.971e-01 8.940e-01]\n",
      " [3.000e+01 9.957e-01 8.020e-01]\n",
      " [3.500e+01 9.941e-01 7.250e-01]\n",
      " [4.000e+01 9.923e-01 6.590e-01]\n",
      " [5.000e+01 9.881e-01 5.540e-01]\n",
      " [6.000e+01 9.832e-01 4.750e-01]\n",
      " [7.000e+01 9.778e-01 4.140e-01]\n",
      " [8.000e+01 9.718e-01 3.660e-01]\n",
      " [9.000e+01 9.653e-01 3.270e-01]\n",
      " [1.000e+02 9.584e-01 2.950e-01]]\n",
      "\n",
      "Atributos da água pura como ndarray direto via numpy:\n",
      " [[0.000e+00 9.999e-01 1.787e-02]\n",
      " [5.000e+00 1.000e+00 1.514e+00]\n",
      " [1.000e+01 9.997e-01 1.304e+00]\n",
      " [1.500e+01 9.991e-01 1.138e+00]\n",
      " [2.000e+01 9.982e-01 1.004e+00]\n",
      " [2.500e+01 9.971e-01 8.940e-01]\n",
      " [3.000e+01 9.957e-01 8.020e-01]\n",
      " [3.500e+01 9.941e-01 7.250e-01]\n",
      " [4.000e+01 9.923e-01 6.590e-01]\n",
      " [5.000e+01 9.881e-01 5.540e-01]\n",
      " [6.000e+01 9.832e-01 4.750e-01]\n",
      " [7.000e+01 9.778e-01 4.140e-01]\n",
      " [8.000e+01 9.718e-01 3.660e-01]\n",
      " [9.000e+01 9.653e-01 3.270e-01]\n",
      " [1.000e+02 9.584e-01 2.950e-01]]\n",
      "\n",
      "Atributos da água pura via pandas:\n",
      "               temp           density           viscosity\n",
      "   Temperature (C)  Density (g/cm^3)  Viscosity (cm^2/s)\n",
      "0                0            0.9999             0.01787\n",
      "1                5            1.0000             1.51400\n",
      "2               10            0.9997             1.30400\n",
      "3               15            0.9991             1.13800\n",
      "4               20            0.9982             1.00400\n",
      "5               25            0.9971             0.89400\n",
      "6               30            0.9957             0.80200\n",
      "7               35            0.9941             0.72500\n",
      "8               40            0.9923             0.65900\n",
      "9               50            0.9881             0.55400\n",
      "10              60            0.9832             0.47500\n",
      "11              70            0.9778             0.41400\n",
      "12              80            0.9718             0.36600\n",
      "13              90            0.9653             0.32700\n",
      "14             100            0.9584             0.29500\n"
     ]
    }
   ],
   "source": [
    "from os import path\n",
    "import csv\n",
    "import numpy as np\n",
    "import pandas as pd\n",
    "\n",
    "# Usa path.join para evitar probleams com as diferenças de como os sistemas denotam subdiretórios\n",
    "arquivo = path.join('..', 'dados', 'agua', 'water_properties_from_Batchelor.csv')\n",
    "\n",
    "# Lê arquivo com o módulo csv\n",
    "agua1 = list(csv.reader(open(arquivo, \"r\"), delimiter=\",\"))\n",
    "\n",
    "# Despreza as primeiras duas linhas que contém texto e converte os dados para numpy float\n",
    "agua2 = np.array(agua1[2:]).astype(\"float\")\n",
    "\n",
    "# Lê direto como ndarray usando funções do numpy \n",
    "# Pula as duas primeiras linhas que contém texto para poder ler os números como float\n",
    "agua3 = np.loadtxt(open(arquivo, \"rb\"), delimiter=\",\", skiprows=2)\n",
    "\n",
    "# Lê usando pandas\n",
    "agua4 = pd.read_csv(arquivo, header=[0,1])\n",
    "\n",
    "print('Atributos da água pura como lista via módulo csv:\\n', agua1)\n",
    "print('\\nAtributos da água pura como ndarray a partir da lista:\\n', agua2)\n",
    "print('\\nAtributos da água pura como ndarray direto via numpy:\\n', agua3)\n",
    "print('\\nAtributos da água pura via pandas:\\n', agua4)"
   ]
  },
  {
   "cell_type": "markdown",
   "metadata": {},
   "source": [
    "## Importando dados do Google Drive no Google Colab\n",
    "\n",
    "O [Google Colab](https://colab.research.google.com/notebooks/welcome.ipynb) é um ambiente computacional em nuvem muito rico. Em versão paga, disponibiliza capacidades computacionais bastante poderosas. Em problemas que demandam muito poder computacional, ela é uma ótima alternativa a supercomputadores locais.\n",
    "\n",
    "Um vantagem que ele tem em relação ao [binder](https://mybinder.org) é que, além de poder executar os cadernos Jupyter que estão em um repositório do *github*, ele também pode executar cadernos armazenados no *Google Drive*. Mesmo em problemas que não demandam muito poder computaciona, o *Google Colab* é uma solução para quem não tem o jupyter lab/notebook instalado em sua máquina, ou não tem os pacotes necessários.\n",
    "\n",
    "O único problema é que o acesso aos arquivos não é tão imediato. Primeiro, é necessário montarmos o \"disco\" do *Google Drive* dentro do *Google Colab*.  Isso é feito da seguinte forma:\n",
    "```python\n",
    "from google.colab import drive\n",
    "drive.mount('/content/gdrive')\n",
    "```\n",
    "Na primeira vez (de cada sessão) que o código acima é executado, será requisitado que uma determinada página seja aberta, em outra aba, para habilitar o *Google Drive File Stream* a acessar a sua conta no Google e, assim, verificar se você tem permissão para acessar aquele diretório do Google Drive que contém as notas. Após a sua permissão, ele irá exibir uma senha que deverá copiada e preenchida no diálogo aberto logo após a execução da célula de código, de volta na aba original. Uma vez feito isso, a execução da célula será concluída e os outros blocos poderão ser executados.\n",
    "\n",
    "Em seguida, para facilitar o acesso aos arquivos, é útil definir um variável com o caminho para o diretório com os cadernos. Se a estrutura do repositório for mantida dentro do diretório \"Colab Notebook\" do seu \"Google Drive\", o caminho é\n",
    "\n",
    "```python\n",
    "nbpath=\"/content/gdrive/My Drive/Colab Notebooks/modelagem_matematica/notebooks\"\n",
    "```\n",
    "\n",
    "Caso use outros nomes e outra estrutura de subdiretórios, este endereço deverá ser devidamente atualizado. Mas uma vez com essa variável `nbpath` definida, podemos acessar os arquivos apenas acrescentando essa variável no início do caminho. No caso dos dados da água pura mencionados acima, teríamos\n",
    "```python\n",
    "arquivo = path.join(nbpath, '..', 'dados', 'agua', 'water_properties_from_Batchelor.csv')\n",
    "```\n",
    "\n",
    "Mais uma vez, caso use, localmente, o *jupyter lab* ou o *jupyter notebook* não é necessária nenhuma alteração, apenas que mantenha a estrutura de subdiretórios do repositório `modelagem_matematica`, independente de onde ele esteja na sua máquina e mesmo de como este mesmo diretório seja (re)nomeado."
   ]
  },
  {
   "cell_type": "markdown",
   "metadata": {},
   "source": [
    "## Visualização\n",
    "\n",
    "Visualizando os dados da densidade em função da temperatura."
   ]
  },
  {
   "cell_type": "code",
   "execution_count": 2,
   "metadata": {},
   "outputs": [
    {
     "data": {
      "image/png": "[encoded data removed]",
      "text/plain": [
       "<Figure size 432x288 with 2 Axes>"
      ]
     },
     "metadata": {
      "needs_background": "light"
     },
     "output_type": "display_data"
    }
   ],
   "source": [
    "%matplotlib inline\n",
    "import matplotlib.pyplot as plt\n",
    "\n",
    "# Cria o objeto onde a figura será gerada\n",
    "fig = plt.figure()\n",
    "\n",
    "# Cria dois espaços para subplots. \n",
    "# O argumento 'nmk' significa uma divisão n x m com o subplot na posição k\n",
    "subplt1 = fig.add_subplot(121)\n",
    "subplt2 = fig.add_subplot(122)\n",
    "\n",
    "# Gera o gráfico do primeiro subplot\n",
    "subplt1.plot(agua3[:,0], agua3[:,1])\n",
    "subplt1.set(xlabel=agua1[1][0], ylabel=agua1[1][1])\n",
    "\n",
    "# Gera o gráfico do segundo subplot\n",
    "subplt2.plot(agua4.iloc[1:,0], agua4.iloc[1:,1])\n",
    "subplt2.set(xlabel=agua1[1][0], ylabel=agua1[1][1])\n",
    "\n",
    "# Título geral da figura\n",
    "plt.title('Densidade da água, ao nível do mar, \\n em função da temperatura\\n')\n",
    "\n",
    "# Exibe a figura\n",
    "plt.show()"
   ]
  },
  {
   "cell_type": "markdown",
   "metadata": {},
   "source": [
    "Ao usarmos o `pandas`, também temos a opção de usar o método `plot` do próprio objeto criado pelo `pandas`:"
   ]
  },
  {
   "cell_type": "code",
   "execution_count": 3,
   "metadata": {},
   "outputs": [
    {
     "data": {
      "text/plain": [
       "<Figure size 432x288 with 0 Axes>"
      ]
     },
     "metadata": {},
     "output_type": "display_data"
    },
    {
     "data": {
      "image/png": "[encoded data removed]",
      "text/plain": [
       "<Figure size 432x288 with 1 Axes>"
      ]
     },
     "metadata": {
      "needs_background": "light"
     },
     "output_type": "display_data"
    }
   ],
   "source": [
    "# Cria o objeto onde a figura será gerada\n",
    "fig = plt.figure()\n",
    "\n",
    "# Gera o gráfico\n",
    "agua4.plot(x=0, y=1)\n",
    "\n",
    "# Altera legenda\n",
    "plt.legend([agua1[1][1]])\n",
    "\n",
    "# Exibe a figura\n",
    "plt.show()"
   ]
  },
  {
   "cell_type": "markdown",
   "metadata": {},
   "source": [
    "A legenda é incluida automaticamente pelo `plot` do pandas, no momento do comando `agua4.plot(x=0, y=1)`. Verifique isso comentando a linha `plt.legend([agua1[1][1]])` que altera a legenda. Observe, nesse momento, que como a tabela está indexada pelas duas primeiras linhas, a legenda que aparece não é muito apropriada. Por isso alteramos a legenda acima. Abaixo, vemos exemplos onde isso não é necessário."
   ]
  },
  {
   "cell_type": "markdown",
   "metadata": {},
   "source": [
    "Mas antes da passarmos para os dados de tuberculose, vamos visualizar, em um mesmo gráfico, as propriedades de densidade e viscosidade da água. Como são atributos de dimensões físicas diferentes (\"massa / volume\" e \"área / tempo\", respectivamente), vamos colocar as unidades em lados diferentes da figura. Vejamos como isso pode ser feito. (Veja também [Plots with different scales](https://matplotlib.org/gallery/api/two_scales.html).)"
   ]
  },
  {
   "cell_type": "code",
   "execution_count": 4,
   "metadata": {},
   "outputs": [
    {
     "data": {
      "image/png": "[encoded data removed]",
      "text/plain": [
       "<Figure size 432x288 with 2 Axes>"
      ]
     },
     "metadata": {
      "needs_background": "light"
     },
     "output_type": "display_data"
    }
   ],
   "source": [
    "# Cria o objeto onde a figura será gerada\n",
    "fig, ax1 = plt.subplots()\n",
    "\n",
    "# Gera o primeira gráfico\n",
    "color = 'tab:red' # define cor para distinguir os dois gráficos\n",
    "ax1.set_xlabel(agua1[1][0]) # Define a legenda do eixo horizontal\n",
    "ax1.set_ylabel( agua1[1][1], color=color) # Define a legenda e a cor do eixo à direita\n",
    "ax1.plot(agua3[:,0], agua3[:,1], 'o', color=color) # Traça o primeiro gráfico, com a cor desejada\n",
    "ax1.tick_params(axis='y', labelcolor=color) # \"ticks\" do eixo com a mesma cor do gráfico\n",
    "\n",
    "# `twinx` inicia um segundo par de eixos com o eixo x comum ao anterior\n",
    "ax2 = ax1.twinx()  \n",
    "\n",
    "# Gera o segundo gráfico\n",
    "color = 'tab:blue'\n",
    "# Label do eixo x é comum ao gráfico de cima\n",
    "ax2.set_ylabel(agua1[1][2], color=color)  # Define a legenda e a cor do eixo à direita\n",
    "ax2.plot(agua3[:,0], agua3[:,2], 'o', color=color) # Traça o segundo gráfico, com a cor desejada\n",
    "ax2.tick_params(axis='y', labelcolor=color) # \"ticks\" do eixo com a mesma cor do gráfico\n",
    "\n",
    "# Caso o label do eixo direito seja cortado, descomente a linha a seguir\n",
    "# fig.tight_layout()\n",
    "\n",
    "# Exibe a figura\n",
    "plt.show()"
   ]
  },
  {
   "cell_type": "markdown",
   "metadata": {},
   "source": [
    "### Dados mundiais de tuberculose\n",
    "\n",
    "Primeiro, importamos dados de tuberculose, entre 2000 e 2015, de diversos países, disponível na página http://www.who.int/tb/country/data/download/en/. Esses dados foram copiados localmente, caso o acesso à internet não esteja disponível, mas primeiramente tentamos acessa na rede. Usamos `try/except` para considerar os dois casos."
   ]
  },
  {
   "cell_type": "code",
   "execution_count": 5,
   "metadata": {},
   "outputs": [
    {
     "name": "stdout",
     "output_type": "stream",
     "text": [
      "Arquivo lido da internet\n"
     ]
    }
   ],
   "source": [
    "import pandas\n",
    "\n",
    "try:\n",
    "    # lê o arquivo .cvs de uma página web\n",
    "    df = pandas.read_csv('https://extranet.who.int/tme/generateCSV.asp?ds=estimates', sep=',')\n",
    "    print('Arquivo lido da internet')\n",
    "except:\n",
    "    try:\n",
    "        # se o arquivo não estiver disponível online, usa o arquivo local\n",
    "        arquivo = path.join('..', 'dados', 'TB','TB_burden_countries_2017-03-13.csv')\n",
    "        df = pandas.read_csv(arquivo, sep=',')\n",
    "        print('Arquivo lido localmente')\n",
    "    except:\n",
    "        print('Arquivo não disponível')"
   ]
  },
  {
   "cell_type": "markdown",
   "metadata": {},
   "source": [
    "As primeiras dez linhas da tabela podem ser visualizada a seguir, com o método `head()`."
   ]
  },
  {
   "cell_type": "code",
   "execution_count": 6,
   "metadata": {},
   "outputs": [
    {
     "data": {
      "text/html": [
       "<div>\n",
       "<style scoped>\n",
       "    .dataframe tbody tr th:only-of-type {\n",
       "        vertical-align: middle;\n",
       "    }\n",
       "\n",
       "    .dataframe tbody tr th {\n",
       "        vertical-align: top;\n",
       "    }\n",
       "\n",
       "    .dataframe thead th {\n",
       "        text-align: right;\n",
       "    }\n",
       "</style>\n",
       "<table border=\"1\" class=\"dataframe\">\n",
       "  <thead>\n",
       "    <tr style=\"text-align: right;\">\n",
       "      <th></th>\n",
       "      <th>country</th>\n",
       "      <th>iso2</th>\n",
       "      <th>iso3</th>\n",
       "      <th>iso_numeric</th>\n",
       "      <th>g_whoregion</th>\n",
       "      <th>year</th>\n",
       "      <th>e_pop_num</th>\n",
       "      <th>e_inc_100k</th>\n",
       "      <th>e_inc_100k_lo</th>\n",
       "      <th>e_inc_100k_hi</th>\n",
       "      <th>...</th>\n",
       "      <th>e_mort_num</th>\n",
       "      <th>e_mort_num_lo</th>\n",
       "      <th>e_mort_num_hi</th>\n",
       "      <th>cfr</th>\n",
       "      <th>cfr_lo</th>\n",
       "      <th>cfr_hi</th>\n",
       "      <th>c_newinc_100k</th>\n",
       "      <th>c_cdr</th>\n",
       "      <th>c_cdr_lo</th>\n",
       "      <th>c_cdr_hi</th>\n",
       "    </tr>\n",
       "  </thead>\n",
       "  <tbody>\n",
       "    <tr>\n",
       "      <th>0</th>\n",
       "      <td>Afghanistan</td>\n",
       "      <td>AF</td>\n",
       "      <td>AFG</td>\n",
       "      <td>4</td>\n",
       "      <td>EMR</td>\n",
       "      <td>2000</td>\n",
       "      <td>20093756</td>\n",
       "      <td>190.0</td>\n",
       "      <td>123.0</td>\n",
       "      <td>271.0</td>\n",
       "      <td>...</td>\n",
       "      <td>14000</td>\n",
       "      <td>7800</td>\n",
       "      <td>21000</td>\n",
       "      <td>NaN</td>\n",
       "      <td>NaN</td>\n",
       "      <td>NaN</td>\n",
       "      <td>35.0</td>\n",
       "      <td>19.0</td>\n",
       "      <td>13.0</td>\n",
       "      <td>29.0</td>\n",
       "    </tr>\n",
       "    <tr>\n",
       "      <th>1</th>\n",
       "      <td>Afghanistan</td>\n",
       "      <td>AF</td>\n",
       "      <td>AFG</td>\n",
       "      <td>4</td>\n",
       "      <td>EMR</td>\n",
       "      <td>2001</td>\n",
       "      <td>20966463</td>\n",
       "      <td>189.0</td>\n",
       "      <td>123.0</td>\n",
       "      <td>271.0</td>\n",
       "      <td>...</td>\n",
       "      <td>13000</td>\n",
       "      <td>7500</td>\n",
       "      <td>20000</td>\n",
       "      <td>NaN</td>\n",
       "      <td>NaN</td>\n",
       "      <td>NaN</td>\n",
       "      <td>48.0</td>\n",
       "      <td>26.0</td>\n",
       "      <td>18.0</td>\n",
       "      <td>39.0</td>\n",
       "    </tr>\n",
       "    <tr>\n",
       "      <th>2</th>\n",
       "      <td>Afghanistan</td>\n",
       "      <td>AF</td>\n",
       "      <td>AFG</td>\n",
       "      <td>4</td>\n",
       "      <td>EMR</td>\n",
       "      <td>2002</td>\n",
       "      <td>21979923</td>\n",
       "      <td>189.0</td>\n",
       "      <td>122.0</td>\n",
       "      <td>270.0</td>\n",
       "      <td>...</td>\n",
       "      <td>12000</td>\n",
       "      <td>7200</td>\n",
       "      <td>19000</td>\n",
       "      <td>NaN</td>\n",
       "      <td>NaN</td>\n",
       "      <td>NaN</td>\n",
       "      <td>63.0</td>\n",
       "      <td>33.0</td>\n",
       "      <td>23.0</td>\n",
       "      <td>51.0</td>\n",
       "    </tr>\n",
       "    <tr>\n",
       "      <th>3</th>\n",
       "      <td>Afghanistan</td>\n",
       "      <td>AF</td>\n",
       "      <td>AFG</td>\n",
       "      <td>4</td>\n",
       "      <td>EMR</td>\n",
       "      <td>2003</td>\n",
       "      <td>23064851</td>\n",
       "      <td>189.0</td>\n",
       "      <td>122.0</td>\n",
       "      <td>270.0</td>\n",
       "      <td>...</td>\n",
       "      <td>13000</td>\n",
       "      <td>7700</td>\n",
       "      <td>20000</td>\n",
       "      <td>NaN</td>\n",
       "      <td>NaN</td>\n",
       "      <td>NaN</td>\n",
       "      <td>60.0</td>\n",
       "      <td>32.0</td>\n",
       "      <td>22.0</td>\n",
       "      <td>49.0</td>\n",
       "    </tr>\n",
       "    <tr>\n",
       "      <th>4</th>\n",
       "      <td>Afghanistan</td>\n",
       "      <td>AF</td>\n",
       "      <td>AFG</td>\n",
       "      <td>4</td>\n",
       "      <td>EMR</td>\n",
       "      <td>2004</td>\n",
       "      <td>24118979</td>\n",
       "      <td>189.0</td>\n",
       "      <td>122.0</td>\n",
       "      <td>270.0</td>\n",
       "      <td>...</td>\n",
       "      <td>12000</td>\n",
       "      <td>7200</td>\n",
       "      <td>19000</td>\n",
       "      <td>NaN</td>\n",
       "      <td>NaN</td>\n",
       "      <td>NaN</td>\n",
       "      <td>76.0</td>\n",
       "      <td>40.0</td>\n",
       "      <td>28.0</td>\n",
       "      <td>62.0</td>\n",
       "    </tr>\n",
       "    <tr>\n",
       "      <th>5</th>\n",
       "      <td>Afghanistan</td>\n",
       "      <td>AF</td>\n",
       "      <td>AFG</td>\n",
       "      <td>4</td>\n",
       "      <td>EMR</td>\n",
       "      <td>2005</td>\n",
       "      <td>25070798</td>\n",
       "      <td>189.0</td>\n",
       "      <td>122.0</td>\n",
       "      <td>270.0</td>\n",
       "      <td>...</td>\n",
       "      <td>12000</td>\n",
       "      <td>6900</td>\n",
       "      <td>18000</td>\n",
       "      <td>NaN</td>\n",
       "      <td>NaN</td>\n",
       "      <td>NaN</td>\n",
       "      <td>87.0</td>\n",
       "      <td>46.0</td>\n",
       "      <td>32.0</td>\n",
       "      <td>71.0</td>\n",
       "    </tr>\n",
       "    <tr>\n",
       "      <th>6</th>\n",
       "      <td>Afghanistan</td>\n",
       "      <td>AF</td>\n",
       "      <td>AFG</td>\n",
       "      <td>4</td>\n",
       "      <td>EMR</td>\n",
       "      <td>2006</td>\n",
       "      <td>25893450</td>\n",
       "      <td>189.0</td>\n",
       "      <td>122.0</td>\n",
       "      <td>270.0</td>\n",
       "      <td>...</td>\n",
       "      <td>11000</td>\n",
       "      <td>6400</td>\n",
       "      <td>16000</td>\n",
       "      <td>NaN</td>\n",
       "      <td>NaN</td>\n",
       "      <td>NaN</td>\n",
       "      <td>98.0</td>\n",
       "      <td>52.0</td>\n",
       "      <td>36.0</td>\n",
       "      <td>80.0</td>\n",
       "    </tr>\n",
       "    <tr>\n",
       "      <th>7</th>\n",
       "      <td>Afghanistan</td>\n",
       "      <td>AF</td>\n",
       "      <td>AFG</td>\n",
       "      <td>4</td>\n",
       "      <td>EMR</td>\n",
       "      <td>2007</td>\n",
       "      <td>26616792</td>\n",
       "      <td>189.0</td>\n",
       "      <td>122.0</td>\n",
       "      <td>270.0</td>\n",
       "      <td>...</td>\n",
       "      <td>10000</td>\n",
       "      <td>6000</td>\n",
       "      <td>15000</td>\n",
       "      <td>NaN</td>\n",
       "      <td>NaN</td>\n",
       "      <td>NaN</td>\n",
       "      <td>108.0</td>\n",
       "      <td>57.0</td>\n",
       "      <td>40.0</td>\n",
       "      <td>88.0</td>\n",
       "    </tr>\n",
       "    <tr>\n",
       "      <th>8</th>\n",
       "      <td>Afghanistan</td>\n",
       "      <td>AF</td>\n",
       "      <td>AFG</td>\n",
       "      <td>4</td>\n",
       "      <td>EMR</td>\n",
       "      <td>2008</td>\n",
       "      <td>27294031</td>\n",
       "      <td>189.0</td>\n",
       "      <td>122.0</td>\n",
       "      <td>270.0</td>\n",
       "      <td>...</td>\n",
       "      <td>11000</td>\n",
       "      <td>6500</td>\n",
       "      <td>17000</td>\n",
       "      <td>NaN</td>\n",
       "      <td>NaN</td>\n",
       "      <td>NaN</td>\n",
       "      <td>104.0</td>\n",
       "      <td>55.0</td>\n",
       "      <td>38.0</td>\n",
       "      <td>85.0</td>\n",
       "    </tr>\n",
       "    <tr>\n",
       "      <th>9</th>\n",
       "      <td>Afghanistan</td>\n",
       "      <td>AF</td>\n",
       "      <td>AFG</td>\n",
       "      <td>4</td>\n",
       "      <td>EMR</td>\n",
       "      <td>2009</td>\n",
       "      <td>28004331</td>\n",
       "      <td>189.0</td>\n",
       "      <td>123.0</td>\n",
       "      <td>270.0</td>\n",
       "      <td>...</td>\n",
       "      <td>12000</td>\n",
       "      <td>7300</td>\n",
       "      <td>19000</td>\n",
       "      <td>NaN</td>\n",
       "      <td>NaN</td>\n",
       "      <td>NaN</td>\n",
       "      <td>93.0</td>\n",
       "      <td>49.0</td>\n",
       "      <td>35.0</td>\n",
       "      <td>76.0</td>\n",
       "    </tr>\n",
       "  </tbody>\n",
       "</table>\n",
       "<p>10 rows × 47 columns</p>\n",
       "</div>"
      ],
      "text/plain": [
       "       country iso2 iso3  iso_numeric g_whoregion  year  e_pop_num  \\\n",
       "0  Afghanistan   AF  AFG            4         EMR  2000   20093756   \n",
       "1  Afghanistan   AF  AFG            4         EMR  2001   20966463   \n",
       "2  Afghanistan   AF  AFG            4         EMR  2002   21979923   \n",
       "3  Afghanistan   AF  AFG            4         EMR  2003   23064851   \n",
       "4  Afghanistan   AF  AFG            4         EMR  2004   24118979   \n",
       "5  Afghanistan   AF  AFG            4         EMR  2005   25070798   \n",
       "6  Afghanistan   AF  AFG            4         EMR  2006   25893450   \n",
       "7  Afghanistan   AF  AFG            4         EMR  2007   26616792   \n",
       "8  Afghanistan   AF  AFG            4         EMR  2008   27294031   \n",
       "9  Afghanistan   AF  AFG            4         EMR  2009   28004331   \n",
       "\n",
       "   e_inc_100k  e_inc_100k_lo  e_inc_100k_hi    ...     e_mort_num  \\\n",
       "0       190.0          123.0          271.0    ...          14000   \n",
       "1       189.0          123.0          271.0    ...          13000   \n",
       "2       189.0          122.0          270.0    ...          12000   \n",
       "3       189.0          122.0          270.0    ...          13000   \n",
       "4       189.0          122.0          270.0    ...          12000   \n",
       "5       189.0          122.0          270.0    ...          12000   \n",
       "6       189.0          122.0          270.0    ...          11000   \n",
       "7       189.0          122.0          270.0    ...          10000   \n",
       "8       189.0          122.0          270.0    ...          11000   \n",
       "9       189.0          123.0          270.0    ...          12000   \n",
       "\n",
       "   e_mort_num_lo  e_mort_num_hi  cfr  cfr_lo  cfr_hi  c_newinc_100k  c_cdr  \\\n",
       "0           7800          21000  NaN     NaN     NaN           35.0   19.0   \n",
       "1           7500          20000  NaN     NaN     NaN           48.0   26.0   \n",
       "2           7200          19000  NaN     NaN     NaN           63.0   33.0   \n",
       "3           7700          20000  NaN     NaN     NaN           60.0   32.0   \n",
       "4           7200          19000  NaN     NaN     NaN           76.0   40.0   \n",
       "5           6900          18000  NaN     NaN     NaN           87.0   46.0   \n",
       "6           6400          16000  NaN     NaN     NaN           98.0   52.0   \n",
       "7           6000          15000  NaN     NaN     NaN          108.0   57.0   \n",
       "8           6500          17000  NaN     NaN     NaN          104.0   55.0   \n",
       "9           7300          19000  NaN     NaN     NaN           93.0   49.0   \n",
       "\n",
       "   c_cdr_lo  c_cdr_hi  \n",
       "0      13.0      29.0  \n",
       "1      18.0      39.0  \n",
       "2      23.0      51.0  \n",
       "3      22.0      49.0  \n",
       "4      28.0      62.0  \n",
       "5      32.0      71.0  \n",
       "6      36.0      80.0  \n",
       "7      40.0      88.0  \n",
       "8      38.0      85.0  \n",
       "9      35.0      76.0  \n",
       "\n",
       "[10 rows x 47 columns]"
      ]
     },
     "execution_count": 6,
     "metadata": {},
     "output_type": "execute_result"
    }
   ],
   "source": [
    "df.head(10)"
   ]
  },
  {
   "cell_type": "markdown",
   "metadata": {},
   "source": [
    "Enquanto que as últimas cindo linhas são"
   ]
  },
  {
   "cell_type": "code",
   "execution_count": 7,
   "metadata": {},
   "outputs": [
    {
     "data": {
      "text/html": [
       "<div>\n",
       "<style scoped>\n",
       "    .dataframe tbody tr th:only-of-type {\n",
       "        vertical-align: middle;\n",
       "    }\n",
       "\n",
       "    .dataframe tbody tr th {\n",
       "        vertical-align: top;\n",
       "    }\n",
       "\n",
       "    .dataframe thead th {\n",
       "        text-align: right;\n",
       "    }\n",
       "</style>\n",
       "<table border=\"1\" class=\"dataframe\">\n",
       "  <thead>\n",
       "    <tr style=\"text-align: right;\">\n",
       "      <th></th>\n",
       "      <th>country</th>\n",
       "      <th>iso2</th>\n",
       "      <th>iso3</th>\n",
       "      <th>iso_numeric</th>\n",
       "      <th>g_whoregion</th>\n",
       "      <th>year</th>\n",
       "      <th>e_pop_num</th>\n",
       "      <th>e_inc_100k</th>\n",
       "      <th>e_inc_100k_lo</th>\n",
       "      <th>e_inc_100k_hi</th>\n",
       "      <th>...</th>\n",
       "      <th>e_mort_num</th>\n",
       "      <th>e_mort_num_lo</th>\n",
       "      <th>e_mort_num_hi</th>\n",
       "      <th>cfr</th>\n",
       "      <th>cfr_lo</th>\n",
       "      <th>cfr_hi</th>\n",
       "      <th>c_newinc_100k</th>\n",
       "      <th>c_cdr</th>\n",
       "      <th>c_cdr_lo</th>\n",
       "      <th>c_cdr_hi</th>\n",
       "    </tr>\n",
       "  </thead>\n",
       "  <tbody>\n",
       "    <tr>\n",
       "      <th>3845</th>\n",
       "      <td>Zimbabwe</td>\n",
       "      <td>ZW</td>\n",
       "      <td>ZWE</td>\n",
       "      <td>716</td>\n",
       "      <td>AFR</td>\n",
       "      <td>2013</td>\n",
       "      <td>15054506</td>\n",
       "      <td>304.0</td>\n",
       "      <td>228.0</td>\n",
       "      <td>391.0</td>\n",
       "      <td>...</td>\n",
       "      <td>11000</td>\n",
       "      <td>8000</td>\n",
       "      <td>14000</td>\n",
       "      <td>NaN</td>\n",
       "      <td>NaN</td>\n",
       "      <td>NaN</td>\n",
       "      <td>219.0</td>\n",
       "      <td>72.0</td>\n",
       "      <td>56.0</td>\n",
       "      <td>96.0</td>\n",
       "    </tr>\n",
       "    <tr>\n",
       "      <th>3846</th>\n",
       "      <td>Zimbabwe</td>\n",
       "      <td>ZW</td>\n",
       "      <td>ZWE</td>\n",
       "      <td>716</td>\n",
       "      <td>AFR</td>\n",
       "      <td>2014</td>\n",
       "      <td>15411675</td>\n",
       "      <td>278.0</td>\n",
       "      <td>202.0</td>\n",
       "      <td>366.0</td>\n",
       "      <td>...</td>\n",
       "      <td>11000</td>\n",
       "      <td>7800</td>\n",
       "      <td>14000</td>\n",
       "      <td>NaN</td>\n",
       "      <td>NaN</td>\n",
       "      <td>NaN</td>\n",
       "      <td>192.0</td>\n",
       "      <td>69.0</td>\n",
       "      <td>53.0</td>\n",
       "      <td>95.0</td>\n",
       "    </tr>\n",
       "    <tr>\n",
       "      <th>3847</th>\n",
       "      <td>Zimbabwe</td>\n",
       "      <td>ZW</td>\n",
       "      <td>ZWE</td>\n",
       "      <td>716</td>\n",
       "      <td>AFR</td>\n",
       "      <td>2015</td>\n",
       "      <td>15777451</td>\n",
       "      <td>242.0</td>\n",
       "      <td>179.0</td>\n",
       "      <td>314.0</td>\n",
       "      <td>...</td>\n",
       "      <td>9000</td>\n",
       "      <td>6800</td>\n",
       "      <td>11000</td>\n",
       "      <td>NaN</td>\n",
       "      <td>NaN</td>\n",
       "      <td>NaN</td>\n",
       "      <td>171.0</td>\n",
       "      <td>71.0</td>\n",
       "      <td>55.0</td>\n",
       "      <td>96.0</td>\n",
       "    </tr>\n",
       "    <tr>\n",
       "      <th>3848</th>\n",
       "      <td>Zimbabwe</td>\n",
       "      <td>ZW</td>\n",
       "      <td>ZWE</td>\n",
       "      <td>716</td>\n",
       "      <td>AFR</td>\n",
       "      <td>2016</td>\n",
       "      <td>16150362</td>\n",
       "      <td>233.0</td>\n",
       "      <td>173.0</td>\n",
       "      <td>302.0</td>\n",
       "      <td>...</td>\n",
       "      <td>8700</td>\n",
       "      <td>6500</td>\n",
       "      <td>11000</td>\n",
       "      <td>NaN</td>\n",
       "      <td>NaN</td>\n",
       "      <td>NaN</td>\n",
       "      <td>165.0</td>\n",
       "      <td>71.0</td>\n",
       "      <td>55.0</td>\n",
       "      <td>96.0</td>\n",
       "    </tr>\n",
       "    <tr>\n",
       "      <th>3849</th>\n",
       "      <td>Zimbabwe</td>\n",
       "      <td>ZW</td>\n",
       "      <td>ZWE</td>\n",
       "      <td>716</td>\n",
       "      <td>AFR</td>\n",
       "      <td>2017</td>\n",
       "      <td>16529904</td>\n",
       "      <td>221.0</td>\n",
       "      <td>164.0</td>\n",
       "      <td>287.0</td>\n",
       "      <td>...</td>\n",
       "      <td>8300</td>\n",
       "      <td>6300</td>\n",
       "      <td>11000</td>\n",
       "      <td>0.23</td>\n",
       "      <td>0.15</td>\n",
       "      <td>0.32</td>\n",
       "      <td>156.0</td>\n",
       "      <td>71.0</td>\n",
       "      <td>55.0</td>\n",
       "      <td>96.0</td>\n",
       "    </tr>\n",
       "  </tbody>\n",
       "</table>\n",
       "<p>5 rows × 47 columns</p>\n",
       "</div>"
      ],
      "text/plain": [
       "       country iso2 iso3  iso_numeric g_whoregion  year  e_pop_num  \\\n",
       "3845  Zimbabwe   ZW  ZWE          716         AFR  2013   15054506   \n",
       "3846  Zimbabwe   ZW  ZWE          716         AFR  2014   15411675   \n",
       "3847  Zimbabwe   ZW  ZWE          716         AFR  2015   15777451   \n",
       "3848  Zimbabwe   ZW  ZWE          716         AFR  2016   16150362   \n",
       "3849  Zimbabwe   ZW  ZWE          716         AFR  2017   16529904   \n",
       "\n",
       "      e_inc_100k  e_inc_100k_lo  e_inc_100k_hi    ...     e_mort_num  \\\n",
       "3845       304.0          228.0          391.0    ...          11000   \n",
       "3846       278.0          202.0          366.0    ...          11000   \n",
       "3847       242.0          179.0          314.0    ...           9000   \n",
       "3848       233.0          173.0          302.0    ...           8700   \n",
       "3849       221.0          164.0          287.0    ...           8300   \n",
       "\n",
       "      e_mort_num_lo  e_mort_num_hi   cfr  cfr_lo  cfr_hi  c_newinc_100k  \\\n",
       "3845           8000          14000   NaN     NaN     NaN          219.0   \n",
       "3846           7800          14000   NaN     NaN     NaN          192.0   \n",
       "3847           6800          11000   NaN     NaN     NaN          171.0   \n",
       "3848           6500          11000   NaN     NaN     NaN          165.0   \n",
       "3849           6300          11000  0.23    0.15    0.32          156.0   \n",
       "\n",
       "      c_cdr  c_cdr_lo  c_cdr_hi  \n",
       "3845   72.0      56.0      96.0  \n",
       "3846   69.0      53.0      95.0  \n",
       "3847   71.0      55.0      96.0  \n",
       "3848   71.0      55.0      96.0  \n",
       "3849   71.0      55.0      96.0  \n",
       "\n",
       "[5 rows x 47 columns]"
      ]
     },
     "execution_count": 7,
     "metadata": {},
     "output_type": "execute_result"
    }
   ],
   "source": [
    "df.tail(5)"
   ]
  },
  {
   "cell_type": "markdown",
   "metadata": {},
   "source": [
    "O número de linhas e de colunas é "
   ]
  },
  {
   "cell_type": "code",
   "execution_count": 8,
   "metadata": {},
   "outputs": [
    {
     "data": {
      "text/plain": [
       "(3850, 47)"
      ]
     },
     "execution_count": 8,
     "metadata": {},
     "output_type": "execute_result"
    }
   ],
   "source": [
    "df.shape"
   ]
  },
  {
   "cell_type": "markdown",
   "metadata": {},
   "source": [
    "o signifcado de cada coluna pode ser obtido em outro arquivo .csv, importado a seguir"
   ]
  },
  {
   "cell_type": "code",
   "execution_count": 9,
   "metadata": {},
   "outputs": [
    {
     "name": "stdout",
     "output_type": "stream",
     "text": [
      "Arquivo lido da internet\n"
     ]
    }
   ],
   "source": [
    "# carrega o dicionário\n",
    "try:\n",
    "    df_dictionary = pandas.read_csv('https://extranet.who.int/tme/generateCSV.asp?ds=dictionary',',')\n",
    "    print('Arquivo lido da internet')\n",
    "except: \n",
    "    # se o arquivo não estiver disponível online, usa o arquivo local\n",
    "    try:\n",
    "        arquivo = path.join('..','dados', 'TB', 'TB_data_dictionary_2017-03-13.csv')\n",
    "        df_dictionary = pandas.read_csv(arquivo, sep=',')\n",
    "        print('Arquivo lido localmente')\n",
    "    except:\n",
    "        print('Arquivo não encontrado')\n",
    "    "
   ]
  },
  {
   "cell_type": "markdown",
   "metadata": {},
   "source": [
    "Abaixo o conteúdo da primeira linha do dicionário:"
   ]
  },
  {
   "cell_type": "code",
   "execution_count": 10,
   "metadata": {},
   "outputs": [
    {
     "data": {
      "text/plain": [
       "variable_name                                      budget_cpp_dstb\n",
       "dataset                                                     Budget\n",
       "code_list                                                      NaN\n",
       "definition       Average cost of drugs budgeted per patient for...\n",
       "Name: 0, dtype: object"
      ]
     },
     "execution_count": 10,
     "metadata": {},
     "output_type": "execute_result"
    }
   ],
   "source": [
    "df_dictionary.iloc[0]"
   ]
  },
  {
   "cell_type": "markdown",
   "metadata": {},
   "source": [
    "Agora uma tabela com as primeiras cinco linhas do dicionário."
   ]
  },
  {
   "cell_type": "code",
   "execution_count": 11,
   "metadata": {},
   "outputs": [
    {
     "data": {
      "text/html": [
       "<div>\n",
       "<style scoped>\n",
       "    .dataframe tbody tr th:only-of-type {\n",
       "        vertical-align: middle;\n",
       "    }\n",
       "\n",
       "    .dataframe tbody tr th {\n",
       "        vertical-align: top;\n",
       "    }\n",
       "\n",
       "    .dataframe thead th {\n",
       "        text-align: right;\n",
       "    }\n",
       "</style>\n",
       "<table border=\"1\" class=\"dataframe\">\n",
       "  <thead>\n",
       "    <tr style=\"text-align: right;\">\n",
       "      <th></th>\n",
       "      <th>variable_name</th>\n",
       "      <th>dataset</th>\n",
       "      <th>code_list</th>\n",
       "      <th>definition</th>\n",
       "    </tr>\n",
       "  </thead>\n",
       "  <tbody>\n",
       "    <tr>\n",
       "      <th>0</th>\n",
       "      <td>budget_cpp_dstb</td>\n",
       "      <td>Budget</td>\n",
       "      <td>NaN</td>\n",
       "      <td>Average cost of drugs budgeted per patient for...</td>\n",
       "    </tr>\n",
       "  </tbody>\n",
       "</table>\n",
       "</div>"
      ],
      "text/plain": [
       "     variable_name dataset code_list  \\\n",
       "0  budget_cpp_dstb  Budget       NaN   \n",
       "\n",
       "                                          definition  \n",
       "0  Average cost of drugs budgeted per patient for...  "
      ]
     },
     "execution_count": 11,
     "metadata": {},
     "output_type": "execute_result"
    }
   ],
   "source": [
    "df_dictionary.head(1)"
   ]
  },
  {
   "cell_type": "markdown",
   "metadata": {},
   "source": [
    "Podemos listar apenas a coluna de definições, através do nome da coluna descrito na linha inicial:"
   ]
  },
  {
   "cell_type": "code",
   "execution_count": 12,
   "metadata": {},
   "outputs": [
    {
     "data": {
      "text/plain": [
       "0      Average cost of drugs budgeted per patient for...\n",
       "1      Average cost of drugs budgeted per patient for...\n",
       "2      Average cost of drugs budgeted per patient for...\n",
       "3      Budget required for drugs to treat drug-suscep...\n",
       "4      Budget required for laboratory infrastructure,...\n",
       "5      Budget required for programme costs to treat d...\n",
       "6      Budget required for operational research and s...\n",
       "7      Budget required for all other budget line item...\n",
       "8       Budget required for patient support (US Dollars)\n",
       "9      Budget required for programme costs to treat d...\n",
       "10     Budget required for drugs to treat drug-resist...\n",
       "11     Budget required for National TB Programme staf...\n",
       "12     Budget required for collaborative TB/HIV activ...\n",
       "13                    Total budget required (US Dollars)\n",
       "14     Expected funding for drugs to treat drug-susce...\n",
       "15     Expected funding for laboratory infrastructure...\n",
       "16     Expected funding for programme costs to treat ...\n",
       "17     Expected funding for operational research and ...\n",
       "18     Expected funding for all other budget line ite...\n",
       "19     Expected funding for patient support (US Dollars)\n",
       "20     Expected funding for programme costs to treat ...\n",
       "21     Expected funding for drugs to treat drug-resis...\n",
       "22     Expected funding for National TB Programme sta...\n",
       "23     Expected funding for collaborative TB/HIV acti...\n",
       "24     Total expected funding for all budget line ite...\n",
       "25     Expected funding from domestic sources, includ...\n",
       "26     Expected funding from the Global Fund to Fight...\n",
       "27      Expected funding from other sources (US Dollars)\n",
       "28     Total expected funding from all sources (US Do...\n",
       "29              Expected funding from USAID (US Dollars)\n",
       "                             ...                        \n",
       "440    Outcomes for re-treatment cases: failed (not u...\n",
       "441    Outcomes for previously treated patients (excl...\n",
       "442    Outcomes for previously treated patients (excl...\n",
       "443    Outcomes for previously treated patients (excl...\n",
       "444    Outcomes for previously treated patients (excl...\n",
       "445    Outcomes for previously treated patients (excl...\n",
       "446    Outcomes for HIV-positive TB cases, all types:...\n",
       "447    Outcomes for HIV-positive TB cases, all types:...\n",
       "448    Outcomes for HIV-positive TB cases, all types:...\n",
       "449    Outcomes for HIV-positive TB cases, all types:...\n",
       "450    Outcomes for HIV-positive TB cases, all types:...\n",
       "451               Outcomes for XDR-TB cases: cohort size\n",
       "452               Outcomes for XDR-TB cases: number died\n",
       "453    Outcomes for XDR-TB cases: number whose treatm...\n",
       "454         Outcomes for XDR-TB cases: lost to follow-up\n",
       "455    Outcomes for XDR-TB cases: treatment success (...\n",
       "456    Did the National Treatment Programme keep (or ...\n",
       "457    Did any treatment centre use digital technolog...\n",
       "458    Does national policy indicate that TB diagnost...\n",
       "459             Number of health-care workers who had TB\n",
       "460    Total number of health-care workers who were w...\n",
       "461    Number of patients who started second-line TB ...\n",
       "462    (If prevtx_5plus_data_available=60) Number of ...\n",
       "463    Are data available on the number of children a...\n",
       "464    Number of new cases of TB diagnosed according ...\n",
       "465    (If prevtx_5plus_data_available=61) Number of ...\n",
       "466    (If prevtx_5plus_data_available=61) Number of ...\n",
       "467    Number of new cases of TB diagnosed according ...\n",
       "468    Does national policy and the diagnostic algori...\n",
       "469    Does national policy and the diagnostic algori...\n",
       "Name: definition, Length: 470, dtype: object"
      ]
     },
     "execution_count": 12,
     "metadata": {},
     "output_type": "execute_result"
    }
   ],
   "source": [
    "df_dictionary['definition']"
   ]
  },
  {
   "cell_type": "markdown",
   "metadata": {},
   "source": [
    "Para vermos todo o conteúdo de uma certa definição:"
   ]
  },
  {
   "cell_type": "code",
   "execution_count": 13,
   "metadata": {},
   "outputs": [
    {
     "data": {
      "text/plain": [
       "'Budget required for operational research and surveys (US Dollars)'"
      ]
     },
     "execution_count": 13,
     "metadata": {},
     "output_type": "execute_result"
    }
   ],
   "source": [
    "df_dictionary.iat[6,3]"
   ]
  },
  {
   "cell_type": "markdown",
   "metadata": {},
   "source": [
    "Ou"
   ]
  },
  {
   "cell_type": "code",
   "execution_count": 14,
   "metadata": {},
   "outputs": [
    {
     "data": {
      "text/plain": [
       "'Budget required for operational research and surveys (US Dollars)'"
      ]
     },
     "execution_count": 14,
     "metadata": {},
     "output_type": "execute_result"
    }
   ],
   "source": [
    "df_dictionary[\"definition\"][6]"
   ]
  },
  {
   "cell_type": "code",
   "execution_count": 15,
   "metadata": {},
   "outputs": [
    {
     "data": {
      "text/plain": [
       "112    Estimated total population number\n",
       "Name: definition, dtype: object"
      ]
     },
     "execution_count": 15,
     "metadata": {},
     "output_type": "execute_result"
    }
   ],
   "source": [
    "df_dictionary[df_dictionary[\"variable_name\"] == 'e_pop_num'][\"definition\"]"
   ]
  },
  {
   "cell_type": "code",
   "execution_count": 16,
   "metadata": {},
   "outputs": [
    {
     "data": {
      "text/plain": [
       "76    Estimated incidence (all forms) per 100 000 po...\n",
       "Name: definition, dtype: object"
      ]
     },
     "execution_count": 16,
     "metadata": {},
     "output_type": "execute_result"
    }
   ],
   "source": [
    "df_dictionary[df_dictionary[\"variable_name\"] == 'e_inc_100k'][\"definition\"]"
   ]
  },
  {
   "cell_type": "markdown",
   "metadata": {},
   "source": [
    "Vamos ver agora só um pedaço da base de dados, de determinados países. \n",
    "\n",
    "Selecionamos as colunas 0, 5, 6 e 7, que se referem ao \"país\", ao \"ano\", à \"população\" e a uma variável denotada `e_inc_100k`, que, pelo nome, deve indicar o número de incidências por 100 mil habitantes. \n",
    "\n",
    "Podemos verificar isso selecionando a linha que contem 'e_pop_num' ou 'e_inc_100k' como `variable_name`. O resultado obtida é um objeto `pandas` do tipo `Series`. Nesse caso, para ter uma leitura limpa do seu conteúdo, obtemos uma lista com os seus valores. Como só há um valor na lista e é o único que nos interessa, selecionamos o valor na posição 0. Vejamos."
   ]
  },
  {
   "cell_type": "code",
   "execution_count": 17,
   "metadata": {},
   "outputs": [
    {
     "name": "stdout",
     "output_type": "stream",
     "text": [
      "tipo do objeto: <class 'pandas.core.series.Series'>\n",
      "definição de 'e_pop_num': Estimated total population number\n",
      "definição de 'e_inc_100k': Estimated incidence (all forms) per 100 000 population\n"
     ]
    }
   ],
   "source": [
    "print(\"tipo do objeto:\", \n",
    "      type(df_dictionary[df_dictionary.variable_name == 'e_pop_num'][\"definition\"]))\n",
    "print(\"definição de 'e_pop_num':\", \n",
    "      df_dictionary[df_dictionary.variable_name == 'e_pop_num'][\"definition\"].values[0])\n",
    "print(\"definição de 'e_inc_100k':\", \n",
    "      df_dictionary[df_dictionary.variable_name == 'e_inc_100k'][\"definition\"].values[0])"
   ]
  },
  {
   "cell_type": "markdown",
   "metadata": {},
   "source": [
    "Agora, selecionamos esses dados para alguns países:"
   ]
  },
  {
   "cell_type": "code",
   "execution_count": 18,
   "metadata": {},
   "outputs": [
    {
     "name": "stdout",
     "output_type": "stream",
     "text": [
      "                       country  year  e_pop_num  e_inc_100k\n",
      "144                  Argentina  2000   37057452        37.0\n",
      "145                  Argentina  2001   37471509        35.0\n",
      "146                  Argentina  2002   37889370        35.0\n",
      "147                  Argentina  2003   38309379        33.0\n",
      "148                  Argentina  2004   38728696        34.0\n",
      "149                  Argentina  2005   39145488        31.0\n",
      "150                  Argentina  2006   39558890        28.0\n",
      "151                  Argentina  2007   39970224        29.0\n",
      "152                  Argentina  2008   40382389        26.0\n",
      "153                  Argentina  2009   40799407        22.0\n",
      "154                  Argentina  2010   41223889        20.0\n",
      "155                  Argentina  2011   41656879        27.0\n",
      "156                  Argentina  2012   42096739        24.0\n",
      "157                  Argentina  2013   42539925        24.0\n",
      "158                  Argentina  2014   42981515        25.0\n",
      "159                  Argentina  2015   43417765        25.0\n",
      "160                  Argentina  2016   43847430        27.0\n",
      "161                  Argentina  2017   44271041        26.0\n",
      "494                     Brazil  2000  175287587        51.0\n",
      "495                     Brazil  2001  177750670        48.0\n",
      "496                     Brazil  2002  180151021        52.0\n",
      "497                     Brazil  2003  182482149        53.0\n",
      "498                     Brazil  2004  184738458        54.0\n",
      "499                     Brazil  2005  186917361        50.0\n",
      "500                     Brazil  2006  189012412        46.0\n",
      "501                     Brazil  2007  191026637        45.0\n",
      "502                     Brazil  2008  192979029        46.0\n",
      "503                     Brazil  2009  194895996        45.0\n",
      "504                     Brazil  2010  196796269        44.0\n",
      "505                     Brazil  2011  198686688        44.0\n",
      "...                        ...   ...        ...         ...\n",
      "2709                      Peru  2006   27949944       153.0\n",
      "2710                      Peru  2007   28292724       143.0\n",
      "2711                      Peru  2008   28641980       140.0\n",
      "2712                      Peru  2009   29001507       137.0\n",
      "2713                      Peru  2010   29373646       132.0\n",
      "2714                      Peru  2011   29759989       131.0\n",
      "2715                      Peru  2012   30158966       123.0\n",
      "2716                      Peru  2013   30565716       122.0\n",
      "2717                      Peru  2014   30973354       121.0\n",
      "2718                      Peru  2015   31376671       119.0\n",
      "2719                      Peru  2016   31773839       117.0\n",
      "2720                      Peru  2017   32165485       116.0\n",
      "3652  United States of America  2000  281982778         6.7\n",
      "3653  United States of America  2001  284852391         6.4\n",
      "3654  United States of America  2002  287506847         6.0\n",
      "3655  United States of America  2003  290027624         5.9\n",
      "3656  United States of America  2004  292539324         5.7\n",
      "3657  United States of America  2005  295129501         5.5\n",
      "3658  United States of America  2006  297827356         5.3\n",
      "3659  United States of America  2007  300595175         5.1\n",
      "3660  United States of America  2008  303374067         4.9\n",
      "3661  United States of America  2009  306076362         4.3\n",
      "3662  United States of America  2010  308641391         4.2\n",
      "3663  United States of America  2011  311051373         3.9\n",
      "3664  United States of America  2012  313335423         3.7\n",
      "3665  United States of America  2013  315536676         3.3\n",
      "3666  United States of America  2014  317718779         3.2\n",
      "3667  United States of America  2015  319929162         3.3\n",
      "3668  United States of America  2016  322179605         3.1\n",
      "3669  United States of America  2017  324459463         3.1\n",
      "\n",
      "[90 rows x 4 columns]\n"
     ]
    }
   ],
   "source": [
    "df_short = df[df.iso2.isin(['AR','BR','CO','PE','US'])].iloc[:,[0,5,6,7]]\n",
    "print(df_short)"
   ]
  },
  {
   "cell_type": "markdown",
   "metadata": {},
   "source": [
    "Podemos visualizar os dados do Brasil:"
   ]
  },
  {
   "cell_type": "code",
   "execution_count": 19,
   "metadata": {},
   "outputs": [
    {
     "data": {
      "text/plain": [
       "<Figure size 432x288 with 0 Axes>"
      ]
     },
     "metadata": {},
     "output_type": "display_data"
    },
    {
     "data": {
      "image/png": "[encoded data removed]",
      "text/plain": [
       "<Figure size 432x288 with 1 Axes>"
      ]
     },
     "metadata": {
      "needs_background": "light"
     },
     "output_type": "display_data"
    }
   ],
   "source": [
    "plt.figure()\n",
    "df_brazil_e_inc_100k = df[df.iso2=='BR'].iloc[:,[5,7]]\n",
    "df_brazil_e_inc_100k.plot.bar(x=0, y=1)\n",
    "plt.show()"
   ]
  },
  {
   "cell_type": "markdown",
   "metadata": {},
   "source": [
    "E também podemos visualizar os dados comparativos dos países selecionados. Primeiramente, usamos o método `pivot` para alterar o formato da tabela (veja [Reshaping and Pivot Tables](https://pandas.pydata.org/pandas-docs/stable/user_guide/reshaping.html)):"
   ]
  },
  {
   "cell_type": "code",
   "execution_count": 20,
   "metadata": {},
   "outputs": [
    {
     "data": {
      "text/html": [
       "<div>\n",
       "<style scoped>\n",
       "    .dataframe tbody tr th:only-of-type {\n",
       "        vertical-align: middle;\n",
       "    }\n",
       "\n",
       "    .dataframe tbody tr th {\n",
       "        vertical-align: top;\n",
       "    }\n",
       "\n",
       "    .dataframe thead th {\n",
       "        text-align: right;\n",
       "    }\n",
       "</style>\n",
       "<table border=\"1\" class=\"dataframe\">\n",
       "  <thead>\n",
       "    <tr style=\"text-align: right;\">\n",
       "      <th>country</th>\n",
       "      <th>Argentina</th>\n",
       "      <th>Brazil</th>\n",
       "      <th>Colombia</th>\n",
       "      <th>Peru</th>\n",
       "      <th>United States of America</th>\n",
       "    </tr>\n",
       "    <tr>\n",
       "      <th>year</th>\n",
       "      <th></th>\n",
       "      <th></th>\n",
       "      <th></th>\n",
       "      <th></th>\n",
       "      <th></th>\n",
       "    </tr>\n",
       "  </thead>\n",
       "  <tbody>\n",
       "    <tr>\n",
       "      <th>2000</th>\n",
       "      <td>37.0</td>\n",
       "      <td>51.0</td>\n",
       "      <td>36.0</td>\n",
       "      <td>186.0</td>\n",
       "      <td>6.7</td>\n",
       "    </tr>\n",
       "    <tr>\n",
       "      <th>2001</th>\n",
       "      <td>35.0</td>\n",
       "      <td>48.0</td>\n",
       "      <td>35.0</td>\n",
       "      <td>177.0</td>\n",
       "      <td>6.4</td>\n",
       "    </tr>\n",
       "    <tr>\n",
       "      <th>2002</th>\n",
       "      <td>35.0</td>\n",
       "      <td>52.0</td>\n",
       "      <td>34.0</td>\n",
       "      <td>170.0</td>\n",
       "      <td>6.0</td>\n",
       "    </tr>\n",
       "    <tr>\n",
       "      <th>2003</th>\n",
       "      <td>33.0</td>\n",
       "      <td>53.0</td>\n",
       "      <td>35.0</td>\n",
       "      <td>149.0</td>\n",
       "      <td>5.9</td>\n",
       "    </tr>\n",
       "    <tr>\n",
       "      <th>2004</th>\n",
       "      <td>34.0</td>\n",
       "      <td>54.0</td>\n",
       "      <td>33.0</td>\n",
       "      <td>153.0</td>\n",
       "      <td>5.7</td>\n",
       "    </tr>\n",
       "    <tr>\n",
       "      <th>2005</th>\n",
       "      <td>31.0</td>\n",
       "      <td>50.0</td>\n",
       "      <td>30.0</td>\n",
       "      <td>153.0</td>\n",
       "      <td>5.5</td>\n",
       "    </tr>\n",
       "    <tr>\n",
       "      <th>2006</th>\n",
       "      <td>28.0</td>\n",
       "      <td>46.0</td>\n",
       "      <td>32.0</td>\n",
       "      <td>153.0</td>\n",
       "      <td>5.3</td>\n",
       "    </tr>\n",
       "    <tr>\n",
       "      <th>2007</th>\n",
       "      <td>29.0</td>\n",
       "      <td>45.0</td>\n",
       "      <td>31.0</td>\n",
       "      <td>143.0</td>\n",
       "      <td>5.1</td>\n",
       "    </tr>\n",
       "    <tr>\n",
       "      <th>2008</th>\n",
       "      <td>26.0</td>\n",
       "      <td>46.0</td>\n",
       "      <td>32.0</td>\n",
       "      <td>140.0</td>\n",
       "      <td>4.9</td>\n",
       "    </tr>\n",
       "    <tr>\n",
       "      <th>2009</th>\n",
       "      <td>22.0</td>\n",
       "      <td>45.0</td>\n",
       "      <td>31.0</td>\n",
       "      <td>137.0</td>\n",
       "      <td>4.3</td>\n",
       "    </tr>\n",
       "    <tr>\n",
       "      <th>2010</th>\n",
       "      <td>20.0</td>\n",
       "      <td>44.0</td>\n",
       "      <td>31.0</td>\n",
       "      <td>132.0</td>\n",
       "      <td>4.2</td>\n",
       "    </tr>\n",
       "    <tr>\n",
       "      <th>2011</th>\n",
       "      <td>27.0</td>\n",
       "      <td>44.0</td>\n",
       "      <td>32.0</td>\n",
       "      <td>131.0</td>\n",
       "      <td>3.9</td>\n",
       "    </tr>\n",
       "    <tr>\n",
       "      <th>2012</th>\n",
       "      <td>24.0</td>\n",
       "      <td>44.0</td>\n",
       "      <td>32.0</td>\n",
       "      <td>123.0</td>\n",
       "      <td>3.7</td>\n",
       "    </tr>\n",
       "    <tr>\n",
       "      <th>2013</th>\n",
       "      <td>24.0</td>\n",
       "      <td>44.0</td>\n",
       "      <td>31.0</td>\n",
       "      <td>122.0</td>\n",
       "      <td>3.3</td>\n",
       "    </tr>\n",
       "    <tr>\n",
       "      <th>2014</th>\n",
       "      <td>25.0</td>\n",
       "      <td>43.0</td>\n",
       "      <td>30.0</td>\n",
       "      <td>121.0</td>\n",
       "      <td>3.2</td>\n",
       "    </tr>\n",
       "    <tr>\n",
       "      <th>2015</th>\n",
       "      <td>25.0</td>\n",
       "      <td>42.0</td>\n",
       "      <td>31.0</td>\n",
       "      <td>119.0</td>\n",
       "      <td>3.3</td>\n",
       "    </tr>\n",
       "    <tr>\n",
       "      <th>2016</th>\n",
       "      <td>27.0</td>\n",
       "      <td>42.0</td>\n",
       "      <td>32.0</td>\n",
       "      <td>117.0</td>\n",
       "      <td>3.1</td>\n",
       "    </tr>\n",
       "    <tr>\n",
       "      <th>2017</th>\n",
       "      <td>26.0</td>\n",
       "      <td>44.0</td>\n",
       "      <td>33.0</td>\n",
       "      <td>116.0</td>\n",
       "      <td>3.1</td>\n",
       "    </tr>\n",
       "  </tbody>\n",
       "</table>\n",
       "</div>"
      ],
      "text/plain": [
       "country  Argentina  Brazil  Colombia   Peru  United States of America\n",
       "year                                                                 \n",
       "2000          37.0    51.0      36.0  186.0                       6.7\n",
       "2001          35.0    48.0      35.0  177.0                       6.4\n",
       "2002          35.0    52.0      34.0  170.0                       6.0\n",
       "2003          33.0    53.0      35.0  149.0                       5.9\n",
       "2004          34.0    54.0      33.0  153.0                       5.7\n",
       "2005          31.0    50.0      30.0  153.0                       5.5\n",
       "2006          28.0    46.0      32.0  153.0                       5.3\n",
       "2007          29.0    45.0      31.0  143.0                       5.1\n",
       "2008          26.0    46.0      32.0  140.0                       4.9\n",
       "2009          22.0    45.0      31.0  137.0                       4.3\n",
       "2010          20.0    44.0      31.0  132.0                       4.2\n",
       "2011          27.0    44.0      32.0  131.0                       3.9\n",
       "2012          24.0    44.0      32.0  123.0                       3.7\n",
       "2013          24.0    44.0      31.0  122.0                       3.3\n",
       "2014          25.0    43.0      30.0  121.0                       3.2\n",
       "2015          25.0    42.0      31.0  119.0                       3.3\n",
       "2016          27.0    42.0      32.0  117.0                       3.1\n",
       "2017          26.0    44.0      33.0  116.0                       3.1"
      ]
     },
     "execution_count": 20,
     "metadata": {},
     "output_type": "execute_result"
    }
   ],
   "source": [
    "df_short_pivoted = df_short.pivot(index='year', columns='country', values='e_inc_100k')\n",
    "df_short_pivoted"
   ]
  },
  {
   "cell_type": "code",
   "execution_count": 21,
   "metadata": {},
   "outputs": [
    {
     "data": {
      "text/plain": [
       "<Figure size 432x288 with 0 Axes>"
      ]
     },
     "metadata": {},
     "output_type": "display_data"
    },
    {
     "data": {
      "image/png": "[encoded data removed]",
      "text/plain": [
       "<Figure size 432x288 with 1 Axes>"
      ]
     },
     "metadata": {
      "needs_background": "light"
     },
     "output_type": "display_data"
    }
   ],
   "source": [
    "plt.figure()\n",
    "df_short_pivoted.plot()\n",
    "plt.show()"
   ]
  },
  {
   "cell_type": "markdown",
   "metadata": {},
   "source": [
    "### Dados do índice Bovespa\n",
    "\n",
    "Outra série interessante disponível *online* é a do índice bovespa: [BM&F Bovespa: Cotações históricas](http://www.bmfbovespa.com.br/pt_br/servicos/market-data/historico/mercado-a-vista/cotacoes-historicas/). Explore!"
   ]
  },
  {
   "cell_type": "markdown",
   "metadata": {},
   "source": [
    "## Exercícios\n",
    "\n",
    "1. Com os dados do arquivo `water_properties_from_Batchelor.csv`, trace o gráfico da viscosidade em função da densidade.\n",
    "\n",
    "1. Leia o arquivo `dados/bola_quicante/bola_quicante_tempos.cvs`, que contém o instante dos primeiros quiques de uma bola, e trace esses instantes em função do quique.\n",
    "\n",
    "1. Leia a [tabela de ocorrências aeronáuticas](http://dados.gov.br/dataset/ocorrencias-aeronauticas-da-aviacao-civil-brasileira/resource/9d8a7e09-5f75-47b3-891b-b5f1bab26d59?inner_span=True) disponível na página do [Portal Brasileiro de Dados Abertos](http://dados.gov.br). Em seguida,\n",
    "    1. extraia a lista dos tipos de ocorrências; e \n",
    "    1. monte um gráfico ilustrando a incidência por tipo de aeronave de um dos tipos de ocorrência a sua escolha.\n"
   ]
  },
  {
   "cell_type": "markdown",
   "metadata": {},
   "source": [
    "<!--NAVIGATOR-->\n",
    "\n",
    "---\n",
    "[<- 1.3. Gráficos de funções](01.03-Graficos_de_funcoes.ipynb) | [Página Inicial](00.00-Pagina_inicial.ipynb) | [Bibliografia](BA.00-Bibliografia.ipynb) | [1.5. Computação simbólica ->](01.05-Computacao_simbolica.ipynb)\n",
    "\n",
    "<a href=\"https://colab.research.google.com/github/rmsrosa/modelagem_matematica/blob/master/notebooks/01.04-Arquivos_dados_e_mais_graficos.ipynb\"><img align=\"left\" src=\"https://colab.research.google.com/assets/colab-badge.svg\" alt=\"Open in Colab\" title=\"Open and Execute in Google Colaboratory\"></a>\n",
    "\n",
    "<a href=\"https://mybinder.org/v2/gh/rmsrosa/modelagem_matematica/master?filepath=notebooks/01.04-Arquivos_dados_e_mais_graficos.ipynb\"><img align=\"left\" src=\"https://mybinder.org/badge.svg\" alt=\"Open in binder\" title=\"Open and Execute in Binder\"></a>\n",
    "&nbsp;"
   ]
  }
 ],
 "metadata": {
  "kernelspec": {
   "display_name": "Python 3",
   "language": "python",
   "name": "python3"
  },
  "language_info": {
   "codemirror_mode": {
    "name": "ipython",
    "version": 3
   },
   "file_extension": ".py",
   "mimetype": "text/x-python",
   "name": "python",
   "nbconvert_exporter": "python",
   "pygments_lexer": "ipython3",
   "version": "3.7.1"
  }
 },
 "nbformat": 4,
 "nbformat_minor": 2
}
