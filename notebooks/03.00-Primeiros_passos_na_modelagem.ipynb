{
 "cells": [
  {
   "cell_type": "markdown",
   "metadata": {},
   "source": [
    "<!--BOOK_INFORMATION-->\n",
    "<!--<img align=\"left\" style=\"padding-right:10px;\" src=\"figures/PDSH-cover-small.png\">-->\n",
    "\n",
    "*[Notas de aula da disciplina de \n",
    "Modelagem Matemática](https://github.com/rmsrosa/modelagem_matematica)\n",
    "do [IM-UFRJ](https://www.im.ufrj.br).*"
   ]
  },
  {
   "cell_type": "markdown",
   "metadata": {},
   "source": [
    "<!--NAVIGATION-->\n",
    "\n",
    "\n",
    "<a href=\"https://colab.research.google.com/github/rmsrosa/modelagem_matematica/blob/master/notebooks/03.00-Primeiros_passos_na_modelagem.ipynb\"><img align=\"left\" src=\"https://colab.research.google.com/assets/colab-badge.svg\" alt=\"Open in Colab\" title=\"Open and Execute in Google Colaboratory\"></a><br>\n",
    "\n",
    "[<- Formas de modelagens](02.03-Formas_de_modelagens.ipynb) | [Índice](Indice.ipynb) | [Referências](99.00-Referencias.ipynb) | [Ajuste de dados ->](03.01-Ajuste_de_dados.ipynb)\n",
    "\n",
    "---\n"
   ]
  },
  {
   "cell_type": "markdown",
   "metadata": {},
   "source": [
    "# Primeiros passos na modelagem\n",
    "\n",
    "Vejamos, agora, alguns aspectos iniciais concretos sobre o processo de modelagem, trabalhando aspectos objetivos e exemplos práticos.\n",
    "\n",
    "<p style=\"margin-bottom:15cm;\"></p>"
   ]
  },
  {
   "cell_type": "markdown",
   "metadata": {},
   "source": [
    "<!--NAVIGATION-->\n",
    "\n",
    "---\n",
    "[<- Formas de modelagens](02.03-Formas_de_modelagens.ipynb) | [Índice](Indice.ipynb) | [Referências](99.00-Referencias.ipynb) | [Ajuste de dados ->](03.01-Ajuste_de_dados.ipynb)\n",
    "\n",
    "<a href=\"https://colab.research.google.com/github/rmsrosa/modelagem_matematica/blob/master/notebooks/03.00-Primeiros_passos_na_modelagem.ipynb\"><img align=\"left\" src=\"https://colab.research.google.com/assets/colab-badge.svg\" alt=\"Open in Colab\" title=\"Open and Execute in Google Colaboratory\"></a><br>\n"
   ]
  }
 ],
 "metadata": {
  "kernelspec": {
   "display_name": "Python 3",
   "language": "python",
   "name": "python3"
  },
  "language_info": {
   "codemirror_mode": {
    "name": "ipython",
    "version": 3
   },
   "file_extension": ".py",
   "mimetype": "text/x-python",
   "name": "python",
   "nbconvert_exporter": "python",
   "pygments_lexer": "ipython3",
   "version": "3.7.1"
  }
 },
 "nbformat": 4,
 "nbformat_minor": 2
}
