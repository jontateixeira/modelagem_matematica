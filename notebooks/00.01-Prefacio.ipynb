{
 "cells": [
  {
   "cell_type": "markdown",
   "metadata": {},
   "source": [
    "<!--HEADER-->\n",
    "*[Notas de aula da disciplina de Modelagem Matemática](https://github.com/rmsrosa/modelagem_matematica) do [IM-UFRJ](https://www.im.ufrj.br).*"
   ]
  },
  {
   "cell_type": "markdown",
   "metadata": {},
   "source": [
    "<!--NAVIGATOR-->\n",
    "\n",
    "<a href=\"https://colab.research.google.com/github/rmsrosa/modelagem_matematica/blob/master/notebooks/00.01-Prefacio.ipynb\"><img align=\"left\" src=\"https://colab.research.google.com/assets/colab-badge.svg\" alt=\"Open in Colab\" title=\"Open and Execute in Google Colaboratory\"></a>\n",
    "&nbsp;\n",
    "<a href=\"https://mybinder.org/v2/gh/rmsrosa/modelagem_matematica/master?filepath=notebooks/00.01-Prefacio.ipynb\"><img align=\"left\" src=\"https://mybinder.org/badge.svg\" alt=\"Open in binder\" title=\"Open and Execute in Binder\"></a>\n",
    "&nbsp;\n",
    "\n",
    "[<- Página Inicial](00.00-Pagina_inicial.ipynb) | [Página Inicial](00.00-Pagina_inicial.ipynb) | [Bibliografia](BA.00-Bibliografia.ipynb) | [Introdução ->](00.90-Introducao.ipynb)\n",
    "\n",
    "---\n"
   ]
  },
  {
   "cell_type": "markdown",
   "metadata": {},
   "source": [
    "# Prefácio\n",
    "\n",
    "O conteúdo da disciplina de Modelagem Matemática tem flutuado ao longo dos anos, tratando, invariavelmente, de análises teóricas de modelos ilustrativos clássicos, geralmente de natureza física, baseados em equações diferenciais ordinárias ou parciais.\n",
    "\n",
    "O nosso objetivo é tornar essa disciplina mais aplicada, real e diversa, fazendo com que o aluno trabalhe de forma mais concreta com os modelos e tratando de modelos mais complexos, multi-disciplinares, explorando ferramentas computacionais e fazendo uso de análise de dados reais e de técnicas diversas. \n",
    "\n",
    "Também achamos fundamental o aluno ter uma posição mais ativa no curso, se engajando em projetos e aprendendo a traduzir situações do dia-a-dia, ou de determinados problemas, em modelos matemáticos que possam ser analisados, validados e interpretados, ao contrário de já trabalhar com modelos matemáticos prontos.\n",
    "\n",
    "É importante que o aluno saiba reconhecer as hipóteses que sao consistentes com o contexto do problema a ser modelado e que acabam delineando a caracterização matemática do mesmo. \n",
    "\n",
    "Para tanto, o aluno verá uma série de exemplos de modelos matemáticos de diferentes naturezas, para que sejam revisados, melhorados e ampliados em projetos, visando modelar mais fielmente os problemas subjacentes. Estes projetos serão feitos em grupos, incentivando a colaboração e praticando a comunicação cientifica. Esta disciplina, então, será do tipo \"orientada a resolução de problemas\". \n",
    "\n",
    "A utilização do computador no processo de modelagem será essencial. Logo, um subproduto desta disciplina é a familiarização, por parte do aluno, do uso do computador para, por exemplo, manipulação de dados, ajuste de parâmetros, resolução de equações, contraste de modelos e visualização dos resultados. A parte computacional será desenvolvida em Jupyter, com a linguagem Python.\n",
    "\n",
    "Em resumo, podemos citar as seguintes principais ideias da disciplina:\n",
    "- Introduzir os estudantes aos elementos do processo de modelagem matemática;\n",
    "- Apresentar elementos matemáticos orientados às aplicacoes e motivados por problemas matemáticos e não matemáticos;\n",
    "- Exemplificar o valor da matemática na resolução de problemas de diversas áreas;\n",
    "- Demonstrar conexões entre tópicos matemáticos diferentes, mesmo que não cheguemos a nos aprofundar em alguns deles.\n",
    "- Fazer com que os alunos tenham uma função mais pró-ativa na elaboração e na análise de modelos.\n",
    "\n",
    "Conteudos teóricos principais: \n",
    "- Fundamentos de Python e Jupyter. Introducao teórica e contexto para a modelagem matemática. Modelos empíricos e o ajuste de dados. Modelos baseados em sistemas de equações diferenciais ordinárias. Modelos baseados em equações a derivadas parciais. Problemas de otimizacao.\n",
    "\n",
    "Atividades principais:\n",
    "- Aulas em um laboratorio de informática para utilizar o computador no processo de modelagem e manipulacao de dados.\n",
    "- Resolver listas de exercícios individualmente; \n",
    "- Trabalhar, individualmente ou em grupo, em pequenos projetos, mais dirigidos, cada um destes com o objetivo de exemplificar um novo tipo de modelagem, depois de ter uma breve introducao teorica. \n",
    "- Um projeto final de maior porte e de caráter não dirigido, a ser trabalhado em grupo.\n",
    "\n",
    "\n",
    "Este formato para essa disciplina é uma novidade para 2019/1. Está sendo desenvolvida em conjunto pelos Professores [Alejandro Cabrera](http://www.dma.im.ufrj.br/~acabrera/) e [Ricardo Rosa](http://www.dma.im.ufrj.br/~rrosa).\n",
    "\n",
    "Rio de Janeiro, 11 de março de 2019,\n",
    "\n",
    "Alejandro e Ricardo"
   ]
  },
  {
   "cell_type": "markdown",
   "metadata": {},
   "source": [
    "<!--NAVIGATOR-->\n",
    "\n",
    "---\n",
    "[<- Página Inicial](00.00-Pagina_inicial.ipynb) | [Página Inicial](00.00-Pagina_inicial.ipynb) | [Bibliografia](BA.00-Bibliografia.ipynb) | [Introdução ->](00.90-Introducao.ipynb)\n",
    "\n",
    "<a href=\"https://colab.research.google.com/github/rmsrosa/modelagem_matematica/blob/master/notebooks/00.01-Prefacio.ipynb\"><img align=\"left\" src=\"https://colab.research.google.com/assets/colab-badge.svg\" alt=\"Open in Colab\" title=\"Open and Execute in Google Colaboratory\"></a>\n",
    "\n",
    "<a href=\"https://mybinder.org/v2/gh/rmsrosa/modelagem_matematica/master?filepath=notebooks/00.01-Prefacio.ipynb\"><img align=\"left\" src=\"https://mybinder.org/badge.svg\" alt=\"Open in binder\" title=\"Open and Execute in Binder\"></a>\n",
    "&nbsp;"
   ]
  }
 ],
 "metadata": {
  "kernelspec": {
   "display_name": "Python 3",
   "language": "python",
   "name": "python3"
  },
  "language_info": {
   "codemirror_mode": {
    "name": "ipython",
    "version": 3
   },
   "file_extension": ".py",
   "mimetype": "text/x-python",
   "name": "python",
   "nbconvert_exporter": "python",
   "pygments_lexer": "ipython3",
   "version": "3.7.1"
  }
 },
 "nbformat": 4,
 "nbformat_minor": 2
}
