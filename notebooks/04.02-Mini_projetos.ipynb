{
 "cells": [
  {
   "cell_type": "markdown",
   "metadata": {},
   "source": [
    "<!--BOOK_INFORMATION-->\n",
    "*[Notas de aula da disciplina de Modelagem Matemática](https://github.com/rmsrosa/modelagem_matematica) do [IM-UFRJ](https://www.im.ufrj.br).*"
   ]
  },
  {
   "cell_type": "markdown",
   "metadata": {},
   "source": [
    "<!--NAVIGATION-->\n",
    "\n",
    "<a href=\"https://colab.research.google.com/github/rmsrosa/modelagem_matematica/blob/master/notebooks/04.02-Mini_projetos.ipynb\"><img align=\"left\" src=\"https://colab.research.google.com/assets/colab-badge.svg\" alt=\"Open in Colab\" title=\"Open and Execute in Google Colaboratory\"></a>\n",
    "&nbsp;\n",
    "<a href=\"https://mybinder.org/v2/gh/rmsrosa/modelagem_matematica/master?filepath=notebooks/04.02-Mini_projetos.ipynb\"><img align=\"left\" src=\"https://mybinder.org/badge.svg\" alt=\"Open in binder\" title=\"Open and Execute in Binder\"></a>\n",
    "&nbsp;\n",
    "\n",
    "[<- 4.1. Um pêndulo caseiro](04.01-Um_pendulo_caseiro.ipynb) | [Índice de Conteúdo](00.00-Indice.ipynb) | [Bibliografia](BA.00-Bibliografia.ipynb) | [PARTE II - Modelos Diversos ->](05.-Parte2.ipynb)\n",
    "\n",
    "---\n"
   ]
  },
  {
   "cell_type": "markdown",
   "metadata": {},
   "source": [
    "# Mini-projetos"
   ]
  },
  {
   "cell_type": "markdown",
   "metadata": {},
   "source": [
    "## Pêndulo com diferentes massas, comprimentos e ângulos"
   ]
  },
  {
   "cell_type": "markdown",
   "metadata": {},
   "source": [
    "## Acompanhando o movimento de um pêndulo"
   ]
  },
  {
   "cell_type": "markdown",
   "metadata": {},
   "source": [
    "## Coeficiente de restituição de uma bola quicante\n",
    "\n",
    "Este projeto consiste em determinar o **coeficiente de restituição** de energia mecânica de uma bola quicante, também interpretada como **fator de perda de energia** a cada quique de uma bola. \n",
    "\n",
    "Definimos como um **voo** da bola cada período entre dois quiques consecutivos. Em cada voo, há uma determinada perda de energia mecânica por conta da resistência do ar. No entanto, a maior perda de energia do movimento se dá no momento do quique, entre um voo e outro. Parte da energia é transformada em calor, em mudança na rotação da bola e em possíveis deformações da bola e da superfície. O **objetivo** desse mini-projeto é determinar esse coeficiente de restituição a partir dos intervalos de tempo dos voos.\n",
    "\n",
    "Para modelar o problema, assumimos que a energia mecânica em cada voo é constante. Isso envolve, em particular, desprezar a resistência do ar no movimento, desprezar possíveis mudanças na massa da bola, e desprezar a rotação da bola, assumindo-a como um objeto pontual. \n",
    "\n",
    "1. Podemos considerar o modelo clássico da mecânica newtoniana em que a energia mecânica (total) é a soma da energia cinética com a energia potencial. Mas também podemos deduzir isso via análise dimensional. Assumindo que, em cada voo, o movimento depende apenas da altura máxima atingida no voo, da massa da bola e da gravidade, deduza a relação monomial entre esses parâmetros que nos dão uma quantidade com dimensão física de energia (i.e. $[ML^2T^{-2}]$, onde $M$ é massa, $L$ é comprimento e $T$ é tempo.)\n",
    "\n",
    "1. Utilize a informação sobre a energia mecânica de cada voo para determinar a fração entre a energia mecânica do segundo voo e a do primeiro voo apenas em termos da altura máxima do primeiro voo e os tempos do primeiro e do segundo voos. \n",
    "\n",
    "1. Agora determine a fração entre a energia mecânica do segundo voo e do primeiro voo em termos \n",
    "\n",
    "utilize esses parâmetros e os tempos de voo de dois voos consecutivos para determinar a fração entre a energia mecânica do segundo voo e a do primeiro voo, que é \n",
    "\n",
    "Isso é feito através de um modelo. \n",
    "\n",
    "Veja [Aguiar & Laudares \"Listening to the coefficient of restitution and the gravitational acceleration of a bouncing ball\"](https://arxiv.org/abs/physics/0210092)."
   ]
  },
  {
   "cell_type": "markdown",
   "metadata": {},
   "source": [
    "<!--NAVIGATION-->\n",
    "\n",
    "---\n",
    "[<- 4.1. Um pêndulo caseiro](04.01-Um_pendulo_caseiro.ipynb) | [Índice de Conteúdo](00.00-Indice.ipynb) | [Bibliografia](BA.00-Bibliografia.ipynb) | [PARTE II - Modelos Diversos ->](05.-Parte2.ipynb)\n",
    "\n",
    "<a href=\"https://colab.research.google.com/github/rmsrosa/modelagem_matematica/blob/master/notebooks/04.02-Mini_projetos.ipynb\"><img align=\"left\" src=\"https://colab.research.google.com/assets/colab-badge.svg\" alt=\"Open in Colab\" title=\"Open and Execute in Google Colaboratory\"></a>\n",
    "\n",
    "<a href=\"https://mybinder.org/v2/gh/rmsrosa/modelagem_matematica/master?filepath=notebooks/04.02-Mini_projetos.ipynb\"><img align=\"left\" src=\"https://mybinder.org/badge.svg\" alt=\"Open in binder\" title=\"Open and Execute in Binder\"></a>\n",
    "&nbsp;"
   ]
  }
 ],
 "metadata": {
  "kernelspec": {
   "display_name": "Python 3",
   "language": "python",
   "name": "python3"
  },
  "language_info": {
   "codemirror_mode": {
    "name": "ipython",
    "version": 3
   },
   "file_extension": ".py",
   "mimetype": "text/x-python",
   "name": "python",
   "nbconvert_exporter": "python",
   "pygments_lexer": "ipython3",
   "version": "3.7.1"
  }
 },
 "nbformat": 4,
 "nbformat_minor": 2
}
