{
 "cells": [
  {
   "cell_type": "markdown",
   "metadata": {},
   "source": [
    "<!--BOOK_INFORMATION-->\n",
    "<!--<img align=\"left\" style=\"padding-right:10px;\" src=\"figures/PDSH-cover-small.png\">-->\n",
    "\n",
    "*[Notas de aula da disciplina de \n",
    "Modelagem Matemática](https://github.com/rmsrosa/modelagem_matematica)\n",
    "do [IM-UFRJ](https://www.im.ufrj.br).*"
   ]
  },
  {
   "cell_type": "markdown",
   "metadata": {},
   "source": [
    "<!--NAVIGATION-->\n",
    "\n",
    "\n",
    "<a href=\"https://colab.research.google.com/github/rmsrosa/modelagem_matematica/blob/master/notebooks/01.06-Boas_praticas_em_python.ipynb\"><img align=\"left\" src=\"https://colab.research.google.com/assets/colab-badge.svg\" alt=\"Open in Colab\" title=\"Open and Execute in Google Colaboratory\"></a><br>\n",
    "\n",
    "[<- Computação simbólica](01.05-Computacao_simbolica.ipynb) | [Índice](Indice.ipynb) | [Referências](99.00-Referencias.ipynb) | [Princípios de modelagem matemática ->](02.00-Principios_de_modelagem_matematica.ipynb)\n",
    "\n",
    "---\n"
   ]
  },
  {
   "cell_type": "markdown",
   "metadata": {},
   "source": [
    "# Boas práticas em python\n",
    "\n",
    "Do mesmo modo em que devemos escrever demonstrações matemáticas de maneira clara e objetiva, é importante escrever e documentar adequadamente os códigos de programação, independentemente da linguagem.\n",
    "\n",
    "Uma frase comumente mencionada e creditada ao próprio Guido van Rossum, criador do Python, é a de que os códigos são lidos muito mais vezes do que escritos. Por isso a necessidade deles serem bem escritos.\n",
    "\n",
    "No caso do Python, há várias recomendações indicadas pela [PEP 8 -- Style Guide for Python Code](https://www.python.org/dev/peps/pep-0008/) (Veja [PEP 8 — the Style Guide for Python Code in a stylized presentation](https://pep8.org) para uma leitura mais agradável do mesmo texto). Vale a pena a leitura. É um guia não muito curto, pois inclui vários aspectos sobre estilo, desde onde incluir, ou não, espaços em branco e sinais de pontuação, até como nomear constantes, variáveis, funções, classes, módulos e pacotes, incluindo, ainda, recomendações diversas que podem ser aprofundadas em outras PEPs. Para uma leitura mais dinâmica, veja [Real Python: How to Write Beautiful Python Code With PEP 8](https://realpython.com/python-pep8/). \n",
    "\n",
    "Nessa linha, veja, por exemplo, a curiosa, mas importante, [PEP 20 -- The Zen of Python](https://www.python.org/dev/peps/pep-0020/#the-zen-of-python). Aliás, fugindo um pouco do tema, mas aproveitando a menção à PEP 20, veja a preciosidade nela escondida (\"ovo de páscoa\") ao final do texto. Para uma maior discussão sobre isso, veja [Codementor: The Zen of Python](https://www.codementor.io/mikebell66/the-zen-of-python-s0cvequqn) e [Stackoverflow: What is the source code of the “this” module doing?](https://stackoverflow.com/questions/5855758/what-is-the-source-code-of-the-this-module-doing).\n",
    "\n",
    "Sobre a documentação, veja [Real Python: Documenting Python Code](https://realpython.com/documenting-python-code/). As *docstrings*, em particular, são regidas pela [PEP 257 -- Docstring Conventions](https://www.python.org/dev/peps/pep-0257/).\n",
    "\n",
    "Para os que desejam ter um cuidado maior em evitar ou visualizar possíveis erros na execução do código, é útil entender as cláusulas `assert`, `raise/except` e `try/except/finally`. Isso também é discutido na [PEP 8 -- Style Guide for Python Code](https://www.python.org/dev/peps/pep-0008/), mas uma discussão específica e mais aprofundada pode ser vista em [Real Python: Python Exceptions: An Introduction](https://realpython.com/python-exceptions/).\n",
    "\n",
    "Em resumo, recomendamos a leitura das seguintes páginas:\n",
    "- [Real Python: How to Write Beautiful Python Code With PEP 8](https://realpython.com/python-pep8/)\n",
    "- [Real Python: Documenting Python Code](https://realpython.com/documenting-python-code/)\n",
    "- [Real Python: Python Exceptions: An Introduction](https://realpython.com/python-exceptions/)\n",
    "\n",
    "Abaixo, vamos considerar um algoritmo, o [Crivo de Erastóstenes](https://pt.wikipedia.org/wiki/Crivo_de_Erat%C3%B3stenes), para encontrar números primos, e utilizar esse algoritmo para ilustrar os conceitos acima."
   ]
  },
  {
   "cell_type": "markdown",
   "metadata": {},
   "source": [
    "## O Crivo de Eratóstenes\n",
    "\n",
    "O [Crivo de Eratóstenes](https://pt.wikipedia.org/wiki/Crivo_de_Erat%C3%B3stenes) (veja a versão em inglês [Sieve of Eratosthenes](https://en.wikipedia.org/wiki/Sieve_of_Eratosthenes) para mais detalhes) é um algoritmo para encontrar os números primos até um certo número dado.\n",
    "\n",
    "Em [pseudo-cógido](https://en.wikipedia.org/wiki/Pseudocode), o algoritmo pode ser escrito da seguinte forma, baseado no pseudo-código encontrado em [Sieve of Eratosthenes](https://en.wikipedia.org/wiki/Sieve_of_Eratosthenes):\n",
    "\n",
    "**Nome do algoritmo:** Sieve of Eratosthenes\n",
    "> **Entrada:** Um inteiro positivo $N$\n",
    "\n",
    "> **Saída:** Uma **lista** $P$ com todos os números primos menores ou iguais a $N$\n",
    "\n",
    "> **Algoritmo:**\n",
    "\n",
    "> > **Seja** $A$ um **lista** de variáveis **booleanas**, indexada por **inteiros** de $2$ a $N$, inicialmente com todos os índices marcados como **verdadeiros**.\n",
    "\n",
    "> > **Para** $i = 2, 3, \\ldots ,\\sqrt{N}$:\n",
    "\n",
    "> > > **Se** *A[i]* é **verdadeiro**:\n",
    "\n",
    "> > > > **Para** $j = i, i^2, i(i+1), i(i+2), \\ldots$ até no máximo $N$:\n",
    "\n",
    "> > > > > **Faça** *A[j]* = **falso** \n",
    "\n",
    "> > **Seja** $P$ a **lista** composta dos índices $i$ em que *A[i]* é **verdadeiro**, indicando os números primos encontrados.\n",
    "\n",
    "> > **Retorne** $P$\n",
    "\n",
    "Uma implementação em python do algoritmo acima é a seguinte:\n"
   ]
  },
  {
   "cell_type": "code",
   "execution_count": null,
   "metadata": {},
   "outputs": [],
   "source": [
    "import math\n",
    "\n",
    "N = 100\n",
    "\n",
    "A = (N + 1) * [True]\n",
    "\n",
    "for i in range(2,round(math.sqrt(N + 1))):\n",
    "    if A[i]:\n",
    "        for j in range(i**2, N + 1, i):\n",
    "            A[j] = False\n",
    "            \n",
    "P = [i for i in range(2, N + 1) if A[i]]"
   ]
  },
  {
   "cell_type": "markdown",
   "metadata": {},
   "source": [
    "Após executar o código, podemos imprimir a lista encontrada de números primos:"
   ]
  },
  {
   "cell_type": "code",
   "execution_count": null,
   "metadata": {},
   "outputs": [],
   "source": [
    "print(P)"
   ]
  },
  {
   "cell_type": "markdown",
   "metadata": {},
   "source": [
    "## Ajustando o código com comentários e a convenção de nomes\n",
    "\n",
    "Sendo direto, aqui vai a recomendação de nomeação para os diferentes objetos em python, de acordo com a [PEP 8 -- Style Guide for Python Code](https://www.python.org/dev/peps/pep-0008/). Veja também \n",
    "[Real Python: How to Write Beautiful Python Code With PEP 8](https://realpython.com/python-pep8/).\n",
    "\n",
    "- **Constante:** Letra, palavra ou serie de palavras, em maiúsculas, separadas por sublinhado.\n",
    "    - *Exemplos:* `CONST_PLANK`, `RAIO_TERRA`.\n",
    "- **Variável:** Letra, palavra ou serie de palavras, em minúsculas, separadas por sublinhado. \n",
    "    - *Exemplos:* `i`, `x`, `velocidade`, `angulo_do_pendulo`. \n",
    "- **Função:** Uma ou mais palavras, em minúsculas, separadas por sublinhado. \n",
    "    - *Exemplos:* `tangente`, `tempo_de_voo`.\n",
    "- **Classe:** Uma ou mais palavras, com a inicial de cada palavra em maiúscula, sem separação, que é o estilo conhecido como \"Camelo\", ou \"EstiloCamelo\" (*\"CamelCase\"*).\n",
    "    - *Exemplos:* `Frutas`, `Planetas`, `SeresVivos`.\n",
    "- **Método:** Uma ou mais palavras, em minúsculas, separadas por sublinhado.  \n",
    "    - *Exemplos:* `metodo_da_classe`, `defina_modelo`, `exibe_velocidade`.\n",
    "- **Módulo:** Uma ou mais palavras curtas, em minúsculas, separadas por sublinhado.\n",
    "    - *Exemplos:* `pyplot`, `math`, `data_info`.\n",
    "- **Pacote:** Uma ou mais palavras, em minúsculas, sem separacao.\n",
    "    - *Exemplos:* `numpy`, `scipy`.\n",
    "\n",
    "Segundo essa convenção, devemos, no mínimo, renomear as variáveis $N$, $A$ e $P$ para $n$, $a$ e $p$. Mas além disso, o código deve escrito de maneira clara. E essas variáveis não explicitam o que armazenam. Por isso, vamos fazer as seguintes modificações:\n",
    "\n",
    "- `N` passa a ser `cota_superior`\n",
    "- `A` passa a ser `crivo`\n",
    "- `P` passa a ser `primos`\n",
    "\n",
    "E os comentários são importantes para esclarecer certas partes do código que podem ter a sua razão esquecida a médio ou longo prazo, ou de entendimento não imediato para quem não escreveu o código. Mas sem exageros. Certas linhas de código são claras o suficiente e o excesso desnecessário de comentários até atrapalha a leitura do mesmo.\n",
    "\n",
    "No código acima, algo recorrente que pode não ter a sua utilidade facilmente reconhecida é a adição de uma unidade à variável `N`. Isso é para compensar o fato dos índices de um lista, em python, começar em 0 e, no caso, ir só até `N-1`, caso não adicionássemos uma unidade. Isso ocorre não apenas na definição do crivo mas, também, nos índices dos \"loops\" e na seleção dos primos. Mas o comentário em relação a isso não precisa ser repetido.\n",
    "\n",
    "Outra recomendação é a de não ultrapassar 72 characteres por linha.\n",
    "\n",
    "Vamos, agora, modificar o código python acima para deixá-lo mais claro. Em particular, respeitando a convenção de nomes acima."
   ]
  },
  {
   "cell_type": "code",
   "execution_count": null,
   "metadata": {},
   "outputs": [],
   "source": [
    "import math\n",
    "\n",
    "cota_superior = 100\n",
    "\n",
    "crivo = (cota_superior + 1) * [True] \n",
    "# Compensar que o índice de arrays começa em 0 e termina em um a menos do seu comprimento\n",
    "\n",
    "for i in range(2,round(math.sqrt(cota_superior + 1))):\n",
    "    if crivo[i]:\n",
    "        for j in range(i**2, cota_superior + 1, i):\n",
    "            crivo[j] = False\n",
    "            \n",
    "primos = [i for i in range(2, cota_superior + 1) if crivo[i]]"
   ]
  },
  {
   "cell_type": "code",
   "execution_count": null,
   "metadata": {},
   "outputs": [],
   "source": [
    "print(primos)"
   ]
  },
  {
   "cell_type": "markdown",
   "metadata": {},
   "source": [
    "Para embelezar mais o código, podemos tornar o algoritmo do crivo uma função, da seguinte forma."
   ]
  },
  {
   "cell_type": "code",
   "execution_count": null,
   "metadata": {},
   "outputs": [],
   "source": [
    "import math\n",
    "\n",
    "def crivo_de_eratostenes(cota_superior):\n",
    "    \n",
    "    crivo = (cota_superior + 1) * [True] \n",
    "    # Compensar que o índice de arrays começa em 0 e termina em um a menos do seu comprimento\n",
    "\n",
    "    for i in range(2,round(math.sqrt(cota_superior + 1))):\n",
    "        # Varre os inteiros para negar, no crivo, os primos que são múltiplos desses inteiros\n",
    "        if crivo[i]: \n",
    "            # Pula os que já foram negados\n",
    "            for j in range(i**2, cota_superior + 1, i):\n",
    "                crivo[j] = False\n",
    "\n",
    "    primos = [i for i in range(2, cota_superior + 1) if crivo[i]]\n",
    "    \n",
    "    return primos"
   ]
  },
  {
   "cell_type": "markdown",
   "metadata": {},
   "source": [
    "Assim, quando quisermos encontrar os números primos, podemos simplesmente chamar essa função com a cota desejada."
   ]
  },
  {
   "cell_type": "code",
   "execution_count": null,
   "metadata": {},
   "outputs": [],
   "source": [
    "print(\"Primos até 10:\\n  \", crivo_de_eratostenes(10))\n",
    "\n",
    "print(\"Primos até 20:\\n  \", crivo_de_eratostenes(20))\n",
    "\n",
    "print(\"Primos até 100:\\n  \", crivo_de_eratostenes(100))"
   ]
  },
  {
   "cell_type": "markdown",
   "metadata": {},
   "source": [
    "## Documentando o código\n",
    "\n",
    "Seguindo a documentação [PEP 257 -- Docstring Conventions](https://www.python.org/dev/peps/pep-0257/) para *docstrings*, podemos documentar o nosso código incluindo um texto entre conjuntos de três aspas simples, no ínicio da função."
   ]
  },
  {
   "cell_type": "code",
   "execution_count": null,
   "metadata": {},
   "outputs": [],
   "source": [
    "import math\n",
    "\n",
    "def crivo_de_eratostenes(cota_superior):\n",
    "    '''\n",
    "    Determinação dos números primos através do Crivo de Eratóstenes\n",
    "    \n",
    "    Esta função implementa o algoritmo do Crivo de Eratóstenes, para\n",
    "    encontrar todos os números primos entre 2 e um número dado.\n",
    "    \n",
    "    Entrada:\n",
    "    --------\n",
    "        cota_superior: inteiro\n",
    "            Um inteiro positivo até o qual a busca por números primos será feita.\n",
    "    \n",
    "    Saída:\n",
    "    ------\n",
    "        primos: lista de inteiros\n",
    "            Uma lista com os números primos encontrados.\n",
    "            \n",
    "    Exemplo:\n",
    "    --------\n",
    "    \n",
    "        crivo_de_eratostenes(10)\n",
    "            Retorna a lista [2, 3, 5, 7, 9], que são todos os primos entre 2 e 10.\n",
    "    '''\n",
    "    \n",
    "    crivo = (cota_superior + 1) * [True] \n",
    "    # Compensar que o índice de arrays começa em 0 e termina em um \n",
    "    # a menos do seu comprimento\n",
    "    \n",
    "    for i in range(2,round(math.sqrt(cota_superior + 1))):\n",
    "        # Varre os inteiros para negar, no crivo, os primos que \n",
    "        # são múltiplos desses inteiros\n",
    "        if crivo[i]: \n",
    "            # Pula os que já foram negados\n",
    "            for j in range(i**2, cota_superior + 1, i):\n",
    "                crivo[j] = False\n",
    "\n",
    "    primos = [i for i in range(2, cota_superior + 1) if crivo[i]]\n",
    "    \n",
    "    return primos"
   ]
  },
  {
   "cell_type": "markdown",
   "metadata": {},
   "source": [
    "Com essa documentação, podemos utilizar a função `help` para ler a *docstring* da função criada:"
   ]
  },
  {
   "cell_type": "code",
   "execution_count": null,
   "metadata": {},
   "outputs": [],
   "source": [
    "help(crivo_de_eratostenes)"
   ]
  },
  {
   "cell_type": "markdown",
   "metadata": {},
   "source": [
    "## Exceções\n",
    "\n",
    "Para um bom código, é importante, também, prever possíveis erros. Por exemplo, no caso acima, é possível que a função `crivo_de_eratostenes` seja chamada com um argumento inteiro negativo ou de outro tipo diferente de inteiro, como um float, string, array, etc. Para isso, podemos usar a cláusula `raise/except` ou `assert`."
   ]
  },
  {
   "cell_type": "markdown",
   "metadata": {},
   "source": [
    "Usando `raise/except`:"
   ]
  },
  {
   "cell_type": "code",
   "execution_count": null,
   "metadata": {},
   "outputs": [],
   "source": [
    "import math\n",
    "\n",
    "def crivo_de_eratostenes(cota_superior):\n",
    "    '''\n",
    "    Determinação dos números primos através do Crivo de Eratóstenes\n",
    "    \n",
    "    Esta função implementa o algoritmo do Crivo de Eratóstenes, para\n",
    "    encontrar todos os números primos entre 2 e um número dado.\n",
    "    \n",
    "    Entrada:\n",
    "    --------\n",
    "        cota_superior: inteiro\n",
    "            Um inteiro positivo até o qual a busca por números primos \n",
    "            será feita.\n",
    "    \n",
    "    Saída:\n",
    "    ------\n",
    "        primos: lista de inteiros\n",
    "            Uma lista com os números primos encontrados.\n",
    "            \n",
    "    Exemplo:\n",
    "    --------\n",
    "    \n",
    "        crivo_de_eratostenes(10)\n",
    "            Retorna a lista [2, 3, 5, 7, 9], que são todos os primos \n",
    "            entre 2 e 10.\n",
    "    '''\n",
    "    \n",
    "    if type(cota_superior) != int:\n",
    "        raise Exception(f\"A cota superior '{cota_superior}', dada \\\n",
    "como argumento da função, é do tipo '{type(cota_superior)}', mas \\\n",
    "deveria ser um inteiro positivo.\")\n",
    "    elif cota_superior <=0:\n",
    "        raise Exception(f\"A cota superior '{cota_superior}', dada \\\n",
    "como argumento da função, deveria ser um inteiro positivo.\")\n",
    "        \n",
    "    \n",
    "    crivo = (cota_superior + 1) * [True] \n",
    "    # Compensar que o índice de arrays começa em 0 e termina em um \n",
    "    # a menos do seu comprimento\n",
    "\n",
    "    for i in range(2,round(math.sqrt(cota_superior + 1))):\n",
    "        # Varre os inteiros para negar, no crivo, os primos que \n",
    "        # são múltiplos desses inteiros\n",
    "        if crivo[i]: \n",
    "            # Pula os que já foram negados\n",
    "            for j in range(i**2, cota_superior + 1, i):\n",
    "                crivo[j] = False\n",
    "\n",
    "    primos = [i for i in range(2, cota_superior + 1) if crivo[i]]\n",
    "    \n",
    "    return primos"
   ]
  },
  {
   "cell_type": "code",
   "execution_count": null,
   "metadata": {},
   "outputs": [],
   "source": [
    "crivo_de_eratostenes(\"blah\")"
   ]
  },
  {
   "cell_type": "markdown",
   "metadata": {},
   "source": [
    "Usando `assert`:"
   ]
  },
  {
   "cell_type": "code",
   "execution_count": null,
   "metadata": {},
   "outputs": [],
   "source": [
    "import math\n",
    "\n",
    "def crivo_de_eratostenes(cota_superior):\n",
    "    '''\n",
    "    Determinação dos números primos através do Crivo de Eratóstenes\n",
    "    \n",
    "    Esta função implementa o algoritmo do Crivo de Eratóstenes, para\n",
    "    encontrar todos os números primos entre 2 e um número dado.\n",
    "    \n",
    "    Entrada:\n",
    "    --------\n",
    "        cota_superior: inteiro\n",
    "            Um inteiro positivo até o qual a busca por números primos \n",
    "            será feita.\n",
    "    \n",
    "    Saída:\n",
    "    ------\n",
    "        primos: lista de inteiros\n",
    "            Uma lista com os números primos encontrados.\n",
    "            \n",
    "    Exemplo:\n",
    "    --------\n",
    "    \n",
    "        crivo_de_eratostenes(10)\n",
    "            Retorna a lista [2, 3, 5, 7, 9], que são todos os primos \n",
    "            entre 2 e 10.\n",
    "    '''\n",
    "\n",
    "    assert (type(cota_superior) == int), f\"A cota superior \\\n",
    "'{cota_superior}', dada como argumento da função, é do tipo \\\n",
    "'{type(cota_superior)}', mas deveria ser um inteiro positivo.\"\n",
    "\n",
    "    assert (cota_superior > 0), f\"A cota superior '{cota_superior}', \\\n",
    "dada como argumento da função, deveria ser um inteiro positivo.\"\n",
    "\n",
    "    crivo = (cota_superior + 1) * [True] \n",
    "    # Compensar que o índice de arrays começa em 0 e termina em um \n",
    "    # a menos do seu comprimento\n",
    "\n",
    "    for i in range(2,round(math.sqrt(cota_superior + 1))):\n",
    "        # Varre os inteiros para negar, no crivo, os primos que \n",
    "        # são múltiplos desses inteiros\n",
    "        if crivo[i]: \n",
    "            # Pula os que já foram negados\n",
    "            for j in range(i**2, cota_superior + 1, i):\n",
    "                crivo[j] = False\n",
    "\n",
    "    primos = [i for i in range(2, cota_superior + 1) if crivo[i]]\n",
    "    \n",
    "    return primos"
   ]
  },
  {
   "cell_type": "code",
   "execution_count": null,
   "metadata": {},
   "outputs": [],
   "source": [
    "crivo_de_eratostenes(\"blah\")"
   ]
  },
  {
   "cell_type": "markdown",
   "metadata": {},
   "source": [
    "## Criando um módulo com o código\n",
    "\n",
    "Finalmente, vamos considerar que o código pode ser tratado como um módulo e importado por outro código. Nesse caso, é interessante incluir uma *docstring* no início do código. Pela convenção de nomes, por ser um módulo, o cógido deve ser salvo com um nome em minúsculas, composto por uma ou mais palavras, separadas por sublinhado. Usaremos simplesmente o nome `crivos.py`, caso, posteriormente, queiramos incluir outros crivos.\n",
    "\n",
    "Mais ainda, temos que ter em mente que esse código pode ser executado diretamente pela linha de comando e, nesse caso, pode ser interessante rodar algum teste ou permitir que ele execute um exemplo padrão. Digamos, exibir os primos abaixo de 100.\n",
    "\n",
    "Para isso, adicionamos linhas iniciais para indicar a versão de python que queremos usar e o *encoding*, e adicionamos linhas finais a serem executadas apenas quando o código é executado diretamente, ao invés de importado."
   ]
  },
  {
   "cell_type": "code",
   "execution_count": null,
   "metadata": {},
   "outputs": [],
   "source": [
    "#!/usr/bin/env python3\n",
    "# -*- coding: utf-8 -*-\n",
    "'''\n",
    "Números primos segundo o crivo de Eratóstenes\n",
    "\n",
    "Este código exibe todos os números primos abaixo de 100, utilizando \n",
    "o algoritmo do crivo de Eratóstenes.\n",
    "\n",
    "Este código também pode ser importado como módulo. Nesse caso\n",
    "ele disponibiliza a função que implementa o algoritmo, que pode\n",
    "então ser executado com qualquer cota superior:\n",
    "\n",
    "    * primos_ate: recebe um inteiro positivo e retorna uma lista\n",
    "        com todos números primos entre 2 e este inteiro.\n",
    "'''\n",
    "\n",
    "import math\n",
    "\n",
    "def primos_ate(cota_superior):\n",
    "    '''\n",
    "    Determinação dos números primos através do Crivo de Eratóstenes\n",
    "    \n",
    "    Esta função implementa o algoritmo do Crivo de Eratóstenes, para\n",
    "    encontrar todos os números primos entre 2 e um número dado.\n",
    "    \n",
    "    Entrada:\n",
    "    --------\n",
    "        cota_superior: inteiro\n",
    "            Um inteiro positivo até o qual a busca por números primos \n",
    "            será feita.\n",
    "    \n",
    "    Saída:\n",
    "    ------\n",
    "        primos: lista de inteiros\n",
    "            Uma lista com os números primos encontrados.\n",
    "            \n",
    "    Exemplo:\n",
    "    --------\n",
    "    \n",
    "        crivo_de_eratostenes(10)\n",
    "            Retorna a lista [2, 3, 5, 7, 9], que são todos os primos \n",
    "            entre 2 e 10.\n",
    "    '''\n",
    "\n",
    "    assert (type(cota_superior) == int), f\"A cota superior \\\n",
    "'{cota_superior}', dada como argumento da função, é do tipo \\\n",
    "'{type(cota_superior)}', mas deveria ser um inteiro positivo.\"\n",
    "\n",
    "    assert (cota_superior > 0), f\"A cota superior '{cota_superior}', \\\n",
    "dada como argumento da função, deveria ser um inteiro positivo.\"\n",
    "\n",
    "    crivo = (cota_superior + 1) * [True] \n",
    "    # Compensar que o índice de arrays começa em 0 e termina em um \n",
    "    # a menos do seu comprimento\n",
    "\n",
    "    for i in range(2,round(math.sqrt(cota_superior + 1))):\n",
    "        # Varre os inteiros para negar, no crivo, os primos que \n",
    "        # são múltiplos desses inteiros\n",
    "        if crivo[i]: \n",
    "            # Pula os que já foram negados\n",
    "            for j in range(i**2, cota_superior + 1, i):\n",
    "                crivo[j] = False\n",
    "\n",
    "    primos = [i for i in range(2, cota_superior + 1) if crivo[i]]\n",
    "    \n",
    "    return primos\n",
    "\n",
    "if __name__ == '__main__':\n",
    "    print(\"Primos até 100 calculados pelo crivo de Eratóstenes:\\n  \", primos_ate(100))"
   ]
  },
  {
   "cell_type": "markdown",
   "metadata": {},
   "source": [
    "Podemos executar o código da linha de comando do shell, no diretório `motmatcodigos`, com\n",
    "```bash\n",
    "    (.../motmatcodigos/codigos) $ python crivos.py\n",
    "```\n",
    "ou diretamente aqui do *jupyter*. Mas como estamos acessando um arquivo local, ao executarmos no caderno jupyter, novamente é necessário nos preocuparmos se estamos no *Google Colab* ou no *jupyter lab/notebook*, para definir o caminho certo para o arquivo:"
   ]
  },
  {
   "cell_type": "code",
   "execution_count": 42,
   "metadata": {},
   "outputs": [],
   "source": [
    "from os import path\n",
    "try:\n",
    "    # Executa esse bloco caso esteja no google colab e define a o caminho correto para o arquivo\n",
    "    from google.colab import drive\n",
    "    drive.mount('/content/gdrive')\n",
    "    arquivo_crivo = '/content/gdrive/\"My Drive\"/\"Colab Notebooks\"/modmat/modmatnb/modmatcodigos/crivos/crivo_de_eratostenes.py'\n",
    "    IN_COLAB = True\n",
    "except:\n",
    "    # caso contrário, define o caminha fora do google colab\n",
    "    arquivo_crivo = path.join('modmatcodigos', 'crivos', 'crivo_de_eratostenes.py')\n",
    "    IN_COLAB = False"
   ]
  },
  {
   "cell_type": "markdown",
   "metadata": {},
   "source": [
    "Uma vez definido o caminho, podemos usar o comando mágico `%run` para executar o código. O uso do símbolo `$` como prefixo nos permite usar uma variável do caderno em um comando mágico:"
   ]
  },
  {
   "cell_type": "code",
   "execution_count": 43,
   "metadata": {},
   "outputs": [
    {
     "name": "stdout",
     "output_type": "stream",
     "text": [
      "Primos até 100 calculados pelo crivo de Eratóstenes:\n",
      "   [2, 3, 5, 7, 11, 13, 17, 19, 23, 29, 31, 37, 41, 43, 47, 53, 59, 61, 67, 71, 73, 79, 83, 89, 97]\n"
     ]
    }
   ],
   "source": [
    "%run $arquivo_crivo"
   ]
  },
  {
   "cell_type": "markdown",
   "metadata": {},
   "source": [
    "Podemos, finalmente, importar o módulo. Nesse caso, nenhum código é executado. Novamente, a maneira de fazer isso depende se estamos no *Google colab* ou não."
   ]
  },
  {
   "cell_type": "code",
   "execution_count": 44,
   "metadata": {},
   "outputs": [],
   "source": [
    "if IN_COLAB:\n",
    "    from importlib.machinery import SourceFileLoader\n",
    "    PROJECT_PATH = '/content/gdrive/My Drive/Colab Notebooks/modmat/modmatnb/'\n",
    "    crivo_de_eratostenes = SourceFileLoader('crivo_de_eratostenes', join(PROJECT_PATH, 'modmatcodigos/crivos/crivo_de_eratostenes.py')).load_module()\n",
    "else:\n",
    "    from modmatcodigos.crivos import crivo_de_eratostenes  "
   ]
  },
  {
   "cell_type": "markdown",
   "metadata": {},
   "source": [
    "Mas após importarmos podemos chamar a função que está no módulo crivo_de_eratostenes:"
   ]
  },
  {
   "cell_type": "code",
   "execution_count": 45,
   "metadata": {},
   "outputs": [
    {
     "name": "stdout",
     "output_type": "stream",
     "text": [
      "Primos até 100:\n",
      "   [2, 3, 5, 7, 11, 13, 17, 19, 23, 29, 31, 37, 41, 43, 47, 53, 59, 61, 67, 71, 73, 79, 83, 89, 97]\n"
     ]
    }
   ],
   "source": [
    "print(\"Primos até 100:\\n  \", crivo_de_eratostenes.primos_ate(100))"
   ]
  },
  {
   "cell_type": "markdown",
   "metadata": {},
   "source": [
    "Agora, vamos ilustrar como uma boa documentação pode ser útil, utilizando o comando `help` no módulo. Aprecie como o próprio `help` já embeleza a documentação, a partir das *docstrings* que escrevemos. Observe, ainda, que a restrição a 72 caracteres é útil para não bagunção o texto."
   ]
  },
  {
   "cell_type": "code",
   "execution_count": 40,
   "metadata": {},
   "outputs": [
    {
     "name": "stdout",
     "output_type": "stream",
     "text": [
      "Help on module modmatcodigos.crivos.crivo_de_eratostenes in modmatcodigos.crivos:\n",
      "\n",
      "NAME\n",
      "    modmatcodigos.crivos.crivo_de_eratostenes - Números primos segundo o crivo de Eratóstenes\n",
      "\n",
      "DESCRIPTION\n",
      "    Este código exibe todos os números primos abaixo de 100, utilizando \n",
      "    o algoritmo do crivo de Eratóstenes.\n",
      "    \n",
      "    Este código também pode ser importado como módulo. Nesse caso\n",
      "    ele disponibiliza a função que implementa o algoritmo, que pode\n",
      "    então ser executado com qualquer cota superior:\n",
      "    \n",
      "        * primos_ate: recebe um inteiro positivo e retorna uma lista\n",
      "            com todos números primos entre 2 e este inteiro.\n",
      "\n",
      "FUNCTIONS\n",
      "    primos_ate(cota_superior)\n",
      "        Determinação dos números primos através do Crivo de Eratóstenes\n",
      "        \n",
      "        Esta função implementa o algoritmo do Crivo de Eratóstenes, para\n",
      "        encontrar todos os números primos entre 2 e um número dado.\n",
      "        \n",
      "        Entrada:\n",
      "        --------\n",
      "            cota_superior: inteiro\n",
      "                Um inteiro positivo até o qual a busca por números primos \n",
      "                será feita.\n",
      "        \n",
      "        Saída:\n",
      "        ------\n",
      "            primos: lista de inteiros\n",
      "                Uma lista com os números primos encontrados.\n",
      "                \n",
      "        Exemplo:\n",
      "        --------\n",
      "        \n",
      "            crivo_de_eratostenes(10)\n",
      "                Retorna a lista [2, 3, 5, 7, 9], que são todos os primos \n",
      "                entre 2 e 10.\n",
      "\n",
      "FILE\n",
      "    /Users/rrosa/Dropbox/Documents/math-atual/im/modmat-2019/modmatnb/modmatcodigos/crivos/crivo_de_eratostenes.py\n",
      "\n",
      "\n"
     ]
    }
   ],
   "source": [
    "help(crivo_de_eratostenes)"
   ]
  },
  {
   "cell_type": "markdown",
   "metadata": {},
   "source": [
    "## Exercícios\n",
    "\n",
    "1. Crie uma função em python implementando o [Crivo de Sundaram](https://pt.wikipedia.org/wiki/Crivo_de_Sundaram) (veja também a versão em inglês [Sieve of Sundaram](https://en.wikipedia.org/wiki/Sieve_of_Sundaram) e comente e documente o código apropriadamente."
   ]
  },
  {
   "cell_type": "markdown",
   "metadata": {},
   "source": [
    "<!--NAVIGATION-->\n",
    "\n",
    "---\n",
    "[<- Computação simbólica](01.05-Computacao_simbolica.ipynb) | [Índice](Indice.ipynb) | [Referências](99.00-Referencias.ipynb) | [Princípios de modelagem matemática ->](02.00-Principios_de_modelagem_matematica.ipynb)\n",
    "\n",
    "<a href=\"https://colab.research.google.com/github/rmsrosa/modelagem_matematica/blob/master/notebooks/01.06-Boas_praticas_em_python.ipynb\"><img align=\"left\" src=\"https://colab.research.google.com/assets/colab-badge.svg\" alt=\"Open in Colab\" title=\"Open and Execute in Google Colaboratory\"></a><br>\n"
   ]
  }
 ],
 "metadata": {
  "kernelspec": {
   "display_name": "Python 3",
   "language": "python",
   "name": "python3"
  },
  "language_info": {
   "codemirror_mode": {
    "name": "ipython",
    "version": 3
   },
   "file_extension": ".py",
   "mimetype": "text/x-python",
   "name": "python",
   "nbconvert_exporter": "python",
   "pygments_lexer": "ipython3",
   "version": "3.7.1"
  }
 },
 "nbformat": 4,
 "nbformat_minor": 2
}
