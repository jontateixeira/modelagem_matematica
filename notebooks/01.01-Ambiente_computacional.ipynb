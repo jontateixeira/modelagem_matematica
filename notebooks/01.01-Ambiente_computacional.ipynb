{
 "cells": [
  {
   "cell_type": "markdown",
   "metadata": {},
   "source": [
    "<!--BOOK_INFORMATION-->\n",
    "<!--<img align=\"left\" style=\"padding-right:10px;\" src=\"figures/PDSH-cover-small.png\">-->\n",
    "\n",
    "*[Notas de aula da disciplina de \n",
    "Modelagem Matemática](https://github.com/rmsrosa/modelagem_matematica)\n",
    "do [IM-UFRJ](https://www.im.ufrj.br).*"
   ]
  },
  {
   "cell_type": "markdown",
   "metadata": {},
   "source": [
    "<!--NAVIGATION-->\n",
    "\n",
    "\n",
    "<a href=\"https://colab.research.google.com/github/rmsrosa/modelagem_matematica/blob/master/notebooks/01.01-Ambiente_computacional.ipynb\"><img align=\"left\" src=\"https://colab.research.google.com/assets/colab-badge.svg\" alt=\"Open in Colab\" title=\"Open and Execute in Google Colaboratory\"></a><br>\n",
    "\n",
    "[<- Destino, Jupyter!](01.00-Destino_Jupyter.ipynb) | [Índice](Indice.ipynb) | [Referências](99.00-Referencias.ipynb) | [Reconhecimento de Jupyter ->](01.02-Reconhecimento_de_Jupyter.ipynb)\n",
    "\n",
    "---\n"
   ]
  },
  {
   "cell_type": "markdown",
   "metadata": {},
   "source": [
    "# O Ambiente computacional\n",
    "\n",
    "A parte computacional do curso é desenvolvida em linguagem [Python](https://www.python.org), dentro do ambiente [Jupyter Lab](http://jupyterlab.io), do [Jupyter Notebook](http://jupyter.org) ou do [Google Colaboratory](https://colab.research.google.com/notebooks/welcome.ipynb). Ela pode ser executada localmente, em uma máquina com o Python e com os devidos pacotes instalados, nos casos do [Jupyter Lab](http://jupyterlab.io), ou do [Jupyter Notebook](http://jupyter.org), ou \"na nuvem\", através do [Google Colaboratory](https://colab.research.google.com/notebooks/welcome.ipynb). No futuro, quando as notas estiverem disponíveis no [Github](github.com), elas poderão ser executas na nuvem através do [binder](https://mybinder.org/), também. Finalmente, mencionamos que as notas também podem ser acessada na \"nuvem\" via [nbviewer](https://nbviewer.jupyter.org), mas, nesse caso, só para visualização, sem modificação/interação.\n",
    "\n",
    "A seguir, vamos fazer alguns breves comentários sobre os aspectos computacionais."
   ]
  },
  {
   "cell_type": "markdown",
   "metadata": {},
   "source": [
    "## Python\n",
    "\n",
    "Um mínimo de familiaridade com Python é desejável. Vamos trabalhar com [Python](https://www.python.org), versões 3.6 ou 3.7 (mas versões anteriores recentes do Python 3, pelo menos a partir do 3.5, exceto talvez por alguns pacotes específicos). Para mais informações sobre a linguagem e links para tutoriais, veja, por exemplo, as páginas\n",
    "\n",
    "- [Python Software Foundation](https://www.python.org)\n",
    "- [Python Standard Library](https://docs.python.org/3.6/library/index.html)\n",
    "- [Beginners Guide to Python](https://wiki.python.org/moin/BeginnersGuide)\n",
    "- [Python Brasil](https://python.org.br/introducao/)\n",
    "- [A (curated) gallery of interesting Jupyter Notebooks](https://github.com/jupyter/jupyter/wiki/A-gallery-of-interesting-Jupyter-Notebooks)\n",
    "- [Awesome Python Applications](https://github.com/mahmoud/awesome-python-applications)\n",
    "- [Python Data Science Handbook](https://jakevdp.github.io/PythonDataScienceHandbook/)\n"
   ]
  },
  {
   "cell_type": "markdown",
   "metadata": {},
   "source": [
    "## Módulos e pacotes do Python\n",
    "\n",
    "Utilizamos alguns módulos e pacotes do Python que podemos dividir da seguinte forma:\n",
    "\n",
    "- Módulos incluídos na biblioteca padrão do Python ([Python Standard Library](https://docs.python.org/3.6/library/index.html)):\n",
    "    - [math](https://docs.python.org/3.6/library/math.html): é um módulo básico, com funções matemáticas essenciais.\n",
    "    - [time](https://docs.python.org/3.6/library/time.html): contém várias rotinas úteis relacionadas com o tempo, como adormecer o sistema por um breve momento para uma visualização mais adequada de animações ou a contagem de tempo de processamento de outras rotinas.\n",
    "    - [os](https://docs.python.org/3.6/library/os.html): contém interfaces com o sistema operacional, como o acesso a arquivos de dados.\n",
    "    - [sys](https://docs.python.org/3/library/sys.html): contém parâmetros e funções específicas do sistema.\n",
    "    - [pathlib](https://docs.python.org/3/library/pathlib.html): contém objetos para um tratamento de caminhos de diretório e arquivos de forma independente da plataforma.\n",
    "    - [io](http://localhost:8888/lab): contém métodos de leitura e gravação de dados\n",
    "    - [csv](https://docs.python.org/3.6/library/csv.html): contém rotinas para importar e exportar strings escritas no formato [csv (comma separated values)](http://creativyst.com/Doc/Articles/CSV/CSV01.htm), muito usado para guardar informações de certas bases de dados e planilhas. \n",
    "    - [json](https://docs.python.org/3.6/library/json.html): rotinas para codificar e decodificar dados formatados em [JSON (Java Script Object Notation)](http://json.org), que está sendo cada vez mais popular para arquivar e trocar de dados.\n",
    "- Pacotes não incluídos na instalação padrão do Python, mas que estão na distribuição [Anaconda](https://www.anaconda.com) e no ambiente do [Google Colaboratory](https://colab.research.google.com/notebooks/welcome.ipynb), e são voltados para computação científica. Também podem ser instalados individualmente via [PyPI](https://pypi.org), que é outro sistema de gerenciamento de pacotes:\n",
    "    - [numpy](http://www.numpy.org/): este é um pacote fundamental para computação científica em python, com  tratamento de *arrays* multidimensionais, rotinas de álgebra linear, transformada rápida de Fourier, geração de números aleatórios, isso integrando códigos ultra-rápidos, eficientes e bem estabelecidos de Fortran e C/C++.\n",
    "    - [scipy](https://scipy.org/scipylib/index.html): contém uma coleção de algoritmos construídos em cima do `numpy` e disponibilizando rotinas eficientes para interpolação, integração numérica, otimização, processamento de sinais, tratamento estatístico, entre outras (veja [Scipy Introduction](http://scipy.github.io/devdocs/tutorial/general.html)).\n",
    "    - [pandas](https://pandas.pydata.org/index.html): pacote para manipulação rápida e eficiente de dados, com recursos para leitura e gravação de arquivos de dados em diversos formatos, manipulação e busca eficientes de tabelas complexas, rotinas gráficas, entre outros (veja [Library Highlights](https://pandas.pydata.org/index.html#library-highlights)).\n",
    "    - [jupyter](http://jupyter.org): pacote de aplicativos para navegadores de internet visando a criação e compartilhamento de documentos, equações e códigos numéricos.\n",
    "    - [matplotlib](https://matplotlib.org/): biblioteca para a produção de gráficos bidimensionais.\n",
    "    - [mpl_toolkits](https://matplotlib.org/mpl_toolkits/index.html): incluído no pacote `matplotlib`, é uma espécie de extensão para visualização de gráfics tridimensionais.\n",
    "    - [seaborn](https://seaborn.pydata.org/): outro pacote de visualização de dados estendendo o `matplotlib`.\n",
    "- Pacotes matemáticos mais avançados, não incluídos nem na biblioteca padrão, nem no Anaconda, voltados para a resolução de equações a derivadas parciais:\n",
    "    - [mayavi](https://docs.enthought.com/mayavi/mayavi/index.html): gráficos e visualização de dados científicos em 3D.\n",
    "    - [fenics](https://fenicsproject.org/): resolução de equações diferenciais parciais via elementos finitos.\n",
    "    - [dedalus](http://dedalus-project.org/): resolução de equações diferenciais parciais via métodos espectrais.\n",
    "    - [pyfoam](http://openfoamwiki.net/index.php/Contrib/PyFoam): pacote python para servir de interface para o software [OpenFoam](https://openfoam.org), escrito em linguagem C, um dos mais populares softwares para a resolução de problemas de escoamento de fluidos (*CFD - Computational Fluid Dynamics*).\n",
    "    - [NGS-Py](https://ngsolve.org/docu/latest/index.html): pacote python para servir de interface para o [Netgen/NGSolve](https://ngsolve.org), que inclui gerador de malha de elementos finitos [Netgen](https://ngsolve.org/showcases/netgen) e o pacote de resolução via elementos finitos [NGSolve](https://ngsolve.org/showcases/ngsolve). \n",
    "    - [sfepy](http://sfepy.org): resolução de equações diferenciais parciais via elementos finitos.\n"
   ]
  },
  {
   "cell_type": "markdown",
   "metadata": {},
   "source": [
    "## Jupyter\n",
    "\n",
    "#### Escrevendo no Jupyter\n",
    "\n",
    "Através da plataforma [Jupyter](http://jupyter.org/), podemos unir\n",
    "- **documentos**, através do [Markdown](http://daringfireball.net/projects/markdown/);\n",
    "- **símbolos matemáticos** do [LaTeX](https://www.latex-project.org/about/), através do [MathJax](https://www.mathjax.org); e\n",
    "- **execução de códigos** de diversas linguagens, como [Python](https://www.python.org).\n",
    "\n",
    "O [Markdown](http://daringfireball.net/projects/markdown/) é, por um lado, uma [linguagem de marcação](https://pt.wikipedia.org/wiki/Linguagem_de_marca%C3%A7%C3%A3o) *([\"markup language\"](https://en.wikipedia.org/wiki/Markup_language))* e, por outro, um conversor dessa linguagem de marcação para [HTML](https://www.w3.org/html/). Como linguagem de marcação, o [Markdown](http://daringfireball.net/projects/markdown/) contém certos comandos especiais que podem ser convertidos em determinados comandos do [HTML](https://www.w3.org/html/), como ênfases, listas, lnks, etc.. O próprio [HTML](https://www.w3.org/html/) também é uma linguagem de marcação, que é transformada em documento pelos **navegadores** *(\"browsers\")*. Veja alguns comandos em [Markdown quick reference cheat sheet](https://en.support.wordpress.com/markdown-quick-reference/) ou [Mastering Markdown](https://guides.github.com/features/mastering-markdown/).\n",
    "\n",
    "Em relação aos códigos, [Jupyter](http://jupyter.org/) pode ser configurado para interpretar várias linguagens, como [Julia](https://julialang.org), [Python](https://www.python.org) e [R](https://www.r-project.org), que, aliás, podem ser combinadas para ter Jupyter como acrônimo, apesar do nome não ter sido dado estritamente por esse razão. Neste curso, vamos usar o [Python](https://www.python.org), que possui pacotes para computação científica ([numpy](http://www.numpy.org) e [scipy](https://www.scipy.org)), gráficos ([matplotlib](https://matplotlib.org/)), computação algébrica ([sympy](http://www.sympy.org/en/index.html)) e análise estatística de dados ([pandas](http://pandas.pydata.org)), além de diversos outros pacotes mais específicos."
   ]
  },
  {
   "cell_type": "markdown",
   "metadata": {},
   "source": [
    "#### Plataformas para o Jupyter\n",
    "\n",
    "Como dito anteriormente, há várias formas de editar os cadernos e executar os seus códigos. Neste curso, as notas serão disponibilizadas via Google Drive e veremos como editá-las e executá-las das seguintes formas:\n",
    "1. diretamente via plataforma [Google Colab](https://colab.research.google.com/notebooks/welcome.ipynb);\n",
    "1. localmente via [Jupyter lab](http://jupyterlab.io); ou\n",
    "1. localmente via [Jupyter notebook](http://jupyter.org).\n",
    "\n",
    "O próprio [Python Data Science Handbook](https://jakevdp.github.io/PythonDataScienceHandbook/) é um ótimo exemplo dessas diversas opções. Além da versão impressa, ele tem uma [versão disponível no github](https://github.com/jakevdp/PythonDataScienceHandbook), em forma de cadernos Jupyter, que podem ser acessados diretamente [via Google Colab](https://colab.research.google.com/github/jakevdp/PythonDataScienceHandbook/blob/master/notebooks/Index.ipynb), [via binder](https://mybinder.org/v2/gh/jakevdp/PythonDataScienceHandbook/master?filepath=notebooks%2FIndex.ipynb) e [via notebooks no github](https://github.com/jakevdp/PythonDataScienceHandbook/tree/master/notebooks). \n",
    "\n",
    "Aliás, foi esse formato, via jupyter notebooks, desse livro, que inspirou o formato destas notas de aula de Modelagem Matemática."
   ]
  },
  {
   "cell_type": "markdown",
   "metadata": {},
   "source": [
    "#### O kernel dos cadernos\n",
    "\n",
    "Cada caderno [Jupyter](http://jupyter.org/) pode ser configurado para rodar uma de muitas linguagens. A escolha depende dos **kernels** instalados. Há diversos *kernels* disponíveis (veja em [Jupyter kernels](https://github.com/jupyter/jupyter/wiki/Jupyter-kernels)). Com a devida escolha do *kernel*, é posssível rodar Javascript, Forth, Pearl, Octave, Scilab, Mathlab, Lua, Tcl, C, PHP, só pra mencionar algumas linguagens com às quais já tive alguma experiência. Há várias outras.\n",
    "\n",
    "No curso, é claro, vamos nos restringir ao [Python](https://www.python.org). As notas estão sendo escritas para versão igual ou superior a 3.6 do Python.\n",
    "\n",
    "No caso do [Google Colab](https://colab.research.google.com/notebooks/welcome.ipynb), há dois *kernels* disponíveis, o do python 2.7.15rcl e o do python 3.6.7."
   ]
  },
  {
   "cell_type": "markdown",
   "metadata": {},
   "source": [
    "No caso de instalação local, podemos usar a distribuição Anaconda, que já inclui  o `jupyter notebook` e o `jupyter lab`, com um *kernel* padrão, e também inclui diversos pacotes científicos, sem a necessidade de os instalarmos individualmente.\n",
    "\n",
    "A distribuição Anaconda, ou qualquer versão local do python, vem com o que se chama de **ambiente** (*environment*) \"base\" e é possível instalar novos pacotes (ou desinstalar outros já instalados) nesse ambiente ou criar novos ambientes e instalar pacotes nesses novos ambientes. Isso é útil quando há conflito entre pacotes e queremos evitar problemas ou fazer algum determinado módulo funcionar. Os  ambientes funcionam independentemente.\n",
    "\n",
    "Para cada ambiente criado, podemos criar um novo *kernel* para ser usado pelo Jupyter. Inclusive com versões diferentes de python. A escolha do *kernel* aparece ao criarmos um novo caderno.\n",
    "\n",
    "Vamos nos preocupar com isso no futuro, caso seja necessário. No momento, utilizaremos o *kernel* padrão já instalado.\n",
    "\n",
    "Para verificar a versão do python que está disponível no caderno, podemos usar as seguinte código:"
   ]
  },
  {
   "cell_type": "code",
   "execution_count": 1,
   "metadata": {},
   "outputs": [
    {
     "name": "stdout",
     "output_type": "stream",
     "text": [
      "3.7.1 (default, Dec 14 2018, 13:28:58) \n",
      "[Clang 4.0.1 (tags/RELEASE_401/final)]\n"
     ]
    }
   ],
   "source": [
    "import sys\n",
    "print(sys.version)"
   ]
  },
  {
   "cell_type": "markdown",
   "metadata": {},
   "source": [
    "#### Os diferentes tipos de células: *code*, *markdown*, *raw*\n",
    "\n",
    "O conteúdo das notas é formado por células *(\"cells\")* e há três tipos de células:\n",
    "- **Code:** onde o código escrito será executado pelo *kernel* esccolhido;\n",
    "- **Markdown:** onde o texto escrito será convertido para HTML e visualizado como documento, e que pode conter, ou não, símbolos matemáticos;\n",
    "- **Raw:** em que o texto não será interpretado e será exibido pelo navegador em forma *crua*, digamos assim.\n",
    "\n",
    "Cada bloco é criado clicando-se no símbolo `+` no menu no bloco da página e é entendido inicialmente como um bloco de código. O tipo de bloco pode ser alterado, em qualquer momento, para um dos outros formatos, através do item correspondente no mesmo menu. Cada bloco pode ser editado clicando-se duas vezes nele.\n",
    "\n",
    "Veremos, a seguir, exemplos de células de código, entremeados por células de *markdown*, para nos ambientarmos com o Jupyter. "
   ]
  },
  {
   "cell_type": "markdown",
   "metadata": {},
   "source": [
    "#### Processamento das células\n",
    "\n",
    "Após uma célula ser criada ou editada, ela pode ser executada para exibir o seu resultado, tanto como documento, no caso de uma célula *markdown*, como código, no caso de uma célula *code*. A execução da célula pode ser feita através do menu superior, clicando-se em *\"Run > Run Selected Cell\"*, ou com a combinação de teclas *\"Shift + Enter\"*.\n",
    "\n",
    "O resultado da execução de uma célula de código fica armazenado na memória e pode ser utilizado por células executadas posteriormente. Isso não precisa ser na ordem de aparição no documento. Podemos executar as células em ordens diferentes. A ordem da execução é exibida entre os *colchetes* que ficam do lado esquerdo de cada célula.\n",
    "\n",
    "Podemos limpar o resultado das execuções das células de um mesmo bloco clicando em *\"Kernel > Restart Kernel and Clear All Outputs...\"*. Após editarmos várias vezes um mesmo caderno e executarmos códigos em ordens diverses, é saudável limpar o resultado do caderno para evitar que certos blocos ainda estejam utilizando resultados de blocos executados anteriormente mas que foram alterados de forma a não fornecer mais os resultados necessários para aquele bloco.\n",
    "\n",
    "Outras opções para a execução e para o funcionamento do *kernel* podem ser encontradas nos itens *Run* e *Kernel* do menu."
   ]
  },
  {
   "cell_type": "markdown",
   "metadata": {},
   "source": [
    "#### Verificando ambiente do Jupyter\n",
    "\n",
    "Nem todas as ferramentas estão disponíveis tanto no **Jupyter lab/notebook** quanto no **Google Colab**. Nesse caso, se quisermos escrever um código que se adapte e funcione nos dois ambientes, é importante sabermos em qual deles o caderno está sendo executado. Isso pode ser feito através\n"
   ]
  },
  {
   "cell_type": "code",
   "execution_count": 9,
   "metadata": {},
   "outputs": [
    {
     "name": "stdout",
     "output_type": "stream",
     "text": [
      "Rodando Jupyter lab ou notebook\n"
     ]
    }
   ],
   "source": [
    "try:\n",
    "    import google\n",
    "    print(\"Rodando no Google Colaboratory\")\n",
    "except:\n",
    "    print(\"Rodando Jupyter lab ou notebook\")"
   ]
  },
  {
   "cell_type": "markdown",
   "metadata": {},
   "source": [
    "#### Comandos mágicos\n",
    "\n",
    "As células de códigos podem ser preenchidas com \"comandos mágicos\", que executam comandos especiais, que podem modificar a execução do código python da célula ou executar comandos do `bash` ou de outras linguagens, como `ruby`, o próprio `html`, etc. \n",
    "\n",
    "Há duas maneiras, e dois tipos, de acessar os comandos mágicos:\n",
    "- Iniciando uma célula com um único símbolo `%` seguido do comando mágico: nesse caso, apenas a primeira linha é entendida como comando mágica. As outras linhas, se estiverem presentes, são executadas como código python normal.\n",
    "- Iniciando uma célula com o símbolo `%%`: Nesse caso, toda a célula é entendida como comando mágico.\n",
    "\n",
    "Há comandos mágicos distintos disponíveis como \"linhas mágicas\" ou como \"células mágicas\".\n",
    "\n",
    "Não exploraremos muito esses comandos mágicos. De qualquer, eles aparecem com alguma frequência em tutoriais e exemplos disponíveis na rede e valem ser mencionados.\n",
    "\n",
    "Podemos ver os comandos mágicos disponíveis no ambiente através do comando mágico `%lsmagic`, que lista os comandos que são de linha e os que são de célula."
   ]
  },
  {
   "cell_type": "code",
   "execution_count": 1,
   "metadata": {},
   "outputs": [
    {
     "data": {
      "application/json": {
       "cell": {
        "!": "OSMagics",
        "HTML": "Other",
        "SVG": "Other",
        "bash": "Other",
        "capture": "ExecutionMagics",
        "debug": "ExecutionMagics",
        "file": "Other",
        "html": "DisplayMagics",
        "javascript": "DisplayMagics",
        "js": "DisplayMagics",
        "latex": "DisplayMagics",
        "markdown": "DisplayMagics",
        "perl": "Other",
        "prun": "ExecutionMagics",
        "pypy": "Other",
        "python": "Other",
        "python2": "Other",
        "python3": "Other",
        "ruby": "Other",
        "script": "ScriptMagics",
        "sh": "Other",
        "svg": "DisplayMagics",
        "sx": "OSMagics",
        "system": "OSMagics",
        "time": "ExecutionMagics",
        "timeit": "ExecutionMagics",
        "writefile": "OSMagics"
       },
       "line": {
        "alias": "OSMagics",
        "alias_magic": "BasicMagics",
        "autoawait": "AsyncMagics",
        "autocall": "AutoMagics",
        "automagic": "AutoMagics",
        "autosave": "KernelMagics",
        "bookmark": "OSMagics",
        "cat": "Other",
        "cd": "OSMagics",
        "clear": "KernelMagics",
        "colors": "BasicMagics",
        "config": "ConfigMagics",
        "connect_info": "KernelMagics",
        "cp": "Other",
        "debug": "ExecutionMagics",
        "dhist": "OSMagics",
        "dirs": "OSMagics",
        "doctest_mode": "BasicMagics",
        "ed": "Other",
        "edit": "KernelMagics",
        "env": "OSMagics",
        "gui": "BasicMagics",
        "hist": "Other",
        "history": "HistoryMagics",
        "killbgscripts": "ScriptMagics",
        "ldir": "Other",
        "less": "KernelMagics",
        "lf": "Other",
        "lk": "Other",
        "ll": "Other",
        "load": "CodeMagics",
        "load_ext": "ExtensionMagics",
        "loadpy": "CodeMagics",
        "logoff": "LoggingMagics",
        "logon": "LoggingMagics",
        "logstart": "LoggingMagics",
        "logstate": "LoggingMagics",
        "logstop": "LoggingMagics",
        "ls": "Other",
        "lsmagic": "BasicMagics",
        "lx": "Other",
        "macro": "ExecutionMagics",
        "magic": "BasicMagics",
        "man": "KernelMagics",
        "matplotlib": "PylabMagics",
        "mkdir": "Other",
        "more": "KernelMagics",
        "mv": "Other",
        "notebook": "BasicMagics",
        "page": "BasicMagics",
        "pastebin": "CodeMagics",
        "pdb": "ExecutionMagics",
        "pdef": "NamespaceMagics",
        "pdoc": "NamespaceMagics",
        "pfile": "NamespaceMagics",
        "pinfo": "NamespaceMagics",
        "pinfo2": "NamespaceMagics",
        "pip": "BasicMagics",
        "popd": "OSMagics",
        "pprint": "BasicMagics",
        "precision": "BasicMagics",
        "prun": "ExecutionMagics",
        "psearch": "NamespaceMagics",
        "psource": "NamespaceMagics",
        "pushd": "OSMagics",
        "pwd": "OSMagics",
        "pycat": "OSMagics",
        "pylab": "PylabMagics",
        "qtconsole": "KernelMagics",
        "quickref": "BasicMagics",
        "recall": "HistoryMagics",
        "rehashx": "OSMagics",
        "reload_ext": "ExtensionMagics",
        "rep": "Other",
        "rerun": "HistoryMagics",
        "reset": "NamespaceMagics",
        "reset_selective": "NamespaceMagics",
        "rm": "Other",
        "rmdir": "Other",
        "run": "ExecutionMagics",
        "save": "CodeMagics",
        "sc": "OSMagics",
        "set_env": "OSMagics",
        "store": "StoreMagics",
        "sx": "OSMagics",
        "system": "OSMagics",
        "tb": "ExecutionMagics",
        "time": "ExecutionMagics",
        "timeit": "ExecutionMagics",
        "unalias": "OSMagics",
        "unload_ext": "ExtensionMagics",
        "who": "NamespaceMagics",
        "who_ls": "NamespaceMagics",
        "whos": "NamespaceMagics",
        "xdel": "NamespaceMagics",
        "xmode": "BasicMagics"
       }
      },
      "text/plain": [
       "Available line magics:\n",
       "%alias  %alias_magic  %autoawait  %autocall  %automagic  %autosave  %bookmark  %cat  %cd  %clear  %colors  %config  %connect_info  %cp  %debug  %dhist  %dirs  %doctest_mode  %ed  %edit  %env  %gui  %hist  %history  %killbgscripts  %ldir  %less  %lf  %lk  %ll  %load  %load_ext  %loadpy  %logoff  %logon  %logstart  %logstate  %logstop  %ls  %lsmagic  %lx  %macro  %magic  %man  %matplotlib  %mkdir  %more  %mv  %notebook  %page  %pastebin  %pdb  %pdef  %pdoc  %pfile  %pinfo  %pinfo2  %popd  %pprint  %precision  %prun  %psearch  %psource  %pushd  %pwd  %pycat  %pylab  %qtconsole  %quickref  %recall  %rehashx  %reload_ext  %rep  %rerun  %reset  %reset_selective  %rm  %rmdir  %run  %save  %sc  %set_env  %store  %sx  %system  %tb  %time  %timeit  %unalias  %unload_ext  %who  %who_ls  %whos  %xdel  %xmode\n",
       "\n",
       "Available cell magics:\n",
       "%%!  %%HTML  %%SVG  %%bash  %%capture  %%debug  %%file  %%html  %%javascript  %%js  %%latex  %%markdown  %%perl  %%prun  %%pypy  %%python  %%python2  %%python3  %%ruby  %%script  %%sh  %%svg  %%sx  %%system  %%time  %%timeit  %%writefile\n",
       "\n",
       "Automagic is ON, % prefix IS NOT needed for line magics."
      ]
     },
     "execution_count": 1,
     "metadata": {},
     "output_type": "execute_result"
    }
   ],
   "source": [
    "%lsmagic"
   ]
  },
  {
   "cell_type": "markdown",
   "metadata": {},
   "source": [
    "Vejamos alguns exemplos."
   ]
  },
  {
   "cell_type": "markdown",
   "metadata": {},
   "source": [
    "Executa a comando `pwd` do `bash`, mostrando o diretório atual, útil pode ser útil na importação/exportação de dados em arquivos:"
   ]
  },
  {
   "cell_type": "code",
   "execution_count": 24,
   "metadata": {},
   "outputs": [
    {
     "data": {
      "text/plain": [
       "'/Users/rrosa/Dropbox/Documents/math-atual/im/modmat-2019/modmatnb'"
      ]
     },
     "execution_count": 24,
     "metadata": {},
     "output_type": "execute_result"
    }
   ],
   "source": [
    "%pwd"
   ]
  },
  {
   "cell_type": "markdown",
   "metadata": {},
   "source": [
    "Uma célula diretamente em `html`:"
   ]
  },
  {
   "cell_type": "code",
   "execution_count": 41,
   "metadata": {},
   "outputs": [
    {
     "data": {
      "text/html": [
       "<center>\n",
       "  <marquee style='width: 90%;'>\n",
       "    <b style='color:green;'>\n",
       "      All models are approximations. Essentially, all models are wrong, but some are useful. However, the approximate nature of the model must always be borne in mind.\n",
       "    </b>\n",
       "    (George E. P. Box, Norman R. Draper (2007). “Response Surfaces, Mixtures, and Ridge Analyses”, p.414, John Wiley & Sons.)\n",
       "  </marquee>\n",
       "</center>\n"
      ],
      "text/plain": [
       "<IPython.core.display.HTML object>"
      ]
     },
     "metadata": {},
     "output_type": "display_data"
    }
   ],
   "source": [
    "%%html\n",
    "<center>\n",
    "  <marquee style='width: 90%;'>\n",
    "    <b style='color:green;'>\n",
    "      All models are approximations. Essentially, all models are wrong, but some are useful. However, the approximate nature of the model must always be borne in mind.\n",
    "    </b>\n",
    "    (George E. P. Box, Norman R. Draper (2007). “Response Surfaces, Mixtures, and Ridge Analyses”, p.414, John Wiley & Sons.)\n",
    "  </marquee>\n",
    "</center>\n"
   ]
  },
  {
   "cell_type": "markdown",
   "metadata": {},
   "source": [
    "O comando a seguir mostra os `backends` disponíveis para a exibição de gráficos via `matplotlib`."
   ]
  },
  {
   "cell_type": "code",
   "execution_count": 1,
   "metadata": {},
   "outputs": [
    {
     "name": "stdout",
     "output_type": "stream",
     "text": [
      "Available matplotlib backends: ['tk', 'gtk', 'gtk3', 'wx', 'qt4', 'qt5', 'qt', 'osx', 'nbagg', 'notebook', 'agg', 'svg', 'pdf', 'ps', 'inline', 'ipympl', 'widget']\n"
     ]
    }
   ],
   "source": [
    "%matplotlib --list"
   ]
  },
  {
   "cell_type": "markdown",
   "metadata": {},
   "source": [
    "Por exemplo, ao usarmos `%matplotlib inline`, os gráficos serão exibidos no próprio navegador, logo abaixo do bloco executado. Ao usarmos `%matplotlib qt5`, os gráficos serão exibidos em janelas externas. "
   ]
  },
  {
   "cell_type": "markdown",
   "metadata": {},
   "source": [
    "Veja mais informações e exemplos de comandos mágicos em\n",
    "- [The cell magics in IPython](https://nbviewer.jupyter.org/github/ipython/ipython/blob/1.x/examples/notebooks/Cell%20Magics.ipynb),\n",
    "- [Built-in magic commands](https://ipython.readthedocs.io/en/stable/interactive/magics.html), and\n",
    "- [Overview of Google Colaboratory Features: Magics](https://colab.research.google.com/notebooks/basic_features_overview.ipynb#scrollTo=qM4myQGfQboQ)."
   ]
  },
  {
   "cell_type": "markdown",
   "metadata": {},
   "source": [
    "## Muito além de Jupyter\n",
    "\n",
    "O Jupyter é muito bom para aprendizado, divulgação científica ou técnica, e uso em sala de aula, mas para o desenvolvimento de códigos independentes, mais complexos e/ou em equipe, outras alternativas são melhores. Veja, por exemplo, o texto [5 reasons why jupyter notebooks suck](https://towardsdatascience.com/5-reasons-why-jupyter-notebooks-suck-4dc201e27086).\n",
    "\n",
    "O título do texto é claramente exagerado, pois o objetivo do Jupyter é outro, mas tenho que concordar plenamente com todas as cinco razões que ele menciona, no que concerne o desenvolvimento de código em python. \n",
    "\n",
    "Nesse sentido, pensando no uso de uma [IDE - Integrated Development Environment](https://en.wikipedia.org/wiki/Integrated_development_environment) para python, sugiro o [Spyder](https://www.spyder-ide.org/), que já vem pré-instalado na distribuição [Anaconda](https://www.anaconda.com/), ou o [VSCode](https://code.visualstudio.com/), que também tem a opção de ser instalado junto com o [Anaconda](https://www.anaconda.com/). Além disso, ambos gratuitos."
   ]
  },
  {
   "cell_type": "markdown",
   "metadata": {},
   "source": [
    "<!--NAVIGATION-->\n",
    "\n",
    "---\n",
    "[<- Destino, Jupyter!](01.00-Destino_Jupyter.ipynb) | [Índice](Indice.ipynb) | [Referências](99.00-Referencias.ipynb) | [Reconhecimento de Jupyter ->](01.02-Reconhecimento_de_Jupyter.ipynb)\n",
    "\n",
    "<a href=\"https://colab.research.google.com/github/rmsrosa/modelagem_matematica/blob/master/notebooks/01.01-Ambiente_computacional.ipynb\"><img align=\"left\" src=\"https://colab.research.google.com/assets/colab-badge.svg\" alt=\"Open in Colab\" title=\"Open and Execute in Google Colaboratory\"></a><br>\n"
   ]
  }
 ],
 "metadata": {
  "kernelspec": {
   "display_name": "Python 3",
   "language": "python",
   "name": "python3"
  },
  "language_info": {
   "codemirror_mode": {
    "name": "ipython",
    "version": 3
   },
   "file_extension": ".py",
   "mimetype": "text/x-python",
   "name": "python",
   "nbconvert_exporter": "python",
   "pygments_lexer": "ipython3",
   "version": "3.7.1"
  }
 },
 "nbformat": 4,
 "nbformat_minor": 2
}
