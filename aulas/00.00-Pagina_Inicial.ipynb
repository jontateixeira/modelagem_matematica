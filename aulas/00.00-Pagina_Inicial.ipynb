{
 "cells": [
  {
   "cell_type": "markdown",
   "metadata": {
    "slideshow": {
     "slide_type": "skip"
    }
   },
   "source": [
    "<!--HEADER-->\n",
    "[*Guia de aulas da disciplina de Modelagem Matemática*](https://github.com/rmsrosa/modelagem_matematica) *do* [*IM-UFRJ*](https://www.im.ufrj.br)."
   ]
  },
  {
   "cell_type": "markdown",
   "metadata": {
    "slideshow": {
     "slide_type": "skip"
    }
   },
   "source": [
    "<!--BADGES-->\n",
    "<a href=\"https://colab.research.google.com/github/rmsrosa/modelagem_matematica/blob/master/aulas/00.00-Pagina_Inicial.ipynb\"><img align=\"left\" src=\"https://colab.research.google.com/assets/colab-badge.svg\" alt=\"Google Colab\" title=\"Open in Google Colab\"></a>\n",
    "&nbsp;<a href=\"https://mybinder.org/v2/gh/rmsrosa/modelagem_matematica/master?filepath=aulas/00.00-Pagina_Inicial.ipynb\"><img align=\"left\" src=\"https://mybinder.org/badge.svg\" alt=\"Binder\" title=\"Open in binder\"></a>\n",
    "&nbsp;<a href=\"https://nbviewer.jupyter.org/github/rmsrosa/modelagem_matematica/blob/master/aulas/00.00-Pagina_Inicial.ipynb\"><img align=\"left\" src=\"https://img.shields.io/badge/view in-nbviewer-orange\" alt=\"nbviewer\" title=\"View in NBViewer\"></a>\n",
    "&nbsp;<a href=\"https://nbviewer.jupyter.org/github/rmsrosa/modelagem_matematica/blob/master/aulas/slides/00.00-Pagina_Inicial.slides.html\"><img align=\"left\" src=\"https://img.shields.io/badge/view-slides-darkgreen\" alt=\"slides\" title=\"View Slides\"></a>\n",
    "&nbsp;"
   ]
  },
  {
   "cell_type": "markdown",
   "metadata": {
    "slideshow": {
     "slide_type": "skip"
    }
   },
   "source": [
    "<!--NAVIGATOR-->\n",
    "| [Página Inicial](00.00-Pagina_Inicial.ipynb) | [Princípios de Modelagem Matemática e primeiros exemplos ->](01.00.Aula-Modelagem.ipynb)\n",
    "\n",
    "---\n"
   ]
  },
  {
   "cell_type": "markdown",
   "metadata": {
    "slideshow": {
     "slide_type": "slide"
    }
   },
   "source": [
    "# Página Inicial\n",
    "\n",
    "Este diretório contém o guia de aulas da disciplina de Modelagem Matemática do [Instituto de Matemática da UFRJ](http://www.im.ufrj.br), acompanhando as notas de aula neste mesmo repositório [rmsrosa/modelagem_matematica](https://github.com/rmsrosa/modelagem_matematica).\n",
    "\n",
    "\n",
    "O texto está disponível sob a [licença CC-BY-NC-ND](https://creativecommons.org/licenses/by-nc-nd/3.0/us/legalcode) e os códigos estão disponíveis sob a [licença GNU GPL Versão 3](https://www.gnu.org/licenses/gpl.html)."
   ]
  },
  {
   "cell_type": "markdown",
   "metadata": {
    "slideshow": {
     "slide_type": "slide"
    }
   },
   "source": [
    "<!--TABLE_OF_CONTENTS-->\n",
    "## [Conteúdo](#)\n",
    "\n",
    "### [Página Inicial](00.00-Pagina_Inicial.ipynb)\n",
    "\n",
    "### [Aula 1. Princípios de Modelagem Matemática e primeiros exemplos](01.00.Aula-Modelagem.ipynb)\n",
    "\n"
   ]
  },
  {
   "cell_type": "markdown",
   "metadata": {
    "slideshow": {
     "slide_type": "slide"
    }
   },
   "source": [
    "<!--NAVIGATOR-->\n",
    "\n",
    "---\n",
    "| [Página Inicial](00.00-Pagina_Inicial.ipynb) | [Princípios de Modelagem Matemática e primeiros exemplos ->](01.00.Aula-Modelagem.ipynb)"
   ]
  }
 ],
 "metadata": {
  "kernelspec": {
   "display_name": "Python 3",
   "language": "python",
   "name": "python3"
  },
  "language_info": {
   "codemirror_mode": {
    "name": "ipython",
    "version": 3
   },
   "file_extension": ".py",
   "mimetype": "text/x-python",
   "name": "python",
   "nbconvert_exporter": "python",
   "pygments_lexer": "ipython3",
   "version": "3.7.3"
  }
 },
 "nbformat": 4,
 "nbformat_minor": 4
}
