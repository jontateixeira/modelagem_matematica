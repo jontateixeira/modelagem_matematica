{
 "cells": [
  {
   "cell_type": "markdown",
   "metadata": {},
   "source": [
    "<!--HEADER-->\n",
    "*[Notas de aula da disciplina de Modelagem Matemática](https://github.com/rmsrosa/modelagem_matematica) do [IM-UFRJ](https://www.im.ufrj.br).*"
   ]
  },
  {
   "cell_type": "markdown",
   "metadata": {},
   "source": [
    "<!--NAVIGATOR-->\n",
    "\n",
    "<a href=\"https://colab.research.google.com/github/rmsrosa/modelagem_matematica/blob/master/notebooks/00.00-Pagina_inicial.ipynb\"><img align=\"left\" src=\"https://colab.research.google.com/assets/colab-badge.svg\" alt=\"Open in Colab\" title=\"Open and Execute in Google Colaboratory\"></a>\n",
    "&nbsp;\n",
    "<a href=\"https://mybinder.org/v2/gh/rmsrosa/modelagem_matematica/master?filepath=notebooks/00.00-Pagina_inicial.ipynb\"><img align=\"left\" src=\"https://mybinder.org/badge.svg\" alt=\"Open in binder\" title=\"Open and Execute in Binder\"></a>\n",
    "&nbsp;\n",
    "\n",
    "| [Página Inicial](00.00-Pagina_inicial.ipynb) | [Bibliografia](BA.00-Bibliografia.ipynb) | [Prefácio ->](00.01-Prefacio.ipynb)\n",
    "\n",
    "---\n"
   ]
  },
  {
   "cell_type": "markdown",
   "metadata": {},
   "source": [
    "# Página Inicial\n",
    "\n",
    "Este diretório contém o guia de aulas da disciplina de Modelagem Matemática do [Instituto de Matemática da UFRJ](http://www.im.ufrj.br), acompanhando as notas de aula neste mesmo repositório [rmsrosa/modelagem_matematica](https://github.com/rmsrosa/modelagem_matematica).\n",
    "\n",
    "\n",
    "O texto está disponível sob a [licença CC-BY-NC-ND](https://creativecommons.org/licenses/by-nc-nd/3.0/us/legalcode) e os códigos estão disponíveis sob a [licença GNU GPL Versão 3](https://www.gnu.org/licenses/gpl.html)."
   ]
  },
  {
   "cell_type": "markdown",
   "metadata": {},
   "source": [
    "## Sumário"
   ]
  },
  {
   "cell_type": "markdown",
   "metadata": {},
   "source": [
    "<!--TABLE_OF_CONTENTS-->\n",
    "\n",
    "### [Aula 1: Modelagem, python e jupyter](01.00-Aula1.ipynb)\n",
    "\n",
    "### [Aula 2: Analisando a oscilação de um pêndulo](02.00-Aula2.ipynb)\n",
    "\n",
    "### [Aula 3: Continuação da análise do pêndulo](03.00-Aula3.ipynb)\n",
    "\n",
    "### [Aula 4: Estimativa básica de propagação de erros experimentais](04.00-Aula4.ipynb)\n",
    "\n",
    "### [Aula 5: Incerteza e intervalos e graus de confiança](05.00-Aula5.ipynb)\n",
    "\n",
    "### [Aula 6: Regressão semi-linear, ajustes de ordem mais alta e critérios de seleção do ajuste](06.00-Aula6.ipynb)\n",
    "\n",
    "### [Aula 7: Otimização e regressão não-linear](07.00-Aula7.ipynb)\n",
    "\n",
    "### [Aula 8: O pêndulo com ângulos grandes, um pouco de EDO e simulações](08.00-Aula8.ipynb)\n",
    "\n",
    "### [Aula 9: Pêndulo via deteção de movimento](09.00-Aula9.ipynb)\n",
    "\n",
    "### [Aula 10: Epidemiologia, tipos de modelos, o modelo clássico SIR e o modelo SIR individual](11.00-Aula11.ipynb)\n",
    "\n"
   ]
  },
  {
   "cell_type": "markdown",
   "metadata": {},
   "source": [
    "<!--NAVIGATOR-->\n",
    "\n",
    "---\n",
    "| [Página Inicial](00.00-Pagina_inicial.ipynb) | [Bibliografia](BA.00-Bibliografia.ipynb) | [Prefácio ->](00.01-Prefacio.ipynb)\n",
    "\n",
    "<a href=\"https://colab.research.google.com/github/rmsrosa/modelagem_matematica/blob/master/notebooks/00.00-Pagina_inicial.ipynb\"><img align=\"left\" src=\"https://colab.research.google.com/assets/colab-badge.svg\" alt=\"Open in Colab\" title=\"Open and Execute in Google Colaboratory\"></a>\n",
    "\n",
    "<a href=\"https://mybinder.org/v2/gh/rmsrosa/modelagem_matematica/master?filepath=notebooks/00.00-Pagina_inicial.ipynb\"><img align=\"left\" src=\"https://mybinder.org/badge.svg\" alt=\"Open in binder\" title=\"Open and Execute in Binder\"></a>\n",
    "&nbsp;"
   ]
  }
 ],
 "metadata": {
  "kernelspec": {
   "display_name": "Python 3",
   "language": "python",
   "name": "python3"
  },
  "language_info": {
   "codemirror_mode": {
    "name": "ipython",
    "version": 3
   },
   "file_extension": ".py",
   "mimetype": "text/x-python",
   "name": "python",
   "nbconvert_exporter": "python",
   "pygments_lexer": "ipython3",
   "version": "3.7.1"
  }
 },
 "nbformat": 4,
 "nbformat_minor": 2
}
