{
 "cells": [
  {
   "cell_type": "markdown",
   "metadata": {},
   "source": [
    "# Cria ou atualiza a estrutura das notas\n",
    "\n",
    "Usamos o módulo `jupyterbookmaker` que assumimos que está instalado no ambiente ou se encontra no subdiretório relativo `../tools`."
   ]
  },
  {
   "cell_type": "code",
   "execution_count": 3,
   "metadata": {},
   "outputs": [],
   "source": [
    "try:\n",
    "    import jupyterbookmaker as jbm\n",
    "    \n",
    "except:\n",
    "    import os\n",
    "    import sys\n",
    "    \n",
    "    sys.path.insert(0, os.path.abspath(os.path.join(os.getcwd(), '../tools')))\n",
    "    \n",
    "    import jupyterbookmaker as jbm"
   ]
  },
  {
   "cell_type": "markdown",
   "metadata": {},
   "source": [
    "Em seguida, criamos a estrutura a partir do arquivo de configuração neste mesmo diretório."
   ]
  },
  {
   "cell_type": "code",
   "execution_count": 4,
   "metadata": {},
   "outputs": [
    {
     "name": "stdout",
     "output_type": "stream",
     "text": [
      "- Table of contents updated in 00-Sumario.ipynb\n",
      "- updating header for 01.00-Aula1.ipynb\n",
      "- updating navbar for 01.00-Aula1.ipynb\n"
     ]
    }
   ],
   "source": [
    "jbm.make_book_from_configfile('config.yml')"
   ]
  }
 ],
 "metadata": {
  "kernelspec": {
   "display_name": "Python 3",
   "language": "python",
   "name": "python3"
  },
  "language_info": {
   "codemirror_mode": {
    "name": "ipython",
    "version": 3
   },
   "file_extension": ".py",
   "mimetype": "text/x-python",
   "name": "python",
   "nbconvert_exporter": "python",
   "pygments_lexer": "ipython3",
   "version": "3.7.1"
  }
 },
 "nbformat": 4,
 "nbformat_minor": 2
}
