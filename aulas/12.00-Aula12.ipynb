{
 "cells": [
  {
   "cell_type": "markdown",
   "metadata": {
    "slideshow": {
     "slide_type": "skip"
    }
   },
   "source": [
    "<!--HEADER-->\n",
    "*[Guia de aulas da disciplina de Modelagem Matemática](https://github.com/rmsrosa/modelagem_matematica) do [IM-UFRJ](https://www.im.ufrj.br).*"
   ]
  },
  {
   "cell_type": "markdown",
   "metadata": {
    "slideshow": {
     "slide_type": "skip"
    }
   },
   "source": [
    "<!--NAVIGATOR-->\n",
    "\n",
    "<a href=\"https://colab.research.google.com/github/rmsrosa/modelagem_matematica/blob/master/aulas/12.00-Aula12.ipynb\"><img align=\"left\" src=\"https://colab.research.google.com/assets/colab-badge.svg\" alt=\"Open in Colab\" title=\"Open and Execute in Google Colaboratory\"></a>\n",
    "&nbsp;\n",
    "<a href=\"https://mybinder.org/v2/gh/rmsrosa/modelagem_matematica/master?filepath=aulas/12.00-Aula12.ipynb\"><img align=\"left\" src=\"https://mybinder.org/badge.svg\" alt=\"Open in binder\" title=\"Open and Execute in Binder\"></a>\n",
    "&nbsp;\n",
    "<a href=\"https://rmsrosa.github.io/modelagem_matematica/aulas/12.00-Aula12.slides.html\"><img align=\"left\" src=\"https://rmsrosa.github.io/jupyterbookmaker/badges/slides_badge.svg\" alt=\"Open slides\" title=\"Open and View Slides\"></a>\n",
    "&nbsp;\n",
    "\n",
    "[<- Aula 11: Epidemiologia - tipos de modelos, o modelo SIR compartimental e o modelo SIR individual](11.00-Aula11.ipynb) | [Página Inicial](00-Sumario.ipynb) \n",
    "\n",
    "---\n"
   ]
  },
  {
   "cell_type": "markdown",
   "metadata": {
    "slideshow": {
     "slide_type": "slide"
    }
   },
   "source": [
    "# Aula 12: Epidemiologia - outros modelos compartimentais\n",
    "\n",
    "## Objetivos\n",
    "\n",
    "- Outros tipos de epidemias e de modelos compartimentais"
   ]
  },
  {
   "cell_type": "markdown",
   "metadata": {
    "slideshow": {
     "slide_type": "skip"
    }
   },
   "source": [
    "## Importando bibliotecas e definindo funções a serem usadas abaixo"
   ]
  },
  {
   "cell_type": "code",
   "execution_count": 1,
   "metadata": {
    "slideshow": {
     "slide_type": "skip"
    }
   },
   "outputs": [],
   "source": [
    "from os import path\n",
    "\n",
    "import numpy as np\n",
    "import pandas as pd\n",
    "import scipy as sp\n",
    "from scipy import optimize\n",
    "from scipy.integrate import odeint\n",
    "\n",
    "import networkx as nx\n",
    "\n",
    "import matplotlib.pyplot as plt\n",
    "\n",
    "import io, base64\n",
    "from IPython.display import Image, HTML"
   ]
  },
  {
   "cell_type": "markdown",
   "metadata": {
    "slideshow": {
     "slide_type": "slide"
    }
   },
   "source": [
    "## O modelo SIS compartimental\n",
    "\n",
    "Algumas infecções não criam imunidade ou criam imunidade por muito pouco tempo. Nesses casos, um indivíduo recuperado torna-se novamente suscetível. Alguns exemplos clássicos de infecções desse tipo são a gripe comum e algumas doenças sexualmente transmissíveis (DST) causados por bactérias, como *gonorréia*, *sífilis*, *clamídia* e *candidíase*.\n",
    "\n",
    "Neste modelo, a população é definida em dois compartimentos:\n",
    "\n",
    "- **suscetíveis**\n",
    "\n",
    "- **infectados**\n",
    "\n",
    "Temos dois parâmetros (positivos) caracterizando o modelo:\n",
    "\n",
    "- $\\beta:$ **fator_de_transmissao**\n",
    "\n",
    "- $\\gamma:$ **fator_de_recuperacao**"
   ]
  },
  {
   "cell_type": "markdown",
   "metadata": {
    "slideshow": {
     "slide_type": "slide"
    }
   },
   "source": [
    "### Representação do modelo na forma de grafo\n",
    "\n",
    "#### Montagem do grafo:"
   ]
  },
  {
   "cell_type": "code",
   "execution_count": 2,
   "metadata": {
    "slideshow": {
     "slide_type": "fragment"
    }
   },
   "outputs": [
    {
     "data": {
      "text/plain": [
       "[0, 0]"
      ]
     },
     "execution_count": 2,
     "metadata": {},
     "output_type": "execute_result"
    }
   ],
   "source": [
    "mdg_sis = nx.MultiDiGraph()\n",
    "mdg_sis.add_node(1, compartimento='suscetíveis', node_color='mediumaquamarine')\n",
    "mdg_sis.add_node(2, compartimento='infectados', node_color='tomato')\n",
    "mdg_sis.add_edges_from([(1,2, {'taxa': r'\\beta\\,i\\,s'}), (2,1, {'taxa': r'\\gamma\\,i'})])"
   ]
  },
  {
   "cell_type": "markdown",
   "metadata": {
    "slideshow": {
     "slide_type": "slide"
    }
   },
   "source": [
    "#### Preparação para a visualização"
   ]
  },
  {
   "cell_type": "code",
   "execution_count": 4,
   "metadata": {
    "slideshow": {
     "slide_type": "fragment"
    }
   },
   "outputs": [],
   "source": [
    "pos = {j: (j,0) for j in iter(mdg_sis.nodes)}\n",
    "pos_for_right_edges = {j: (j, 0.12) for j in iter(mdg_sis.nodes)}\n",
    "pos_for_left_edges = {j: (j, -0.12) for j in iter(mdg_sis.nodes)}\n",
    "\n",
    "labels = {j: mdg_sis.node[j]['compartimento'] for j in iter(mdg_sis.nodes)}\n",
    "edge_labels = {j: mdg_sis.edges[j]['taxa'] for j in iter(mdg_sis.edges)}\n",
    "color_map = [mdg_sis.node[j]['node_color'] for j in iter(mdg_sis.nodes)]"
   ]
  },
  {
   "cell_type": "markdown",
   "metadata": {
    "slideshow": {
     "slide_type": "slide"
    }
   },
   "source": [
    "#### Visualização do grafo"
   ]
  },
  {
   "cell_type": "code",
   "execution_count": 5,
   "metadata": {
    "slideshow": {
     "slide_type": "fragment"
    }
   },
   "outputs": [
    {
     "data": {
      "image/png": "[encoded data removed]",
      "text/plain": [
       "<Figure size 864x216 with 1 Axes>"
      ]
     },
     "metadata": {
      "needs_background": "light"
     },
     "output_type": "display_data"
    }
   ],
   "source": [
    "plt.figure(figsize=(12,3))\n",
    "\n",
    "nx.draw_networkx_nodes(mdg_sis, pos, node_size=20000, with_labels=True, node_shape='s', node_color=color_map)\n",
    "nx.draw_networkx_labels(mdg_sis, pos, labels=labels, fontsize=24)\n",
    "#nx.draw_networkx_edges(mdg_sis, pos, node_size=20000, with_labels=True, arrowstyle='->', arrowsize=50, \n",
    "#                       edge_color='skyblue', width=4)\n",
    "#nx.draw_networkx_edge_labels(mdg_sis, pos_for_right_edges, edge_labels, font_size=16)\n",
    "\n",
    "nx.draw_networkx_edges(mdg_sis, pos_for_right_edges, edgelist=[(1,2)], node_size=20000, with_labels=True, arrowstyle='->', arrowsize=50, \n",
    "                       edge_color='skyblue', width=4)\n",
    "nx.draw_networkx_edges(mdg_sis, pos_for_left_edges, edgelist=[(2,1)], node_size=20000, with_labels=True, arrowstyle='->', arrowsize=50, \n",
    "                       edge_color='skyblue', width=4)\n",
    "\n",
    "#nx.draw_networkx_edge_labels(mdg_sis, {1:pos_for_right_edges[1]}, {(1,2,0):edge_labels[(1,2,0)]}, font_size=16)\n",
    "plt.axis('off')\n",
    "plt.show()"
   ]
  },
  {
   "cell_type": "markdown",
   "metadata": {
    "slideshow": {
     "slide_type": "slide"
    }
   },
   "source": [
    "### Representação do modelo SIS na forma de ação de massas\n",
    "\n",
    "Processos:\n",
    "\n",
    "$$\n",
    "\\begin{cases}\n",
    "  S + I \\stackrel{\\beta}{\\rightarrow} 2I, & \\text{(processo de infeção)} \\\\\n",
    "  I \\stackrel{\\gamma}{\\rightarrow} S, & \\text{(processo de recuperação)}.\n",
    "\\end{cases}\n",
    "$$"
   ]
  },
  {
   "cell_type": "markdown",
   "metadata": {
    "slideshow": {
     "slide_type": "slide"
    }
   },
   "source": [
    "### Sistema de equações diferenciais para as densidades de população\n",
    "\n",
    "Com $S+I = N$ (constante), $s = S/N$ e $i=I/N$, temos\n",
    "\n",
    "$$ \n",
    "  \\begin{cases}\n",
    "    \\displaystyle \\frac{\\rm d s}{\\rm d t} =  -\\beta is + \\gamma i, \\\\\n",
    "    \\displaystyle \\frac{\\rm d i}{\\rm d t} =  \\beta is - \\gamma i. \\\\\n",
    "  \\end{cases}\n",
    "$$"
   ]
  },
  {
   "cell_type": "markdown",
   "metadata": {
    "slideshow": {
     "slide_type": "slide"
    }
   },
   "source": [
    "#### Redução para uma equação diferencial\n",
    "\n",
    "Como $s + i = 1$, temos\n",
    "\n",
    "$$ \\frac{\\rm d i}{\\rm d t} = \\beta (1-i)i - \\gamma i = (\\beta - \\gamma - \\beta i) i =(\\beta - \\gamma) i - \\beta i^2\n",
    "$$\n",
    "\n",
    "**Pontos fixos:** $i=0$ e $i=(\\beta-\\gamma)/\\beta$.\n",
    "\n",
    "Se $\\beta>\\gamma$ e $i(0)=i_0>0$, então\n",
    "$$ \\lim_{t\\rightarrow \\infty} i(t) = \\frac{\\beta-\\gamma}{\\beta}, \\quad \\text{e} \\quad \\lim_{t\\rightarrow \\infty} s(t) = \\frac{\\gamma}{\\beta} \n",
    "$$"
   ]
  },
  {
   "cell_type": "markdown",
   "metadata": {
    "slideshow": {
     "slide_type": "slide"
    }
   },
   "source": [
    "#### Condição para epidemia\n",
    "\n",
    "Olhando para\n",
    "\n",
    "$$\\frac{\\rm d i}{\\rm d t} = (\\beta - \\gamma - \\beta i) i,\n",
    "$$\n",
    "\n",
    "vemos que $i(t)$ cresce com $t$ quando $\\beta - \\gamma - \\beta i >0$. Portanto, em termos dos parâmetros e da condição inicial $i(0)=i_0$, temos\n",
    "\n",
    "$$ \\textbf{Situação de Epidemia} \\quad \\Longleftrightarrow \\quad  0 < i_0 < \\frac{\\beta - \\gamma}{\\beta}\n",
    "$$"
   ]
  },
  {
   "cell_type": "markdown",
   "metadata": {
    "slideshow": {
     "slide_type": "slide"
    }
   },
   "source": [
    "### Implementação da resolução do sistema de equações diferenciais\n",
    "\n",
    "Em termos da população total $I$ de infectados e da população total $N = S + I$, temos\n",
    "\n",
    "$$ \\frac{\\rm d I}{\\rm d t} =  \\beta \\frac{I}{N}(N-I) - \\gamma I.\n",
    "$$"
   ]
  },
  {
   "cell_type": "markdown",
   "metadata": {},
   "source": [
    "#### Parâmetros e dados iniciais"
   ]
  },
  {
   "cell_type": "code",
   "execution_count": 6,
   "metadata": {},
   "outputs": [],
   "source": [
    "# população total\n",
    "N = 100\n",
    "\n",
    "# população inicial em no compartimento de infectados\n",
    "I0 = 10 # infectados\n",
    "\n",
    "# parâmetros\n",
    "beta = 0.6 # fator de transmissão\n",
    "gamma = 0.4 # fator de recuperação"
   ]
  },
  {
   "cell_type": "markdown",
   "metadata": {
    "slideshow": {
     "slide_type": "slide"
    }
   },
   "source": [
    "#### Função taxa de evolução"
   ]
  },
  {
   "cell_type": "code",
   "execution_count": 7,
   "metadata": {},
   "outputs": [],
   "source": [
    "def taxa_de_evolucao(I, t, N, beta, gamma):\n",
    "    dIdt = (beta*(1 - I/N) - gamma)*I\n",
    "    return dIdt"
   ]
  },
  {
   "cell_type": "markdown",
   "metadata": {
    "slideshow": {
     "slide_type": "fragment"
    }
   },
   "source": [
    "#### Resolvendo o sistema"
   ]
  },
  {
   "cell_type": "code",
   "execution_count": 8,
   "metadata": {},
   "outputs": [],
   "source": [
    "t = np.linspace(0, 100, 101)\n",
    "I = odeint(taxa_de_evolucao, I0, t, args=(N, beta, gamma))\n",
    "S = N*np.ones_like(I) - I"
   ]
  },
  {
   "cell_type": "markdown",
   "metadata": {
    "slideshow": {
     "slide_type": "slide"
    }
   },
   "source": [
    "#### Gráfico da evolução de cada compartimento"
   ]
  },
  {
   "cell_type": "code",
   "execution_count": 9,
   "metadata": {},
   "outputs": [
    {
     "data": {
      "image/png": "[encoded data removed]",
      "text/plain": [
       "<Figure size 864x288 with 1 Axes>"
      ]
     },
     "metadata": {
      "needs_background": "light"
     },
     "output_type": "display_data"
    }
   ],
   "source": [
    "plt.figure(figsize=(12,4))\n",
    "plt.plot(t, S, 'g', label='Suscetíveis')\n",
    "plt.plot(t, I, 'r', label='Infectados')\n",
    "plt.legend(loc='best')\n",
    "plt.xlabel('t (dias)', fontsize=12)\n",
    "plt.ylabel('indivíduos', fontsize=12)\n",
    "plt.title('Evolução dos compartimentos')\n",
    "plt.grid()\n",
    "plt.show()"
   ]
  },
  {
   "cell_type": "markdown",
   "metadata": {
    "slideshow": {
     "slide_type": "slide"
    }
   },
   "source": [
    "#### Verificando condição de epidemia\n",
    "\n",
    "Para termos uma situação de epidemia, devemos ter \n",
    "\n",
    "$$ 0 < \\frac{I_0 \\beta}{(\\beta-\\gamma)N} < 1\n",
    "$$\n",
    "\n",
    "No exemplo, temos"
   ]
  },
  {
   "cell_type": "code",
   "execution_count": 10,
   "metadata": {},
   "outputs": [
    {
     "data": {
      "text/plain": [
       "0.30000000000000004"
      ]
     },
     "execution_count": 10,
     "metadata": {},
     "output_type": "execute_result"
    }
   ],
   "source": [
    "I0*beta/(beta-gamma)/N"
   ]
  },
  {
   "cell_type": "markdown",
   "metadata": {
    "slideshow": {
     "slide_type": "slide"
    }
   },
   "source": [
    "## O modelo SI\n",
    "\n",
    "Em outras doenças, o indivíduo infectado continua infectado pelo resto da vida e continua transmissor da doença. Um exemplo clássico é a *herpes*. Outro exemplo é o *HIV*.\n",
    "\n",
    "O único parâmetro relevante é a **taxa de transmissão** $\\beta$.\n",
    "\n",
    "### Representação em forma de grafo:"
   ]
  },
  {
   "cell_type": "code",
   "execution_count": 11,
   "metadata": {},
   "outputs": [],
   "source": [
    "gr_si = nx.DiGraph()\n",
    "gr_si.add_node(1, compartimento='suscetíveis', node_color='mediumaquamarine')\n",
    "gr_si.add_node(2, compartimento='infectados', node_color='tomato')\n",
    "gr_si.add_edges_from([(1,2, {'taxa': r'$\\beta \\,i\\,s$'})])"
   ]
  },
  {
   "cell_type": "code",
   "execution_count": 12,
   "metadata": {},
   "outputs": [],
   "source": [
    "pos = {j: (j,0) for j in iter(gr_si.nodes)}\n",
    "pos_for_edges = {j: (j, 0.1) for j in iter(gr_si.nodes)}\n",
    "labels = {j: gr_si.node[j]['compartimento'] for j in iter(gr_si.nodes)}\n",
    "edge_labels = {j: gr_si.edges[j]['taxa'] for j in iter(gr_si.edges)}\n",
    "color_map = [gr_si.node[j]['node_color'] for j in iter(gr_si.nodes)]"
   ]
  },
  {
   "cell_type": "markdown",
   "metadata": {
    "slideshow": {
     "slide_type": "slide"
    }
   },
   "source": [
    "#### Visualização do grafo"
   ]
  },
  {
   "cell_type": "code",
   "execution_count": 13,
   "metadata": {},
   "outputs": [
    {
     "data": {
      "image/png": "[encoded data removed]",
      "text/plain": [
       "<Figure size 864x216 with 1 Axes>"
      ]
     },
     "metadata": {
      "needs_background": "light"
     },
     "output_type": "display_data"
    }
   ],
   "source": [
    "plt.figure(figsize=(12,3))\n",
    "\n",
    "nx.draw_networkx_nodes(gr_si, pos, node_size=20000, node_shape='s', node_color=color_map)\n",
    "nx.draw_networkx_labels(gr_si, pos, labels=labels, fontsize=24)\n",
    "nx.draw_networkx_edges(gr_si, pos, node_size=20000, arrowstyle='->', arrowsize=50, \n",
    "                       edge_color='skyblue', width=4)\n",
    "nx.draw_networkx_edge_labels(gr_si, pos_for_edges, edge_labels, font_size=16)\n",
    "plt.axis('off')\n",
    "plt.show()"
   ]
  },
  {
   "cell_type": "markdown",
   "metadata": {
    "slideshow": {
     "slide_type": "slide"
    }
   },
   "source": [
    "### Representação do modelo SI na forma de ação de massas\n",
    "\n",
    "Processo:\n",
    "\n",
    "$$\n",
    "  S + I \\stackrel{\\beta}{\\rightarrow} 2I. \\quad \\text{(processo de infeção)}\n",
    "$$"
   ]
  },
  {
   "cell_type": "markdown",
   "metadata": {
    "slideshow": {
     "slide_type": "slide"
    }
   },
   "source": [
    "## O modelo SIS com vitalidade\n",
    "\n",
    "Neste caso, nascimentos e mortes são consideradas. No caso mais simples, assume-se que\n",
    "\n",
    "- Os **recém-nascidos** nascem suscetíveis a uma taxa de crescimento específico $\\nu$\n",
    "\n",
    "- As **mortes** são igualmente proporcionais em todos os compartimentos, a uma taxa de mortalidade específica $\\mu$.\n",
    "\n",
    "### Representação do modelo na forma de ação de massas\n",
    "\n",
    "$$\n",
    "\\begin{cases}\n",
    "  N \\stackrel{\\nu}{\\rightarrow} S, & \\text{(nascimento entre a população total)} \\\\\n",
    "  S + I \\stackrel{\\beta}{\\rightarrow} 2I, & \\text{(processo de infeção)} \\\\\n",
    "  I \\stackrel{\\gamma}{\\rightarrow} S, & \\text{(processo de recuperação)} \\\\\n",
    "  S \\stackrel{\\mu}{\\rightarrow} M, & \\text{(mortalidade entre os suscetíveis)} \\\\\n",
    "  I \\stackrel{\\mu}{\\rightarrow} M, & \\text{(mortalidade entre os infectados)}\n",
    "\\end{cases}\n",
    "$$"
   ]
  },
  {
   "cell_type": "markdown",
   "metadata": {
    "slideshow": {
     "slide_type": "slide"
    }
   },
   "source": [
    "### Equações diferenciais\n",
    "\n",
    "Como $S$ e $I$ não dependem de $M$, podemos modelar apenas essas duas primeiras variáveis. A população viva é dada por $S+I = N$. O sistema de equações diferenciais é dado por\n",
    "\n",
    "$$ \n",
    "  \\begin{cases}\n",
    "    \\displaystyle \\frac{\\rm d S}{\\rm d t} =  \\nu N - \\beta \\frac{I}{N}S + \\gamma I - \\mu S, \\\\\n",
    "    \\displaystyle \\frac{\\rm d I}{\\rm d t} =  \\beta \\frac{I}{N}S - \\gamma I - \\mu I. \\\\\n",
    "  \\end{cases}\n",
    "$$\n",
    "\n"
   ]
  },
  {
   "cell_type": "markdown",
   "metadata": {
    "slideshow": {
     "slide_type": "slide"
    }
   },
   "source": [
    "### População constante\n",
    "\n",
    "Em períodos relativamente não muito longos de tempo, é razoável considerarmos uma população constante, o que é equivalente a considerar as taxas $\\nu$ e $\\mu$ iguais. \n",
    "\n",
    "Observe que\n",
    "\n",
    "$$ \\frac{\\rm d}{\\rm d t} (S + I) = \\nu N - \\mu (S + I).\n",
    "$$\n",
    "\n",
    "Se $\\mu=\\nu$, temos \n",
    "\n",
    "$$ \\frac{\\rm d}{\\rm d t} (S + I) = \\nu (N - S - I),\n",
    "$$\n",
    "\n",
    "de forma que $S+I = N$ constante é um ponto fixo do sistema."
   ]
  },
  {
   "cell_type": "markdown",
   "metadata": {
    "slideshow": {
     "slide_type": "slide"
    }
   },
   "source": [
    "## Outros modelos\n",
    "\n",
    "- **SEIR**, onde E=*exposto*, que já foi infectado mas ainda não é contagioso, para doenças com um longo tempo de incubação, e um novo parâmetro de **latência**:\n",
    "\n",
    "$$\\rm S \\rightarrow \\rm E \\rightarrow \\rm I \\rightarrow \\rm R.\n",
    "$$\n",
    "\n",
    "- **SEIS**, onde E=*exposto*: \n",
    "\n",
    "$$\\rm S \\rightarrow \\rm E \\rightarrow \\rm I \\rightarrow \\rm S.\n",
    "$$\n",
    "\n",
    "- **SICR** onde C=*portador*, em que alguns infectados não se tornam recuperados e carregam o vírus pela vida toda, como no caso da *tuberculose*. Os portadores podem, por vezes, voltar a desenvolver os sintomas e se tornar contagioso, passando ao compartimento de infectados, para em seguida retornar ao estado latente:\n",
    "\n",
    "$$\\rm S \\rightarrow \\rm I \\rightarrow \\rm R, \\qquad \\rm I \\leftrightarrow \\rm C.\n",
    "$$\n",
    "\n",
    "- **MSEIR**, onde M=*imunidade temporária de recém-nascido* (\"maternally-derived immunity\"), como em *sarampo*:\n",
    "\n",
    "$$\\rm M \\rightarrow \\rm S \\rightarrow \\rm I \\rightarrow \\rm R.\n",
    "$$\n",
    "\n",
    "- **MSEIRS**, com os recuperados tendo imunidade apenas temporária:\n",
    "\n",
    "$$\\rm M \\rightarrow \\rm S \\rightarrow \\rm I \\rightarrow \\rm R \\rightarrow \\rm S.\n",
    "$$"
   ]
  },
  {
   "cell_type": "markdown",
   "metadata": {
    "slideshow": {
     "slide_type": "slide"
    }
   },
   "source": [
    "## Taxa nominal de infecção com saturação\n",
    "\n",
    "Em situações de uma alta proporção de infectados, levando em consideração questões de aglomeração dos infectados e medidas preventivas dos suscetíveis, foram propostas modificações na taxas nominal de infecção, substituindo o termo $\\beta is$ por\n",
    "\n",
    "$$ \\beta \\frac{s i^p}{1 + ki^q}\n",
    "$$\n",
    "\n",
    "com $p, q, k>0$."
   ]
  },
  {
   "cell_type": "markdown",
   "metadata": {
    "slideshow": {
     "slide_type": "slide"
    }
   },
   "source": [
    "## Modelo SIR com vitalidade e vacinação\n",
    "\n",
    "Há vários modelos incluindo estratégias de vacinação. Vamos considerar um modelo simples, proposto em W. H. Herbert, \"The mathematics of infectious diseases\"; *SIAM Rev.* 42(200), 599–653, e discutido, com obtenção de controle ótimo, em G. Zaman, Y. H. Kang, I. H. Jung, \"Stability analysis and optimal vaccination of an SIR epidemic model\"; *Biosystems*, 93 (2008), 240-249.\n",
    "\n",
    "Neste caso, a população de indivíduos suscetíveis, em um modelo SIR com vitalidade, é imunizada a uma taxa específica $u$, levando a um sistema de processos\n",
    "\n",
    "$$ \\begin{cases}\n",
    "     \\rm N \\stackrel{\\nu}{\\rightarrow} \\rm S \\stackrel{\\beta I/N}{\\rightarrow} \\rm I \\stackrel{\\gamma}{\\rightarrow} \\rm R, & \\text{(natalidade, infecção, recuperação)} \\\\\n",
    "     \\rm S \\stackrel{\\nu}{\\rightarrow} M, & \\text{(mortalidade entre os suscetíveis)} \\\\ \n",
    "     \\rm I \\stackrel{\\nu}{\\rightarrow} M, & \\text{(mortalidade entre os infectados)} \\\\\n",
    "     \\rm R \\stackrel{\\nu}{\\rightarrow} M, & \\text{(mortalidade entre os recuperados)} \\\\\n",
    "     \\rm S \\stackrel{u}{\\rightarrow} R, & \\text{(imunização por vacinação dos suscetíveis)}\n",
    "   \\end{cases}\n",
    "$$\n",
    "\n",
    "onde $M$ é o número de **óbitos**, $N=S+I+R$ é a **população total**, que é constante, visto que a taxa de mortalidade é igual à taxa de natalidade $\\nu$."
   ]
  },
  {
   "cell_type": "markdown",
   "metadata": {
    "slideshow": {
     "slide_type": "slide"
    }
   },
   "source": [
    "### Sistema de equações diferenciais do modelo\n",
    "\n",
    "Sistema:\n",
    "\n",
    "$$ \n",
    "  \\begin{cases}\n",
    "    \\displaystyle \\frac{\\rm d S}{\\rm d t} =  \\nu N - \\beta \\frac{I}{N}S - u S - \\nu S, \\\\\n",
    "    \\displaystyle \\frac{\\rm d I}{\\rm d t} =  \\beta \\frac{I}{N}S - \\gamma I - \\nu I, \\\\\n",
    "    \\displaystyle \\frac{\\rm d R}{\\rm d t} = \\gamma I + u S - \\nu R\n",
    "  \\end{cases}\n",
    "$$\n"
   ]
  },
  {
   "cell_type": "markdown",
   "metadata": {
    "slideshow": {
     "slide_type": "slide"
    }
   },
   "source": [
    "### Otimização da processo de vacinação\n",
    "\n",
    "Considerando uma doença não muito grave, que não cause óbitos e onde o principal dano para a população como um todo seja a perda de produtividade, pode-se tentar estimar esse custo e equilibrar com o custo de vacinação para implementar uma política de vacinação que minimize o custo total. Isso nos leva a um problema de minimização de uma função custo.\n",
    "\n",
    "A função custo proposta em Zaman, Kang & Jung (2008) tem a forma\n",
    "\n",
    "$$ J(u) = \\int_0^T \\left( A_1 S(t) + A_2 I(t) + \\frac{\\tau}{2}u(t)^2\\right) \\;\\rm dt,\n",
    "$$\n",
    "onde $A_1$ e $A_2$ são parâmetros de \"custo por indivíduo\", das populações de suscetíveis e infectados, por conta de medidas de prevenção e da infecção, e $\\tau$ é um fator de custo da vacinação.\n",
    "\n",
    "O objetivo é encontrar uma função $u=u(t)$ que minimize $J(u)$, i.e.\n",
    "\n",
    "$$ \\min_{u\\in \\mathcal U} J(u),\n",
    "$$\n",
    "\n",
    "onde $\\mathcal U$ é um **espaço de funções admissíveis**."
   ]
  },
  {
   "cell_type": "markdown",
   "metadata": {
    "slideshow": {
     "slide_type": "slide"
    }
   },
   "source": [
    "## Exercícios\n",
    "\n",
    "1. Faça uma análise do sistema de equações diferenciais do modelo **SIS com vitalidade e população constante** e resolva numericamente o sistema em casos típicos (com e sem epidemia)\n",
    "\n",
    "1. Escreva as equações diferenciais dos modelos descritos na seção de **Outros modelos**.\n",
    "\n",
    "1. Analise o sistema de equações diferenciais do modelo **SIR com vitalidade, população constante e vacinação**\n"
   ]
  },
  {
   "cell_type": "markdown",
   "metadata": {
    "slideshow": {
     "slide_type": "skip"
    }
   },
   "source": [
    "---\n",
    "\n",
    "### Apresentação em slides\n",
    "\n",
    "Para visualizar na forma de slides, abrir um \"terminal\" *bash* e usar a linha de comando\n",
    "```bash\n",
    "jupyter nbconvert 11.00-Aula11.ipynb --to slides --post serve\n",
    "```\n",
    "\n",
    "Se quiser adicionar a possibilidade de rolar a página, caso algum *slide* seja muito longo, incluir a opção\n",
    "```bash\n",
    "--SlidesExporter.reveal_scroll=True\n",
    "```\n",
    "\n",
    "Para usar um tema diferente do padrão, temos a configuração via `SlidesExporter.reveal_theme`. Os temas disponíveis são `beige`, `black`, `blood`, `league`, `moon`, `night`, `serif`, `simple`, `sky`, `solarized`, `white`. O padrão é `white`. Um tema interessante é\n",
    "```bash\n",
    "--SlidesExporter.reveal_theme=solarized\n",
    "```\n",
    "\n",
    "Para usar um efeito de transição diferente do padrão, temos a configuração via `SlidesExporter.reveal_transition`. As opções são `none`, `fade`, `slide`, `convex`, `concave` e `zoom`. O padrão é `slide`. Uma transição interessante é \n",
    "```bash\n",
    "--SlidesExporter.reveal_transition=convex\n",
    "```\n",
    "\n",
    "Mais informações sobre o `nbconvert` em [Configuration options (for nbconvert)](https://nbconvert.readthedocs.io/en/latest/config_options.html) e [Present Your Data Science Projects with Jupyter Notebook Slides!](https://medium.com/learning-machine-learning/present-your-data-science-projects-with-jupyter-slides-75f20735eb0f)"
   ]
  },
  {
   "cell_type": "code",
   "execution_count": 15,
   "metadata": {
    "slideshow": {
     "slide_type": "skip"
    }
   },
   "outputs": [
    {
     "name": "stdout",
     "output_type": "stream",
     "text": [
      "[NbConvertApp] Converting notebook 12.00-Aula12.ipynb to slides\n",
      "[NbConvertApp] Writing 359735 bytes to 12.00-Aula12.slides.html\n"
     ]
    }
   ],
   "source": [
    "!jupyter nbconvert 12.00-Aula12.ipynb --to slides --SlidesExporter.reveal_scroll=True"
   ]
  },
  {
   "cell_type": "markdown",
   "metadata": {
    "slideshow": {
     "slide_type": "skip"
    }
   },
   "source": [
    "<!--NAVIGATOR-->\n",
    "\n",
    "---\n",
    "[<- Aula 11: Epidemiologia - tipos de modelos, o modelo SIR compartimental e o modelo SIR individual](11.00-Aula11.ipynb) | [Página Inicial](00-Sumario.ipynb) \n",
    "\n",
    "<a href=\"https://colab.research.google.com/github/rmsrosa/modelagem_matematica/blob/master/aulas/12.00-Aula12.ipynb\"><img align=\"left\" src=\"https://colab.research.google.com/assets/colab-badge.svg\" alt=\"Open in Colab\" title=\"Open and Execute in Google Colaboratory\"></a>\n",
    "\n",
    "<a href=\"https://mybinder.org/v2/gh/rmsrosa/modelagem_matematica/master?filepath=aulas/12.00-Aula12.ipynb\"><img align=\"left\" src=\"https://mybinder.org/badge.svg\" alt=\"Open in binder\" title=\"Open and Execute in Binder\"></a>\n",
    "\n",
    "<a href=\"https://rmsrosa.github.io/modelagem_matematica/aulas/12.00-Aula12.slides.html\"><img align=\"left\" src=\"https://rmsrosa.github.io/jupyterbookmaker/badges/slides_badge.svg\" alt=\"Open slides\" title=\"Open and View Slides\"></a>\n",
    "&nbsp;"
   ]
  }
 ],
 "metadata": {
  "celltoolbar": "Slideshow",
  "colab": {
   "collapsed_sections": [],
   "name": "Aula4-1.ipynb",
   "provenance": [],
   "version": "0.3.2"
  },
  "kernelspec": {
   "display_name": "Python 3",
   "language": "python",
   "name": "python3"
  },
  "language_info": {
   "codemirror_mode": {
    "name": "ipython",
    "version": 3
   },
   "file_extension": ".py",
   "mimetype": "text/x-python",
   "name": "python",
   "nbconvert_exporter": "python",
   "pygments_lexer": "ipython3",
   "version": "3.7.1"
  }
 },
 "nbformat": 4,
 "nbformat_minor": 2
}
