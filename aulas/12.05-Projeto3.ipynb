{
 "cells": [
  {
   "cell_type": "markdown",
   "metadata": {
    "slideshow": {
     "slide_type": "skip"
    }
   },
   "source": [
    "<!--HEADER-->\n",
    "*[Guia de aulas da disciplina de Modelagem Matemática](https://github.com/rmsrosa/modelagem_matematica) do [IM-UFRJ](https://www.im.ufrj.br).*"
   ]
  },
  {
   "cell_type": "markdown",
   "metadata": {
    "slideshow": {
     "slide_type": "skip"
    }
   },
   "source": [
    "<!--NAVIGATOR-->\n",
    "\n",
    "<a href=\"https://colab.research.google.com/github/rmsrosa/modelagem_matematica/blob/master/aulas/12.05-Projeto3.ipynb\"><img align=\"left\" src=\"https://colab.research.google.com/assets/colab-badge.svg\" alt=\"Open in Colab\" title=\"Open and Execute in Google Colaboratory\"></a>\n",
    "&nbsp;\n",
    "<a href=\"https://mybinder.org/v2/gh/rmsrosa/modelagem_matematica/master?filepath=aulas/12.05-Projeto3.ipynb\"><img align=\"left\" src=\"https://mybinder.org/badge.svg\" alt=\"Open in binder\" title=\"Open and Execute in Binder\"></a>\n",
    "&nbsp;\n",
    "<a href=\"https://rmsrosa.github.io/modelagem_matematica/aulas/12.05-Projeto3.slides.html\"><img align=\"left\" src=\"https://rmsrosa.github.io/jupyterbookmaker/badges/slides_badge.svg\" alt=\"Open slides\" title=\"Open and View Slides\"></a>\n",
    "&nbsp;\n",
    "\n",
    "[<- Aula 12: Epidemiologia - outros modelos compartimentais](12.00-Aula12.ipynb) | [Página Inicial](00-Sumario.ipynb) | [Aula 13: Epidemiologia: o modelo SIR em rede ->](13.00-Aula13.ipynb)\n",
    "\n",
    "---\n"
   ]
  },
  {
   "cell_type": "markdown",
   "metadata": {
    "slideshow": {
     "slide_type": "slide"
    }
   },
   "source": [
    "# Projeto 3: Controle de epidemia via vacinação\n",
    "\n",
    "## Objetivos\n",
    "\n",
    "- Ajustar os parâmtros do modelo SIR aos dados de uma epidemia de gripe\n",
    "- Escolher uma melhor estratégia de vacinação para o controle de futuras epidemias"
   ]
  },
  {
   "cell_type": "markdown",
   "metadata": {
    "slideshow": {
     "slide_type": "skip"
    }
   },
   "source": [
    "## Importando bibliotecas e definindo funções a serem usadas abaixo"
   ]
  },
  {
   "cell_type": "code",
   "execution_count": 1,
   "metadata": {
    "slideshow": {
     "slide_type": "skip"
    }
   },
   "outputs": [],
   "source": [
    "from os import path\n",
    "\n",
    "import numpy as np\n",
    "import pandas as pd\n",
    "import scipy as sp\n",
    "from scipy import optimize\n",
    "from scipy.integrate import odeint\n",
    "\n",
    "import networkx as nx\n",
    "\n",
    "import matplotlib.pyplot as plt\n",
    "\n",
    "import io, base64\n",
    "from IPython.display import Image, HTML"
   ]
  },
  {
   "cell_type": "markdown",
   "metadata": {
    "slideshow": {
     "slide_type": "slide"
    }
   },
   "source": [
    "## Modelo SIR de epidemia sem vitalidade e sem vacinação\n",
    "\n",
    "O modelo SIR clássico pode ser representado pela série de processos\n",
    "\n",
    "$$ \\rm S \\stackrel{\\beta I/N}{\\rightarrow} \\rm I \\stackrel{\\gamma}{\\rightarrow} \\rm R,\n",
    "$$\n",
    "\n",
    "onde \n",
    "- $S$ é a **população de indivíduos suscetíveis**; \n",
    "- $I$ é a **população de indivíduos infectados**;\n",
    "- $R$ é a **população de indivíduos recuparados**;\n",
    "- $N=S+I+R$ é a **população total**;\n",
    "- $\\beta$ é um **fator de infecção**; e\n",
    "- $\\gamma$ é um **fator de recuperação**"
   ]
  },
  {
   "cell_type": "markdown",
   "metadata": {
    "slideshow": {
     "slide_type": "slide"
    }
   },
   "source": [
    "### Sistema de equações diferenciais do modelo SIR clássico\n",
    "\n",
    "Sistema:\n",
    "\n",
    "$$ \n",
    "  \\begin{cases}\n",
    "    \\displaystyle \\frac{\\rm d S}{\\rm d t} =  - \\beta \\frac{I}{N}S, \\\\\n",
    "    \\displaystyle \\frac{\\rm d I}{\\rm d t} =  \\beta \\frac{I}{N}S - \\gamma I, \\\\\n",
    "    \\displaystyle \\frac{\\rm d R}{\\rm d t} = \\gamma I.\n",
    "  \\end{cases}\n",
    "$$"
   ]
  },
  {
   "cell_type": "markdown",
   "metadata": {
    "slideshow": {
     "slide_type": "slide"
    }
   },
   "source": [
    "## Modelo SIR com vitalidade, população constante e sem vacinação\n",
    "\n",
    "Nesse caso, temos os processos\n",
    "\n",
    "$$ \\begin{cases}\n",
    "     \\rm N \\stackrel{\\nu}{\\rightarrow} \\rm S \\stackrel{\\beta I/N}{\\rightarrow} \\rm I \\stackrel{\\gamma}{\\rightarrow} \\rm R, & \\text{(natalidade, infecção, recuperação)} \\\\\n",
    "     \\rm S \\stackrel{\\nu}{\\rightarrow} M, & \\text{(mortalidade entre os suscetíveis)} \\\\ \n",
    "     \\rm I \\stackrel{\\nu}{\\rightarrow} M, & \\text{(mortalidade entre os infectados)} \\\\\n",
    "     \\rm R \\stackrel{\\nu}{\\rightarrow} M, & \\text{(mortalidade entre os recuperados)}\n",
    "   \\end{cases}\n",
    "$$\n",
    "\n",
    "onde $\\nu$ indica tanto a taxa de natalidade como a de mortalidade. "
   ]
  },
  {
   "cell_type": "markdown",
   "metadata": {
    "slideshow": {
     "slide_type": "slide"
    }
   },
   "source": [
    "## Sobre a taxa de vitalidade \n",
    "\n",
    "A taxa mundial de natalidade anual é da ordem de 18,5 por 1000 habitantes, ou seja 1,85%. Considerando a unidade de tempo como sendo de um dia, obtemos uma taxa diária da ordem de $\\nu = 18,5/1000/365.25= 5.07 \\times 10^{-5}$ (recém-nascidos por habitante por dia). Ou seja, isso é desprezível na escala de semanas, mas é considerável nas escalas de anos ou décadas.\n",
    "\n",
    "Por outro lado, o parâmetro $\\nu$ (junto com o parâmetro $\\mu$, no caso de população variável) pode servir para representar uma taxa de migração diária, digamos do fluxo de trabalhadores de uma cidade para outra ou de um bairro para outro, e ser significativamente maior do que a estimada acima. \n",
    "\n",
    "Dados do SEBRAE, por exemplo, dão uma estimativa diária do fluxo de trabalhadores do Rio de Janeiro para outras cidades de 2%. O fluxo em direção ao Rio de Janeiro é maior ainda. Em outras cidades do estado, a emigração diária pode chegar a mais de 50%.\n",
    "\n",
    "No caso de bairros da cidade do Rio, a mobilidade é ainda maior."
   ]
  },
  {
   "cell_type": "markdown",
   "metadata": {
    "slideshow": {
     "slide_type": "slide"
    }
   },
   "source": [
    "## Modelo SIR com vitalidade e vacinação\n",
    "\n",
    "Há vários modelos incluindo estratégias de vacinação. O modelo a seguir é discutido em G. Zaman, Y. H. Kang, I. H. Jung, \"Stability analysis and optimal vaccination of an SIR epidemic model\"; *Biosystems*, 93 (2008), 240-249, com o objetivo se obter um \"controle ótimo\", ou seja, a melhor estratégia de vacinação que minimize uma certa função custo.\n",
    "\n",
    "Neste caso, a população de indivíduos suscetíveis, em um modelo SIR com vitalidade, é imunizada a uma taxa específica $u$, levando a um sistema de processos\n",
    "\n",
    "$$ \\begin{cases}\n",
    "     \\rm N \\stackrel{\\nu}{\\rightarrow} \\rm S \\stackrel{\\beta I/N}{\\rightarrow} \\rm I \\stackrel{\\gamma}{\\rightarrow} \\rm R, & \\text{(natalidade, infecção, recuperação)} \\\\\n",
    "     \\rm S \\stackrel{\\nu}{\\rightarrow} M, & \\text{(mortalidade entre os suscetíveis)} \\\\ \n",
    "     \\rm I \\stackrel{\\nu}{\\rightarrow} M, & \\text{(mortalidade entre os infectados)} \\\\\n",
    "     \\rm R \\stackrel{\\nu}{\\rightarrow} M, & \\text{(mortalidade entre os recuperados)} \\\\\n",
    "     \\rm S \\stackrel{u}{\\rightarrow} R, & \\text{(imunização por vacinação dos suscetíveis)}\n",
    "   \\end{cases}\n",
    "$$\n",
    "\n",
    "onde $M$ é o número de **óbitos**, que é constante, visto que a taxa de mortalidade é igual à taxa de natalidade $\\nu$."
   ]
  },
  {
   "cell_type": "markdown",
   "metadata": {
    "slideshow": {
     "slide_type": "slide"
    }
   },
   "source": [
    "### Sistema de equações diferenciais do modelo SIR com vitalidade e vacinação\n",
    "\n",
    "Sistema:\n",
    "\n",
    "$$ \n",
    "  \\begin{cases}\n",
    "    \\displaystyle \\frac{\\rm d S}{\\rm d t} =  \\nu N - \\beta \\frac{I}{N}S - u S - \\nu S, \\\\\n",
    "    \\displaystyle \\frac{\\rm d I}{\\rm d t} =  \\beta \\frac{I}{N}S - \\gamma I - \\nu I, \\\\\n",
    "    \\displaystyle \\frac{\\rm d R}{\\rm d t} = \\gamma I + u S - \\nu R\n",
    "  \\end{cases}\n",
    "$$"
   ]
  },
  {
   "cell_type": "markdown",
   "metadata": {
    "slideshow": {
     "slide_type": "slide"
    }
   },
   "source": [
    "### Otimização da processo de vacinação\n",
    "\n",
    "Considerando uma doença não muito grave, que não cause óbitos, e onde o principal dano para a população como um todo seja a perda de produtividade, pode-se tentar estimar esse custo e equilibrar com o custo de vacinação para implementar uma política de vacinação que minimize o custo total. Isso nos leva a um problema de minimização de um **funcional-custo**.\n",
    "\n",
    "O funcional-custo proposto em Zaman, Kang & Jung (2008) tem a forma\n",
    "\n",
    "$$ J(u) = \\int_0^T \\left( A_1 S(t) + A_2 I(t) + \\frac{\\tau}{2}u(t)^2\\right) \\;\\rm dt,\n",
    "$$\n",
    "onde $A_1$ e $A_2$ são parâmetros de \"custo por indivíduo\", das populações de suscetíveis e infectados, por conta de medidas de prevenção, no caso de indivíduos suscetíveis, e da perda de produtividade pela saída temporária do sistema produtivo, no caso de indivíduos infectados. O parâmetro $\\tau$ é um fator de custo da vacinação.\n",
    "\n",
    "O objetivo é encontrar uma função $u=u(t)$ que minimize $J(u)$, i.e.\n",
    "\n",
    "$$ \\min_{u\\in \\mathcal U} J(u),\n",
    "$$\n",
    "\n",
    "onde $\\mathcal U$ é um **espaço de funções admissíveis**."
   ]
  },
  {
   "cell_type": "markdown",
   "metadata": {
    "slideshow": {
     "slide_type": "slide"
    }
   },
   "source": [
    "## O espaço de funções admissíveis\n",
    "\n",
    "No artigo Zaman, Kang & Jung (2008), o espaço de funções admissíveis é composto pelo conjunto de todas as funções mensuráveis, definidas em no intervalo $[0,T]$, cujos valores estão entre $0$ e $0.9$. O limite $0.9$.\n",
    "\n",
    "No nosso caso, vamos simplificar e restringir o espaço de funções admissíveis a funções da forma \n",
    "\n",
    "$$ \n",
    "u_{(a, b, c, t_1, t_2)}(t) = \\begin{cases}\n",
    "  a, & 0\\leq t \\leq t_1, \\\\\n",
    "  b, & t_1 < t \\leq t_2, \\\\\n",
    "  c, & t_2 < t \\leq T.\n",
    "\\end{cases}\n",
    "$$\n",
    "\n",
    "com as restrições\n",
    "\n",
    "$$ 0 \\leq t_1 < t_2 < T, \\qquad 0\\leq a, b, c \\leq 0.9.\n",
    "$$"
   ]
  },
  {
   "cell_type": "markdown",
   "metadata": {
    "slideshow": {
     "slide_type": "slide"
    }
   },
   "source": [
    "## Projeto\n",
    "\n",
    "1. Faça o ajuste dos parâmetros $\\beta$ e $\\gamma$ do modelos SIR clássico aos dados da epidemia de *Influenza* em um escola de meninos no norte da Inglaterra, com um total de 763 residentes, em um período de duas semanas, em que, a cada dia, o número de infectados é dado pela lista\n",
    "\n",
    "$$ \\text{Infectados} = [1, 3, 7, 25, 72, 222, 282, 256, 233, 189, 123, 70, 25, 11, 4]\n",
    "$$\n",
    "\n",
    "1. Usando os parâmetros $\\beta$ e $\\gamma$ obtidos no ajuste acima e usando $\\nu=0.2$, encontre os parâmetros $a_*,b_*,c_*,{t_1}_*,{t_2}_*$, dentro das condições de admissibilidade, tais que a estratégia de vacinação $u_* = u_{(a_*,b_*,c_*,{t_1}_*,{t_2}_*)}$ minimiza o funcional-custo\n",
    "\n",
    "$$ J(u) = \\int_0^T \\left( A_1 S(t) + A_2 I(t) + \\frac{\\tau}{2}u(t)^2\\right) \\;\\rm dt,\n",
    "$$\n",
    "\n",
    "com $T=100$ (dias), $A_1 = 0.1$ (custo por indivíduo suscetível por dia), $A_2 = 1$ (custo por indivíduo infectado por dia), $\\tau = 50$ (custo diário associado à estratégia de vacinação).\n"
   ]
  },
  {
   "cell_type": "markdown",
   "metadata": {
    "slideshow": {
     "slide_type": "slide"
    }
   },
   "source": [
    "## Informações para a entrega do projeto:\n",
    "\n",
    "- Enviar arquivo no formato de um **caderno Jupyter**.\n",
    "\n",
    "- Enviar por correio eletrônico com cópia para Alejandro Cabrera e Ricardo Rosa.\n",
    "    \n",
    "- Enviar a mensagem com o assunto **Projeto 3 de Modelagem Matemática: Epidemiologia**.\n",
    "\n",
    "- Nomear o arquivo do caderno Jupyter com o número do projeto e o seu nome, e.g. `Projeto3_Nome_do_Estudante.ipynb`.\n",
    "\n",
    "- Imagens ou dados que precisem ser carregados pelo caderno devem ser enviados em um subdiretório, na mesma mensagem com o arquivo do caderno Jupyter.\n",
    "    \n",
    "- Podem enviar o caderno e o subdiretório agrupados em um único arquivo `.tar`, `.gz` ou semelhante."
   ]
  },
  {
   "cell_type": "markdown",
   "metadata": {
    "slideshow": {
     "slide_type": "slide"
    }
   },
   "source": [
    "## Organização do caderno:\n",
    "\n",
    "O caderno Jupyter deve conter as seguintes informações:\n",
    "\n",
    "- **Título:** \"Projeto 3 de Modelagem Matemática: Epidemioloia\"\n",
    "- **Nome do estudante**\n",
    "- **Data de entrega**\n",
    "- **Objetivos**\n",
    "- **Descrição do projeto**\n",
    "- **Análise do problema** (incluindo dados trabalhados, métodos utilizadas, resultados obtidos, discussão dos resultados)"
   ]
  },
  {
   "cell_type": "markdown",
   "metadata": {
    "slideshow": {
     "slide_type": "slide"
    }
   },
   "source": [
    "## Data de entrega\n",
    "\n",
    "- Até a quarta-feira dia **22 de maio**.\n"
   ]
  },
  {
   "cell_type": "markdown",
   "metadata": {
    "slideshow": {
     "slide_type": "skip"
    }
   },
   "source": [
    "---\n",
    "\n",
    "### Apresentação em slides\n",
    "\n",
    "Para visualizar na forma de slides, abrir um \"terminal\" *bash* e usar a linha de comando\n",
    "```bash\n",
    "jupyter nbconvert 12.05-Projeto3.ipynb --to slides --post serve\n",
    "```\n",
    "\n",
    "Se quiser adicionar a possibilidade de rolar a página, caso algum *slide* seja muito longo, incluir a opção\n",
    "```bash\n",
    "--SlidesExporter.reveal_scroll=True\n",
    "```\n",
    "Ou executar diretamente o código na célula a seguir."
   ]
  },
  {
   "cell_type": "code",
   "execution_count": 3,
   "metadata": {
    "slideshow": {
     "slide_type": "skip"
    }
   },
   "outputs": [
    {
     "name": "stdout",
     "output_type": "stream",
     "text": [
      "[NbConvertApp] Converting notebook 12.05-Projeto3.ipynb to slides\n",
      "[NbConvertApp] Writing 292228 bytes to 12.05-Projeto3.slides.html\n"
     ]
    }
   ],
   "source": [
    "!jupyter nbconvert 12.05-Projeto3.ipynb --to slides"
   ]
  },
  {
   "cell_type": "markdown",
   "metadata": {
    "slideshow": {
     "slide_type": "skip"
    }
   },
   "source": [
    "<!--NAVIGATOR-->\n",
    "\n",
    "---\n",
    "[<- Aula 12: Epidemiologia - outros modelos compartimentais](12.00-Aula12.ipynb) | [Página Inicial](00-Sumario.ipynb) | [Aula 13: Epidemiologia: o modelo SIR em rede ->](13.00-Aula13.ipynb)\n",
    "\n",
    "<a href=\"https://colab.research.google.com/github/rmsrosa/modelagem_matematica/blob/master/aulas/12.05-Projeto3.ipynb\"><img align=\"left\" src=\"https://colab.research.google.com/assets/colab-badge.svg\" alt=\"Open in Colab\" title=\"Open and Execute in Google Colaboratory\"></a>\n",
    "\n",
    "<a href=\"https://mybinder.org/v2/gh/rmsrosa/modelagem_matematica/master?filepath=aulas/12.05-Projeto3.ipynb\"><img align=\"left\" src=\"https://mybinder.org/badge.svg\" alt=\"Open in binder\" title=\"Open and Execute in Binder\"></a>\n",
    "\n",
    "<a href=\"https://rmsrosa.github.io/modelagem_matematica/aulas/12.05-Projeto3.slides.html\"><img align=\"left\" src=\"https://rmsrosa.github.io/jupyterbookmaker/badges/slides_badge.svg\" alt=\"Open slides\" title=\"Open and View Slides\"></a>\n",
    "&nbsp;"
   ]
  }
 ],
 "metadata": {
  "celltoolbar": "Slideshow",
  "colab": {
   "collapsed_sections": [],
   "name": "Aula4-1.ipynb",
   "provenance": [],
   "version": "0.3.2"
  },
  "kernelspec": {
   "display_name": "Python 3",
   "language": "python",
   "name": "python3"
  },
  "language_info": {
   "codemirror_mode": {
    "name": "ipython",
    "version": 3
   },
   "file_extension": ".py",
   "mimetype": "text/x-python",
   "name": "python",
   "nbconvert_exporter": "python",
   "pygments_lexer": "ipython3",
   "version": "3.7.1"
  }
 },
 "nbformat": 4,
 "nbformat_minor": 2
}
