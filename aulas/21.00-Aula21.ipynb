{
 "cells": [
  {
   "cell_type": "markdown",
   "metadata": {
    "slideshow": {
     "slide_type": "skip"
    }
   },
   "source": [
    "<!--HEADER-->\n",
    "*[Guia de aulas da disciplina de Modelagem Matemática](https://github.com/rmsrosa/modelagem_matematica) do [IM-UFRJ](https://www.im.ufrj.br).*"
   ]
  },
  {
   "cell_type": "markdown",
   "metadata": {
    "slideshow": {
     "slide_type": "skip"
    }
   },
   "source": [
    "<!--NAVIGATOR-->\n",
    "\n",
    "<a href=\"https://colab.research.google.com/github/rmsrosa/modelagem_matematica/blob/master/aulas/21.00-Aula21.ipynb\"><img align=\"left\" src=\"https://colab.research.google.com/assets/colab-badge.svg\" alt=\"Open in Colab\" title=\"Open and Execute in Google Colaboratory\"></a>\n",
    "&nbsp;\n",
    "<a href=\"https://mybinder.org/v2/gh/rmsrosa/modelagem_matematica/master?filepath=aulas/21.00-Aula21.ipynb\"><img align=\"left\" src=\"https://mybinder.org/badge.svg\" alt=\"Open in binder\" title=\"Open and Execute in Binder\"></a>\n",
    "&nbsp;\n",
    "<a href=\"https://rmsrosa.github.io/modelagem_matematica/aulas/21.00-Aula21.slides.html\"><img align=\"left\" src=\"https://rmsrosa.github.io/jupyterbookmaker/badges/slides_badge.svg\" alt=\"Open slides\" title=\"Open and View Slides\"></a>\n",
    "&nbsp;\n",
    "\n",
    "[<- Aula 20: Retroprojeção não-filtrada](20.00-Aula20.ipynb) | [Página Inicial](00-Sumario.ipynb) \n",
    "\n",
    "---\n"
   ]
  },
  {
   "cell_type": "markdown",
   "metadata": {
    "slideshow": {
     "slide_type": "slide"
    }
   },
   "source": [
    "# Aula 21: Sismologia\n",
    "\n",
    "- Propagação de onda em meios elásticos heterogêneos\n",
    "\n",
    "- Simulação de ondas sísmicas\n",
    "\n",
    "- Simulação de terremotos"
   ]
  },
  {
   "cell_type": "code",
   "execution_count": 1,
   "metadata": {
    "slideshow": {
     "slide_type": "skip"
    }
   },
   "outputs": [],
   "source": [
    "from os import path\n",
    "\n",
    "\n",
    "import numpy as np\n",
    "\n",
    "import matplotlib.pyplot as plt\n",
    "\n",
    "import io, base64\n",
    "from IPython.display import Image, HTML, clear_output\n",
    "\n",
    "def path_files_sismografia(filename):\n",
    "    return path.join('..', 'dados', 'sismografia', filename)"
   ]
  },
  {
   "cell_type": "markdown",
   "metadata": {
    "slideshow": {
     "slide_type": "slide"
    }
   },
   "source": [
    "## Equaçõs de movimento de materiais elásticos\n",
    "\n",
    "### Variáveis de estado\n",
    "\n",
    "Para a modelagem de propagação de ondas em meios elásticos bidimensionais $(d=2)$ ou tridimensinais $(d=3)$, é apropriado considerar o vetor **deslocamento** $\\mathcal{u}=(u_i)_{i=1}^d$ dado por\n",
    "\n",
    "$$ \\mathbf{u}(t, \\mathbf{x}) = \\mathbf{X}(t, \\mathbf{x}) - \\mathbf{x}\n",
    "$$\n",
    "\n",
    "entre a posição de equilíbrio $\\mathbf{x}=(x_i)_{i=1}^d$ de um **ponto material**, tomada como **posição de referência**, e a **posição deformada elasticamente** $\\mathbf{X}(t, \\mathbf{x}) = (X_i(t, \\mathbf{x}))_{i=1}^d$ desse ponto material de referência $\\mathbf{x}$, em um **instante** $t$.\n",
    "\n",
    "Além do deslocamento, a **densidade**\n",
    "\n",
    "$$ \\rho(t, \\mathbf{x}),\n",
    "$$\n",
    "\n",
    "relativa ao ponto de referência $\\mathbf{x}$, no instante $t$, também é necessária para descrever o estado do sistema. \n",
    "\n",
    "Neste momento, desprezamos variações na temperatura do material, considerando apenas $\\mathbf{u}$ e $\\rho$ como as **variáveis de estado** do material e $t$ e $\\mathbf{x}$ como **variáveis independentes**."
   ]
  },
  {
   "cell_type": "markdown",
   "metadata": {
    "slideshow": {
     "slide_type": "slide"
    }
   },
   "source": [
    "### Equações de Navier\n",
    "\n",
    "As **equações de Navier** de um meio contínuo, escritas em termos do deslocamento $\\mathbf{u}$, consistem nas equações de conservação de momento\n",
    "\n",
    "$$ \\rho\\frac{\\partial^2 u_i}{\\partial t^2} = \\sum_{j=1}^d\\frac{\\partial \\sigma_{ij}}{\\partial x_j} + f_i, \\qquad i 1, \\ldots, d,\n",
    "$$\n",
    "\n",
    "além de uma equação de conservação de massa, e onde\n",
    "\n",
    "$$ \\mathsf{\\sigma} = \\mathsf{\\sigma}(t,\\mathbf{x}) = \\left(\\sigma_{ij}(t,\\mathbf{x})\\right)_{i,j=1}^d\n",
    "$$\n",
    "\n",
    "é o tensor de tensões em $(t,\\mathbf{x})$.\n",
    "\n",
    "Isso vale para **deslocamentos relativamente pequenos!** Caso contrário, há uma contribuição extra no termo de aceleração.\n",
    "\n",
    "Em forma vetorial, podemos reescrever essa equação na forma\n",
    "\n",
    "$$ \\rho \\frac{\\partial^2 \\mathbf{u}}{\\partial t^2} = \\mathbf{\\nabla} \\cdot \\mathsf{\\sigma} + \\mathbf{f}.\n",
    "$$"
   ]
  },
  {
   "cell_type": "markdown",
   "metadata": {
    "slideshow": {
     "slide_type": "slide"
    }
   },
   "source": [
    "### Lei constitutiva de um material elástico Hookeano isotrópico\n",
    "\n",
    "Um ponto de partida é assumir que o meio em que estamos interessados é um meio elástico modelado por uma lei constitutiva que segue a lei de Hooke\n",
    "\n",
    "$$\n",
    "  \\mathsf{\\sigma} = \\mathsf{C} \\mathcal{E}\n",
    "$$\n",
    "onde \n",
    "\n",
    "$$ \\mathcal{E} = \\frac{1}{2}\\left( \\frac{\\partial u_i}{\\partial x_j} + \\frac{\\partial u_j}{\\partial x_i} \\right)_{i,j=1}^d = \\frac{1}{2} \\left( \\nabla \\mathbf{u} + (\\nabla \\mathbf{u})^\\rm{t}\\right).\n",
    "$$\n",
    "\n",
    "é o **tensor de deformações** do material, $\\nabla \\mathbf{u}$ é o **gradiente de deformações**, $(\\nabla\\mathbf{u})^\\rm{t}$ é a sua transposta, e  $\\mathsf{C}$ é um tensor de quarta ordem chamado de **tensor de elasticidade**."
   ]
  },
  {
   "cell_type": "markdown",
   "metadata": {
    "slideshow": {
     "slide_type": "slide"
    }
   },
   "source": [
    "### Lei constitutiva de um material elástico Hookeano isotrópico\n",
    "\n",
    "Assumindo um material elástico Hookeano **isotrópico** e usando outras simetrias intrínsicas ao tensor de tensões, o tensor de tensões desse material é determinado por apenas dois parâmetros e a lei consitutiva se reduz à forma\n",
    "\n",
    "\n",
    "$$ \\mathsf{\\sigma} = \\lambda \\rm{tr}\\mathsf{I} + 2\\mu \\mathcal{E}.\n",
    "$$\n",
    "\n",
    "onde $\\lambda$ e $\\mu$ são chamados de **coeficientes de Lamé**."
   ]
  },
  {
   "cell_type": "markdown",
   "metadata": {
    "slideshow": {
     "slide_type": "slide"
    }
   },
   "source": [
    "### Divergente do tensor de tensões de um material elástico Hookeano isotrópico\n",
    "\n",
    "Usando a relação \n",
    "\n",
    "$$ \\mathsf{\\sigma} = \\lambda \\rm{tr}(\\mathcal{E})\\mathsf{I} + 2\\mu \\mathcal{E},\n",
    "$$\n",
    "\n",
    "o divergente de $\\mathsf{\\sigma}$, que aparece na equação de Navier, é dado por\n",
    "\n",
    "$$ \n",
    "\\mathbf{\\nabla} \\cdot \\mathsf{\\sigma} = \\rm{tr}(\\mathcal{E}) \\mathsf{\\mathbf{\\nabla}}\\lambda  + \\lambda \\mathbf{\\nabla} \\cdot (\\rm{tr}(\\mathcal{E})\\mathsf{I}) + 2\\mathbf{\\nabla} \\mu \\cdot \\mathcal{E} + 2\\mu \\mathbf{\\nabla} \\cdot \\mathcal{E}.\n",
    "$$"
   ]
  },
  {
   "cell_type": "markdown",
   "metadata": {
    "slideshow": {
     "slide_type": "slide"
    }
   },
   "source": [
    "### Equações de Navier de um material elástico Hookeano isotrópico\n",
    "\n",
    "Com a forma acima para o divergente do tensor de tensões, e utilizando algumas identidades vetoriais, obtemos as equações de movimento na forma\n",
    "\n",
    "$$ \\rho \\mathbf{\\ddot u} = \\mathsf{\\mathbf{\\nabla}}\\lambda (\\mathbf{\\nabla} \\cdot \\mathbf{u}) + \\mathbf{\\nabla} \\mu \\cdot\\left( \\mathbf{\\nabla} \\mathbf{u} + (\\mathbf{\\nabla} \\mathbf{u})^\\rm{t}\\right) + (\\lambda + 2\\mu)\\mathbf{\\nabla} (\\mathbf{\\nabla} \\cdot \\mathbf{u})  - \\mu \\mathbf{\\nabla} \\times (\\mathbf{\\nabla} \\times \\mathbf{u}) + \\mathbf{f}.\n",
    "$$"
   ]
  },
  {
   "cell_type": "markdown",
   "metadata": {
    "slideshow": {
     "slide_type": "slide"
    }
   },
   "source": [
    "### Desprezando os gradientes dos coeficientes de Lamé\n",
    "\n",
    "Os termos envolvendo os gradientes $\\mathsf{\\mathbf{\\nabla}}\\lambda$ e $\\mathsf{\\mathbf{\\nabla}}\\mu$ dos coeficientes de Lamé são relativamente pequenos para perturbações de frequências relativamente altas.\n",
    "\n",
    "Por esse motivo, em muitos casos, esses termos são normalmente desprezados e nos levam à equação vetorial\n",
    "\n",
    "$$ \\rho \\mathbf{\\ddot u} = (\\lambda + 2\\mu)\\mathbf{\\nabla} (\\mathbf{\\nabla} \\cdot \\mathbf{u})  - \\mu \\mathbf{\\nabla} \\times (\\mathbf{\\nabla} \\times \\mathbf{u}) + \\mathbf{f}.\n",
    "$$\n"
   ]
  },
  {
   "cell_type": "markdown",
   "metadata": {
    "slideshow": {
     "slide_type": "slide"
    }
   },
   "source": [
    "### Decomposição em ondas P e S\n",
    "\n",
    "O deslocamento $\\mathbf{u}=(u_i)_{i=1, \\ldots, d}$ é uma quantidade bi- ou tri-dimensional.\n",
    "\n",
    "Ele pode ser decomposto em duas partes, relativas a **ondas P** e **ondas S**, aplicando o divergente e o rotacional a $\\mathbf{u}$\n",
    "\n",
    "- Ondas P: $u_P = \\mathbf{\\nabla}\\cdot \\mathbf{u}$;\n",
    "\n",
    "- Ondas S: $\\mathbf{u}_S = \\mathbf{\\nabla}\\times \\mathbf{u}$.\n",
    "\n",
    "No caso bidimensional, a onda S também é um escalar $u_S$ e temos, mais explicitamente, escrevendo $\\mathbf{u} = (u,v)$, temos\n",
    "\n",
    "- Ondas P: $u_P = u_x + v_y$;\n",
    "\n",
    "- Ondas S: $u_S = v_x - u_y$."
   ]
  },
  {
   "cell_type": "markdown",
   "metadata": {
    "slideshow": {
     "slide_type": "slide"
    }
   },
   "source": [
    "### Recuperando a onda original\n",
    "\n",
    "Conhecidas as ondas \n",
    "$$ u_P = \\partial_x u + \\partial_y v, \\qquad u_S = \\partial_x v - \\partial_y u,\n",
    "$$\n",
    "\n",
    "no caso bidimensional, podemos ver que\n",
    "\n",
    "$$ \\partial_x u_P - \\partial_y u_S = \\Delta u, \\qquad \\partial_y u_P + \\partial_x u_S = \\Delta v,\n",
    "$$\n",
    "\n",
    "de modo que as coordenadas $u$ e $v$ podem ser obtidas separadamente através da resolução de problemas elípticos. \n",
    "\n",
    "Analogamente no caso tridimensional."
   ]
  },
  {
   "cell_type": "markdown",
   "metadata": {
    "slideshow": {
     "slide_type": "slide"
    }
   },
   "source": [
    "### Equações para as ondas P e S\n",
    "\n",
    "Aplicando o divergente e o rotacional à equação e usando algumas identidades vetoriais, chega-se às seguintes equações, no caso bidimensional, para as ondas P e S:\n",
    "\n",
    "$$\n",
    "\\frac{\\partial^2 u_P}{\\partial t^2} =  \\frac{\\lambda + 2\\mu}{\\rho} \\Delta u_P + f_P,\n",
    "$$\n",
    "\n",
    "$$\n",
    "\\frac{\\partial^2 u_S}{\\partial t^2} = \\frac{\\mu}{\\rho} \\Delta u_S + f_S,\n",
    "$$\n",
    "\n",
    "onde \n",
    "\n",
    "$$ f_P = \\mathbf{\\nabla} \\cdot \\mathbf{f}, \\qquad f_S = \\mathbf{\\nabla} \\times \\mathbf{f}\n",
    "$$\n",
    "\n",
    "Ambas são da forma\n",
    "\n",
    "$$ \\frac{\\partial^2 w}{\\partial t^2} =  c^2 \\Delta w + g,\n",
    "$$\n",
    "\n",
    "com velocidades respectivas $c=c_P$ e $c_S$ dadas por\n",
    "\n",
    "$$ c_P = \\sqrt{\\frac{\\lambda + 2\\mu}{\\rho}}, \\qquad c_S = \\sqrt{\\frac{\\mu}{\\rho}}.\n",
    "$$\n",
    "\n",
    "Observe que $c_P > c_S$."
   ]
  },
  {
   "cell_type": "markdown",
   "metadata": {
    "slideshow": {
     "slide_type": "slide"
    }
   },
   "source": [
    "### Velocidade típicas de ondas acústicas de certas rochas \n",
    "\n",
    "| Tipo de rocha | velocidade (m/s) |\n",
    "| ----------|:--------------:|\n",
    "| xisto |1800 - 4900 |\n",
    "| Arenito | 5800 |\n",
    "| Calcário | 5800 - 6400 |\n",
    "| Anidrita | 6100 |\n",
    "| Granito |5800 - 6100 |\n",
    "| Dolomita | 6400 - 7300 |\n",
    "| Gabro | 7200 |"
   ]
  },
  {
   "cell_type": "markdown",
   "metadata": {
    "slideshow": {
     "slide_type": "slide"
    }
   },
   "source": [
    "## Equação linear da onda\n",
    "\n",
    "Nesse caso, vamos simplificar a modelagem e considerar apenas ondas *acústicas*, que estão associadas às ondas P por\n",
    "\n",
    "$$ p = \\lambda \\mathbf{\\nabla} \\cdot \\mathbf{u} = \\lambda u_P.\n",
    "$$\n",
    "\n",
    "Em duas dimensões espaciais, em um plano $xz$, a equação da onda para $p$ toma a forma\n",
    "\n",
    "$$\n",
    "\\frac{\\partial^2 p}{\\partial t^2} = c^2 \\left(\\frac{\\partial^2 p}{\\partial x^2} + \\frac{\\partial^2 p}{\\partial z^2}\\right) + g,\n",
    "$$\n",
    "\n",
    "onde $c=c(x,z)$ é a velocidade de propagação da onda acústica (mesma que a da onda P) no ponto $(x,z)$, em um meio possivelmente heterogêneo, e $g=g(t,x,z)$ é uma fonte externa de geração de ondas acústicas."
   ]
  },
  {
   "cell_type": "markdown",
   "metadata": {
    "slideshow": {
     "slide_type": "slide"
    }
   },
   "source": [
    "## Discretização via diferenças finitas\n",
    "\n",
    "Consideramos uma malha espacial uniforme $(x_i, z_j)$, com intervalos espaciais $\\mathrm{d} x$ e $\\mathrm{d} z$ em cada direção, e aproximamos as derivadas de segunda ordem pelo método clássico de segunda ordem usando três pontos (na direção correspondente).\n",
    "\n",
    "A aproximação de $p=p(t_n,x_i,z_j)$ nos pontos da malha é denotada por $p_{i,j}^n$. Analogamente para $c$ e $g$, exceto que assuimos que $c$ não depende de $t$.\n",
    "\n",
    "Isso nos leva à equação em diferenças finitas\n",
    "\n",
    "$$\n",
    " \\frac{p_{i,j}^{n+1} - 2 p_{i,j}^n + p_{i,j}^{n-1}}{\\mathrm{d}t^2}  = c_{i,j}^2 \\left( \\frac{p_{i+1,j}^{n} - 2 p_{i,j}^n + p_{i-1,j}^{n}}{\\mathrm{d}x^2} + \\frac{p_{i,j+1}^{n} - 2 p_{i,j}^n + p_{i,j-1}^{n}}{\\mathrm{d}z^2}\\right) \\ + g_{i,j}^n.\n",
    "$$\n",
    "\n",
    "Essa equação pode ser escrita para $p^{n+1}$ explicitamente em função dos passos anteriores $p^n$, $p^{n-1}$ e dos parâmetros conhecidos $g^n$ e $c$."
   ]
  },
  {
   "cell_type": "markdown",
   "metadata": {
    "slideshow": {
     "slide_type": "slide"
    }
   },
   "source": [
    "## Parâmetros do domínio espacial e de sua discretização"
   ]
  },
  {
   "cell_type": "code",
   "execution_count": 2,
   "metadata": {
    "code_folding": [
     0
    ],
    "scrolled": false
   },
   "outputs": [
    {
     "name": "stdout",
     "output_type": "stream",
     "text": [
      "Lx = 20000 m\n",
      "Lz = 10000 m\n",
      "Nx = 500\n",
      "Nz = 500\n",
      "dx = 40.00 m\n",
      "dz = 20.00 m\n"
     ]
    }
   ],
   "source": [
    "Lx = 20000    # extensão (horizontal) do domínio (metros)\n",
    "Lz = 10000    # profundidade do domínio (metros)\n",
    "nx = 500      # número de pontos da malha na direção horizontal\n",
    "nz = 500      # número de pontos da malha na direção vertical\n",
    "dx = Lx/nx    # distância entre os pontos da malha na direção horizontal\n",
    "dz = Lz/nz    # distância entre os pontos da malha na direção vertical\n",
    "print(f'Lx = {Lx} m')\n",
    "print(f'Lz = {Lz} m')\n",
    "print(f'Nx = {nx}')\n",
    "print(f'Nz = {nz}')\n",
    "print(f'dx = {dx:.2f} m')\n",
    "print(f'dz = {dz:.2f} m')"
   ]
  },
  {
   "cell_type": "markdown",
   "metadata": {
    "slideshow": {
     "slide_type": "slide"
    }
   },
   "source": [
    "## Estrutura rochosa\n",
    "\n",
    "A crosta terrestre é composta de diferentes materiais. Para efeito da propagação de ondas sísmicas, precisamos definir as velocidades de propagação de ondas elásticas do meio. Vamos considerar algumas estruturas, definidas por uma função `campo_de_velocidades`, que retorna o campo de velocidades $c(x,z)$ para cada `tipo` de perfil do meio."
   ]
  },
  {
   "cell_type": "code",
   "execution_count": 3,
   "metadata": {
    "code_folding": [
     0
    ],
    "scrolled": false
   },
   "outputs": [],
   "source": [
    "def campo_de_velocidades(tipo):    \n",
    "    \n",
    "    c0 = 6000.0 # velocidade típica (m/s)\n",
    "\n",
    "    if tipo == 'homogênea':\n",
    "        c = c0*np.ones((nz, nx))\n",
    "    elif tipo == 'camada inclinada':\n",
    "        c = c0*np.ones((nz, nx))\n",
    "        for j in range(nx):\n",
    "            c[:2*nz//5 + int(0.2*j), j] =  0.8 * c0\n",
    "    elif tipo == 'camadas inclinadas':\n",
    "        c = c0*np.ones((nz, nx))\n",
    "        for m in [20, 12, 6]:\n",
    "            for j in range(nx):\n",
    "                c[:m*nz//80 + 5*m + int(m*j/100), j] -=  0.25 * c0\n",
    "    elif tipo == 'heterogênea':\n",
    "        c = c0*np.ones((nz, nx))\n",
    "        for j in range(nx):\n",
    "            c[:2*nz//5 + int(0.2*j), j] =  0.9 * c0       \n",
    "\n",
    "    return c    "
   ]
  },
  {
   "cell_type": "markdown",
   "metadata": {
    "slideshow": {
     "slide_type": "slide"
    }
   },
   "source": [
    "### Visualizando as estruturas"
   ]
  },
  {
   "cell_type": "code",
   "execution_count": 4,
   "metadata": {},
   "outputs": [
    {
     "data": {
      "image/png": "[encoded data removed]",
      "text/plain": [
       "<Figure size 720x720 with 4 Axes>"
      ]
     },
     "metadata": {
      "needs_background": "light"
     },
     "output_type": "display_data"
    }
   ],
   "source": [
    "arranjo = '22'\n",
    "if arranjo == '22':\n",
    "    figsize = (10,10) \n",
    "elif arranjo == '41':\n",
    "    figsize = (8, 32)\n",
    "\n",
    "plt.figure(figsize=figsize)\n",
    "\n",
    "tipo = ['homogênea', 'camada inclinada', \n",
    "         'camadas inclinadas', 'heterogênea']\n",
    "\n",
    "for j in range(len(tipo)):\n",
    "    plt.subplot(arranjo + str(j+1))\n",
    "    c = campo_de_velocidades(tipo[j])\n",
    "    plt.imshow(c, extent=[0, Lx/1000, Lz/1000, 0], \n",
    "               vmin=c.min(), vmax=c.max(),\n",
    "               cmap = plt.cm.YlOrBr, alpha=0.2)\n",
    "    plt.xlabel('extensão (km)', fontsize=12)\n",
    "    plt.ylabel('profundidade (km)', fontsize=12)\n",
    "    plt.title(f'Tipo de estrutura: {tipo[j]}\\n', fontsize=14)\n",
    "\n",
    "plt.subplots_adjust(wspace=0.2, top=0.65)\n",
    "plt.show()"
   ]
  },
  {
   "cell_type": "markdown",
   "metadata": {
    "slideshow": {
     "slide_type": "slide"
    }
   },
   "source": [
    "## Sensores\n",
    "\n",
    "Consideramos alguns sensores localizados próximos a superfície. Definimos, no momento, as suas coordenadas $(x,z)$."
   ]
  },
  {
   "cell_type": "code",
   "execution_count": 5,
   "metadata": {},
   "outputs": [
    {
     "name": "stdout",
     "output_type": "stream",
     "text": [
      "Temos 5 sensores, localizados nas seguintes coordenadas:\n",
      "  Sensor 1 localizado em (x,z) = (6000.0, 100.0) m\n",
      "  Sensor 2 localizado em (x,z) = (8000.0, 100.0) m\n",
      "  Sensor 3 localizado em (x,z) = (10000.0, 100.0) m\n",
      "  Sensor 4 localizado em (x,z) = (12000.0, 100.0) m\n",
      "  Sensor 5 localizado em (x,z) = (14000.0, 100.0) m\n"
     ]
    }
   ],
   "source": [
    "sensor_i = np.array([3*nx//10 , 4*nx//10, 5*nx//10, 6*nx//10, 7*nx//10])\n",
    "sensor_j = 5*np.ones_like(sensor_i)\n",
    "print(f'Temos {len(sensor_i)} sensores, localizados nas seguintes coordenadas:')\n",
    "for k in range(len(sensor_i)):\n",
    "    print(f'  Sensor {k+1} localizado em (x,z) = ({sensor_i[k]*dx:.1f}, {sensor_j[k]*dz:.1f}) m')"
   ]
  },
  {
   "cell_type": "markdown",
   "metadata": {
    "slideshow": {
     "slide_type": "slide"
    }
   },
   "source": [
    "### Visualizando a posição dos sensores"
   ]
  },
  {
   "cell_type": "code",
   "execution_count": 6,
   "metadata": {},
   "outputs": [
    {
     "data": {
      "image/png": "[encoded data removed]",
      "text/plain": [
       "<Figure size 720x720 with 1 Axes>"
      ]
     },
     "metadata": {
      "needs_background": "light"
     },
     "output_type": "display_data"
    }
   ],
   "source": [
    "plt.figure(figsize=(10,10))\n",
    "\n",
    "tipo = 'camadas inclinadas'\n",
    "c = campo_de_velocidades(tipo)\n",
    "    \n",
    "plt.imshow(c, extent=[0, Lx/1000, Lz/1000, 0], \n",
    "           vmin=c.min(), vmax=c.max(),\n",
    "           cmap = plt.cm.YlOrBr, alpha = 0.2)\n",
    "\n",
    "for i, j in zip(sensor_i, sensor_j):\n",
    "    plt.plot(i*dx/1000,j*dz/1000, 'r+')\n",
    "\n",
    "plt.xlabel('extensão (km)', fontsize=12)\n",
    "plt.ylabel('profundidade (km)', fontsize=12)\n",
    "plt.title(f'Posição dos sensores, sobre a estrutura \"{tipo}\"\\n', fontsize=14)\n",
    "\n",
    "plt.show()"
   ]
  },
  {
   "cell_type": "markdown",
   "metadata": {
    "slideshow": {
     "slide_type": "slide"
    }
   },
   "source": [
    "## Parâmetros para a evolução temporal\n",
    "\n",
    "Definimos um tempo final $T_{\\rm max}$ para a simulação numérica.\n",
    "\n",
    "Vamos aproximar as derivadas de segunda ordem, tanto no tempo como no espaço, pelo método padrão de diferenças finitas usando três pontos, que dá uma aproximação de segunda ordem.\n",
    "\n",
    "Por questões de estabilidade, a condição de CFL (Courant-Friedrichs-Lewy) deve ser satisfeita. Essencialmente, ela requer que o cone de influência da condição inicial em um ponto $(t,x,z)$ da solução pela EDP deve estar contido no cone correspondente da equações em diferenças finitas.\n",
    "\n",
    "No caso em questão (equação da onda bidimensional, com aproximação de segunda ordem padrão, velocidade máxima $c$ e passos distintos $\\rm{d}x$ e $\\rm{d}y$ em cada direção), a condição de CFL local tem a forma\n",
    "\n",
    "$$ \\rm{d} t \\leq \\frac{1}{c}\\frac{\\rm{d} x\\rm{d} y}{\\sqrt{\\rm{d}x^2 + \\rm{d}y^2}}.\n",
    "$$"
   ]
  },
  {
   "cell_type": "markdown",
   "metadata": {
    "slideshow": {
     "slide_type": "slide"
    }
   },
   "source": [
    "## Definição dos parâmetros temporais\n",
    "\n",
    "Assim, definimos os parâmetros temporais "
   ]
  },
  {
   "cell_type": "code",
   "execution_count": 7,
   "metadata": {},
   "outputs": [
    {
     "name": "stdout",
     "output_type": "stream",
     "text": [
      "Tempo limite: 3.0 s\n",
      "Tempo final da simulação: 3.0 s\n",
      "Número de passos temporais: 1007\n",
      "Passo temporal: 2.98 ms\n"
     ]
    }
   ],
   "source": [
    "Tmax = 3.0 # tempo final (segundos)\n",
    "dt = dx*dz/np.sqrt(dx**2+dz**2)/np.max(c.max()) # passo temporal (segundos)\n",
    "nt = int(np.ceil(Tmax/dt))\n",
    "t_intervalo = np.arange(nt) * dt\n",
    "\n",
    "print(f'Tempo limite: {Tmax:.1f} s')\n",
    "print(f'Tempo final da simulação: {t_intervalo[-1]:.1f} s')\n",
    "print(f'Número de passos temporais: {nt}')\n",
    "print(f'Passo temporal: {1000*dt:.2f} ms')"
   ]
  },
  {
   "cell_type": "markdown",
   "metadata": {
    "slideshow": {
     "slide_type": "slide"
    }
   },
   "source": [
    "## Termo de fonte\n",
    "\n",
    "Consideramos uma fonte de onda acústica em algum ponto no interior do domínio, com uma forma Gaussiana no tempo."
   ]
  },
  {
   "cell_type": "code",
   "execution_count": 8,
   "metadata": {},
   "outputs": [
    {
     "name": "stdout",
     "output_type": "stream",
     "text": [
      "Instante do pico da fonte do tremor: 298.14 ms (na iteração número 100)\n",
      "Posição do foco: (8000.0, 6660.0) m\n",
      "Frequência princial da fonte de tremor: 10.0 Hz\n",
      "Período principal da fonte de tremor: 100.0 ms\n"
     ]
    }
   ],
   "source": [
    "fonte_pico_n = 100 # índice do instante de tempo do pico do sinal da fonte\n",
    "fonte_foco_i = 2*nx//5 # índice da posição longitudinal do foco\n",
    "fonte_foco_j = 2*nz//3 # índice da posição vertical do foco\n",
    "fonte_freq = 10.0 # frequência de onda fonte (Hertz)\n",
    "fonte_periodo = 1/fonte_freq # período de onda da fonte (segundos)\n",
    "\n",
    "print(f'Instante do pico da fonte do tremor: {1000*fonte_pico_n*dt:.2f} ms (na iteração número {fonte_pico_n})')\n",
    "print(f'Posição do foco: ({fonte_foco_i*dx:.1f}, {fonte_foco_j*dz:.1f}) m')\n",
    "print(f'Frequência princial da fonte de tremor: {fonte_freq} Hz')\n",
    "print(f'Período principal da fonte de tremor: {1000*fonte_periodo} ms')"
   ]
  },
  {
   "cell_type": "markdown",
   "metadata": {
    "slideshow": {
     "slide_type": "slide"
    }
   },
   "source": [
    "### Foco da fonte"
   ]
  },
  {
   "cell_type": "code",
   "execution_count": 9,
   "metadata": {},
   "outputs": [
    {
     "data": {
      "image/png": "[encoded data removed]",
      "text/plain": [
       "<Figure size 720x720 with 1 Axes>"
      ]
     },
     "metadata": {
      "needs_background": "light"
     },
     "output_type": "display_data"
    }
   ],
   "source": [
    "plt.figure(figsize=(10,10))\n",
    "\n",
    "tipo = 'camadas inclinadas'\n",
    "c = campo_de_velocidades(tipo)\n",
    "    \n",
    "plt.imshow(c, extent=[0, Lx/1000, Lz/1000, 0], \n",
    "           vmin=c.min(), vmax=c.max(),\n",
    "           cmap = plt.cm.YlOrBr, alpha = 0.2)\n",
    "\n",
    "for i, j in zip(sensor_i, sensor_j):\n",
    "    plt.plot(i*dx/1000,j*dz/1000, 'r+')\n",
    "\n",
    "plt.plot(fonte_foco_i*dx/1000, fonte_foco_j*dz/1000, 'ko', markerfacecolor='white')\n",
    "\n",
    "plt.xlabel('extensão (km)', fontsize=12)\n",
    "plt.ylabel('profundidade (km)', fontsize=12)\n",
    "plt.title(f'Posição dos sensores, do foco e da estrutura \"{tipo}\"\\n', fontsize=14)\n",
    "\n",
    "plt.show()"
   ]
  },
  {
   "cell_type": "markdown",
   "metadata": {
    "slideshow": {
     "slide_type": "slide"
    }
   },
   "source": [
    "## Sinal temporal da fonte"
   ]
  },
  {
   "cell_type": "code",
   "execution_count": 10,
   "metadata": {},
   "outputs": [
    {
     "name": "stdout",
     "output_type": "stream",
     "text": [
      "-8.575635915084154 8.575635915084154\n"
     ]
    }
   ],
   "source": [
    "fonte = np.zeros(nt + 1)\n",
    "for n in range(nt):\n",
    "    fonte[n] = np.exp(-1.0 / fonte_periodo ** 2 * ((n - fonte_pico_n) * dt) ** 2)\n",
    "# Take the first derivative\n",
    "fonte = np.diff(fonte) / dt\n",
    "fonte[nt - 1] = 0\n",
    "fonte_max = fonte.max()\n",
    "fonte_min = fonte.min()\n",
    "print(fonte_min, fonte_max)"
   ]
  },
  {
   "cell_type": "code",
   "execution_count": 11,
   "metadata": {},
   "outputs": [
    {
     "data": {
      "image/png": "[encoded data removed]",
      "text/plain": [
       "<Figure size 576x576 with 1 Axes>"
      ]
     },
     "metadata": {
      "needs_background": "light"
     },
     "output_type": "display_data"
    }
   ],
   "source": [
    "plt.figure(figsize=(8, 8))\n",
    "\n",
    "plt.plot(t_intervalo, fonte)\n",
    "plt.title('Sinal temporal da fonte de onda', fontsize=16)\n",
    "plt.xlabel('Tempo (s)', fontsize=12)\n",
    "plt.ylabel('Amplitude (m)', fontsize=12)\n",
    "\n",
    "plt.show()"
   ]
  },
  {
   "cell_type": "markdown",
   "metadata": {
    "slideshow": {
     "slide_type": "slide"
    }
   },
   "source": [
    "## Evolução temporal"
   ]
  },
  {
   "cell_type": "code",
   "execution_count": 12,
   "metadata": {
    "code_folding": [
     0
    ]
   },
   "outputs": [
    {
     "data": {
      "image/png": "[encoded data removed]",
      "text/plain": [
       "<Figure size 720x720 with 1 Axes>"
      ]
     },
     "metadata": {
      "needs_background": "light"
     },
     "output_type": "display_data"
    }
   ],
   "source": [
    "# inicializa sismograma\n",
    "sismograma = np.zeros((len(sensor_i), nt)) \n",
    "\n",
    "# inicializa deslocamento\n",
    "u = np.zeros((nz, nx))\n",
    "uprev = np.zeros((nz, nx))\n",
    "uprox = np.zeros((nz, nx))\n",
    "uxx = np.zeros((nz, nx))\n",
    "uzz = np.zeros((nz, nx))\n",
    "\n",
    "# inicializa figura\n",
    "fig = plt.figure(figsize=(10,10))\n",
    "\n",
    "image = plt.imshow(uprox, interpolation='bilinear', vmin=fonte_min, vmax=fonte_max, \n",
    "                   extent=[0, Lx, 0, Lz], cmap=plt.cm.RdBu)\n",
    "\n",
    "#fig.show()\n",
    "\n",
    "# passos para a atualização do gráfico\n",
    "dn_show = 10\n",
    "\n",
    "# índices para o sismograma\n",
    "ir = np.arange(len(sensor_i))\n",
    "\n",
    "# Evolução temporal\n",
    "for n in range(nt):\n",
    "    uxx[:,1:nx-2] = u[:,2:nx-1] - 2*u[:,1:nx-2] + u[:,:nx-3]\n",
    "    uzz[1:nz-2,:] = u[:nz-3,:] - 2*u[1:nz-2,:] + u[2:nz-1,:]      \n",
    "            \n",
    "    uxx /= dx**2\n",
    "    uzz /= dz**2\n",
    "\n",
    "    uprox = 2*u - uprev + dt**2*c**2*(uxx + uzz)\n",
    "    # Adiciona fonte \n",
    "    uprox[fonte_foco_j, fonte_foco_i] = uprox[fonte_foco_j, fonte_foco_i] + fonte[n]\n",
    "\n",
    "    # Plot every isnap-th iteration\n",
    "    if n % dn_show == 0:\n",
    "        \n",
    "        plt.figure(figsize=(10,10))\n",
    "        \n",
    "        # Escreve o título\n",
    "        umax = u.max()\n",
    "        title_str = f\"Tempo: {n*dt:.3f} s, Iteração: {n}\\n\"\n",
    "        if 0.01 <= umax < 999.99:\n",
    "            title_str += f\"Deslocamento u máximo: {umax:.2f} m\"\n",
    "        else:\n",
    "            title_str += f\"Deslocamento u máximo: {umax:.2e} m\"\n",
    "        plt.title(title_str, fontsize=16)\n",
    "\n",
    "        # Exibe posição da fonte\n",
    "        plt.plot(fonte_foco_i*dx/1000, fonte_foco_j*dz/1000, 'ko', markerfacecolor='white')\n",
    "\n",
    "\n",
    "\n",
    "        # Eixos\n",
    "        plt.xlabel('extensão x (km)', fontsize=12)\n",
    "        plt.ylabel('profundidade z (km)', fontsize=12)        \n",
    "        \n",
    "        # exibe onda\n",
    "        plt.imshow(uprox, interpolation='bilinear', vmin=fonte_min, vmax=fonte_max, \n",
    "                   extent=[0, Lx/1000, Lz/1000, 0], cmap=plt.cm.RdBu)\n",
    "        \n",
    "        # barra de cores de nível de deslocamento\n",
    "#        plt.colorbar()\n",
    "        \n",
    "        # traça terreno\n",
    "        plt.imshow(c, extent=[0, Lx/1000, Lz/1000, 0], alpha=0.2)\n",
    "\n",
    "        for i, j in zip(sensor_i, sensor_j):\n",
    "            plt.plot(i*dx/1000,j*dz/1000, 'r+')\n",
    "            \n",
    "        clear_output(wait = True)\n",
    "        plt.pause(0.1)\n",
    "\n",
    "    uprev, u = u, uprox\n",
    "\n",
    "    # Save seismograms\n",
    "    sismograma[:, n] = u[sensor_j, sensor_i]"
   ]
  },
  {
   "cell_type": "markdown",
   "metadata": {
    "slideshow": {
     "slide_type": "slide"
    }
   },
   "source": [
    "## Leitura dos sensores"
   ]
  },
  {
   "cell_type": "code",
   "execution_count": 13,
   "metadata": {
    "code_folding": [
     0
    ]
   },
   "outputs": [
    {
     "data": {
      "image/png": "[encoded data removed]",
      "text/plain": [
       "<Figure size 576x576 with 2 Axes>"
      ]
     },
     "metadata": {
      "needs_background": "light"
     },
     "output_type": "display_data"
    }
   ],
   "source": [
    "plt.figure(figsize=(8, 8))\n",
    "\n",
    "plt.subplot(211)\n",
    "plt.grid()\n",
    "plt.plot(t_intervalo, fonte)\n",
    "plt.title('Fonte', fontsize=16)\n",
    "plt.xlabel('Tempo (s)', fontsize=12)\n",
    "plt.ylabel('Amplitude (m)', fontsize=12)\n",
    "\n",
    "\n",
    "plt.subplot(212)\n",
    "ymax = sismograma.ravel().max()\n",
    "kmax = len(sensor_i)\n",
    "plt.grid()\n",
    "for k in range(len(sensor_i)):\n",
    "    plt.plot(t_intervalo, sismograma[k, :] + 4*ymax*k, label=f'Sensor {k+1}')\n",
    "    plt.title('Sensores', fontsize=16)\n",
    "    plt.xlabel('Tempo (s)', fontsize=12)\n",
    "    plt.ylabel('Amplitude (m)', fontsize=12)\n",
    "plt.legend(loc='upper left')\n",
    "\n",
    "\n",
    "plt.subplots_adjust(hspace=0.4)\n",
    "plt.show()"
   ]
  },
  {
   "cell_type": "markdown",
   "metadata": {
    "slideshow": {
     "slide_type": "skip"
    }
   },
   "source": [
    "---\n",
    "\n",
    "### Apresentação em slides"
   ]
  },
  {
   "cell_type": "code",
   "execution_count": 14,
   "metadata": {
    "slideshow": {
     "slide_type": "skip"
    }
   },
   "outputs": [
    {
     "name": "stdout",
     "output_type": "stream",
     "text": [
      "[NbConvertApp] Converting notebook 21.00-Aula21.ipynb to slides\n",
      "[NbConvertApp] Writing 499917 bytes to 21.00-Aula21.slides.html\n"
     ]
    }
   ],
   "source": [
    "!jupyter nbconvert 21.00-Aula21.ipynb --to slides --SlidesExporter.reveal_scroll=True --template output_toggle.tpl"
   ]
  },
  {
   "cell_type": "markdown",
   "metadata": {
    "slideshow": {
     "slide_type": "skip"
    }
   },
   "source": [
    "<!--NAVIGATOR-->\n",
    "\n",
    "---\n",
    "[<- Aula 20: Retroprojeção não-filtrada](20.00-Aula20.ipynb) | [Página Inicial](00-Sumario.ipynb) \n",
    "\n",
    "<a href=\"https://colab.research.google.com/github/rmsrosa/modelagem_matematica/blob/master/aulas/21.00-Aula21.ipynb\"><img align=\"left\" src=\"https://colab.research.google.com/assets/colab-badge.svg\" alt=\"Open in Colab\" title=\"Open and Execute in Google Colaboratory\"></a>\n",
    "\n",
    "<a href=\"https://mybinder.org/v2/gh/rmsrosa/modelagem_matematica/master?filepath=aulas/21.00-Aula21.ipynb\"><img align=\"left\" src=\"https://mybinder.org/badge.svg\" alt=\"Open in binder\" title=\"Open and Execute in Binder\"></a>\n",
    "\n",
    "<a href=\"https://rmsrosa.github.io/modelagem_matematica/aulas/21.00-Aula21.slides.html\"><img align=\"left\" src=\"https://rmsrosa.github.io/jupyterbookmaker/badges/slides_badge.svg\" alt=\"Open slides\" title=\"Open and View Slides\"></a>\n",
    "&nbsp;"
   ]
  }
 ],
 "metadata": {
  "anaconda-cloud": {},
  "kernelspec": {
   "display_name": "Python 3",
   "language": "python",
   "name": "python3"
  },
  "language_info": {
   "codemirror_mode": {
    "name": "ipython",
    "version": 3
   },
   "file_extension": ".py",
   "mimetype": "text/x-python",
   "name": "python",
   "nbconvert_exporter": "python",
   "pygments_lexer": "ipython3",
   "version": "3.7.1"
  }
 },
 "nbformat": 4,
 "nbformat_minor": 2
}
