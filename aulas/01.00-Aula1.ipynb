{
 "cells": [
  {
   "cell_type": "markdown",
   "metadata": {
    "slideshow": {
     "slide_type": "skip"
    }
   },
   "source": [
    "<!--HEADER-->\n",
    "*[Guia de aulas da disciplina de Modelagem Matemática](https://github.com/rmsrosa/modelagem_matematica) do [IM-UFRJ](https://www.im.ufrj.br).*"
   ]
  },
  {
   "cell_type": "markdown",
   "metadata": {
    "slideshow": {
     "slide_type": "skip"
    }
   },
   "source": [
    "<!--NAVIGATOR-->\n",
    "\n",
    "<a href=\"https://colab.research.google.com/github/rmsrosa/modelagem_matematica/blob/master/aulas/01.00-Aula1.ipynb\"><img align=\"left\" src=\"https://colab.research.google.com/assets/colab-badge.svg\" alt=\"Open in Colab\" title=\"Open and Execute in Google Colaboratory\"></a>\n",
    "&nbsp;\n",
    "<a href=\"https://mybinder.org/v2/gh/rmsrosa/modelagem_matematica/master?filepath=aulas/01.00-Aula1.ipynb\"><img align=\"left\" src=\"https://mybinder.org/badge.svg\" alt=\"Open in binder\" title=\"Open and Execute in Binder\"></a>\n",
    "&nbsp;\n",
    "<a href=\"https://rmsrosa.github.io/modelagem_matematica/aulas/01.00-Aula1.slides.html\"><img align=\"left\" src=\"https://rmsrosa.github.io/jupyterbookmaker/badges/slides_badge.svg\" alt=\"Open slides\" title=\"Open and View Slides\"></a>\n",
    "&nbsp;\n",
    "\n",
    "| [Página Inicial](00-Sumario.ipynb) | [Aula 2: Analisando a oscilação de um pêndulo ->](02.00-Aula2.ipynb)\n",
    "\n",
    "---\n"
   ]
  },
  {
   "cell_type": "markdown",
   "metadata": {
    "slideshow": {
     "slide_type": "slide"
    }
   },
   "source": [
    "# Aula 1: Modelagem, python e jupyter\n",
    "\n",
    "**Data:** 11 de março de 2019\n",
    "\n",
    "**Local:** A204 (terça-feira) e LIG 1 (quinta-feira)\n",
    "\n",
    "**Professores:** \n",
    "- Alejandro Cabrera\n",
    "    - *gabinete:* C–125A\n",
    "    - *email:* <alejandro@matematica.ufrj.br>\n",
    "    - *página:* http://www.dma.im.ufrj.br/~acabrera/\n",
    "- Ricardo Rosa \n",
    "    - *gabinete:* C-113B\n",
    "    - *email:* <rrosa@im.ufrj.br>\n",
    "    - *página:* http://www.dma.im.ufrj.br/~rrosa\n"
   ]
  },
  {
   "cell_type": "markdown",
   "metadata": {
    "slideshow": {
     "slide_type": "slide"
    }
   },
   "source": [
    "## O material do curso no github\n",
    "\n",
    "Disponível no repositório [rmsrosa/modelagem_matematica](https://www.github.com/rmsrosa/modelagem_matematica)\n",
    "\n",
    "- \"Baixar\" o repositório inteiro, com todas os \"cadernos\" Jupyter;\n",
    "- \"Baixar\" cada \"caderno\" individualmente;\n",
    "- Interagir com os cadernos localmente via `jupyter lab` ou `jupyter notebook`;\n",
    "- Visualizar os cadernos no próprio github;\n",
    "- Visualizar e interagir com os cadernos na nuvem:\n",
    "    - [Binder](https://mybinder.org); ou \n",
    "    - [Google Colab](https://colab.research.google.com/notebooks/welcome.ipynb).\n",
    "- Outras referências:\n",
    "    - G. Ledder, \"Mathematics for the Life Sciences\", Springer, 2013. Capítulo 2"
   ]
  },
  {
   "cell_type": "markdown",
   "metadata": {
    "slideshow": {
     "slide_type": "slide"
    }
   },
   "source": [
    "## Avaliação\n",
    "\n",
    "- Listas\n",
    "- Mini-projetos\n",
    "- Projeto final"
   ]
  },
  {
   "cell_type": "markdown",
   "metadata": {
    "slideshow": {
     "slide_type": "slide"
    }
   },
   "source": [
    "## Modelagem matemática\n",
    "\n",
    "\n",
    "&#9917; ... Alejandro"
   ]
  },
  {
   "cell_type": "markdown",
   "metadata": {
    "slideshow": {
     "slide_type": "slide"
    }
   },
   "source": [
    "## O ambiente Jupyter\n",
    "\n",
    "Há vários ambientes semelhantes:\n",
    "- [Jupyter lab](https://jupyterlab.readthedocs.io/en/stable/): Roda localmente e depende do ambiente python instalado na máquina e dos pacotes disponíveis no ambiente\n",
    "- [Jupyter notebook](https://jupyter.org): semelhante ao jupyter lab\n",
    "- [Binder](https://mybinder.org): Cria um ambiente customizado a cada vez que é acionado e apenas com os pacotes definidos no arquivo `requirements.txt` do repositório\n",
    "- [Google Colab](https://colab.research.google.com/notebooks/welcome.ipynb): Já tem o seu ambiente python próprio, com diversos pacotes pré-instalados, e carrega mais rápido do que o binder"
   ]
  },
  {
   "cell_type": "markdown",
   "metadata": {
    "slideshow": {
     "slide_type": "slide"
    }
   },
   "source": [
    "### Jupyter instalado localmente\n",
    "\n",
    "No terminal, em um diretório contendo as notas, execute o comando\n",
    "\n",
    "```bash\n",
    "jupyter lab\n",
    "```\n",
    "\n",
    "ou \n",
    "```bash\n",
    "jupyter notebook\n",
    "```\n",
    "\n",
    "Uma janela, ou aba, se abrirá no navegador, com o ambiente Jupyter.\n",
    "\n",
    "Se quiser usar um navegador diferente do padrão, basta usar o argumento `--browser`, e.g.:\n",
    "```bash\n",
    "jupyter lab --browser chrome\n",
    "```"
   ]
  },
  {
   "cell_type": "markdown",
   "metadata": {
    "slideshow": {
     "slide_type": "slide"
    }
   },
   "source": [
    "### Jupyter na nuvem via binder ou colab\n",
    "\n",
    "No `README.md` do repositório e em cada \"notebook\" há um link para abrir a página na nuvem. Por exemplo, os links abaixo abrem esta página em um desses dos ambientes de computação em nuvem:\n",
    "\n",
    "&nbsp;\n",
    "<a href=\"https://colab.research.google.com/github/rmsrosa/modelagem_matematica/blob/master/notebooks/01.00-Aula1.ipynb\"><img align=\"left\" src=\"https://colab.research.google.com/assets/colab-badge.svg\" alt=\"Open in Colab\" title=\"Open and Execute in Google Colaboratory\"></a>\n",
    "&nbsp;\n",
    "<a href=\"https://mybinder.org/v2/gh/rmsrosa/modelagem_matematica/master?filepath=notebooks/01.00-Aula1.ipynb\"><img align=\"left\" src=\"https://mybinder.org/badge.svg\" alt=\"Open in binder\" title=\"Open and Execute in Binder\"></a>\n",
    "&nbsp;"
   ]
  },
  {
   "cell_type": "markdown",
   "metadata": {
    "slideshow": {
     "slide_type": "fragment"
    }
   },
   "source": [
    "**Obs:** Se estiver visualizando um caderno jupyter pelo *github*, clicar com o **botão direito** do *mouse*"
   ]
  },
  {
   "cell_type": "markdown",
   "metadata": {
    "slideshow": {
     "slide_type": "slide"
    }
   },
   "source": [
    "## Primeiros passos em Jupyter/Python\n",
    "\n",
    "### Visão/Revisão\n",
    "\n",
    "Veja o primeiro capítulo das notas para uma revisão (ou visão) de jupyter e python:\n",
    "\n",
    "#### [1. Destino, Jupyter!](../notebooks/01.00-Destino_Jupyter.ipynb)\n",
    "\n",
    "&nbsp;&nbsp;&nbsp;&nbsp; [1.1. O Ambiente computacional](../notebooks/01.01-Ambiente_computacional.ipynb)\n",
    "\n",
    "&nbsp;&nbsp;&nbsp;&nbsp; [1.2. Reconhecimento de Jupyter](../notebooks/01.02-Reconhecimento_de_Jupyter.ipynb)\n",
    "\n",
    "&nbsp;&nbsp;&nbsp;&nbsp; [1.3. Gráficos de funções](../notebooks/01.03-Graficos_de_funcoes.ipynb)\n",
    "\n",
    "&nbsp;&nbsp;&nbsp;&nbsp; [1.4. Arquivos, dados e mais gráficos](../notebooks/01.04-Arquivos_dados_e_mais_graficos.ipynb)\n",
    "\n",
    "&nbsp;&nbsp;&nbsp;&nbsp; [1.5. Computação simbólica](../notebooks/01.05-Computacao_simbolica.ipynb)\n",
    "\n",
    "&nbsp;&nbsp;&nbsp;&nbsp; [1.6. Boas práticas em python](../notebooks/01.06-Boas_praticas_em_python.ipynb)\n",
    "\n"
   ]
  },
  {
   "cell_type": "markdown",
   "metadata": {
    "slideshow": {
     "slide_type": "slide"
    }
   },
   "source": [
    "## Exemplos\n",
    "\n",
    "### Sistemas de equações algébricas\n",
    "\n",
    "Podemos resolver sistemas de equações algébricas com o pacote `numpy`:\n",
    "$$ \\begin{cases}\n",
    "  x + y - z = 1, \\\\\n",
    "  x - 2y + 3z = 3, \\\\\n",
    "  x + z = 2,\n",
    "\\end{cases}\n",
    "$$"
   ]
  },
  {
   "cell_type": "code",
   "execution_count": 1,
   "metadata": {
    "slideshow": {
     "slide_type": "fragment"
    }
   },
   "outputs": [
    {
     "name": "stdout",
     "output_type": "stream",
     "text": [
      "A solução do sistema é\n",
      " [[ 1.5]\n",
      " [-0. ]\n",
      " [ 0.5]]\n"
     ]
    }
   ],
   "source": [
    "import numpy as np\n",
    "\n",
    "mat = np.array([[1.0, 1.0, -1.0], [1.0, -2.0, 3.0], [1.0, 0.0, 1.0]])\n",
    "b = np.array([[1],[3], [2]])\n",
    "x = np.linalg.solve(mat,b)\n",
    "print('A solução do sistema é\\n', x)"
   ]
  },
  {
   "cell_type": "markdown",
   "metadata": {
    "slideshow": {
     "slide_type": "slide"
    }
   },
   "source": [
    "## Matriz singular \n",
    "\n",
    "Se a matriz associada for singular (sem solução ou múltiplas soluções) ou se não for quadrada, obtemos um erro.\n",
    "\n",
    "Podemos resolver via escalonamento. o `numpy` fornece uma decomposição LU. O `sympy`, também, de resolução simbólica.\n",
    "\n",
    "No caso de um sistema sem solução, e.g. quando há muitas equações e poucas incógnitas, é útil usar mínimos quadrados e buscar a \"melhor\" solução, ou a solução \"mais próxima\"."
   ]
  },
  {
   "cell_type": "code",
   "execution_count": 2,
   "metadata": {
    "slideshow": {
     "slide_type": "fragment"
    }
   },
   "outputs": [
    {
     "ename": "LinAlgError",
     "evalue": "Singular matrix",
     "output_type": "error",
     "traceback": [
      "\u001b[0;31m---------------------------------------------------------------------------\u001b[0m",
      "\u001b[0;31mLinAlgError\u001b[0m                               Traceback (most recent call last)",
      "\u001b[0;32m<ipython-input-2-6877c54fd75f>\u001b[0m in \u001b[0;36m<module>\u001b[0;34m\u001b[0m\n\u001b[1;32m      1\u001b[0m \u001b[0mmat\u001b[0m \u001b[0;34m=\u001b[0m \u001b[0mnp\u001b[0m\u001b[0;34m.\u001b[0m\u001b[0marray\u001b[0m\u001b[0;34m(\u001b[0m\u001b[0;34m[\u001b[0m\u001b[0;34m[\u001b[0m\u001b[0;36m1.0\u001b[0m\u001b[0;34m,\u001b[0m \u001b[0;36m1.0\u001b[0m\u001b[0;34m,\u001b[0m \u001b[0;34m-\u001b[0m\u001b[0;36m1.0\u001b[0m\u001b[0;34m]\u001b[0m\u001b[0;34m,\u001b[0m \u001b[0;34m[\u001b[0m\u001b[0;36m1.0\u001b[0m\u001b[0;34m,\u001b[0m \u001b[0;34m-\u001b[0m\u001b[0;36m2.0\u001b[0m\u001b[0;34m,\u001b[0m \u001b[0;36m3.0\u001b[0m\u001b[0;34m]\u001b[0m\u001b[0;34m,\u001b[0m \u001b[0;34m[\u001b[0m\u001b[0;36m2.0\u001b[0m\u001b[0;34m,\u001b[0m \u001b[0;34m-\u001b[0m\u001b[0;36m4.0\u001b[0m\u001b[0;34m,\u001b[0m \u001b[0;36m6.0\u001b[0m\u001b[0;34m]\u001b[0m\u001b[0;34m]\u001b[0m\u001b[0;34m)\u001b[0m\u001b[0;34m\u001b[0m\u001b[0;34m\u001b[0m\u001b[0m\n\u001b[1;32m      2\u001b[0m \u001b[0mb\u001b[0m \u001b[0;34m=\u001b[0m \u001b[0mnp\u001b[0m\u001b[0;34m.\u001b[0m\u001b[0marray\u001b[0m\u001b[0;34m(\u001b[0m\u001b[0;34m[\u001b[0m\u001b[0;34m[\u001b[0m\u001b[0;36m1\u001b[0m\u001b[0;34m]\u001b[0m\u001b[0;34m,\u001b[0m\u001b[0;34m[\u001b[0m\u001b[0;36m3\u001b[0m\u001b[0;34m]\u001b[0m\u001b[0;34m,\u001b[0m \u001b[0;34m[\u001b[0m\u001b[0;36m6\u001b[0m\u001b[0;34m]\u001b[0m\u001b[0;34m]\u001b[0m\u001b[0;34m)\u001b[0m\u001b[0;34m\u001b[0m\u001b[0;34m\u001b[0m\u001b[0m\n\u001b[0;32m----> 3\u001b[0;31m \u001b[0mx\u001b[0m \u001b[0;34m=\u001b[0m \u001b[0mnp\u001b[0m\u001b[0;34m.\u001b[0m\u001b[0mlinalg\u001b[0m\u001b[0;34m.\u001b[0m\u001b[0msolve\u001b[0m\u001b[0;34m(\u001b[0m\u001b[0mmat\u001b[0m\u001b[0;34m,\u001b[0m\u001b[0mb\u001b[0m\u001b[0;34m)\u001b[0m\u001b[0;34m\u001b[0m\u001b[0;34m\u001b[0m\u001b[0m\n\u001b[0m\u001b[1;32m      4\u001b[0m \u001b[0mprint\u001b[0m\u001b[0;34m(\u001b[0m\u001b[0;34m'A solução do sistema é\\n'\u001b[0m\u001b[0;34m,\u001b[0m \u001b[0mx\u001b[0m\u001b[0;34m)\u001b[0m\u001b[0;34m\u001b[0m\u001b[0;34m\u001b[0m\u001b[0m\n",
      "\u001b[0;32m/anaconda3/lib/python3.7/site-packages/numpy/linalg/linalg.py\u001b[0m in \u001b[0;36msolve\u001b[0;34m(a, b)\u001b[0m\n\u001b[1;32m    392\u001b[0m     \u001b[0msignature\u001b[0m \u001b[0;34m=\u001b[0m \u001b[0;34m'DD->D'\u001b[0m \u001b[0;32mif\u001b[0m \u001b[0misComplexType\u001b[0m\u001b[0;34m(\u001b[0m\u001b[0mt\u001b[0m\u001b[0;34m)\u001b[0m \u001b[0;32melse\u001b[0m \u001b[0;34m'dd->d'\u001b[0m\u001b[0;34m\u001b[0m\u001b[0;34m\u001b[0m\u001b[0m\n\u001b[1;32m    393\u001b[0m     \u001b[0mextobj\u001b[0m \u001b[0;34m=\u001b[0m \u001b[0mget_linalg_error_extobj\u001b[0m\u001b[0;34m(\u001b[0m\u001b[0m_raise_linalgerror_singular\u001b[0m\u001b[0;34m)\u001b[0m\u001b[0;34m\u001b[0m\u001b[0;34m\u001b[0m\u001b[0m\n\u001b[0;32m--> 394\u001b[0;31m     \u001b[0mr\u001b[0m \u001b[0;34m=\u001b[0m \u001b[0mgufunc\u001b[0m\u001b[0;34m(\u001b[0m\u001b[0ma\u001b[0m\u001b[0;34m,\u001b[0m \u001b[0mb\u001b[0m\u001b[0;34m,\u001b[0m \u001b[0msignature\u001b[0m\u001b[0;34m=\u001b[0m\u001b[0msignature\u001b[0m\u001b[0;34m,\u001b[0m \u001b[0mextobj\u001b[0m\u001b[0;34m=\u001b[0m\u001b[0mextobj\u001b[0m\u001b[0;34m)\u001b[0m\u001b[0;34m\u001b[0m\u001b[0;34m\u001b[0m\u001b[0m\n\u001b[0m\u001b[1;32m    395\u001b[0m \u001b[0;34m\u001b[0m\u001b[0m\n\u001b[1;32m    396\u001b[0m     \u001b[0;32mreturn\u001b[0m \u001b[0mwrap\u001b[0m\u001b[0;34m(\u001b[0m\u001b[0mr\u001b[0m\u001b[0;34m.\u001b[0m\u001b[0mastype\u001b[0m\u001b[0;34m(\u001b[0m\u001b[0mresult_t\u001b[0m\u001b[0;34m,\u001b[0m \u001b[0mcopy\u001b[0m\u001b[0;34m=\u001b[0m\u001b[0;32mFalse\u001b[0m\u001b[0;34m)\u001b[0m\u001b[0;34m)\u001b[0m\u001b[0;34m\u001b[0m\u001b[0;34m\u001b[0m\u001b[0m\n",
      "\u001b[0;32m/anaconda3/lib/python3.7/site-packages/numpy/linalg/linalg.py\u001b[0m in \u001b[0;36m_raise_linalgerror_singular\u001b[0;34m(err, flag)\u001b[0m\n\u001b[1;32m     87\u001b[0m \u001b[0;34m\u001b[0m\u001b[0m\n\u001b[1;32m     88\u001b[0m \u001b[0;32mdef\u001b[0m \u001b[0m_raise_linalgerror_singular\u001b[0m\u001b[0;34m(\u001b[0m\u001b[0merr\u001b[0m\u001b[0;34m,\u001b[0m \u001b[0mflag\u001b[0m\u001b[0;34m)\u001b[0m\u001b[0;34m:\u001b[0m\u001b[0;34m\u001b[0m\u001b[0;34m\u001b[0m\u001b[0m\n\u001b[0;32m---> 89\u001b[0;31m     \u001b[0;32mraise\u001b[0m \u001b[0mLinAlgError\u001b[0m\u001b[0;34m(\u001b[0m\u001b[0;34m\"Singular matrix\"\u001b[0m\u001b[0;34m)\u001b[0m\u001b[0;34m\u001b[0m\u001b[0;34m\u001b[0m\u001b[0m\n\u001b[0m\u001b[1;32m     90\u001b[0m \u001b[0;34m\u001b[0m\u001b[0m\n\u001b[1;32m     91\u001b[0m \u001b[0;32mdef\u001b[0m \u001b[0m_raise_linalgerror_nonposdef\u001b[0m\u001b[0;34m(\u001b[0m\u001b[0merr\u001b[0m\u001b[0;34m,\u001b[0m \u001b[0mflag\u001b[0m\u001b[0;34m)\u001b[0m\u001b[0;34m:\u001b[0m\u001b[0;34m\u001b[0m\u001b[0;34m\u001b[0m\u001b[0m\n",
      "\u001b[0;31mLinAlgError\u001b[0m: Singular matrix"
     ]
    }
   ],
   "source": [
    "mat = np.array([[1.0, 1.0, -1.0], [1.0, -2.0, 3.0], [2.0, -4.0, 6.0]])\n",
    "b = np.array([[1],[3], [6]])\n",
    "x = np.linalg.solve(mat,b)\n",
    "print('A solução do sistema é\\n', x)"
   ]
  },
  {
   "cell_type": "markdown",
   "metadata": {
    "slideshow": {
     "slide_type": "skip"
    }
   },
   "source": [
    "Ou, para\n",
    "$$ \\begin{cases}\n",
    "  x + y - z = 1, \\\\\n",
    "  x - 2y + 3z = 3, \\\\\n",
    "\\end{cases}\n",
    "$$"
   ]
  },
  {
   "cell_type": "code",
   "execution_count": 3,
   "metadata": {
    "slideshow": {
     "slide_type": "skip"
    }
   },
   "outputs": [
    {
     "ename": "LinAlgError",
     "evalue": "Last 2 dimensions of the array must be square",
     "output_type": "error",
     "traceback": [
      "\u001b[0;31m---------------------------------------------------------------------------\u001b[0m",
      "\u001b[0;31mLinAlgError\u001b[0m                               Traceback (most recent call last)",
      "\u001b[0;32m<ipython-input-3-be251eb785f5>\u001b[0m in \u001b[0;36m<module>\u001b[0;34m\u001b[0m\n\u001b[1;32m      1\u001b[0m \u001b[0mmat\u001b[0m \u001b[0;34m=\u001b[0m \u001b[0mnp\u001b[0m\u001b[0;34m.\u001b[0m\u001b[0marray\u001b[0m\u001b[0;34m(\u001b[0m\u001b[0;34m[\u001b[0m\u001b[0;34m[\u001b[0m\u001b[0;36m1.0\u001b[0m\u001b[0;34m,\u001b[0m \u001b[0;36m1.0\u001b[0m\u001b[0;34m,\u001b[0m \u001b[0;34m-\u001b[0m\u001b[0;36m1.0\u001b[0m\u001b[0;34m]\u001b[0m\u001b[0;34m,\u001b[0m \u001b[0;34m[\u001b[0m\u001b[0;36m1.0\u001b[0m\u001b[0;34m,\u001b[0m \u001b[0;34m-\u001b[0m\u001b[0;36m2.0\u001b[0m\u001b[0;34m,\u001b[0m \u001b[0;36m3.0\u001b[0m\u001b[0;34m]\u001b[0m\u001b[0;34m]\u001b[0m\u001b[0;34m)\u001b[0m\u001b[0;34m\u001b[0m\u001b[0;34m\u001b[0m\u001b[0m\n\u001b[1;32m      2\u001b[0m \u001b[0mb\u001b[0m \u001b[0;34m=\u001b[0m \u001b[0mnp\u001b[0m\u001b[0;34m.\u001b[0m\u001b[0marray\u001b[0m\u001b[0;34m(\u001b[0m\u001b[0;34m[\u001b[0m\u001b[0;34m[\u001b[0m\u001b[0;36m1\u001b[0m\u001b[0;34m]\u001b[0m\u001b[0;34m,\u001b[0m\u001b[0;34m[\u001b[0m\u001b[0;36m3\u001b[0m\u001b[0;34m]\u001b[0m\u001b[0;34m]\u001b[0m\u001b[0;34m)\u001b[0m\u001b[0;34m\u001b[0m\u001b[0;34m\u001b[0m\u001b[0m\n\u001b[0;32m----> 3\u001b[0;31m \u001b[0mx\u001b[0m \u001b[0;34m=\u001b[0m \u001b[0mnp\u001b[0m\u001b[0;34m.\u001b[0m\u001b[0mlinalg\u001b[0m\u001b[0;34m.\u001b[0m\u001b[0msolve\u001b[0m\u001b[0;34m(\u001b[0m\u001b[0mmat\u001b[0m\u001b[0;34m,\u001b[0m\u001b[0mb\u001b[0m\u001b[0;34m)\u001b[0m\u001b[0;34m\u001b[0m\u001b[0;34m\u001b[0m\u001b[0m\n\u001b[0m\u001b[1;32m      4\u001b[0m \u001b[0mprint\u001b[0m\u001b[0;34m(\u001b[0m\u001b[0;34m'A solução do sistema é\\n'\u001b[0m\u001b[0;34m,\u001b[0m \u001b[0mx\u001b[0m\u001b[0;34m)\u001b[0m\u001b[0;34m\u001b[0m\u001b[0;34m\u001b[0m\u001b[0m\n",
      "\u001b[0;32m/anaconda3/lib/python3.7/site-packages/numpy/linalg/linalg.py\u001b[0m in \u001b[0;36msolve\u001b[0;34m(a, b)\u001b[0m\n\u001b[1;32m    379\u001b[0m     \u001b[0ma\u001b[0m\u001b[0;34m,\u001b[0m \u001b[0m_\u001b[0m \u001b[0;34m=\u001b[0m \u001b[0m_makearray\u001b[0m\u001b[0;34m(\u001b[0m\u001b[0ma\u001b[0m\u001b[0;34m)\u001b[0m\u001b[0;34m\u001b[0m\u001b[0;34m\u001b[0m\u001b[0m\n\u001b[1;32m    380\u001b[0m     \u001b[0m_assertRankAtLeast2\u001b[0m\u001b[0;34m(\u001b[0m\u001b[0ma\u001b[0m\u001b[0;34m)\u001b[0m\u001b[0;34m\u001b[0m\u001b[0;34m\u001b[0m\u001b[0m\n\u001b[0;32m--> 381\u001b[0;31m     \u001b[0m_assertNdSquareness\u001b[0m\u001b[0;34m(\u001b[0m\u001b[0ma\u001b[0m\u001b[0;34m)\u001b[0m\u001b[0;34m\u001b[0m\u001b[0;34m\u001b[0m\u001b[0m\n\u001b[0m\u001b[1;32m    382\u001b[0m     \u001b[0mb\u001b[0m\u001b[0;34m,\u001b[0m \u001b[0mwrap\u001b[0m \u001b[0;34m=\u001b[0m \u001b[0m_makearray\u001b[0m\u001b[0;34m(\u001b[0m\u001b[0mb\u001b[0m\u001b[0;34m)\u001b[0m\u001b[0;34m\u001b[0m\u001b[0;34m\u001b[0m\u001b[0m\n\u001b[1;32m    383\u001b[0m     \u001b[0mt\u001b[0m\u001b[0;34m,\u001b[0m \u001b[0mresult_t\u001b[0m \u001b[0;34m=\u001b[0m \u001b[0m_commonType\u001b[0m\u001b[0;34m(\u001b[0m\u001b[0ma\u001b[0m\u001b[0;34m,\u001b[0m \u001b[0mb\u001b[0m\u001b[0;34m)\u001b[0m\u001b[0;34m\u001b[0m\u001b[0;34m\u001b[0m\u001b[0m\n",
      "\u001b[0;32m/anaconda3/lib/python3.7/site-packages/numpy/linalg/linalg.py\u001b[0m in \u001b[0;36m_assertNdSquareness\u001b[0;34m(*arrays)\u001b[0m\n\u001b[1;32m    213\u001b[0m         \u001b[0mm\u001b[0m\u001b[0;34m,\u001b[0m \u001b[0mn\u001b[0m \u001b[0;34m=\u001b[0m \u001b[0ma\u001b[0m\u001b[0;34m.\u001b[0m\u001b[0mshape\u001b[0m\u001b[0;34m[\u001b[0m\u001b[0;34m-\u001b[0m\u001b[0;36m2\u001b[0m\u001b[0;34m:\u001b[0m\u001b[0;34m]\u001b[0m\u001b[0;34m\u001b[0m\u001b[0;34m\u001b[0m\u001b[0m\n\u001b[1;32m    214\u001b[0m         \u001b[0;32mif\u001b[0m \u001b[0mm\u001b[0m \u001b[0;34m!=\u001b[0m \u001b[0mn\u001b[0m\u001b[0;34m:\u001b[0m\u001b[0;34m\u001b[0m\u001b[0;34m\u001b[0m\u001b[0m\n\u001b[0;32m--> 215\u001b[0;31m             \u001b[0;32mraise\u001b[0m \u001b[0mLinAlgError\u001b[0m\u001b[0;34m(\u001b[0m\u001b[0;34m'Last 2 dimensions of the array must be square'\u001b[0m\u001b[0;34m)\u001b[0m\u001b[0;34m\u001b[0m\u001b[0;34m\u001b[0m\u001b[0m\n\u001b[0m\u001b[1;32m    216\u001b[0m \u001b[0;34m\u001b[0m\u001b[0m\n\u001b[1;32m    217\u001b[0m \u001b[0;32mdef\u001b[0m \u001b[0m_assertFinite\u001b[0m\u001b[0;34m(\u001b[0m\u001b[0;34m*\u001b[0m\u001b[0marrays\u001b[0m\u001b[0;34m)\u001b[0m\u001b[0;34m:\u001b[0m\u001b[0;34m\u001b[0m\u001b[0;34m\u001b[0m\u001b[0m\n",
      "\u001b[0;31mLinAlgError\u001b[0m: Last 2 dimensions of the array must be square"
     ]
    }
   ],
   "source": [
    "mat = np.array([[1.0, 1.0, -1.0], [1.0, -2.0, 3.0]])\n",
    "b = np.array([[1],[3]])\n",
    "x = np.linalg.solve(mat,b)\n",
    "print('A solução do sistema é\\n', x)"
   ]
  },
  {
   "cell_type": "markdown",
   "metadata": {
    "slideshow": {
     "slide_type": "slide"
    }
   },
   "source": [
    "## Mínimos quadrados\n",
    "\n",
    "Considere o seguinte problema, que não tem solução exata\n",
    "$$ \\begin{cases}\n",
    "  x + y  = 1, \\\\\n",
    "  x - 2y = 3, \\\\\n",
    "  x - y = 2,\n",
    "\\end{cases}\n",
    "$$\n",
    "Procuramos, então, resolver o problema\n",
    "$$\n",
    "\\min_{\\mathbf{u}\\in \\mathbb{R}^2} \\|A\\mathbf{u} - \\mathbf{b}\\|_2,\n",
    "$$\n",
    "onde\n",
    "$$  A = \\left[ \\begin{matrix} 1 & 1 \\\\ 1 & -2 \\\\ 1 & -1 \\end{matrix}\\right], \\qquad \\mathbf{b} = \\left( \\begin{matrix} 1 \\\\ 3 \\\\ 2 \\end{matrix} \\right).\n",
    "$$"
   ]
  },
  {
   "cell_type": "code",
   "execution_count": 4,
   "metadata": {
    "slideshow": {
     "slide_type": "fragment"
    }
   },
   "outputs": [
    {
     "name": "stdout",
     "output_type": "stream",
     "text": [
      "[[ 1.57142857]\n",
      " [-0.64285714]]\n"
     ]
    }
   ],
   "source": [
    "mat = np.array([[1.0, 1.0], [1.0, -2.0], [1.0, -1.0]])\n",
    "b = np.array([[1],[3], [2]])\n",
    "x = np.linalg.lstsq(mat,b, rcond=None)[0]\n",
    "print(x)"
   ]
  },
  {
   "cell_type": "markdown",
   "metadata": {
    "slideshow": {
     "slide_type": "slide"
    }
   },
   "source": [
    "## Mínimos quadrados em regressão linear\n",
    "\n",
    "Uma utilização corriqueira do método de mínimos quadrados é em regressão linear, onde buscamos ajustar  um conjunto de dados a uma função. Vamos construir dados sintéticos perturbando aleatoriamente dados em uma determinada reta. A perturbação aleatória é feita com o método [numpy.random.rand()](https://docs.scipy.org/doc/numpy/reference/generated/numpy.random.rand.html)."
   ]
  },
  {
   "cell_type": "code",
   "execution_count": 2,
   "metadata": {
    "slideshow": {
     "slide_type": "fragment"
    }
   },
   "outputs": [
    {
     "name": "stdout",
     "output_type": "stream",
     "text": [
      "[0.05174562 1.00757299 2.09662058 3.0248241  4.04499674 5.08542937\n",
      " 6.08542889 7.09899679 8.05910654 9.03133788]\n",
      "[2.13399951 1.78464085 2.55726948 3.57756112 3.90382256 4.45222035\n",
      " 4.90902894 5.08237815 5.42630914 6.04509059]\n"
     ]
    }
   ],
   "source": [
    "import numpy as np\n",
    "import matplotlib.pyplot as plt\n",
    "num_points = 10\n",
    "m = 0.5\n",
    "c = 1.2\n",
    "x = np.array(range(num_points)) + 0.1*np.random.rand(num_points)\n",
    "y = c*np.ones(num_points) + m*x + np.random.rand(num_points)\n",
    "print(x)\n",
    "print(y)"
   ]
  },
  {
   "cell_type": "markdown",
   "metadata": {
    "slideshow": {
     "slide_type": "slide"
    }
   },
   "source": [
    "### Gráfico"
   ]
  },
  {
   "cell_type": "code",
   "execution_count": 3,
   "metadata": {
    "slideshow": {
     "slide_type": "fragment"
    }
   },
   "outputs": [
    {
     "data": {
      "image/png": "[encoded data removed]",
      "text/plain": [
       "<Figure size 864x432 with 1 Axes>"
      ]
     },
     "metadata": {
      "needs_background": "light"
     },
     "output_type": "display_data"
    }
   ],
   "source": [
    "plt.figure(figsize=(12,6))\n",
    "plt.plot(x, y, 'o')\n",
    "plt.show()"
   ]
  },
  {
   "cell_type": "markdown",
   "metadata": {
    "slideshow": {
     "slide_type": "slide"
    }
   },
   "source": [
    "### Resolvendo via mínimos quadrados\n",
    "\n",
    "Queremos achar $m$ e $c$ tais que os pontos $(x_j,\\tilde y_j)$ determinados pela reta $\\tilde y = mx + c$ sejam uma \"melhor\" aproximação possível para os dados $(x_j,y_j)$. Interpretamos esse \"melhor\" como sendo no sentido de \"mínimos quadrados\". Para isso, precisamos resolver \n",
    "$$\n",
    "\\displaystyle \\min_{\\mathbf{u}\\in \\mathbb{R}^2} \\|A\\mathbf{u} - \\mathbf{b}\\|_2,\n",
    "$$\n",
    "onde\n",
    "$$ A = \\left[ \\begin{matrix} x_1 & 1 \\\\ \\vdots  & 1 \\\\ x_n & 1 \\end{matrix}\\right], \\qquad \\mathbf{u} = \\left( \\begin{matrix} m \\\\ c \\end{matrix}\\right), \\qquad \\mathbf{b} = \\left( \\begin{matrix} y_1 \\\\ \\vdots \\\\ y_n \\end{matrix} \\right).\n",
    "$$\n",
    "Utilizamos o método [numpy.vstack()](https://docs.scipy.org/doc/numpy/reference/generated/numpy.vstack.html) para montar a matriz de Vandermonde e o método [numpy.linagl.lstsq()](https://docs.scipy.org/doc/numpy/reference/generated/numpy.linalg.lstsq.html) para resolver o problema de mínimos quadrados:"
   ]
  },
  {
   "cell_type": "code",
   "execution_count": 7,
   "metadata": {
    "slideshow": {
     "slide_type": "fragment"
    }
   },
   "outputs": [
    {
     "name": "stdout",
     "output_type": "stream",
     "text": [
      "0.4991672186333537 1.69811421405453\n"
     ]
    }
   ],
   "source": [
    "A = np.vstack([x,np.ones(num_points)]).T\n",
    "m1, c1 = np.linalg.lstsq(A, y, rcond=None)[0]\n",
    "print(m1,c1)"
   ]
  },
  {
   "cell_type": "markdown",
   "metadata": {
    "slideshow": {
     "slide_type": "slide"
    }
   },
   "source": [
    "### Visualização"
   ]
  },
  {
   "cell_type": "code",
   "execution_count": 8,
   "metadata": {
    "slideshow": {
     "slide_type": "fragment"
    }
   },
   "outputs": [
    {
     "data": {
      "image/png": "[encoded data removed]",
      "text/plain": [
       "<Figure size 432x288 with 1 Axes>"
      ]
     },
     "metadata": {
      "needs_background": "light"
     },
     "output_type": "display_data"
    }
   ],
   "source": [
    "import matplotlib.pyplot as plt\n",
    "plt.plot(x, y, 'o', label='Dados')\n",
    "plt.plot(x, m1*x + c1, 'r', label='Aproximação linear')\n",
    "plt.legend()\n",
    "plt.show()"
   ]
  },
  {
   "cell_type": "markdown",
   "metadata": {
    "slideshow": {
     "slide_type": "slide"
    }
   },
   "source": [
    "## Propriedades termodinâmicas da água pura\n",
    "\n",
    "Dados no arquivo `dados/retirados do livro \"An Introduction to Fluid Dynamics\" do G. Batchelor. "
   ]
  },
  {
   "cell_type": "code",
   "execution_count": 9,
   "metadata": {
    "slideshow": {
     "slide_type": "fragment"
    }
   },
   "outputs": [],
   "source": [
    "from os import path\n",
    "import csv\n",
    "import numpy as np\n",
    "import pandas as pd\n",
    "\n",
    "arquivo = path.join('..', 'dados', 'agua', 'water_properties_from_Batchelor.csv')\n",
    "\n",
    "agua1 = list(csv.reader(open(arquivo, \"r\"), delimiter=\",\"))\n",
    "agua2 = np.array(agua1[2:]).astype(\"float\")\n",
    "agua3 = np.loadtxt(open(arquivo, \"rb\"), delimiter=\",\", skiprows=2)\n",
    "agua4 = pd.read_csv(arquivo, header=[0,1])"
   ]
  },
  {
   "cell_type": "code",
   "execution_count": 10,
   "metadata": {
    "slideshow": {
     "slide_type": "fragment"
    }
   },
   "outputs": [
    {
     "data": {
      "text/html": [
       "<div>\n",
       "<style scoped>\n",
       "    .dataframe tbody tr th:only-of-type {\n",
       "        vertical-align: middle;\n",
       "    }\n",
       "\n",
       "    .dataframe tbody tr th {\n",
       "        vertical-align: top;\n",
       "    }\n",
       "\n",
       "    .dataframe thead tr th {\n",
       "        text-align: left;\n",
       "    }\n",
       "</style>\n",
       "<table border=\"1\" class=\"dataframe\">\n",
       "  <thead>\n",
       "    <tr>\n",
       "      <th></th>\n",
       "      <th>temp</th>\n",
       "      <th>density</th>\n",
       "      <th>viscosity</th>\n",
       "    </tr>\n",
       "    <tr>\n",
       "      <th></th>\n",
       "      <th>Temperature (C)</th>\n",
       "      <th>Density (g/cm^3)</th>\n",
       "      <th>Viscosity (cm^2/s)</th>\n",
       "    </tr>\n",
       "  </thead>\n",
       "  <tbody>\n",
       "    <tr>\n",
       "      <th>0</th>\n",
       "      <td>0</td>\n",
       "      <td>0.9999</td>\n",
       "      <td>0.01787</td>\n",
       "    </tr>\n",
       "    <tr>\n",
       "      <th>1</th>\n",
       "      <td>5</td>\n",
       "      <td>1.0000</td>\n",
       "      <td>1.51400</td>\n",
       "    </tr>\n",
       "    <tr>\n",
       "      <th>2</th>\n",
       "      <td>10</td>\n",
       "      <td>0.9997</td>\n",
       "      <td>1.30400</td>\n",
       "    </tr>\n",
       "    <tr>\n",
       "      <th>3</th>\n",
       "      <td>15</td>\n",
       "      <td>0.9991</td>\n",
       "      <td>1.13800</td>\n",
       "    </tr>\n",
       "    <tr>\n",
       "      <th>4</th>\n",
       "      <td>20</td>\n",
       "      <td>0.9982</td>\n",
       "      <td>1.00400</td>\n",
       "    </tr>\n",
       "  </tbody>\n",
       "</table>\n",
       "</div>"
      ],
      "text/plain": [
       "             temp           density           viscosity\n",
       "  Temperature (C)  Density (g/cm^3)  Viscosity (cm^2/s)\n",
       "0               0            0.9999             0.01787\n",
       "1               5            1.0000             1.51400\n",
       "2              10            0.9997             1.30400\n",
       "3              15            0.9991             1.13800\n",
       "4              20            0.9982             1.00400"
      ]
     },
     "execution_count": 10,
     "metadata": {},
     "output_type": "execute_result"
    }
   ],
   "source": [
    "agua4.head()"
   ]
  },
  {
   "cell_type": "markdown",
   "metadata": {
    "slideshow": {
     "slide_type": "slide"
    }
   },
   "source": [
    "### Gráfico"
   ]
  },
  {
   "cell_type": "code",
   "execution_count": 11,
   "metadata": {
    "slideshow": {
     "slide_type": "fragment"
    }
   },
   "outputs": [
    {
     "data": {
      "image/png": "[encoded data removed]",
      "text/plain": [
       "<Figure size 432x288 with 2 Axes>"
      ]
     },
     "metadata": {
      "needs_background": "light"
     },
     "output_type": "display_data"
    }
   ],
   "source": [
    "fig, ax1 = plt.subplots()\n",
    "\n",
    "color = 'tab:red'\n",
    "ax1.set_xlabel(agua1[1][0])\n",
    "ax1.set_ylabel( agua1[1][1], color=color) \n",
    "ax1.plot(agua3[:,0], agua3[:,1], 'o', color=color)\n",
    "ax1.tick_params(axis='y', labelcolor=color)\n",
    "\n",
    "ax2 = ax1.twinx()  \n",
    "\n",
    "color = 'tab:blue'\n",
    "ax2.set_ylabel(agua1[1][2], color=color)\n",
    "ax2.plot(agua3[:,0], agua3[:,2], 'o', color=color)\n",
    "ax2.tick_params(axis='y', labelcolor=color)\n",
    "\n",
    "plt.show()"
   ]
  },
  {
   "cell_type": "markdown",
   "metadata": {
    "slideshow": {
     "slide_type": "slide"
    }
   },
   "source": [
    "## Aproximação quadrática\n",
    "\n",
    "Buscamos uma melhor aproximação para a densidade em função da temperatura.Talvez uma aproximação de segunda ordem $y = ax^2 + bx + c$. Como ela é linear nos coeficientes $(a,b,c)$, ainda é um problema de **regressão linear** e também pode ser facilmente resolvido via **método de mínimos quadrados**.\n",
    "\n",
    "\n",
    "Precisamos minimizar o resíduo $\\| A\\mathbf{u} - \\mathbf{y}\\|$, onde \n",
    "$$ A = \\left[ \\begin{matrix} x_1^2 & x_1 & 1 \\\\ \\vdots & \\vdots  & 1 \\\\ x_n^2 & x_n & 1 \\end{matrix}\\right], \\qquad \\mathbf{u} = \\left( \\begin{matrix} a \\\\ b \\\\ c \\end{matrix}\\right), \\qquad \\mathbf{b} = \\left( \\begin{matrix} y_1 \\\\ \\vdots \\\\ y_n \\end{matrix} \\right).\n",
    "$$"
   ]
  },
  {
   "cell_type": "code",
   "execution_count": 12,
   "metadata": {
    "slideshow": {
     "slide_type": "fragment"
    }
   },
   "outputs": [
    {
     "name": "stdout",
     "output_type": "stream",
     "text": [
      "[[0.000e+00 0.000e+00 1.000e+00]\n",
      " [2.500e+01 5.000e+00 1.000e+00]\n",
      " [1.000e+02 1.000e+01 1.000e+00]\n",
      " [2.250e+02 1.500e+01 1.000e+00]\n",
      " [4.000e+02 2.000e+01 1.000e+00]\n",
      " [6.250e+02 2.500e+01 1.000e+00]\n",
      " [9.000e+02 3.000e+01 1.000e+00]\n",
      " [1.225e+03 3.500e+01 1.000e+00]\n",
      " [1.600e+03 4.000e+01 1.000e+00]\n",
      " [2.500e+03 5.000e+01 1.000e+00]\n",
      " [3.600e+03 6.000e+01 1.000e+00]\n",
      " [4.900e+03 7.000e+01 1.000e+00]\n",
      " [6.400e+03 8.000e+01 1.000e+00]\n",
      " [8.100e+03 9.000e+01 1.000e+00]\n",
      " [1.000e+04 1.000e+02 1.000e+00]]\n"
     ]
    }
   ],
   "source": [
    "x = agua3[:,0]\n",
    "A = np.vstack([x**2, x,np.ones(len(x))]).T\n",
    "print(A)"
   ]
  },
  {
   "cell_type": "markdown",
   "metadata": {
    "slideshow": {
     "slide_type": "slide"
    }
   },
   "source": [
    "### Solução"
   ]
  },
  {
   "cell_type": "code",
   "execution_count": 13,
   "metadata": {
    "slideshow": {
     "slide_type": "fragment"
    }
   },
   "outputs": [
    {
     "name": "stdout",
     "output_type": "stream",
     "text": [
      "-3.6295100056677867e-06 -6.496768558464583e-05 1.0005991832098982\n"
     ]
    }
   ],
   "source": [
    "y = agua3[:,1]\n",
    "a, b, c = np.linalg.lstsq(A, y, rcond=None)[0]\n",
    "print(a,b,c)"
   ]
  },
  {
   "cell_type": "markdown",
   "metadata": {
    "slideshow": {
     "slide_type": "slide"
    }
   },
   "source": [
    "### Visualização"
   ]
  },
  {
   "cell_type": "code",
   "execution_count": 14,
   "metadata": {
    "slideshow": {
     "slide_type": "fragment"
    }
   },
   "outputs": [
    {
     "data": {
      "image/png": "[encoded data removed]",
      "text/plain": [
       "<Figure size 432x288 with 1 Axes>"
      ]
     },
     "metadata": {
      "needs_background": "light"
     },
     "output_type": "display_data"
    }
   ],
   "source": [
    "import matplotlib.pyplot as plt\n",
    "plt.plot(x, y, 'o', label='Dados')\n",
    "plt.plot(x, a*x**2 + b*x + c, 'r', label='Aproximação quadrática lsq')\n",
    "plt.legend()\n",
    "plt.show()"
   ]
  },
  {
   "cell_type": "code",
   "execution_count": 15,
   "metadata": {
    "slideshow": {
     "slide_type": "fragment"
    }
   },
   "outputs": [
    {
     "data": {
      "text/plain": [
       "15"
      ]
     },
     "execution_count": 15,
     "metadata": {},
     "output_type": "execute_result"
    }
   ],
   "source": [
    "len(x)"
   ]
  },
  {
   "cell_type": "markdown",
   "metadata": {
    "slideshow": {
     "slide_type": "fragment"
    }
   },
   "source": [
    "15 parâmetros aproximados por apenas 3!"
   ]
  },
  {
   "cell_type": "markdown",
   "metadata": {
    "slideshow": {
     "slide_type": "slide"
    }
   },
   "source": [
    "### Comparando com aproximação linear"
   ]
  },
  {
   "cell_type": "code",
   "execution_count": 16,
   "metadata": {
    "slideshow": {
     "slide_type": "fragment"
    }
   },
   "outputs": [
    {
     "name": "stdout",
     "output_type": "stream",
     "text": [
      "-0.00041965346534652876 1.0056721122112207\n"
     ]
    }
   ],
   "source": [
    "A1 = np.vstack([x,np.ones(len(x))]).T\n",
    "m, d = np.linalg.lstsq(A1, y, rcond=None)[0]\n",
    "print(m,d)"
   ]
  },
  {
   "cell_type": "code",
   "execution_count": 17,
   "metadata": {
    "slideshow": {
     "slide_type": "fragment"
    }
   },
   "outputs": [
    {
     "data": {
      "image/png": "[encoded data removed]",
      "text/plain": [
       "<Figure size 432x288 with 1 Axes>"
      ]
     },
     "metadata": {
      "needs_background": "light"
     },
     "output_type": "display_data"
    }
   ],
   "source": [
    "import matplotlib.pyplot as plt\n",
    "plt.plot(x, y, 'o', label='Dados')\n",
    "plt.plot(x, a*x**2 + b*x + c, 'r', label='Aproximação quadrática lsq')\n",
    "plt.plot(x, b*x + c, 'g', label='Aproximação linear desprezando a')\n",
    "plt.plot(x, m*x + d, 'b', label='Aproximação linear lsq')\n",
    "plt.legend()\n",
    "plt.show()"
   ]
  },
  {
   "cell_type": "markdown",
   "metadata": {
    "slideshow": {
     "slide_type": "slide"
    }
   },
   "source": [
    "## Erros quadráticos - resíduos\n",
    "\n",
    "O **erro quadrático** é o valor de $\\|A\\mathbf{x} - \\mathbf{y}\\|_2^2$ para a melhor aproximação encontrada, que é a soma do quadrado dos resíduos. O **resíduo** é o erro \n",
    "$$ r_j = (A\\mathbf{x})_j - y_j\n",
    "$$\n",
    "de cada medição.\n",
    "\n",
    "Vamos comparar os erros quadráticos de cada aproximação:"
   ]
  },
  {
   "cell_type": "code",
   "execution_count": 18,
   "metadata": {
    "slideshow": {
     "slide_type": "fragment"
    }
   },
   "outputs": [
    {
     "name": "stdout",
     "output_type": "stream",
     "text": [
      "Erro quadrático da aproximação linear: 0.0001383156353135267\n",
      "Erro quadrático aproximação de segunda ordem: 1.991209554160445e-06\n"
     ]
    }
   ],
   "source": [
    "print('Erro quadrático da aproximação linear:', np.linalg.lstsq(A1, y, rcond=None)[1][0])\n",
    "print('Erro quadrático aproximação de segunda ordem:', np.linalg.lstsq(A, y, rcond=None)[1][0])"
   ]
  },
  {
   "cell_type": "markdown",
   "metadata": {
    "slideshow": {
     "slide_type": "slide"
    }
   },
   "source": [
    "## Exercícios:\n",
    "\n",
    "1. Calcule aproximações de **segunda** e **terceira** ordens para os dados sintéticos do primeiro exemplo de regressão linear e exiba os gráficos dessas aproximações, em conjunto com os dados.\n",
    "1. Calcule aproximações polinomiais de **terceira** e **quarta** ordens para a **densidade** e verifique o erro residual.\n",
    "1. Ache uma \"boa\" aproximação polinomial para os dados da **viscosidade** da água pura, para temperaturas entre 5 e 100C (i.e. descartando o dado em 0C)."
   ]
  },
  {
   "cell_type": "markdown",
   "metadata": {
    "slideshow": {
     "slide_type": "skip"
    }
   },
   "source": [
    "---\n",
    "\n",
    "### Apresentação em slides\n",
    "\n",
    "Para visualizar na forma de slides, abrir um \"terminal\" *bash* e usar a linha de comando\n",
    "```bash\n",
    "jupyter nbconvert 03.03-Aula3.ipynb --to slides --post serve\n",
    "```\n",
    "\n",
    "sso abrirá uma aba, no seu navegador padrão, com o endereço\n",
    "```\n",
    "http://127.0.0.1:8000/01.00-Aula1.slides.html#/\n",
    "```\n",
    "\n",
    "Se quiser adicionar a possibilidade de rolar a página, caso algum *slide* seja muito longo, incluir a opção\n",
    "```bash\n",
    "--SlidesExporter.reveal_scroll=True\n",
    "```\n",
    "\n",
    "Para usar um tema diferente do padrão, temos a configuração via `SlidesExporter.reveal_theme`. Os temas disponíveis são `beige`, `black`, `blood`, `league`, `moon`, `night`, `serif`, `simple`, `sky`, `solarized`, `white`. O padrão é `white`. Um tema interessante é\n",
    "```bash\n",
    "--SlidesExporter.reveal_theme=solarized\n",
    "```\n",
    "\n",
    "Para usar um efeito de transição diferente do padrão, temos a configuração via `SlidesExporter.reveal_transition`. As opções são `none`, `fade`, `slide`, `convex`, `concave` e `zoom`. O padrão é `slide`. Uma transição interessante é \n",
    "```bash\n",
    "--SlidesExporter.reveal_transition=convex\n",
    "```\n",
    "\n",
    "Mais informações sobre o `nbconvert` em [Configuration options (for nbconvert)](https://nbconvert.readthedocs.io/en/latest/config_options.html) e [Present Your Data Science Projects with Jupyter Notebook Slides!](https://medium.com/learning-machine-learning/present-your-data-science-projects-with-jupyter-slides-75f20735eb0f)\n",
    "\n",
    "Para salvar a apresentação em pdf, não funciona \"imprimir\" essa página, pois ela só imprimirá slides individuais da apresentação. Para salvar a apresentação completa em pdf, uma opção é alterar o final do endereço acima, incluindo `/print-pdf` antes do final `#/`, ficando o endereço da forma\n",
    "```\n",
    "http://127.0.0.1:8000/01.00-Aula1.slides.html?print-pdf#/\n",
    "```"
   ]
  },
  {
   "cell_type": "markdown",
   "metadata": {
    "slideshow": {
     "slide_type": "skip"
    }
   },
   "source": [
    "<!--NAVIGATOR-->\n",
    "\n",
    "---\n",
    "| [Página Inicial](00-Sumario.ipynb) | [Aula 2: Analisando a oscilação de um pêndulo ->](02.00-Aula2.ipynb)\n",
    "\n",
    "<a href=\"https://colab.research.google.com/github/rmsrosa/modelagem_matematica/blob/master/aulas/01.00-Aula1.ipynb\"><img align=\"left\" src=\"https://colab.research.google.com/assets/colab-badge.svg\" alt=\"Open in Colab\" title=\"Open and Execute in Google Colaboratory\"></a>\n",
    "\n",
    "<a href=\"https://mybinder.org/v2/gh/rmsrosa/modelagem_matematica/master?filepath=aulas/01.00-Aula1.ipynb\"><img align=\"left\" src=\"https://mybinder.org/badge.svg\" alt=\"Open in binder\" title=\"Open and Execute in Binder\"></a>\n",
    "\n",
    "<a href=\"https://rmsrosa.github.io/modelagem_matematica/aulas/01.00-Aula1.slides.html\"><img align=\"left\" src=\"https://rmsrosa.github.io/jupyterbookmaker/badges/slides_badge.svg\" alt=\"Open slides\" title=\"Open and View Slides\"></a>\n",
    "&nbsp;"
   ]
  }
 ],
 "metadata": {
  "kernelspec": {
   "display_name": "Python 3",
   "language": "python",
   "name": "python3"
  },
  "language_info": {
   "codemirror_mode": {
    "name": "ipython",
    "version": 3
   },
   "file_extension": ".py",
   "mimetype": "text/x-python",
   "name": "python",
   "nbconvert_exporter": "python",
   "pygments_lexer": "ipython3",
   "version": "3.7.1"
  }
 },
 "nbformat": 4,
 "nbformat_minor": 2
}
