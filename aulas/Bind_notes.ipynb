{
 "cells": [
  {
   "cell_type": "markdown",
   "metadata": {},
   "source": [
    "# Cria ou atualiza a estrutura das notas\n",
    "\n",
    "Usamos o módulo `jupyterbookmaker` que assumimos que está instalado no ambiente ou se encontra no subdiretório relativo `../tools`."
   ]
  },
  {
   "cell_type": "code",
   "execution_count": 1,
   "metadata": {},
   "outputs": [],
   "source": [
    "try:\n",
    "    import jupyterbookmaker as jbm\n",
    "    \n",
    "except:\n",
    "    import os\n",
    "    import sys\n",
    "    \n",
    "    sys.path.insert(0, os.path.abspath(os.path.join(os.getcwd(), '../tools')))\n",
    "    \n",
    "    import jupyterbookmaker as jbm"
   ]
  },
  {
   "cell_type": "markdown",
   "metadata": {},
   "source": [
    "Em seguida, criamos a estrutura a partir do arquivo de configuração neste mesmo diretório."
   ]
  },
  {
   "cell_type": "code",
   "execution_count": 2,
   "metadata": {},
   "outputs": [
    {
     "name": "stdout",
     "output_type": "stream",
     "text": [
      "- Table of contents updated in 00-Sumario.ipynb\n",
      "- updating header for 01.00-Aula1.ipynb\n",
      "- updating header for 02.00-Aula2.ipynb\n",
      "- updating header for 03.00-Aula3.ipynb\n",
      "- updating header for 04.00-Aula4.ipynb\n",
      "- updating header for 05.00-Aula5.ipynb\n",
      "- updating header for 06.00-Aula6.ipynb\n",
      "- updating header for 07.00-Aula7.ipynb\n",
      "- updating header for 08.00-Aula8.ipynb\n",
      "- updating header for 09.00-Aula9.ipynb\n",
      "- updating header for 11.00-Aula11.ipynb\n",
      "- updating navbar for 01.00-Aula1.ipynb\n",
      "- updating navbar for 02.00-Aula2.ipynb\n",
      "- updating navbar for 03.00-Aula3.ipynb\n",
      "- updating navbar for 04.00-Aula4.ipynb\n",
      "- updating navbar for 05.00-Aula5.ipynb\n",
      "- updating navbar for 06.00-Aula6.ipynb\n",
      "- updating navbar for 07.00-Aula7.ipynb\n",
      "- updating navbar for 08.00-Aula8.ipynb\n",
      "- updating navbar for 09.00-Aula9.ipynb\n",
      "- updating navbar for 11.00-Aula11.ipynb\n"
     ]
    }
   ],
   "source": [
    "jbm.make_book_from_configfile('config.yml')"
   ]
  }
 ],
 "metadata": {
  "kernelspec": {
   "display_name": "Python 3",
   "language": "python",
   "name": "python3"
  },
  "language_info": {
   "codemirror_mode": {
    "name": "ipython",
    "version": 3
   },
   "file_extension": ".py",
   "mimetype": "text/x-python",
   "name": "python",
   "nbconvert_exporter": "python",
   "pygments_lexer": "ipython3",
   "version": "3.7.1"
  }
 },
 "nbformat": 4,
 "nbformat_minor": 2
}
